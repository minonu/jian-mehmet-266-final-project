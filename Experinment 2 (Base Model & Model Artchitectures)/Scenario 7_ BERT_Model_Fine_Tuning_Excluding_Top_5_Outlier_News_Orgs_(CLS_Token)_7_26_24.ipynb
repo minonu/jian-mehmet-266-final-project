{
  "cells": [
    {
      "cell_type": "code",
      "execution_count": 1,
      "metadata": {
        "id": "4CVDyMAfqUGP"
      },
      "outputs": [],
      "source": [
        "%%capture\n",
        "!pip install tensorflow-datasets==4.8 --quiet\n",
        "!pip install tensorflow==2.15.0 --quiet #15 13\n",
        "!pip install tf_keras==2.15.0 --quiet\n",
        "!pip install tensorflow-text==2.15.0 --quiet #15\n",
        "!pip install pydot --quiet\n",
        "!pip install transformers==4.17 --quiet\n",
        "!pip install -U scikit-learn"
      ]
    },
    {
      "cell_type": "code",
      "execution_count": 2,
      "metadata": {
        "id": "8rWTGr5HuknD"
      },
      "outputs": [],
      "source": [
        "#Tensorflow libiries\n",
        "from tensorflow import keras\n",
        "from tensorflow.keras.layers import Embedding, Input, Dense, Lambda\n",
        "from tensorflow.keras.models import Model\n",
        "import tensorflow as tf\n",
        "import tensorflow.keras.backend as K\n",
        "import tensorflow_datasets as tfds\n",
        "\n",
        "#Transformers - BERT from huggingface\n",
        "from transformers import BertTokenizer, TFBertModel\n",
        "from transformers import logging\n",
        "logging.set_verbosity_error()\n",
        "from transformers import AutoConfig\n",
        "from tensorflow.keras.callbacks import EarlyStopping\n",
        "\n",
        "#NLP libiries\n",
        "import sklearn as sk\n",
        "from sklearn.metrics import classification_report\n",
        "import os\n",
        "import nltk\n",
        "from nltk.data import find\n",
        "\n",
        "#data process\n",
        "import re\n",
        "import numpy as np\n",
        "import seaborn as sns\n",
        "import matplotlib.pyplot as plt\n",
        "import multiprocessing\n",
        "import pandas as pd\n",
        "import math\n",
        "from bs4 import BeautifulSoup\n",
        "import os\n",
        "import json\n"
      ]
    },
    {
      "cell_type": "code",
      "execution_count": 3,
      "metadata": {
        "colab": {
          "base_uri": "https://localhost:8080/",
          "height": 166,
          "referenced_widgets": [
            "6d7d317a8d0a48f8b3fd035aae4fae83",
            "b351b33e7cb6413f960c5cb1cbedc8a9",
            "a97b7c1313c948e2a797acb7919173f5",
            "86d90285c9cb420eacfa44b2aa21738e",
            "6cc3cb458df7433098120dcad6a8b8dd",
            "d06a7c3626b743dd86820f9020f26898",
            "c8216971e61e424ca3fe07ce4d3106ad",
            "9cb3e2b9b53243759c21178542ea578c",
            "b094ce600bf044ea86fcdd53424d477b",
            "8330ee00c5234441af7a153a4bc57aef",
            "295a8922c73f4af3a75010eb0edb18ca",
            "cb1e626d925b4c86a776d93da550b132",
            "eb3477b8447f4b2bbec443262f1aa13b",
            "d23a7752c13b418998c0f05bb87145b8",
            "e2bdbb03f8b44a2f80488d166b262d03",
            "7fb466bf35064fbdbae8b849c6c6ade2",
            "20055306f3974eb994690354c26f0646",
            "43deca47b9d04ce4982dc017d021d658",
            "c7f05627a73c4241a51ee6413e70ee4f",
            "64830e08828a434fbae2f41661e16610",
            "2b67497c279e4b23a22ebb81703c70a9",
            "cd6b25d7e14d40dcbb9e40f8332da090",
            "b8c1a8b3d8ab4d1e94e3c0d0c44548bc",
            "39731a3de01a4312bd703e3cf639fd3a",
            "b2f874276d6b446ca07409951aa45491",
            "e187697fb33f410494063687890dc0de",
            "27a1d0addff340c88f6781196984401f",
            "2169dd726c994770b57bca22de4cab50",
            "836c68c5fadf48629201428256de32bd",
            "766b48578a1142509a867d43201de6c4",
            "6eca13851f2149bd845bc0d679c9a983",
            "95faf289fc2a4884b9bde3d32958efec",
            "193335097c904a199e4a46a5517651ad",
            "3aaeafbfc0d949afaa6bfb028b2b4ec8",
            "0d6b05c9d06c45f68123788e03cbb5e4",
            "82586aa116e34ee7bf71a3e9afa08368",
            "cc53061cdde34b62a247cf081225e657",
            "ae6696d51888442291d926fd752962e5",
            "d4f96e83700a4eb69a3e45340bff04bf",
            "05c14f50a8834e53887351dc6db8fa5f",
            "48f578514b894858a8f914ba0334a3e1",
            "27a91eba5b754f07952b01382dd9cde4",
            "f59193152406441f9c2af416601951c3",
            "c44172e175994464bf80169babc2b989"
          ]
        },
        "id": "QyG5dUyAvfHc",
        "outputId": "4ff81d78-4960-4731-f096-59d48425bec3"
      },
      "outputs": [
        {
          "output_type": "display_data",
          "data": {
            "text/plain": [
              "Downloading:   0%|          | 0.00/226k [00:00<?, ?B/s]"
            ],
            "application/vnd.jupyter.widget-view+json": {
              "version_major": 2,
              "version_minor": 0,
              "model_id": "6d7d317a8d0a48f8b3fd035aae4fae83"
            }
          },
          "metadata": {}
        },
        {
          "output_type": "display_data",
          "data": {
            "text/plain": [
              "Downloading:   0%|          | 0.00/48.0 [00:00<?, ?B/s]"
            ],
            "application/vnd.jupyter.widget-view+json": {
              "version_major": 2,
              "version_minor": 0,
              "model_id": "cb1e626d925b4c86a776d93da550b132"
            }
          },
          "metadata": {}
        },
        {
          "output_type": "display_data",
          "data": {
            "text/plain": [
              "Downloading:   0%|          | 0.00/570 [00:00<?, ?B/s]"
            ],
            "application/vnd.jupyter.widget-view+json": {
              "version_major": 2,
              "version_minor": 0,
              "model_id": "b8c1a8b3d8ab4d1e94e3c0d0c44548bc"
            }
          },
          "metadata": {}
        },
        {
          "output_type": "display_data",
          "data": {
            "text/plain": [
              "Downloading:   0%|          | 0.00/511M [00:00<?, ?B/s]"
            ],
            "application/vnd.jupyter.widget-view+json": {
              "version_major": 2,
              "version_minor": 0,
              "model_id": "3aaeafbfc0d949afaa6bfb028b2b4ec8"
            }
          },
          "metadata": {}
        }
      ],
      "source": [
        "#loading the pre-trained tokenizer and model\n",
        "bert_tokenizer = BertTokenizer.from_pretrained('bert-base-uncased')\n",
        "bert_model = TFBertModel.from_pretrained('bert-base-uncased')"
      ]
    },
    {
      "cell_type": "code",
      "execution_count": 4,
      "metadata": {
        "id": "pkqZfuBwwCuR"
      },
      "outputs": [],
      "source": [
        "#load the dataset with error handling\n",
        "try:\n",
        "    train_df = pd.read_csv('full_train_data(Revised).csv')\n",
        "except pd.errors.ParserError as e:\n",
        "    print(f\"Error reading CSV: {e}\")\n",
        "    # Print the lines around the problematic row\n",
        "    with open('full_train_data(Revised).csv', 'r') as f:\n",
        "        lines = f.readlines()\n",
        "        for i in range(17622, 17626):\n",
        "            if i < len(lines):\n",
        "                print(lines[i])\n",
        "\n",
        "test_df = pd.read_csv('full_test_data(Revised).csv')\n",
        "\n",
        "# Adjust pandas display settings to show all rows and columns\n",
        "pd.set_option('display.max_rows', None)  # Show all rows\n",
        "pd.set_option('display.max_columns', None)  # Show all columns\n",
        "pd.set_option('display.max_colwidth', None)  # Show full content of each column\n",
        "pd.set_option('display.width', None)  # Auto-detect width of the display\n",
        "\n",
        "\n"
      ]
    },
    {
      "cell_type": "code",
      "execution_count": 5,
      "metadata": {
        "colab": {
          "base_uri": "https://localhost:8080/"
        },
        "id": "j8jNnMPKxMCW",
        "outputId": "9ac3ad4b-deb9-43fb-eef3-4a54e49bf100"
      },
      "outputs": [
        {
          "output_type": "execute_result",
          "data": {
            "text/plain": [
              "Index(['title', 'date', 'content_original', 'bias', 'bias_text', 'source'], dtype='object')"
            ]
          },
          "metadata": {},
          "execution_count": 5
        }
      ],
      "source": [
        "train_df.columns"
      ]
    },
    {
      "cell_type": "code",
      "execution_count": 6,
      "metadata": {
        "id": "CMoc5b34iHno"
      },
      "outputs": [],
      "source": [
        "#targeted news ogranization to be removed\n",
        "\n",
        "target_news_org = ['Washington Times', 'CNN (Web News)', 'NPR Online News', 'Politico', 'Vox' ]"
      ]
    },
    {
      "cell_type": "code",
      "execution_count": 7,
      "metadata": {
        "id": "c2-3Fw6Jh8x7"
      },
      "outputs": [],
      "source": [
        "train_df = train_df[~train_df['source'].isin(target_news_org)]\n",
        "test_df = test_df[~test_df['source'].isin(target_news_org)]"
      ]
    },
    {
      "cell_type": "code",
      "execution_count": 8,
      "metadata": {
        "colab": {
          "base_uri": "https://localhost:8080/"
        },
        "id": "PYyfMfZxhzfu",
        "outputId": "ba311482-948d-4882-964a-30a3f7be20bf"
      },
      "outputs": [
        {
          "output_type": "execute_result",
          "data": {
            "text/plain": [
              "array(['Christian Science Monitor', 'The Guardian', 'Reason', 'Townhall',\n",
              "       'Fox Online News', 'Yahoo! The 360', 'TheBlaze.com',\n",
              "       'National Review', 'Wall Street Journal - Editorial',\n",
              "       'Business Insider', 'Daily Kos', 'Bloomberg', 'The Week - News',\n",
              "       'Daily Beast', 'USA TODAY', 'Breitbart News', 'Fox News',\n",
              "       'Chicago Sun-Times', 'Charles Krauthammer', 'The Atlantic',\n",
              "       'HotAir', 'MarketWatch', 'New York Times - News', 'Salon',\n",
              "       'Guest Writer - Left', 'Newsmax', 'FiveThirtyEight',\n",
              "       'Michelle Malkin', 'Polish Times', 'Reuters', 'Associated Press',\n",
              "       'Victor Hanson', 'Pew Research Center',\n",
              "       'New York Times (Online News)', 'City Journal', 'Jonah Goldberg',\n",
              "       'Guest Writer - Right', 'Fox News Opinion', 'Yahoo! News', 'Slate',\n",
              "       'Washington Post', 'Mother Jones', 'Newsmax (News)', 'Defense One',\n",
              "       'Independent Journal Review', 'Peacock Panache',\n",
              "       'Detroit Free Press', 'CNBC', 'Newsmax - News',\n",
              "       'Washington Free Beacon', 'ProPublica', 'CNN - Editorial',\n",
              "       'Red State', 'New Republic', 'George Will',\n",
              "       'Brookings Institution', 'Center For American Progress',\n",
              "       'The Commercial Appeal', 'Time Magazine', 'The New Yorker', 'Mitú',\n",
              "       'BET', 'Rich Lowry', 'Mitt Romney', 'New York Times - Opinion',\n",
              "       'Daily Chela', 'Guest Writer', 'Juan Williams', 'The Verge',\n",
              "       'Roll Call', 'The Marshall Project', 'CBS News',\n",
              "       'Wall Street Journal - News', 'The Nation', 'NBC News (Online)',\n",
              "       'NewsBusters', 'AP Fact Check', 'Boston Herald',\n",
              "       'The Observer (New York)', 'Ben Shapiro',\n",
              "       'Arkansas Democrat-Gazette', 'Foreign Policy',\n",
              "       'The Heritage Foundation', 'New York Post (Opinion)', 'Quillette',\n",
              "       'PinkNews', 'Human Rights Watch', 'Michael Brendan Dougherty',\n",
              "       'WND.com', 'The Western Journal', 'Detroit News', 'John Fund',\n",
              "       'The Hollywood Reporter', 'Gallup', 'New York Magazine',\n",
              "       'Daily Mail', 'InfoWars', 'Medical Daily',\n",
              "       'Orange County Register', 'The Week - Opinion', 'Esquire',\n",
              "       'Ezra Klein', 'Dennis Prager', 'San Francisco Chronicle',\n",
              "       'Fortune', 'Deseret News', 'Damon Linker', 'The Daily Signal',\n",
              "       'Ryan Cooper', 'Drudge Report', 'Ann Coulter', 'Mashable',\n",
              "       'Jesse Jackson', 'Barack Obama', 'Medium', 'The Texas Tribune',\n",
              "       'RollingStone.com', 'Heavy.com', 'CNSNews.com', 'AlterNet',\n",
              "       'Socialist Alternative', 'Media Research Center', 'John Stossel',\n",
              "       'Dana Milbank', 'PBS NewsHour', 'MIT News', 'The Post Millennial',\n",
              "       'CNS News', 'Michael Barone', 'RealClearPolitics',\n",
              "       'William Bennett', 'DesMoines Register', 'The Dallas Morning News',\n",
              "       'Jon Terbush', 'New York Post', 'Latino Rebels', 'Newt Gingrich',\n",
              "       'John Gable, AllSides Founder', 'Global Research',\n",
              "       'Boston Herald Editorial', 'Deadline.com', 'Live Action News',\n",
              "       'International Business Times', 'San Jose Mercury News',\n",
              "       'Inside Philanthropy', 'The Daily Caller', 'Reason Foundation',\n",
              "       'NPR Editorial ', 'ABC News', 'Richard A. Lowry',\n",
              "       'Chicago Tribune', 'IVN', 'OpenSecrets.org',\n",
              "       'Student Press Law Center', 'Matt Welch', 'S.E. Cupp',\n",
              "       'Charles Blow', 'The Massachusetts Daily Collegian',\n",
              "       'Kathleen Parker', 'CNET', 'Al Jazeera',\n",
              "       'Socialist Project/The Bullet', 'The Conversation',\n",
              "       'Bring Me The News', 'Rand Paul', 'The Libertarian Republic',\n",
              "       'Fiscal Times', 'Western Journal', 'PJ Media', 'Grist',\n",
              "       'Black Enterprise', 'The Independent', 'Odyssey Online',\n",
              "       'Raw Story', 'NBCNews.com', 'CU Independent', 'WGN',\n",
              "       'Mercatus Center', 'Julian Zelizer', 'The Courier-Journal',\n",
              "       'Houston Chronicle', 'Thomas Sowell', 'Cosmopolitan',\n",
              "       'Fabius Maximus', 'Ted Rall (cartoonist)', 'LGBTQ Nation',\n",
              "       'The Denver Post', 'Webster Journal', 'Scriberr Media - News',\n",
              "       'Louisville Courier-Journal', 'The Intelligencer',\n",
              "       'Portland Press Herald', 'Rev. Jesse Jackson Sr.',\n",
              "       'Atlanta Journal-Constitution', 'CalMatters', 'Sally Pipes',\n",
              "       'Kalamazoo Gazette', 'Billy Binion', 'Des Moines Register',\n",
              "       'Pacific Standard', \"Investor's Business Daily\", 'BBC News',\n",
              "       'TruthOut', 'Andrew Napolitano',\n",
              "       'The Reporters Committee for Freedom of the Press',\n",
              "       'Marc A. Thiessen', 'Hillary Clinton', 'Henry A. Brechter',\n",
              "       'Star News', 'San Gabriel Valley Tribune', 'Wausau Daily Herald',\n",
              "       'Tallahassee Democrat', 'SFGate', 'The Texan',\n",
              "       'New York Post (News)', 'TED', 'HuffPost', 'Military Times',\n",
              "       'The Hill', 'Psypost', 'Newsmax - Opinion', 'Longmont Times-Call',\n",
              "       'Snopes', 'AL.com', 'Rem Reider', 'Daily Camera',\n",
              "       'Block Club Chicago', 'Marijuana Moment', 'Las Vegas Sun',\n",
              "       'Kitsap Sun', 'Tucker Carlson', 'The Colorado Sun',\n",
              "       'Foreign Affairs', 'Scriberr Media - Opinion/Editorial',\n",
              "       'Jeff Jacoby', 'Toronto Star', 'Manhattan Institute',\n",
              "       'Washington Examiner', 'JSTOR Daily', 'Daily Northwestern',\n",
              "       'Mediaite', 'The Globe and Mail', 'Pat Buchanan', 'East Bay Times',\n",
              "       'Metrocosm', 'Washington Monthly', 'Matt Towery', 'CalWatchdog',\n",
              "       'Allysia Finley (Wall Street Journal)', 'TechCrunch',\n",
              "       'International Institute for Strategic Studies',\n",
              "       'Commentary Magazine', 'Paul Ryan', 'Los Angeles Times',\n",
              "       'Gail Collins', 'AZ Central', 'American Enterprise Institute',\n",
              "       'AllSides'], dtype=object)"
            ]
          },
          "metadata": {},
          "execution_count": 8
        }
      ],
      "source": [
        "train_df['source'].unique()"
      ]
    },
    {
      "cell_type": "code",
      "execution_count": null,
      "metadata": {
        "colab": {
          "base_uri": "https://localhost:8080/"
        },
        "id": "BlS6YagLwzQd",
        "outputId": "32d8f7f6-8bf3-419c-ff2c-59f15336b092"
      },
      "outputs": [
        {
          "name": "stdout",
          "output_type": "stream",
          "text": [
            "basic train_df info:  (20114, 6)\n"
          ]
        }
      ],
      "source": [
        "print(f\"basic train_df info: \",train_df.shape)"
      ]
    },
    {
      "cell_type": "code",
      "execution_count": 8,
      "metadata": {
        "colab": {
          "base_uri": "https://localhost:8080/"
        },
        "id": "vlOu73PYi8LL",
        "outputId": "45006433-5880-4332-c343-2af33d4b42d7"
      },
      "outputs": [
        {
          "output_type": "stream",
          "name": "stdout",
          "text": [
            "basic train_df info after deleting the top-5 outlier news org:  (11332, 6)\n"
          ]
        }
      ],
      "source": [
        "print(f\"basic train_df info after deleting the top-5 outlier news org: \",train_df.shape)"
      ]
    },
    {
      "cell_type": "code",
      "execution_count": null,
      "metadata": {
        "colab": {
          "base_uri": "https://localhost:8080/"
        },
        "id": "GdbG2sxpxddS",
        "outputId": "f8dd9375-2cc9-42b4-fcfd-b588705782b2"
      },
      "outputs": [
        {
          "name": "stdout",
          "output_type": "stream",
          "text": [
            "basic test_df info:  (5029, 6)\n"
          ]
        }
      ],
      "source": [
        "print(f\"basic test_df info: \",test_df.shape)"
      ]
    },
    {
      "cell_type": "code",
      "execution_count": 9,
      "metadata": {
        "colab": {
          "base_uri": "https://localhost:8080/"
        },
        "id": "oVMo2D5DjFIo",
        "outputId": "fefe3907-bbc1-48c9-ef22-d38a5578f334"
      },
      "outputs": [
        {
          "output_type": "stream",
          "name": "stdout",
          "text": [
            "basic test_df info after deleting the top-5 outlier news org:  (2805, 6)\n"
          ]
        }
      ],
      "source": [
        "print(f\"basic test_df info after deleting the top-5 outlier news org: \",test_df.shape)"
      ]
    },
    {
      "cell_type": "code",
      "execution_count": 10,
      "metadata": {
        "colab": {
          "base_uri": "https://localhost:8080/"
        },
        "id": "DN_SB3PTxfhF",
        "outputId": "36b2d4ff-c348-44c5-e3a9-aebab3eb0458"
      },
      "outputs": [
        {
          "output_type": "stream",
          "name": "stdout",
          "text": [
            "size of training dataset:  11332\n",
            "\n",
            "size of valid dataset:  1500\n",
            "\n",
            "size of testing dataset:  1305\n",
            "\n",
            "Left with Label 0 \n",
            "Center with Label 1 \n",
            "Right with Label 2 \n"
          ]
        }
      ],
      "source": [
        "# extract the train and test text from both dataframes\n",
        "train_text = train_df['content_original']\n",
        "train_text_labels = train_df['bias']\n",
        "\n",
        "validate_text = test_df['content_original'][0:1500]\n",
        "validate_text_labels = test_df['bias'][0:1500]\n",
        "\n",
        "test_text = test_df['content_original'][1500:]\n",
        "test_text_labels = test_df['bias'][1500:]\n",
        "\n",
        "\n",
        "print(f\"size of training dataset: \",len(train_text))\n",
        "print()\n",
        "print(f\"size of valid dataset: \",len(validate_text))\n",
        "print()\n",
        "print(f\"size of testing dataset: \",len(test_text))\n",
        "print()\n",
        "print(f\"Left with Label 0 \")\n",
        "print(f\"Center with Label 1 \")\n",
        "print(f\"Right with Label 2 \")"
      ]
    },
    {
      "cell_type": "code",
      "execution_count": 11,
      "metadata": {
        "id": "68tKtWPry7iK"
      },
      "outputs": [],
      "source": [
        "MAX_SEQUENCE_LENGTH = 512"
      ]
    },
    {
      "cell_type": "code",
      "execution_count": 12,
      "metadata": {
        "id": "UlXC06Z_zPAp"
      },
      "outputs": [],
      "source": [
        "# tokenize the dataset, truncate at `max_length`,\n",
        "\n",
        "#tokenizing the train text\n",
        "x_train = bert_tokenizer(train_text.tolist(),\n",
        "              max_length=MAX_SEQUENCE_LENGTH,\n",
        "              truncation=True,\n",
        "              padding='max_length',\n",
        "              return_tensors='tf')\n",
        "y_train = train_text_labels\n",
        "\n",
        "#tokenizing the validate text\n",
        "x_validate = bert_tokenizer(validate_text.tolist(),\n",
        "              max_length=MAX_SEQUENCE_LENGTH,\n",
        "              truncation=True,\n",
        "              padding='max_length',\n",
        "              return_tensors='tf')\n",
        "y_validate = validate_text_labels\n",
        "\n",
        "\n",
        "#tokenizing the test text\n",
        "x_test = bert_tokenizer(test_text.tolist(),\n",
        "              max_length=MAX_SEQUENCE_LENGTH,\n",
        "              truncation=True,\n",
        "              padding='max_length',\n",
        "              return_tensors='tf')\n",
        "y_test = test_text_labels"
      ]
    },
    {
      "cell_type": "code",
      "execution_count": 13,
      "metadata": {
        "colab": {
          "base_uri": "https://localhost:8080/"
        },
        "id": "7YWZdBWp02fi",
        "outputId": "cf4158f8-12cf-447a-e9f9-9b62453216fe"
      },
      "outputs": [
        {
          "output_type": "execute_result",
          "data": {
            "text/plain": [
              "BertConfig {\n",
              "  \"_name_or_path\": \"bert-base-uncased\",\n",
              "  \"architectures\": [\n",
              "    \"BertForMaskedLM\"\n",
              "  ],\n",
              "  \"attention_probs_dropout_prob\": 0.1,\n",
              "  \"classifier_dropout\": null,\n",
              "  \"gradient_checkpointing\": false,\n",
              "  \"hidden_act\": \"gelu\",\n",
              "  \"hidden_dropout_prob\": 0.1,\n",
              "  \"hidden_size\": 768,\n",
              "  \"initializer_range\": 0.02,\n",
              "  \"intermediate_size\": 3072,\n",
              "  \"layer_norm_eps\": 1e-12,\n",
              "  \"max_position_embeddings\": 512,\n",
              "  \"model_type\": \"bert\",\n",
              "  \"num_attention_heads\": 12,\n",
              "  \"num_hidden_layers\": 12,\n",
              "  \"pad_token_id\": 0,\n",
              "  \"position_embedding_type\": \"absolute\",\n",
              "  \"transformers_version\": \"4.17.0\",\n",
              "  \"type_vocab_size\": 2,\n",
              "  \"use_cache\": true,\n",
              "  \"vocab_size\": 30522\n",
              "}"
            ]
          },
          "metadata": {},
          "execution_count": 13
        }
      ],
      "source": [
        "#BERT base uncased model configurations\n",
        "config = AutoConfig.from_pretrained('bert-base-uncased')\n",
        "\n",
        "config"
      ]
    },
    {
      "cell_type": "markdown",
      "metadata": {
        "id": "gsKxWorr17QH"
      },
      "source": [
        "#BERT Uncase Model Fine-Tuning"
      ]
    },
    {
      "cell_type": "code",
      "execution_count": 14,
      "metadata": {
        "id": "F9jCrtXh2akX"
      },
      "outputs": [],
      "source": [
        "def create_bert_classification_model(bert_model,\n",
        "                                     num_train_layers=0,\n",
        "                                     num_classes = 3,\n",
        "                                     hidden_size = 768,\n",
        "                                     dropout=0.3,\n",
        "                                     attention_probs_dropout_prob = 0.2,\n",
        "                                     hidden_dropout_prob=0.25,\n",
        "                                     learning_rate=0.00005):\n",
        "    \"\"\"\n",
        "    Build a simple classification model with BERT. Use the Pooler Output for classification purposes\n",
        "    \"\"\"\n",
        "    if num_train_layers == 0:\n",
        "        # Freeze all layers of pre-trained BERT model\n",
        "        bert_model.trainable = False\n",
        "\n",
        "    elif num_train_layers == 12:\n",
        "        # Train all layers of the BERT model\n",
        "        bert_model.trainable = True\n",
        "\n",
        "    else:\n",
        "        # Restrict training to the num_train_layers outer transformer layers\n",
        "        retrain_layers = []\n",
        "\n",
        "        for retrain_layer_number in range(num_train_layers):\n",
        "\n",
        "            layer_code = '_' + str(11 - retrain_layer_number)\n",
        "            retrain_layers.append(layer_code)\n",
        "\n",
        "\n",
        "        print('retrain layers: ', retrain_layers)\n",
        "\n",
        "        for w in bert_model.weights:\n",
        "            if not any([x in w.name for x in retrain_layers]):\n",
        "                #print('freezing: ', w)\n",
        "                w._trainable = False\n",
        "\n",
        "    input_ids = tf.keras.layers.Input(shape=(MAX_SEQUENCE_LENGTH,), dtype=tf.int64, name='input_ids_layer')\n",
        "    token_type_ids = tf.keras.layers.Input(shape=(MAX_SEQUENCE_LENGTH,), dtype=tf.int64, name='token_type_ids_layer')\n",
        "    attention_mask = tf.keras.layers.Input(shape=(MAX_SEQUENCE_LENGTH,), dtype=tf.int64, name='attention_mask_layer')\n",
        "\n",
        "    bert_inputs = {'input_ids': input_ids,\n",
        "                   'token_type_ids': token_type_ids,\n",
        "                   'attention_mask': attention_mask}\n",
        "\n",
        "    bert_out = bert_model(bert_inputs)\n",
        "\n",
        "    #pooler_token = bert_out[1]\n",
        "    cls_token = bert_out[0][:, 0, :]\n",
        "\n",
        "    hidden_1 = tf.keras.layers.Dense(hidden_size, activation='relu', name='hidden_layer_1')(cls_token)\n",
        "    hidden_1 = tf.keras.layers.Dropout(dropout)(hidden_1)\n",
        "\n",
        "\n",
        "    classification = tf.keras.layers.Dense(num_classes, activation='softmax',name='classification_layer')(hidden_1)\n",
        "\n",
        "    classification_model = tf.keras.Model(inputs=[input_ids, token_type_ids, attention_mask], outputs=[classification])\n",
        "\n",
        "    classification_model.compile(optimizer=tf.keras.optimizers.Adam(learning_rate=learning_rate),\n",
        "                                 loss=tf.keras.losses.SparseCategoricalCrossentropy(from_logits=False),\n",
        "                                 metrics='accuracy')\n",
        "\n",
        "    return classification_model"
      ]
    },
    {
      "cell_type": "code",
      "execution_count": 15,
      "metadata": {
        "id": "P4doyzf15rJT"
      },
      "outputs": [],
      "source": [
        "#let's get a fresh instance of the bert_model -- good practice\n",
        "bert_model = TFBertModel.from_pretrained('bert-base-uncased')\n",
        "bert_classification_model = create_bert_classification_model(bert_model, num_train_layers=12)"
      ]
    },
    {
      "cell_type": "code",
      "execution_count": 17,
      "metadata": {
        "colab": {
          "base_uri": "https://localhost:8080/"
        },
        "id": "-dy-ypDH6cb-",
        "outputId": "bd91c466-2fbe-400a-d9de-c99287335680"
      },
      "outputs": [
        {
          "output_type": "stream",
          "name": "stdout",
          "text": [
            "Model: \"model\"\n",
            "__________________________________________________________________________________________________\n",
            " Layer (type)                Output Shape                 Param #   Connected to                  \n",
            "==================================================================================================\n",
            " attention_mask_layer (Inpu  [(None, 512)]                0         []                            \n",
            " tLayer)                                                                                          \n",
            "                                                                                                  \n",
            " input_ids_layer (InputLaye  [(None, 512)]                0         []                            \n",
            " r)                                                                                               \n",
            "                                                                                                  \n",
            " token_type_ids_layer (Inpu  [(None, 512)]                0         []                            \n",
            " tLayer)                                                                                          \n",
            "                                                                                                  \n",
            " tf_bert_model_1 (TFBertMod  TFBaseModelOutputWithPooli   1094822   ['attention_mask_layer[0][0]',\n",
            " el)                         ngAndCrossAttentions(last_   40         'input_ids_layer[0][0]',     \n",
            "                             hidden_state=(None, 512, 7              'token_type_ids_layer[0][0]']\n",
            "                             68),                                                                 \n",
            "                              pooler_output=(None, 768)                                           \n",
            "                             , past_key_values=None, hi                                           \n",
            "                             dden_states=None, attentio                                           \n",
            "                             ns=None, cross_attentions=                                           \n",
            "                             None)                                                                \n",
            "                                                                                                  \n",
            " tf.__operators__.getitem (  (None, 768)                  0         ['tf_bert_model_1[0][0]']     \n",
            " SlicingOpLambda)                                                                                 \n",
            "                                                                                                  \n",
            " hidden_layer_1 (Dense)      (None, 768)                  590592    ['tf.__operators__.getitem[0][\n",
            "                                                                    0]']                          \n",
            "                                                                                                  \n",
            " dropout_74 (Dropout)        (None, 768)                  0         ['hidden_layer_1[0][0]']      \n",
            "                                                                                                  \n",
            " classification_layer (Dens  (None, 3)                    2307      ['dropout_74[0][0]']          \n",
            " e)                                                                                               \n",
            "                                                                                                  \n",
            "==================================================================================================\n",
            "Total params: 110075139 (419.90 MB)\n",
            "Trainable params: 110075139 (419.90 MB)\n",
            "Non-trainable params: 0 (0.00 Byte)\n",
            "__________________________________________________________________________________________________\n"
          ]
        }
      ],
      "source": [
        "#confirm all layers are frozen\n",
        "bert_classification_model.summary()"
      ]
    },
    {
      "cell_type": "code",
      "execution_count": null,
      "metadata": {
        "colab": {
          "base_uri": "https://localhost:8080/",
          "height": 626
        },
        "id": "dAsKlqf46fiu",
        "outputId": "9d35cfc1-01c8-412a-f78b-f3de95c10776"
      },
      "outputs": [
        {
          "data": {
            "image/png": "[encoded data removed]",
            "text/plain": [
              "<IPython.core.display.Image object>"
            ]
          },
          "execution_count": 23,
          "metadata": {},
          "output_type": "execute_result"
        }
      ],
      "source": [
        "keras.utils.plot_model(bert_classification_model, show_shapes=True, dpi=90)"
      ]
    },
    {
      "cell_type": "code",
      "execution_count": 16,
      "metadata": {
        "id": "WhUOF1is2AKd"
      },
      "outputs": [],
      "source": [
        "from tensorflow.keras.callbacks import EarlyStopping\n",
        "# Early stopping callback to avoid overfitting issue\n",
        "early_stopping = EarlyStopping(\n",
        "    monitor='val_accuracy',\n",
        "    patience=2,\n",
        "    mode='max',\n",
        "    restore_best_weights=True  # Restore model weights from the epoch with the best value of the monitored quantity\n",
        ")"
      ]
    },
    {
      "cell_type": "code",
      "execution_count": 17,
      "metadata": {
        "colab": {
          "base_uri": "https://localhost:8080/"
        },
        "id": "HWvj_hjF6CGR",
        "outputId": "652a884e-bb75-4c3a-8bb9-9bc0f70836a0"
      },
      "outputs": [
        {
          "output_type": "stream",
          "name": "stdout",
          "text": [
            "Epoch 1/4\n"
          ]
        },
        {
          "output_type": "stream",
          "name": "stderr",
          "text": [
            "WARNING:tensorflow:Gradients do not exist for variables ['tf_bert_model_1/bert/pooler/dense/kernel:0', 'tf_bert_model_1/bert/pooler/dense/bias:0'] when minimizing the loss. If you're using `model.compile()`, did you forget to provide a `loss` argument?\n",
            "WARNING:tensorflow:Gradients do not exist for variables ['tf_bert_model_1/bert/pooler/dense/kernel:0', 'tf_bert_model_1/bert/pooler/dense/bias:0'] when minimizing the loss. If you're using `model.compile()`, did you forget to provide a `loss` argument?\n",
            "WARNING:tensorflow:Gradients do not exist for variables ['tf_bert_model_1/bert/pooler/dense/kernel:0', 'tf_bert_model_1/bert/pooler/dense/bias:0'] when minimizing the loss. If you're using `model.compile()`, did you forget to provide a `loss` argument?\n",
            "WARNING:tensorflow:Gradients do not exist for variables ['tf_bert_model_1/bert/pooler/dense/kernel:0', 'tf_bert_model_1/bert/pooler/dense/bias:0'] when minimizing the loss. If you're using `model.compile()`, did you forget to provide a `loss` argument?\n"
          ]
        },
        {
          "output_type": "stream",
          "name": "stdout",
          "text": [
            "709/709 [==============================] - 885s 1s/step - loss: 0.6270 - accuracy: 0.7319 - val_loss: 0.4673 - val_accuracy: 0.8227\n",
            "Epoch 2/4\n",
            "709/709 [==============================] - 842s 1s/step - loss: 0.3416 - accuracy: 0.8759 - val_loss: 0.3247 - val_accuracy: 0.8767\n",
            "Epoch 3/4\n",
            "709/709 [==============================] - 842s 1s/step - loss: 0.2445 - accuracy: 0.9139 - val_loss: 0.3542 - val_accuracy: 0.8700\n",
            "Epoch 4/4\n",
            "709/709 [==============================] - 843s 1s/step - loss: 0.1615 - accuracy: 0.9448 - val_loss: 0.3345 - val_accuracy: 0.8933\n"
          ]
        }
      ],
      "source": [
        "bert_classification_model_history = bert_classification_model.fit(\n",
        "    [x_train.input_ids, x_train.token_type_ids, x_train.attention_mask],\n",
        "    y_train,\n",
        "    validation_data=([x_validate.input_ids, x_validate.token_type_ids, x_validate.attention_mask], y_validate),\n",
        "    batch_size=16,\n",
        "    epochs=4,\n",
        "    callbacks=[early_stopping]\n",
        ")"
      ]
    },
    {
      "cell_type": "code",
      "execution_count": 18,
      "metadata": {
        "colab": {
          "base_uri": "https://localhost:8080/",
          "height": 528
        },
        "id": "TGvT2O2_AQsL",
        "outputId": "2c301ded-a356-4415-c6fa-e820269554c2"
      },
      "outputs": [
        {
          "output_type": "display_data",
          "data": {
            "text/plain": [
              "<Figure size 1200x500 with 2 Axes>"
            ],
            "image/png": "[encoded data removed]"
          },
          "metadata": {}
        }
      ],
      "source": [
        "history = bert_classification_model_history.history\n",
        "\n",
        "# Plotting accuracy\n",
        "plt.figure(figsize=(12,5))\n",
        "plt.subplot(1,2,1)\n",
        "plt.plot(history['accuracy'], label='Training Accuracy')\n",
        "plt.plot(history['val_accuracy'], label='Validation Accuracy')\n",
        "plt.title('Model Accuracy')\n",
        "plt.xlabel('Epoch')\n",
        "plt.ylabel('Accuracy')\n",
        "plt.legend()\n",
        "\n",
        "# Plotting loss\n",
        "plt.subplot(1,2,2)\n",
        "plt.plot(history['loss'], label='Training Loss')\n",
        "plt.plot(history['val_loss'], label='Validation Loss')\n",
        "plt.title('Model Loss')\n",
        "plt.xlabel('Epoch')\n",
        "plt.ylabel('Loss')\n",
        "plt.legend()\n",
        "\n",
        "plt.tight_layout()\n",
        "plt.show()"
      ]
    },
    {
      "cell_type": "code",
      "execution_count": null,
      "metadata": {
        "colab": {
          "base_uri": "https://localhost:8080/"
        },
        "id": "UZmQ1ZS69BD9",
        "outputId": "949b74ff-8e19-4899-9ecb-97bb16e22d1e"
      },
      "outputs": [
        {
          "name": "stdout",
          "output_type": "stream",
          "text": [
            "95/95 [==============================] - 25s 265ms/step - loss: 0.2783 - accuracy: 0.9052\n",
            "Test loss: 0.2782779335975647\n",
            "Test accuracy: 0.9052492380142212\n"
          ]
        }
      ],
      "source": [
        "#Fine-Tuned BERT model overall prediction score\n",
        "score = bert_classification_model.evaluate([x_test.input_ids, x_test.token_type_ids, x_test.attention_mask],\n",
        "                                                  y_test)\n",
        "\n",
        "print('Test loss:', score[0])\n",
        "print('Test accuracy:', score[1])"
      ]
    },
    {
      "cell_type": "code",
      "execution_count": 19,
      "metadata": {
        "colab": {
          "base_uri": "https://localhost:8080/"
        },
        "id": "-d-4N0F99apO",
        "outputId": "fa5002eb-6ef1-497b-fc35-8db32cc9e147"
      },
      "outputs": [
        {
          "output_type": "stream",
          "name": "stdout",
          "text": [
            "41/41 [==============================] - 33s 732ms/step\n"
          ]
        },
        {
          "output_type": "execute_result",
          "data": {
            "text/plain": [
              "<tf.Tensor: shape=(1305,), dtype=int64, numpy=array([2, 0, 2, ..., 2, 2, 2])>"
            ]
          },
          "metadata": {},
          "execution_count": 19
        }
      ],
      "source": [
        "predictions_model= bert_classification_model.predict([x_test.input_ids, x_test.token_type_ids, x_test.attention_mask])\n",
        "predictions_model = tf.argmax(predictions_model, axis=-1)\n",
        "predictions_model"
      ]
    },
    {
      "cell_type": "code",
      "execution_count": 20,
      "metadata": {
        "colab": {
          "base_uri": "https://localhost:8080/"
        },
        "id": "nP_B6GDR9oeK",
        "outputId": "533affab-5c79-4252-f85e-477a35997346"
      },
      "outputs": [
        {
          "output_type": "stream",
          "name": "stdout",
          "text": [
            "              precision    recall  f1-score   support\n",
            "\n",
            "       Left        0.92      0.85      0.88       387\n",
            "      Center       0.92      0.85      0.89       356\n",
            "       Right       0.87      0.95      0.90       562\n",
            "\n",
            "    accuracy                           0.89      1305\n",
            "   macro avg       0.90      0.89      0.89      1305\n",
            "weighted avg       0.90      0.89      0.89      1305\n",
            "\n"
          ]
        }
      ],
      "source": [
        "print(classification_report(y_test, predictions_model.numpy(),\n",
        "                            target_names=['Left ','Center','Right']))"
      ]
    },
    {
      "cell_type": "code",
      "execution_count": 21,
      "metadata": {
        "id": "qdv27kz39yqB"
      },
      "outputs": [],
      "source": [
        "def plot_confusion_matrix(y_true, y_pred, label_names):\n",
        "    cm = tf.math.confusion_matrix(y_true, y_pred)\n",
        "    cm = cm/cm.numpy().sum(axis=1)[:, tf.newaxis]\n",
        "\n",
        "    plt.figure(figsize=(20,7))\n",
        "    sns.heatmap(\n",
        "        cm, annot=True,\n",
        "        xticklabels=label_names,\n",
        "        yticklabels=label_names)\n",
        "    plt.xlabel(\"Predicted\")\n",
        "    plt.ylabel(\"True\")"
      ]
    },
    {
      "cell_type": "code",
      "execution_count": 22,
      "metadata": {
        "colab": {
          "base_uri": "https://localhost:8080/",
          "height": 640
        },
        "id": "nml10N3ycx4r",
        "outputId": "bb1cab4d-0886-40c5-c728-1280ecadd1b3"
      },
      "outputs": [
        {
          "output_type": "display_data",
          "data": {
            "text/plain": [
              "<Figure size 2000x700 with 2 Axes>"
            ],
            "image/png": "[encoded data removed]"
          },
          "metadata": {}
        }
      ],
      "source": [
        "target_names=['Left ','Center','Right']\n",
        "plot_confusion_matrix(y_test, predictions_model.numpy(), target_names)"
      ]
    },
    {
      "cell_type": "code",
      "execution_count": 23,
      "metadata": {
        "id": "EuLHf0kn-aOh"
      },
      "outputs": [],
      "source": [
        "bert_wrong_guesses = np.where(y_test != predictions_model.numpy())"
      ]
    },
    {
      "cell_type": "code",
      "execution_count": 24,
      "metadata": {
        "colab": {
          "base_uri": "https://localhost:8080/"
        },
        "id": "Eu3ncelpdXIH",
        "outputId": "99599e3e-47ec-4a01-c701-f4b7c6d1c658"
      },
      "outputs": [
        {
          "output_type": "stream",
          "name": "stdout",
          "text": [
            "Number of Wrong Guesses:  138\n"
          ]
        }
      ],
      "source": [
        "print(f'Number of Wrong Guesses: ',len(bert_wrong_guesses[0]))"
      ]
    },
    {
      "cell_type": "code",
      "execution_count": 25,
      "metadata": {
        "id": "q48gMIXLdk2q"
      },
      "outputs": [],
      "source": [
        "#sampling 20 of the wrong precditions\n",
        "wrong_guesses = [i for i in np.squeeze(bert_wrong_guesses[0])]\n",
        "decoded_wrong_guesses_text=[]\n",
        "\n",
        "for i in wrong_guesses[:]:\n",
        "  decoded_text = bert_tokenizer.decode(x_test['input_ids'][i], skip_special_tokens=True)\n",
        "\n",
        "  # print(\"Input text:\")\n",
        "  # print(decoded_text)\n",
        "  decoded_wrong_guesses_text.append(decoded_text)\n",
        "  # print(\"True label:\")\n",
        "  # print(y_test.iloc[i])\n",
        "  # print(\"Predicted label:\")\n",
        "  # print(predictions_model.numpy()[i])\n",
        "\n",
        "  # print(\"-\" * 50)\n",
        "\n"
      ]
    },
    {
      "cell_type": "code",
      "execution_count": 26,
      "metadata": {
        "colab": {
          "base_uri": "https://localhost:8080/"
        },
        "id": "QAlXC5vHem8q",
        "outputId": "a01de000-d673-4a2c-935d-73c27ca69cd6"
      },
      "outputs": [
        {
          "output_type": "execute_result",
          "data": {
            "text/plain": [
              "138"
            ]
          },
          "metadata": {},
          "execution_count": 26
        }
      ],
      "source": [
        "len(decoded_wrong_guesses_text)"
      ]
    },
    {
      "cell_type": "code",
      "source": [
        "from google.colab import drive\n",
        "drive.mount('/content/drive')"
      ],
      "metadata": {
        "colab": {
          "base_uri": "https://localhost:8080/"
        },
        "id": "uVpjtu6BPDKw",
        "outputId": "56f48b97-9397-4b95-8f8a-f61a2988039b"
      },
      "execution_count": 28,
      "outputs": [
        {
          "output_type": "stream",
          "name": "stdout",
          "text": [
            "Mounted at /content/drive\n"
          ]
        }
      ]
    },
    {
      "cell_type": "code",
      "source": [
        "# Define the path to save the model in Google Drive\n",
        "\n",
        "save_path = '/content/drive/My Drive/'  # for TensorFlow/Keras\n",
        "\n",
        "# Save the model\n",
        "\n",
        "bert_classification_model.save(save_path)  # TensorFlow/Keras"
      ],
      "metadata": {
        "id": "GbIerLQMPNql"
      },
      "execution_count": 30,
      "outputs": []
    },
    {
      "cell_type": "code",
      "source": [
        "# Load the model\n",
        "model = tf.keras.models.load_model('path_to_your_model.h5')"
      ],
      "metadata": {
        "id": "EpATp-HmQAzD"
      },
      "execution_count": null,
      "outputs": []
    },
    {
      "cell_type": "code",
      "source": [
        "import tensorflow as tf\n",
        "\n",
        "# Load the saved model\n",
        "model = tf.keras.models.load_model('my_saved_model.h5')\n",
        "\n",
        "# Summary of the model\n",
        "model.summary()\n",
        "\n",
        "# Make predictions\n",
        "input_data = ...  # Replace with your input data\n",
        "predictions = model.predict(input_data)\n",
        "\n",
        "# Evaluate the model\n",
        "test_data = ...  # Replace with your test data\n",
        "test_labels = ...  # Replace with your test labels\n",
        "loss, accuracy = model.evaluate(test_data, test_labels)\n",
        "print(f'Loss: {loss}, Accuracy: {accuracy}')"
      ],
      "metadata": {
        "id": "yH56IZ24QIb-"
      },
      "execution_count": null,
      "outputs": []
    },
    {
      "cell_type": "code",
      "execution_count": 27,
      "metadata": {
        "id": "r7ePHhyxke3d",
        "colab": {
          "base_uri": "https://localhost:8080/",
          "height": 313
        },
        "outputId": "b1c41225-4b90-4277-d0f1-30bbc81ca898"
      },
      "outputs": [
        {
          "output_type": "error",
          "ename": "KeyError",
          "evalue": "'[5, 8, 48, 99, 109, 147, 151, 177, 182, 196, 198, 242, 250, 269, 318, 319, 361, 370, 372, 405, 409, 416, 434, 458, 474, 486, 499, 502, 505, 506, 513, 520, 524, 544, 551, 580, 605, 619, 675, 690, 694, 703, 724, 797, 803, 834, 877, 878, 893, 932, 972, 1128, 1154, 1170, 1191, 1198, 1246, 1261, 1270, 1275] not in index'",
          "traceback": [
            "\u001b[0;31m---------------------------------------------------------------------------\u001b[0m",
            "\u001b[0;31mKeyError\u001b[0m                                  Traceback (most recent call last)",
            "\u001b[0;32m<ipython-input-27-b9a1e22179b4>\u001b[0m in \u001b[0;36m<cell line: 1>\u001b[0;34m()\u001b[0m\n\u001b[0;32m----> 1\u001b[0;31m \u001b[0msources_analysis\u001b[0m \u001b[0;34m=\u001b[0m \u001b[0mtest_df\u001b[0m\u001b[0;34m.\u001b[0m\u001b[0mloc\u001b[0m\u001b[0;34m[\u001b[0m\u001b[0mwrong_guesses\u001b[0m\u001b[0;34m]\u001b[0m\u001b[0;34m\u001b[0m\u001b[0;34m\u001b[0m\u001b[0m\n\u001b[0m",
            "\u001b[0;32m/usr/local/lib/python3.10/dist-packages/pandas/core/indexing.py\u001b[0m in \u001b[0;36m__getitem__\u001b[0;34m(self, key)\u001b[0m\n\u001b[1;32m   1101\u001b[0m \u001b[0;34m\u001b[0m\u001b[0m\n\u001b[1;32m   1102\u001b[0m             \u001b[0mmaybe_callable\u001b[0m \u001b[0;34m=\u001b[0m \u001b[0mcom\u001b[0m\u001b[0;34m.\u001b[0m\u001b[0mapply_if_callable\u001b[0m\u001b[0;34m(\u001b[0m\u001b[0mkey\u001b[0m\u001b[0;34m,\u001b[0m \u001b[0mself\u001b[0m\u001b[0;34m.\u001b[0m\u001b[0mobj\u001b[0m\u001b[0;34m)\u001b[0m\u001b[0;34m\u001b[0m\u001b[0;34m\u001b[0m\u001b[0m\n\u001b[0;32m-> 1103\u001b[0;31m             \u001b[0;32mreturn\u001b[0m \u001b[0mself\u001b[0m\u001b[0;34m.\u001b[0m\u001b[0m_getitem_axis\u001b[0m\u001b[0;34m(\u001b[0m\u001b[0mmaybe_callable\u001b[0m\u001b[0;34m,\u001b[0m \u001b[0maxis\u001b[0m\u001b[0;34m=\u001b[0m\u001b[0maxis\u001b[0m\u001b[0;34m)\u001b[0m\u001b[0;34m\u001b[0m\u001b[0;34m\u001b[0m\u001b[0m\n\u001b[0m\u001b[1;32m   1104\u001b[0m \u001b[0;34m\u001b[0m\u001b[0m\n\u001b[1;32m   1105\u001b[0m     \u001b[0;32mdef\u001b[0m \u001b[0m_is_scalar_access\u001b[0m\u001b[0;34m(\u001b[0m\u001b[0mself\u001b[0m\u001b[0;34m,\u001b[0m \u001b[0mkey\u001b[0m\u001b[0;34m:\u001b[0m \u001b[0mtuple\u001b[0m\u001b[0;34m)\u001b[0m\u001b[0;34m:\u001b[0m\u001b[0;34m\u001b[0m\u001b[0;34m\u001b[0m\u001b[0m\n",
            "\u001b[0;32m/usr/local/lib/python3.10/dist-packages/pandas/core/indexing.py\u001b[0m in \u001b[0;36m_getitem_axis\u001b[0;34m(self, key, axis)\u001b[0m\n\u001b[1;32m   1330\u001b[0m                     \u001b[0;32mraise\u001b[0m \u001b[0mValueError\u001b[0m\u001b[0;34m(\u001b[0m\u001b[0;34m\"Cannot index with multidimensional key\"\u001b[0m\u001b[0;34m)\u001b[0m\u001b[0;34m\u001b[0m\u001b[0;34m\u001b[0m\u001b[0m\n\u001b[1;32m   1331\u001b[0m \u001b[0;34m\u001b[0m\u001b[0m\n\u001b[0;32m-> 1332\u001b[0;31m                 \u001b[0;32mreturn\u001b[0m \u001b[0mself\u001b[0m\u001b[0;34m.\u001b[0m\u001b[0m_getitem_iterable\u001b[0m\u001b[0;34m(\u001b[0m\u001b[0mkey\u001b[0m\u001b[0;34m,\u001b[0m \u001b[0maxis\u001b[0m\u001b[0;34m=\u001b[0m\u001b[0maxis\u001b[0m\u001b[0;34m)\u001b[0m\u001b[0;34m\u001b[0m\u001b[0;34m\u001b[0m\u001b[0m\n\u001b[0m\u001b[1;32m   1333\u001b[0m \u001b[0;34m\u001b[0m\u001b[0m\n\u001b[1;32m   1334\u001b[0m             \u001b[0;31m# nested tuple slicing\u001b[0m\u001b[0;34m\u001b[0m\u001b[0;34m\u001b[0m\u001b[0m\n",
            "\u001b[0;32m/usr/local/lib/python3.10/dist-packages/pandas/core/indexing.py\u001b[0m in \u001b[0;36m_getitem_iterable\u001b[0;34m(self, key, axis)\u001b[0m\n\u001b[1;32m   1270\u001b[0m \u001b[0;34m\u001b[0m\u001b[0m\n\u001b[1;32m   1271\u001b[0m         \u001b[0;31m# A collection of keys\u001b[0m\u001b[0;34m\u001b[0m\u001b[0;34m\u001b[0m\u001b[0m\n\u001b[0;32m-> 1272\u001b[0;31m         \u001b[0mkeyarr\u001b[0m\u001b[0;34m,\u001b[0m \u001b[0mindexer\u001b[0m \u001b[0;34m=\u001b[0m \u001b[0mself\u001b[0m\u001b[0;34m.\u001b[0m\u001b[0m_get_listlike_indexer\u001b[0m\u001b[0;34m(\u001b[0m\u001b[0mkey\u001b[0m\u001b[0;34m,\u001b[0m \u001b[0maxis\u001b[0m\u001b[0;34m)\u001b[0m\u001b[0;34m\u001b[0m\u001b[0;34m\u001b[0m\u001b[0m\n\u001b[0m\u001b[1;32m   1273\u001b[0m         return self.obj._reindex_with_indexers(\n\u001b[1;32m   1274\u001b[0m             \u001b[0;34m{\u001b[0m\u001b[0maxis\u001b[0m\u001b[0;34m:\u001b[0m \u001b[0;34m[\u001b[0m\u001b[0mkeyarr\u001b[0m\u001b[0;34m,\u001b[0m \u001b[0mindexer\u001b[0m\u001b[0;34m]\u001b[0m\u001b[0;34m}\u001b[0m\u001b[0;34m,\u001b[0m \u001b[0mcopy\u001b[0m\u001b[0;34m=\u001b[0m\u001b[0;32mTrue\u001b[0m\u001b[0;34m,\u001b[0m \u001b[0mallow_dups\u001b[0m\u001b[0;34m=\u001b[0m\u001b[0;32mTrue\u001b[0m\u001b[0;34m\u001b[0m\u001b[0;34m\u001b[0m\u001b[0m\n",
            "\u001b[0;32m/usr/local/lib/python3.10/dist-packages/pandas/core/indexing.py\u001b[0m in \u001b[0;36m_get_listlike_indexer\u001b[0;34m(self, key, axis)\u001b[0m\n\u001b[1;32m   1460\u001b[0m         \u001b[0maxis_name\u001b[0m \u001b[0;34m=\u001b[0m \u001b[0mself\u001b[0m\u001b[0;34m.\u001b[0m\u001b[0mobj\u001b[0m\u001b[0;34m.\u001b[0m\u001b[0m_get_axis_name\u001b[0m\u001b[0;34m(\u001b[0m\u001b[0maxis\u001b[0m\u001b[0;34m)\u001b[0m\u001b[0;34m\u001b[0m\u001b[0;34m\u001b[0m\u001b[0m\n\u001b[1;32m   1461\u001b[0m \u001b[0;34m\u001b[0m\u001b[0m\n\u001b[0;32m-> 1462\u001b[0;31m         \u001b[0mkeyarr\u001b[0m\u001b[0;34m,\u001b[0m \u001b[0mindexer\u001b[0m \u001b[0;34m=\u001b[0m \u001b[0max\u001b[0m\u001b[0;34m.\u001b[0m\u001b[0m_get_indexer_strict\u001b[0m\u001b[0;34m(\u001b[0m\u001b[0mkey\u001b[0m\u001b[0;34m,\u001b[0m \u001b[0maxis_name\u001b[0m\u001b[0;34m)\u001b[0m\u001b[0;34m\u001b[0m\u001b[0;34m\u001b[0m\u001b[0m\n\u001b[0m\u001b[1;32m   1463\u001b[0m \u001b[0;34m\u001b[0m\u001b[0m\n\u001b[1;32m   1464\u001b[0m         \u001b[0;32mreturn\u001b[0m \u001b[0mkeyarr\u001b[0m\u001b[0;34m,\u001b[0m \u001b[0mindexer\u001b[0m\u001b[0;34m\u001b[0m\u001b[0;34m\u001b[0m\u001b[0m\n",
            "\u001b[0;32m/usr/local/lib/python3.10/dist-packages/pandas/core/indexes/base.py\u001b[0m in \u001b[0;36m_get_indexer_strict\u001b[0;34m(self, key, axis_name)\u001b[0m\n\u001b[1;32m   5875\u001b[0m             \u001b[0mkeyarr\u001b[0m\u001b[0;34m,\u001b[0m \u001b[0mindexer\u001b[0m\u001b[0;34m,\u001b[0m \u001b[0mnew_indexer\u001b[0m \u001b[0;34m=\u001b[0m \u001b[0mself\u001b[0m\u001b[0;34m.\u001b[0m\u001b[0m_reindex_non_unique\u001b[0m\u001b[0;34m(\u001b[0m\u001b[0mkeyarr\u001b[0m\u001b[0;34m)\u001b[0m\u001b[0;34m\u001b[0m\u001b[0;34m\u001b[0m\u001b[0m\n\u001b[1;32m   5876\u001b[0m \u001b[0;34m\u001b[0m\u001b[0m\n\u001b[0;32m-> 5877\u001b[0;31m         \u001b[0mself\u001b[0m\u001b[0;34m.\u001b[0m\u001b[0m_raise_if_missing\u001b[0m\u001b[0;34m(\u001b[0m\u001b[0mkeyarr\u001b[0m\u001b[0;34m,\u001b[0m \u001b[0mindexer\u001b[0m\u001b[0;34m,\u001b[0m \u001b[0maxis_name\u001b[0m\u001b[0;34m)\u001b[0m\u001b[0;34m\u001b[0m\u001b[0;34m\u001b[0m\u001b[0m\n\u001b[0m\u001b[1;32m   5878\u001b[0m \u001b[0;34m\u001b[0m\u001b[0m\n\u001b[1;32m   5879\u001b[0m         \u001b[0mkeyarr\u001b[0m \u001b[0;34m=\u001b[0m \u001b[0mself\u001b[0m\u001b[0;34m.\u001b[0m\u001b[0mtake\u001b[0m\u001b[0;34m(\u001b[0m\u001b[0mindexer\u001b[0m\u001b[0;34m)\u001b[0m\u001b[0;34m\u001b[0m\u001b[0;34m\u001b[0m\u001b[0m\n",
            "\u001b[0;32m/usr/local/lib/python3.10/dist-packages/pandas/core/indexes/base.py\u001b[0m in \u001b[0;36m_raise_if_missing\u001b[0;34m(self, key, indexer, axis_name)\u001b[0m\n\u001b[1;32m   5939\u001b[0m \u001b[0;34m\u001b[0m\u001b[0m\n\u001b[1;32m   5940\u001b[0m             \u001b[0mnot_found\u001b[0m \u001b[0;34m=\u001b[0m \u001b[0mlist\u001b[0m\u001b[0;34m(\u001b[0m\u001b[0mensure_index\u001b[0m\u001b[0;34m(\u001b[0m\u001b[0mkey\u001b[0m\u001b[0;34m)\u001b[0m\u001b[0;34m[\u001b[0m\u001b[0mmissing_mask\u001b[0m\u001b[0;34m.\u001b[0m\u001b[0mnonzero\u001b[0m\u001b[0;34m(\u001b[0m\u001b[0;34m)\u001b[0m\u001b[0;34m[\u001b[0m\u001b[0;36m0\u001b[0m\u001b[0;34m]\u001b[0m\u001b[0;34m]\u001b[0m\u001b[0;34m.\u001b[0m\u001b[0munique\u001b[0m\u001b[0;34m(\u001b[0m\u001b[0;34m)\u001b[0m\u001b[0;34m)\u001b[0m\u001b[0;34m\u001b[0m\u001b[0;34m\u001b[0m\u001b[0m\n\u001b[0;32m-> 5941\u001b[0;31m             \u001b[0;32mraise\u001b[0m \u001b[0mKeyError\u001b[0m\u001b[0;34m(\u001b[0m\u001b[0;34mf\"{not_found} not in index\"\u001b[0m\u001b[0;34m)\u001b[0m\u001b[0;34m\u001b[0m\u001b[0;34m\u001b[0m\u001b[0m\n\u001b[0m\u001b[1;32m   5942\u001b[0m \u001b[0;34m\u001b[0m\u001b[0m\n\u001b[1;32m   5943\u001b[0m     \u001b[0;34m@\u001b[0m\u001b[0moverload\u001b[0m\u001b[0;34m\u001b[0m\u001b[0;34m\u001b[0m\u001b[0m\n",
            "\u001b[0;31mKeyError\u001b[0m: '[5, 8, 48, 99, 109, 147, 151, 177, 182, 196, 198, 242, 250, 269, 318, 319, 361, 370, 372, 405, 409, 416, 434, 458, 474, 486, 499, 502, 505, 506, 513, 520, 524, 544, 551, 580, 605, 619, 675, 690, 694, 703, 724, 797, 803, 834, 877, 878, 893, 932, 972, 1128, 1154, 1170, 1191, 1198, 1246, 1261, 1270, 1275] not in index'"
          ]
        }
      ],
      "source": [
        "sources_analysis = test_df.loc[wrong_guesses]"
      ]
    },
    {
      "cell_type": "code",
      "execution_count": 30,
      "metadata": {
        "colab": {
          "base_uri": "https://localhost:8080/",
          "height": 223
        },
        "id": "_HmBmevpmvV1",
        "outputId": "961a55c5-1557-4a60-e3ae-702a784e405b"
      },
      "outputs": [
        {
          "output_type": "error",
          "ename": "NameError",
          "evalue": "name 'sources_analysis' is not defined",
          "traceback": [
            "\u001b[0;31m---------------------------------------------------------------------------\u001b[0m",
            "\u001b[0;31mNameError\u001b[0m                                 Traceback (most recent call last)",
            "\u001b[0;32m<ipython-input-30-5d1f17450e4f>\u001b[0m in \u001b[0;36m<cell line: 1>\u001b[0;34m()\u001b[0m\n\u001b[0;32m----> 1\u001b[0;31m \u001b[0msources_analysis\u001b[0m\u001b[0;34m[\u001b[0m\u001b[0;34m'source'\u001b[0m\u001b[0;34m]\u001b[0m\u001b[0;34m\u001b[0m\u001b[0;34m\u001b[0m\u001b[0m\n\u001b[0m\u001b[1;32m      2\u001b[0m \u001b[0;31m# Count the occurrences of each source\u001b[0m\u001b[0;34m\u001b[0m\u001b[0;34m\u001b[0m\u001b[0m\n\u001b[1;32m      3\u001b[0m \u001b[0msource_counts\u001b[0m \u001b[0;34m=\u001b[0m \u001b[0msources_analysis\u001b[0m\u001b[0;34m[\u001b[0m\u001b[0;34m'source'\u001b[0m\u001b[0;34m]\u001b[0m\u001b[0;34m.\u001b[0m\u001b[0mvalue_counts\u001b[0m\u001b[0;34m(\u001b[0m\u001b[0;34m)\u001b[0m\u001b[0;34m\u001b[0m\u001b[0;34m\u001b[0m\u001b[0m\n\u001b[1;32m      4\u001b[0m \u001b[0;34m\u001b[0m\u001b[0m\n\u001b[1;32m      5\u001b[0m \u001b[0;31m# Create a bar plot\u001b[0m\u001b[0;34m\u001b[0m\u001b[0;34m\u001b[0m\u001b[0m\n",
            "\u001b[0;31mNameError\u001b[0m: name 'sources_analysis' is not defined"
          ]
        }
      ],
      "source": [
        "sources_analysis['source']\n",
        "# Count the occurrences of each source\n",
        "source_counts = sources_analysis['source'].value_counts()\n",
        "\n",
        "# Create a bar plot\n",
        "plt.figure(figsize=(12, 6))\n",
        "source_counts.plot(kind='bar')\n",
        "\n",
        "# Customize the plot\n",
        "plt.title('Distribution of Wrong Guess''Sources')\n",
        "plt.xlabel('Source')\n",
        "plt.ylabel('Count')\n",
        "plt.xticks(rotation=45, ha='right')\n",
        "plt.tight_layout()\n",
        "\n",
        "# Show the plot\n",
        "plt.show()"
      ]
    },
    {
      "cell_type": "code",
      "execution_count": null,
      "metadata": {
        "colab": {
          "base_uri": "https://localhost:8080/",
          "height": 607
        },
        "id": "OlczO-KVoc6z",
        "outputId": "b0913ef7-bbfa-48f0-9d41-b8849786c7a2"
      },
      "outputs": [
        {
          "data": {
            "image/png": "[encoded data removed]",
            "text/plain": [
              "<Figure size 1200x600 with 1 Axes>"
            ]
          },
          "metadata": {},
          "output_type": "display_data"
        }
      ],
      "source": [
        "# Convert 'date' to datetime if it's not already\n",
        "sources_analysis['date'] = pd.to_datetime(sources_analysis['date'])\n",
        "\n",
        "# Extract year from the date\n",
        "sources_analysis['year'] = sources_analysis['date'].dt.year\n",
        "\n",
        "# Count occurrences of each year\n",
        "year_counts = sources_analysis['year'].value_counts().sort_index()\n",
        "\n",
        "# Create a bar plot\n",
        "plt.figure(figsize=(12, 6))\n",
        "year_counts.plot(kind='bar')\n",
        "\n",
        "# Customize the plot\n",
        "plt.title('Distribution of Sources by Year')\n",
        "plt.xlabel('Year')\n",
        "plt.ylabel('Count')\n",
        "plt.xticks(rotation=0)  # No rotation for years\n",
        "plt.tight_layout()\n",
        "\n",
        "# Show the plot\n",
        "plt.show()"
      ]
    },
    {
      "cell_type": "code",
      "execution_count": null,
      "metadata": {
        "colab": {
          "base_uri": "https://localhost:8080/"
        },
        "id": "QubWzf3VpCMj",
        "outputId": "fed52f67-bce3-4a3d-fe91-859642ac7738"
      },
      "outputs": [
        {
          "name": "stdout",
          "output_type": "stream",
          "text": [
            "Input text:\n",
            "this 2012 presidential race one kind. history crown year debates. and three presidential debate shook race put republican mitt romney back game. the history making element 2012 debate year became interactive social medium event attracting massive audiences. rivaled super bowl wrestlemania audience size lust combat american first time communal experience scoring debate real time. on twitter blog debate scored minute minute grandma, kid everyone else living room. star hollywood medium personalities, politician joined fun folk home. whole nation competed best oneliners, perfect putdown come back debate taking place. trying appear presidential, cagematch mentality sober, thoughtful, reserved approach work social medium world want zinger mock opponent. president obama lost first debate failing satisfy big crowd refusing draw blood. mitt romney similarly lost last debate failing take fight president foreign affairs. the second debate, candidate looking verge fistfight, interrupting calling false claim first true debate new rule era. during debates, twitter gave u much hashtags ” big bird, binder bayonets. twitter given birth entirely new debate experience believe new norm presidential debate on. i saw historic shift firsthand four debate sites. genuinely surprised many colleague – honest, solid, hardworking journalist actually watching debate television computer screens. instead, eye perpetually glued ipads, blackberry iphones reading people saying debate twitter feed facebook posts. that instantaneous scoring distorted reality debate journalist surrogate spin room. focus putdowns, oneliners expectation folk tweet dictated said television immediately debates. twitter report 6. 5 million tweet tonight final 90 minute presidential debate, 7. 2 million tweet second debate new york whopping 10. 3 million tweet first debate denver. these metric made first debate tweeted political event sixyear history social networking site. prior that, obama ’ s dnc acceptance speech charlotte summer mosttweeted political event. twitter created 2006 report 500 million user worldwide. going year ’ s debate conventional political wisdom political scientist journalist debate don ’ t really matter. time debate clearly made difference 1960, american saw two major party candidate square television first time history. image sweaty richard nixon five o ’ clock shadow hurt republican badly. in 13 presidential contest since hard make case presidential debate performance influenced enough voter determine winner presidential election. moments : gerald ford ’ s mistaken judgment soviet influence poland ; george h. w. bush looking watch couldn ’ t wait get there ; al gore ’ s sighing dismissive regard george w. bush. the power social medium create distorted, avalanche public opinion happened debate best seen first contest gov. romney president obama. much\n",
            "True label:\n",
            "0\n",
            "Predicted label:\n",
            "2\n",
            "--------------------------------------------------\n",
            "Input text:\n",
            "when come understanding dispute free expression college campuses, speaker getting disinvited speech interrupted, conservative tend blame liberal professor indoctrinating student ostracizing don ’ t agree liberal viewpoints. one prominent conservative organization, turning point usa, gone far create database faculty say discriminate conservative student advance leftist propaganda classroom. ” liberals, contrast, argue concern free speech college campus overblown. also accuse conservative coopting language free speech proponent effort falsely position victims. our research indicates narrative flawed. researcher study political behavior, well strategy business. for past year, studying free expression issue university north carolina chapel hill, campus number flareups related free expression recent years. wanted look beyond single episode better understand typical student ’ s experience concerning free expression. we found student identify political right indeed face fear ostracized student identify left not. however, also found sign rightleaning student worry least much reaction peer faculty. much play silently classroom chapel hill — believe — college university throughout nation. it ’ s professor for research, sent survey 20, 343 student — entire undergraduate population chapel hill. twothousand student ( randomly selected ) offered $ 10 incentive participate survey. feature helped ensure heard representative cross section students. received 1, 087 complete responses. half respondent got $ 10 participation. for student responded, randomly chose one class schedule asked — particular class — many time semester kept sincere opinion related class worried consequence expressing it. found large liberal / conservative divide — 23 % selfidentified liberal said censored least once, 68 % selfidentified conservative so. you might presume behavior instructor blame stark difference. evidence gathered seem support view. we asked student whether course instructor encouraged participation liberal conservative alike. ” 2 % liberal student 11 % conservative disagreed instructor so. similarly, 6 % liberal 14 % conservative disagreed instructor interested learning people opinion differed instructor ’ s opinions. ” low number split small. simply one would expect narrative liberal instructor try indoctrinate student broadly true. 2019 uncchapel hill free expression survey. author provided fear peer in contrast, student reported substantially anxiety peer would respond expressing sincere political view — divide liberal conservative student larger. seventyfive percent conservative student said concerned student would lower opinion expressed sincere political view class. 26 % liberal student concern. fortythree percent conservative student concerned negative post social media. 10 % liberal student concern. pressure disproportionately affect rightleaning student evident outside classroom well. asked often student hear disrespectful, inappropriate, offensive comments ” 12 social group\n",
            "True label:\n",
            "2\n",
            "Predicted label:\n",
            "1\n",
            "--------------------------------------------------\n",
            "Input text:\n",
            "democrat congress seeking capitalize unrest teacher pay led classroom walkout handful states, offering electionyear plan roll back part last year ’ s gop tax cut boost fund schools, including higher wage educators. state local school district would get $ 50 billion decade raise teacher pay recruit educators. plan would provide another $ 50 billion school building resources, expand public school teachers ’ collective bargaining rights. the measure among series initiative democrat offering rally core voter ahead election november, every house seat ballot, along third senate seats. minority party chambers, democrat lack power bring plan vote. on monday, democrat focused controversy surrounding president donald trump allegation corruption administration, promising new ethic rule restriction campaign donation undisclosed contributors. to pay education plan, house minority leader nancy pelosi democratic leader want cancel new tax cut benefit wealthiest 1 percent americans. instead giving tax cut richest americans, give pay raise teacher country student depend succeed, ” senate majority leader chuck schumer said news conference. joining democrat leader american federation teacher national education association, key donor party candidates. the recent teacher walkout occurred important election battleground state including arizona, gop senator jeff flake retiring, west virginia, incumbent democratic senator joe manchin fighting keep seat. teacher west virginia ended nineday strike march 5 percent pay raise. state teacher demonstrated higher pay include oklahoma, kentucky colorado.\n",
            "True label:\n",
            "1\n",
            "Predicted label:\n",
            "2\n",
            "--------------------------------------------------\n",
            "Input text:\n",
            "with supreme court expected rule day whether state samesex marriage ban constitutional, hillary clinton become one country prominent politician favor marriage equality. every loving couple & family deserves recognized & treated equally law across nation. # lovemustwin # lovecantwait – h — hillary clinton ( @ hillaryclinton ) april 28, 2015 but clinton prominent support samesex marriage right part sharp shift issue past year — transformation has, many ways, mirrored american whole went time span. during 2008 campaign, clinton opposed federal samesex marriage rights, saying issue left states. take 2016 campaign, shes complete support. it pivot struggled explain, including june told nprs terry gross, think youre trying say that, know, used opposed, im favor, political reason — thats flat wrong. it easy imagine clinton, like politicians, made calculated political decision flipflop. political environment far friendlier lgbt right decade ago, all. clinton, who 67 year old, would similar million american age group changed mind nonpolitical reasons. support samesex marriage nearly tripled among american around clinton age 1996 2014, according gallup surveys. so even though clinton might find predicament — supporting policy — case samesex marriage, attitude changing belief mirror publics. there charitable version clinton evolution look lot like american public, come see issue differently genuinely evolved. i think american — lgbt — appreciate journey many folk taken issue marriage, jason rahlan, spokesperson human right campaign ( hrc ), also worked clinton state department 2008 campaign, told email. many seen within families. hillary clinton evolution match national trend even way clinton talk issue similar americans. clinton insists genuinely evolved stance — phrase president barack obama also used describe thought samesex marriage. clinton explained it, didnt grow thinking possibility samesex marriages, shifted position advocate pushed issue public spotlight forced give thought. just youre politician, doesnt mean youre thinking human being, clinton told nprs gross. gather information, think positions, youre 100 percent set … youre constantly reevaluating stand. true me. the final reevaluation came clinton officially announced support samesex marriage 2013. clinton relationship lgbt advocate always somewhat tense, least president bill clinton approved defense marriage act, effectively banned samesex marriage federal level supreme court struck part law 2013. but lgbt advocate quickly fell behind clinton announced support marriage equality. hrc president chad griffin wrote time, honored secretary clinton moving statement part american marriage equality series. left office speak publicly issue important us, hillary share experience secretary\n",
            "True label:\n",
            "0\n",
            "Predicted label:\n",
            "1\n",
            "--------------------------------------------------\n",
            "Input text:\n",
            "the americanordered drone strike killed one iran ’ s powerful military leaders, qassem soleimani, triggered retaliation iran put american troop middle east heightened alert. also brought foreign policy top news cycle. event unfold uncertain, leave analysis others expertise world affairs. instead, we ’ d like take step back use political science polling data explore question heightened tension iran could affect 2020 primary general elections. first, political science research found foreign policy doesn ’ t significantly affect people ’ s votes. isn ’ t always case. example, foreign policy impact it ’ s big part national conversation two party clearly contrasting position — two condition iran episode could meet. we don ’ t actually know much role international affair play primaries, though, it ’ s rare primary candidate experienced foreign policy. year, candidate former vice president joe biden. two recent poll say democratic primary voter trust foreign policy. according cnn, nearly half ( 48 percent ) democrat democratic leaner said thought biden could best handle foreign policy ; sen. bernie sander came second place 14 percent. poll taken immediately strike killed soleimani, huffpost / yougov found 62 percent democrat democratic leaner trust biden iran, although sander sen. elizabeth warren weren ’ t far behind, 47 percent trusting ( respondents allowed select multiple candidate trusted ). but even initial setup chessboard privilege biden, candidate move issue could also determinative. someone like sanders, critical biden ’ s vote go war iraq, could seize upper hand primary becomes question antiwar. voter likely listening closely candidate say iran next week ’ s debate, could makeorbreak moment many candidates, one theory foreign policy affect primary serf litmus test serious candidate must pass. take 2016 republican primaries, ben carson may flunked test when, coordinated terrorist attack paris november 2015, struggled articulate would combat terrorism. even adviser said publicly unprepared issue. although it ’ s impossible know exactly much hurt carson voters ’ eyes, running even nowpresident trump poll time attacks, sharply declined thereafter ceased serious threat nomination. extreme example aside, though, iran ’ s effect primary might fleeting. news cycle move on, past event touted game changers ” failed permanently change state race. remember polling bump biden ( or anyone else ) get week could wear quickly, especially conflict defuses. for iran real effect general election, would likely stay news next several months. even then, it ’ s clear effect might be. theory, might expect republican advantage election focused around national security : gop long seen better democrat protecting\n",
            "True label:\n",
            "1\n",
            "Predicted label:\n",
            "0\n",
            "--------------------------------------------------\n",
            "Input text:\n",
            "the justice department whopping 27 open investigation leak classified information political motive, ” attorney general jeff session revealed tuesday — that ’ s three time agency three year prior. the nation top law enforcement officer gave new detail active probe highly anticipated testimony house judiciary committee. leak reached epidemic proportions, ” session said. 27 ongoing investigations, involve leak president trump took office, after. ” session added : that, three per year — nine. three time many year entire three year investigated. ” rep. ron desantis, rfla., pressed session whether anyone held accountable criminally administratively ” leaking information trump administration political motive. ” session responded individual georgia ” charged. session referring former national security agency contractor reality winner, leaked classified intelligence report containing top secret level ” information. report, according justice department, contained classified defense information intelligence community agency. winner avid supporter sen. bernie sanders ’ presidential campaign. sessions : always told truth testimony ; say recall conversation carter page it cannot allowed continue best effort ensure continue, ” session said. the steppedup investigation come amid pressure white house. president trump criticized session july weak ” issues. attorney general jeff session taken weak position hillary clinton crime ( where email & dnc server ) & intel leakers! ” trump tweeted summer. following president ’ s comments, session held press conference director national intelligence dan coat calling end leaks. who reality winner? accused leaker wanted resist trump for may listening watching announcements, understand this : improperly disclose classified information, find you, ” coat said time. in july, senate homeland security governmental affair committee released report revealed trump administration facing alarming ” unprecedented ” cascade medium leak posed potential danger national security. republicanauthored report estimated administration dealt roughly one leak per day. senate report : avalanche medium leak hurting national security the report stated leak flowed seven time faster ” trump administration first 126 day obama ’ s george w. bush ’ s presidency.\n",
            "True label:\n",
            "2\n",
            "Predicted label:\n",
            "0\n",
            "--------------------------------------------------\n",
            "Input text:\n",
            "the pew research center long highlighted difficulty republican democrat getting broad agreement washington pressing issues. piece released week, pew president andrew kohut strung together graph showing american public attitude reducing deficit. aint pretty. the reluctance cut spending, support tax increases, foreshadowed reaction sweeping recommendation issued december 2010 simpsonbowles deficit commission created president obama. commission called deep cut military domestic spending, reducing ending popular tax break ( including home mortgage interest deduction ) change entitlement programs. strong resistance cut entitlement program order reduce deficit, 58 % american saying maintaining benefit trump deficit reduction, ( 35 % favor taking step reduce deficit ). nearly sixinten ( 59 % ) put higher priority avoiding future cut benefit amount avoiding social security tax increase worker employers, 32 % believing avoiding tax increase important. the good takeaway republican taking issue lot seriously nowadays. difficult believe gop promise fighting restrain government spending biggovernment year george w. bush, republican least turned saying care deficit. however, kohut notes, best comprehensive plan reducing deficit outline put forward deficit commissioner alan simpson erskine bowles meet harsh reaction american asked key proposals. people hostile equalizing tax treatment health insurance plans, theyre hostile raising medicare contributions, theyre huge fan eliminating home mortgage interest deduction either. fact, american seem amenable surprise policy amount punishing rich people. american also opposed change current structure entitlement programs. free money, turn out, quite popular. essential difficulty republican deficit reduction : people dont want give government benefits. the following pew infographic show stunning majority status quo medicare social security. entitlement reformer against. there long way go.\n",
            "True label:\n",
            "2\n",
            "Predicted label:\n",
            "1\n",
            "--------------------------------------------------\n",
            "Input text:\n",
            "first told russian hacker broken democratic national committee ’ s computer gotten hold oppo file donald trump. now someone go guccifer 2. 0, nod shadowy romanian hacker, claiming credit putting trump file there. gawker smoking gun published report yesterday. but find amusing opposition research file hardly filled secret stuff, product private eye digging dirt hiredgun sleuth poring documents. supposed treasure trove, submitted december, consists mainly published article televised segments. in words, it ’ s there. google it. reasonably sentient medium consumer would know stuff. it ’ s journalism racket call clip job. to wit : trump loyal himself. ” trump liar. ” trump proposed banning muslims. ” trump ’ s business gone bankruptcy several times. ” he devalued demeaned woman repeatedly throughout career. ” out touch / handouts wealthy expense middle class. ” wow. and sources? wall street journal, ap, politico, washington post, forbes, etc. trump, part, isn ’ t buying dnc explanation work nefarious outside hacker. much false and / or entirely inaccurate, ” say statement. believe dnc ‘ hacking ’ way distract many issue facing deeply flawed candidate failed party leader. bad dnc doesn ’ t hack crooked hillary ’ s 33, 000 missing emails. ” now sound farfetched well. nothing new here, one absorb 200 page once. dribble attacks, package talking points, put attack ads, rather create bogus hacking story dump there? dress narrative release report? what here, whether done guccifer 2. 0 whoever, 21stcentury watergate. instead burglar breaking dnc headquarters, crime led downfall richard nixon ’ s presidency, cyberwarfare dnc computers, aimed de facto republican nominee, winding nowbankrupt, sextapepublishing gawker rather washington post. simply vacuuming negative material candidate doesn ’ t work today ’ s cluttered medium environment. trump awash negative medium report since got race one year ago. trick getting traction packaging stuff way sticks — as democrat successfully mitt romney, republican john kerry. instead, oppo file become news — in fleeting way guarantee quickly become nonnews.\n",
            "True label:\n",
            "2\n",
            "Predicted label:\n",
            "0\n",
            "--------------------------------------------------\n",
            "Input text:\n",
            "mamie cosey others living near downstate sauget, tiny, industrial town bank mississippi river near east st. louis, wondered year poison could smell spewing three smokestack wasteincinerator plant. two day president barack obama left office, federal environmental protection agency ordered stack continuously monitored arsenic, lead, mercury harmful metal 78yearold cosey blame health problem three greatgrandchildren. it victory environmental group took decade secure. but french owner veolia north america plant, fought daily monitoring restrictive unreliable, knew obama ’ s epa wouldn ’ t last word. president donald trump ’ s epa would. two month trump presidency, plant manager company ’ s lobbyist — former illinois congressman — traveled washington meet new president ’ s embattled choice head agency, scott pruitt. day later, company lawyer emailed federal epa staff chicago pruitt stepping process. administrator pruitt currently reviewing next step veolia ’ s permitting process, ” veolia lawyer joseph kellmeyer wrote march 31, 2017. certain party involved wish proceed manner inconsistent administrator pruitt ’ s desires. ” this past june, epa issued final revised ” permit, eliminating mandated monitoring guideline plant, leaving cosey neighbor mostly poor, largely african american community angry frustrated. i can ’ t hardly breathe, ” say cosey, take care three greatgrandchildren say suffer asthma, sinus infection headaches. government require monitor ludicrous. ” it one string decision trump administration cut staff relax reverse environmental regulation policy throughout midwest, better government association investigation found. since trump took office, 150 fewer scientists, technician employee working epa ’ s chicago region 5, covering illinois, wisconsin, indiana, michigan, minnesota ohio, according epa figure provided american federation government employee local 704 chicago, epa employees ’ union. 945 employee region 5 year compare 995 position authorized congress, according figure provided union epa. the number inspection chicago office plummeted 60 %, inspection throughout rest nation declined 30 %. pattern true enforcement action aimed getting polluter change action fines, cleanup mitigation agreements. the impact isn ’ t felt town east st. louis cahokia, affected air quality sauget ( pronounced sawzhay ). chicago area, illinois ’ two u. s. senator called investigation whether politics played part curtailing epa test cancercausing gas three suburban medicalequipment sterilization plants. minnesota, copper nickel mine allowed discharge wastewater even though epa staffer warned threatens waterway flow st. louis river lake superior.\n",
            "True label:\n",
            "0\n",
            "Predicted label:\n",
            "1\n",
            "--------------------------------------------------\n",
            "Input text:\n",
            "i struggle volume coverage that ’ s produced every time republican announces, even teases, primary challenge president trump. one hand, notable former illinois rep. joe walsh threw hat ring week, former trump supporter stature ( after leaving congress, became nationally syndicated radio host ). other, covering walsh ilk serious candidate implies trump actually vulnerable primary challenge, and, well … he ’ s not. there plenty reason primary challenge trump probably fall flat. starters, serious primary challenge fairly rare ; last sitting president denied renomination chester arthur 1884. ( yes, lyndon johnson, retired could properly lose nomination — although primary challenger probably something decision. ) putting aside, however, biggest thing trump going extremely popular among republican — that ’ s true virtually every poll. example, 88 percent gop approves job performance latest gallup poll. ( true, trump approval isn ’ t quite high among voter merely lean republican, even poll incorporate leaner still give overwhelming intraparty support — 82 percent one recent poll. ) according cnn analysis december, president last 70 year beloved among member party ( as measured new hampshire primary ) dwight eisenhower 1956. important president faced muscular primary challenge modern primary era 75 percent approval member party : gerald ford 1976, jimmy carter 1980 george h. w. bush 1992. yes, three went lose general election. say primary challenge caused losses ; could weak incumbent draw primary challengers. trump currently weak among member party ( although unpopular overall ), it ’ s unclear primary challenge foreshadow result. finally, headtohead poll republican primary give trump massive lead primary challengers. lead former massachusetts gov. bill weld, first notable candidate jump race, anywhere 60 85 points, even lead highprofile hypothetical challenger like utah sen. mitt romney former ambassador united nation nikki haley 80 points. but stubborn fact don ’ t appear deterring challenger — though it ’ s probably coincidence might run former politician current office lose. addition walsh weld, former south carolina rep. mark sanford considering jumping in. beating trump may real goal ( sanford, example, acknowledged would close impossible ) ; instead, may simply hoping spur conversation party ’ s direction. earlier year, colleague geoffrey skelley devised scale rating success ” presidential primary challenger front, 1 ( noname candidates ) 5 — ( asyet hypothetical ) candidate manages successfully topple sitting president. right now, would think walsh, weld potentially sanford somewhere level 1 2. known commodity could put together professional campaign apparatus, seems unlikely attract much support pat buchanan bush 1992, model level 2 primary challenge. but\n",
            "True label:\n",
            "1\n",
            "Predicted label:\n",
            "0\n",
            "--------------------------------------------------\n",
            "Input text:\n",
            "today, treasury department finally released muchpromised analysis tax plan. turn out, can ’ t deliver promised. for month now, top leader trump administration promising produce dynamic economic analysis show growthboosting power tax plan impressive negate revenue loss. report — published agency overseen trump appointee using method republican say favor — found assume large number additional policy change get growth they ’ ve promised. dozen republican senator member congress profess believe analysis somewhere, justifies decision ignore joint committee taxation finding plan would, fact, add somewhere $ 1 $ 1. 5 trillion deficit. instead dynamic analysis showing tax plan would boost annual economic growth 0. 7 percentage point need, analysis claiming passed tax plan bunch stuff get growth ( emphasis added ) : [ office tax policy ] compared 2. 9 % gdp growth scenario baseline previous projection 2. 2 % gdp growth. treasury expects approximately half 0. 7 % increase growth come change corporate taxation. expect half come change passthrough taxation individual tax reform, well combination regulatory reform, infrastructure development, welfare reform proposed administration ’ s fiscal year 2018 budget. two point this. one budget proposal question involved draconian spending cut huge range program — everything appalachian regional commission meal wheel nutritional assistance lowincome pregnant woman get axe. want dynamically ” score growth benefit kind thing, also ought dynamically update distributional accounts. treasury basically saying pay corporate tax cut taking money away needy, gdp grow. at margin, that ’ s probably true. economic benefit pregnant woman able eat healthy food going show within 10year scoring window. providing meal homebound sick, elderly, disabled people probably doesn ’ t generate economic growth all. mileage may vary whether right way think policy. the second point even house republican pronounced trump ’ s budget proposal dead arrival released it. budget resolution congressional republican passed look totally different trump ’ s proposal, negotiation appropriation bill envision trump ’ s proposal enacted. the administration ’ s analysis claims, basically, tax cut would pay paired bunch idea congress already rejected. so there ’ s story. jct treasury are, point, run republican using method republican say favor. according methods, tax plan achieve tax plan ’ s political advocate say achieve. other, skeptical methods, thing look even worse.\n",
            "True label:\n",
            "0\n",
            "Predicted label:\n",
            "2\n",
            "--------------------------------------------------\n",
            "Input text:\n",
            "in year supposed angry electorate, million frustrated voter put weight behind outsider presidential campaign donald trump bernie sander continue back congressional incumbent ousting one far hundred 2016 primary contests. the lone victim pennsylvania democratic rep. chaka fattah, ouster appeared questionable ethic frustration washington insiders. 11term congressman facing 29count federal indictment related racketeering, bribery mail fraud. the year outside candidate neat, tidy package put medium certain extent, ” david payne, republican strategist partner vox global, said week. it ’ s part story. look insider picking 60 percent vote. ” payne argues house district carefully constructed ” state party official others remain stable ” primary race competitive. to sure, member congress rarely lose primary race, incumbent ( typically ) face challenge candidate political party. over past three election cycles, 17 congressional incumbent ousted primary four house member 2014, five house member one senator 2012, four house member three senator socalled 2010 tea party revolution. with claim many seven upset 2010 primaries, conservative, grassroots tea party movement likely success 2016 electorate ousting incumbents. the 2010 defeat threeterm utah gop sen. bob bennet, reliable conservative, tea partybacked mike lee indeed rattled political class. but race seems stick voter others 2014 upset house majority leader rep. eric cantor. virginia republican member house leadership stunningly upset year dave brat, firsttime candidate tea party support. the postscript race suggests cantor paid little attention district. but beyond getting ousted socalled ideological purity, ” capitol hill lawmaker also often lose primary amid ethic scandal, result redistricting ( include eight 2012 ), accidental candidates ” get elected when, example, party ’ s top candidate unexpectedly drop out. this year, trump, billionaire businessman firsttime candidate, beat dozen republican lawmaker former elected official become party ’ s presumptive presidential nominee. and sanders, selfdescribe democratic socialist, kept insurgent campaign alive democratic primary portraying frontrunner hillary clinton washington wall street insider. louis jacobson columnist magazine governing ” senior correspondent tampa bay times ’ politifact ” suggested friday angry electorate indeed exists, big personalities ” national stage appear capable getting voter riled polling stations. i ’ m seeing whole lot it ” gubernatorial statelevel races, jacobson said. he argued congressional district become blue red year it ’ s nearly impossible challenger conservative liberal sitting house member. suggested congress appears amorphous ” among voters, tend know presidential candidate, result targeted anger. such theory might help explain hill lawmaker continue win 2016 primary despite historically\n",
            "True label:\n",
            "2\n",
            "Predicted label:\n",
            "0\n",
            "--------------------------------------------------\n",
            "Input text:\n",
            "the resignation week columnist bari wei opinion section new york time came form scalding letter times ’ s publisher burn allow inside bubbles. wrote devalue work nicholas kristof bret stephen writer remain pages. but, combined absurd hysteria surrounding oped last month sen. tom cotton ( rark. ), paper ’ s crisis — shrinking bubble — fully revealed. limited worldview wei described inside newspaper asphyxiate everyone left behind poison source intellectual nourishment. ad ad i see relentless bubble always — always — captured actor patrick mcgoohan late ‘ 60s british tv show prisoner. ” could never escape it. realworld counterpart confirmation bias consuming new york times ’ opinion pages. the closing american left ’ s mind advanced far beyond condition allan bloom described closing american mind, ” 1987 book rise moral relativism u. s. college universities. true right well. intellectual curiosity worlds, worldviews, low ebb. so seek bubblebreakers. president trump supporter want run argument cannot dismiss treat reflexive contempt? pick eddie glaude jr. ’ s new book, begin again : james baldwin ’ s america urgent lesson own. ” ad ad my enthusiasm glaude ’ s book came interview week, agree trump — don ’ t — work obliged respond. expanded bubble. helps, course, glaude elegant writer superb scholar, power book ability teach willing reader experience black america year since baldwin began writing late 1940s. it ’ s stunning anyone lived overwhelmingly anglo world. the left need make journey well. read lot religious faith, christianity, especially roman catholicism. one catholicism ’ s greatest explainers today george weigel. new book, next pope : office peter church mission, ” may impact reader know nothing catholicism glaude ’ s book me. point being : column page pointed two different, deep well serious person want drink. online source reading cable news channel watching don ’ t surprise least nudge you, failing you. ad ad bubble bad. often suggest deep learning lifelong commitment. subject matter politics. charles krauthammer wrote, politics... sovereign. ” correct. politics cannot conducted blinker firmly affixed. watch latest opinion video :\n",
            "True label:\n",
            "0\n",
            "Predicted label:\n",
            "2\n",
            "--------------------------------------------------\n",
            "Input text:\n",
            "a popular meme describing monotonous routine coronavirusinduced homestays repeat dolly parton ’ s 9 5 ” intro : tumble bed stumble kitchen... tumble bed stumble kitchen... tumble bed stumble kitchen. ” food american mind ten million coop home prevent spread covid19. restaurant closed except takeout. grocery stores, deemed essential businesses, open, empty shelf show evidence panic buying across country. news outlet compiled list store open operating hours, clarifying reinforcing fundamental concern : grocery store close coronavirus pandemic? more existentially terrifying, perhaps : food supply chain break entirely? some store begun closing, despite essential businesses. trader joe ’ s least temporarily shuttered store staffer tested positive coronavirus. supermarket clerk begun succumb virus italy, u. s. store taken installing protective barrier shopper cashiers. entire government also hoarded food : kazakhstan banned international sale wheat flour, one world ’ s largest exporters, serbia instituted similar measures. meanwhile, propublica reported saturday, disturbing sign meatindustry worker feeling pressured stay job despite illness, food safety inspector new york recently succumbed coronavirus. but least now, panicked shopper bare shelf speak le lack food shifting demand lagging logistics, expert told daily beast. restaurant needed far le food closed ; individual people family decided needed far faced week home. food inventory actually high, according government data. the empty shelf largely matter moving it. it ’ s severalweeks process. supply chain take time catch up, ” said professor yossi sheffi, director mit center transportation logistics. even wuhan, china, pandemic began, resident faced localized food scarcity peak covid ’ s rage there. courier delivered food supply even faced concerted lockdown. in lighthearted sign shortage nowhere near disasterlevel, american shopper still choice leave behind whole shelf plantbased hot dog perhaps le desirable item even pick staple clean. the timestamp picture like always evening. overnight, restocked, ” sheffi said. may get favorite cereal, you ’ ll get cereal. ” his take echoed assurance government officials. there currently nationwide shortage food, despite localized report shortages, ” deputy fda commissioner frank yiannas wrote guideline published tuesday. food production manufacturing — for people animals — are dispersed throughout u. s. currently widespread disruption reported supply chain. ” sheffi said he ’ s focusing attention medical supply chain. dire shortage protective equipment led healthcare worker exposed become sick droves, he ’ s advising hospital company best way manage\n",
            "True label:\n",
            "0\n",
            "Predicted label:\n",
            "2\n",
            "--------------------------------------------------\n",
            "Input text:\n",
            "after monthslong struggle filled roadblocks, delay uturns, congress passed measure friday fund federal highway, transit rail program next two year package included provision prevent federally subsidized student loan rate doubling. the bill, provides $ 100 billion federal transportation project september 2014, also merged measure keep subsidy intact federal college student loan flood insurance programs. about 80 percent transportation money go federal highway programs, rest reserved mass transit. the package easily passed chamber bipartisan support — 37352 house 7419 senate — sent president obama, expected sign bill. house transportation infrastructure committee chairman john l. mica said measure usher historic reforms ” cutting red tape consolidating eliminating almost 70 federal programs. the unprecedented reform transportation bill streamline lengthy projectapproval process, consolidate eliminate federal program ensure state flexibility direct limited resource highpriority needs, ” florida republican said. the measure stalled month house republican week gave demand socalled highway bill ” include provision proposed keystone xl pipeline, would bring oil alberta, canada, steele city, neb. president obama january rejected previous bid pipeline ground time needed vet alternative routes. keystone strong support business labor group sparked backlash environmentalist property right advocates. republican pushed hard pipeline, saying would create thousand job foster greater domestic energy independence. democrat adamant leaving measure, saying unrelated transportation issues. democrat return gave certain environmental restriction streamline review new highway project seven year 15 years. also dropped call program fund bike paths, pedestrian safety project roadway beautification efforts. the bill retains 18. 4 cent per gallon federal tax gasoline 24. 4 cent per gallon diesel fuel. highway bills, often run five years, typically move congress without great controversy. march, twoyear, $ 109 billion version sailed senate broad bipartisan support. but effort renew surface transportation funding sputtered winter house, republican rejected leadership ’ s fiveyear, $ 260 billion version measure could even get floor vote. funding surface transportation project expire end march congress passed threemonth extension. pressure lawmaker reach compromise intensified recent week federal transportation funding set expire sunday. member party eager avoid politically precarious shutdown highway project — loss construction jobs. sen. barbara boxer, california democrat cowrote initial senate transportation bill sen. james m. inhofe, oklahoma republican, said measure would save create almost 3 million jobs. i couldn ’ t proud overwhelming vote today, ” said. the package ’ s student loan component call maintaining current 3. 4 percent interest rate federally subsidized stafford loan another year. rate would ’ ve doubled sunday unless congress acted.\n",
            "True label:\n",
            "2\n",
            "Predicted label:\n",
            "0\n",
            "--------------------------------------------------\n",
            "Input text:\n",
            "the runaway success khan academy, launched 2008, showed potential online learning revolutionize k12 education. meant great classroom lecture could experienced anyone, anywhere. year, legendary business consultant academic clayton christensen — who passed away last week age 67 — coauthored disrupting class : disruptive innovation change way world learns, applying famous theory k12 education. when used disruptively, software could solve problem student learning different speeds. christensen coauthor wanted flip structure classroom make studentcentric. student would watch online course given world best instructors. educational apps would gamify learning, help track progress, personalize content. teacher could use classroom time help student tackle bigger, conceptual problems. christensen coauthor predicted 2018, half high school class would delivered online. dismissed objection government bureaucracy teacher union would stand way rapid change. 12 year later, classroom mostly look like always have. what went wrong? i would say big lesson ive had, im disappointed, take long time youre trying overthrow literally century policy practice around current school system, say michael horn, one christensens coauthor harvard mba specializes education technology. sudden come along say, wait second, right way. emily raskin, high school math teacher washington, d. c., say idea flipped classroom ignores reality student behavior. i think look next big thing seems great adults, assume going thing kids, says. assign [ students ] watch video … if really interested, kind zone out, come school next day really believing watched video. were christensen horn guilty, saying goes, mistaking clear view future short distance, fundamentally wrong? current classroom model may survive long time come — at least software get better approximating studentteacher interactions. and change come, chance look nothing like imagined. written, shot, produced olivier ballou ; narrated nick gillespie. reason celebrating national school choice week. story part series published course week highlighting different k12 education option available child families.\n",
            "True label:\n",
            "2\n",
            "Predicted label:\n",
            "0\n",
            "--------------------------------------------------\n",
            "Input text:\n",
            "robert spencer — controversial author founder blog jihad watch — spoke tuesday stanford university invitation university college republicans. event proceeded relatively peacefully, minimal disruption. but many believed stanford never allowed spencer speak first place, including group stanford faculty student published open letter urging university block spencer talk. the argument letter author fully support principle academic freedom allows u disagree issues, spencer view islam debatable fundamentally dehumanizing. whenever claim made identity group inherently le worthy full personhood — whether claim made people muslim, rohingya, jewish, black, trans gender nonconforming, bosnian, queer, immigrants, mexican, etc. — always unacceptable. this quickly become one common, insidious, dangerously slipperyslope argument free speech college campus beyond. let set aside moment even truly dehumanizing speech protected first amendment. ( although stanford public university, california leonard law applies protection first amendment nonsectarian private schools. ) reality campus debate controversial issue will, proponent viewpoint, unjustly demean value someone identity. consider student university florida earlier week vandalized promotional material upcoming prolife event campus put university young american freedom. facebook message bragging vandalism, one student wrote : poured water lovely creation insult entire major life experiences! to others, opposing view immigration policy attack humanity undocumented immigrants. nyu professor provost ulrich baer wrote last spring new york times, [ s ] ome topics, claim human being definition inferior others, illegal unworthy legal standing, open debate people cannot debate terms. meanwhile, laura kipnis — feminist northwestern professor twice investigated northwestern title ix violation criticism campus sexual politics — spoke wellesley college, faculty school commission ethnicity, race, equity issued statement calling change outside speaker policy. speaker like kipnis, statement said, require student invest time energy rebutting speaker arguments … order affirm humanity. when heather mac donald, vocal critic black life matter movement, spoke last spring claremont mckenna college, violent protester attempted shut event, forcing manhattan institute fellow give talk via livestream. three student nearby pomona college issued statement saying [ t ] he idea search truth involves entertaining heather mac donalds hate speech illogical. engaged, heather mac donald would debating mere difference opinion, right black people exist. and forget reaction yale student erika christakiss thoughtfully worded email, october 2015, questioning whether institution higher education police halloween costume adult college students? student blasted christakis husband, nicholas, failing create safe space them, despite reputation nurturing residence mentors. one article describing world shaken christakiss offensive email, yale student wrote\n",
            "True label:\n",
            "2\n",
            "Predicted label:\n",
            "0\n",
            "--------------------------------------------------\n",
            "Input text:\n",
            "george w. bush support reelection donald trump, according people familiar thinking, new york time reported saturday. the paper said former president texas governor wont vote trump reelection brother, former florida gov. jeb bush, isnt sure hell vote. paper spotlight several member republican party dissenting party lines, though bush prominent texas politician mentioned. freddy ford, spokesman bush, told texas tribune bush would steer clear speaking publicly presidential vote called new york time assertion false. this completely made up, ford said email. retired presidential politics indicated vote. it unclear whether bush instead voting joe biden, trump democratic rival. bush brother — parents, former president george h. w. bush first lady barbara bush — said 2016 didn ’ t vote trump. trump endorsed jeb ’ s son, george p. bush, ran reelection texas land commissioner 2018. 2014, jeb bush ran president ( a race lost trump ), george p. told texas tribune ’ s evan smith wouldn ’ t endorse father. the paper said u. s. sen. mitt romney wont endorse president, cindy mccain, widow u. s. sen. john mccain. military leader sharing misgivings, too. william mcraven, former university texas system chancellor retired navy admiral, vocally dismissive trump past. told time trump isnt qualified office. president trump shown doesn ’ t quality necessary good commander chief, ” said. texas sen. ted cruz also highlighted unwavering supporter ” trump.\n",
            "True label:\n",
            "0\n",
            "Predicted label:\n",
            "2\n",
            "--------------------------------------------------\n",
            "Input text:\n",
            "what voter want? check donald trump. came loud clear last week nbc / wall street journal poll. republican reinforcing exactly useless voter thought — standing silently trump shred transatlantic alliance helped keep u. s. safe half century. but trump called summit host, canadian prime minister justin trudeau, weak fit pique, trump trade adviser peter navarro asserted there special place hell trudeau, trump national security adviser john bolton tweeted country expect america always bank, ” congressional republican remained almost universally silent threat represents u. s. national security world order. outside arizona sen. john mccain rebuking trump twitter, serious criticism trump ’ s postsummit tirade left almost exclusively democrats. house minority leader nancy pelosi ( dcalif. ) senate minority leader chuck schumer ( dn. y. ) sounded genuinely appalled ; phonypolitical appalled, real. pelosi tweeted, week started @ realdonaldtrump boosting chinese company identified national security threat u. s. ended standing russia alienating ally g7. ” good measure, added, obvious disdain, trump ’ s maga ” hashtag. schumer echoed sense amazement. tweeted : executing putin ’ s diplomatic national security strategy america ’ s diplomatic national security strategy? last days, it ’ s hard tell. ” noting trump putin bidding good obvious place start. democrat need move directly criticizing congressional republican treating collapse western alliance spectator sport. control congress ; it ’ s responsibility put check pr * sident who ’ s endangering national security ; they ’ re one ballot november.\n",
            "True label:\n",
            "0\n",
            "Predicted label:\n",
            "2\n",
            "--------------------------------------------------\n",
            "Input text:\n",
            "after cardin rejected measure, called mcconnells move pas funding political stunt. pushed provision including money small business administration disaster assistance grant people already banking relationship receive aid. speaking senate floor, mcconnell said talking changing policy language party negotiated last month part unprecedented $ 2 trillion emergency spending package. urged democrat block emergency aid even oppose want something — tweak small business aid program emergency funding hospital states, proposal democratic leader outlined wednesday. with senator capitol, senate majority leader mitch mcconnell tried approve measure unanimous vote. sen. ben cardin, dmd., objected request, stalling legislation. senate democrat thursday blocked republican push unanimously pas bill put $ 250 billion loan program small business devastated coronavirus pandemic. u. s. senate majority leader mitch mcconnell ( rky ) leaf night day effort wrap work coronavirus economic aid legislation prevent spread coronavirus disease ( covid19 ) washington, u. s., march 21, 2020. sen. chris van hollen, dmd., tried unanimously pas democratic amendment. mcconnell blocked it, senate adjourned monday roughly 30minute pro forma session. also see : coronavirus development thursday. it unclear republican democrat try reach agreement emergency legislation pas coming days. house speaker nancy pelosi indicated could try pas democratic bill friday — republican likely block representative washington. speaking reporter thursday, pelosi said treasury secretary steven mnuchin called tuesday asked quarter trillion dollar 48 hours, data justify needed. echoed cardin calling mcconnells move stunt. let negotiate timing, amount rest, pelosi said emergency aid. the kentucky republican said thursday small business aid part $ 2 trillion rescue law risk exhausting funding right now. the trump administration cited strong demand loan week asked congress money program, designed help small business keep employee payroll. lawmaker initially approved $ 350 billion loans. forgiven partly fully company use expense payroll, rent utilities. on wednesday, pelosi senate minority leader chuck schumer asked emergency bill include $ 250 billion hospitals, health systems, state local government food assistance programs, top money small companies. however, pelosi said wanted $ 125 billion existing program specifically, another $ 125 billion communitybased lender sba disaster assistance loan grants. the democrat said wanted bill separate another package hope pas extend major provision $ 2 trillion emergency measure, direct payment individuals, enhanced unemployment insurance state grants. after small business loan program started friday, report emerged confusion around applications, loan term eligibility. democrat also said worried left rural business owners, farmer small firm already work bank participating program. mcconnell contended democrat need\n",
            "True label:\n",
            "1\n",
            "Predicted label:\n",
            "2\n",
            "--------------------------------------------------\n",
            "Input text:\n",
            "on sunday, kind news one want see slid across landscape. shooting church white settlement outside fort worth, casualties. delved details, admit feeling first sense relief loss life larger — two innocent life lost along assailant — sense gratitude. our gratitude, also felt gov. greg abbott, come knowledge mass shooter would likely incurred lot mayhem except fact good man volunteer member church ’ s security team immediately shot back. response era mass shooting in, texas specifically enacted law allow lawabiding citizen carry concealed weapon church ( and elsewhere, unless specifically prohibited location ). law saved life weekend north texas. regardless whether people like fact, remains true least two church shooting texas recent year ended lawabiding citizen mean willingness fight back. second occurred two year ago sutherland springs, unfortunately resulted loss many lives. recent shooting, incident assailant survive good men responded force. the truth isn ’ t one solution bring end mass attacks, one reason we ’ ve supported thing creating federal center evaluate local, state federal law find crack violent criminal exploit obtain firearms. also true part set solution involve enabling innocent people protect including fighting back. if that ’ s tough consider, another hard reality cast sharp relief latest shooting. many incident — whether it ’ s knifewielding attacker jewish community new york synagogue, church, mosque shooting — attack north texas assault community, group people freely associating working toward common purpose. these attack pernicious act particular purpose destroy communities. seek kill individual lives. seek kill social bond bind u together. seek divide isolate, leave survivor feeling alone unsafe common space. important u stand together defense hateful, divisive evil purpose. civil society that ’ s attack.\n",
            "True label:\n",
            "1\n",
            "Predicted label:\n",
            "0\n",
            "--------------------------------------------------\n",
            "Input text:\n",
            "despite looming criminal investigation, former deputy fbi director andrew mccabe quietly shopping book. the daily beast confirm past several weeks, mccabe rep calling meeting publisher discus printing book telling side story amid yearlong dispute president trump. potential deal first reported new york times. although time reported mccabe received offer multiple publisher reached agreement one, two publishing industry source told daily beast book ’ s future could potentially complicated possible criminal probe. the u. s. department justice thursday referred mccabe u. s. attorney possible criminal charge related inspector general ’ s finding repeatedly misled ” investigator fbi leak bureau ’ s probe clinton foundation. but mccabe proceed book, he ’ ll plenty source material work with. like former boss, ousted fbi director james comey, mccabe took copious note interaction trump, publicly accused exdeputy political bias covering alleged internal corruption. the agreement would come heel slew successful controversial political book 2016 election massive repercussions. comey ’ s book higher loyalty, hillary clinton ’ s book happened, former dnc chair donna brazile ’ s book hack rocketed new york times ’ bestseller list past year. and given potentially conflicting account mccabe ’ s conduct, book former fbi deputy could pit account former bos comey. during interview cnn thursday, comey said could become witness criminal case mccabe. given ig report reflects interaction andy mccabe senior executives, could well witness, ” exdirector said. in tweet interview, trump seemed relish conflict two former top officials. james comey threw andrew mccabe ‘ under bus. ’ inspector general ’ s report mccabe disaster them! getting little ( lot ) medicine? ” wrote.\n",
            "True label:\n",
            "0\n",
            "Predicted label:\n",
            "2\n",
            "--------------------------------------------------\n",
            "Input text:\n",
            "the investigation benghazi attack ploy damage hillary clinton possible 2016 presidential candidate, leading republican said sunday. hillary clinton target, house oversight government reform committee chairman darrell issa, rcalif., said nbcs meet press. president obama target. issa, whose panel probing sept. 11, 2012, assault diplomatic outpost left four american dead, said interagency process modifying talking point wake attack scrubbed fact incident terrorist attack getgo. the american people effectively lied period month, charged. thats important get right. issa charged sunday u. s. ambassador thomas pickering led independent review attack behalf state department refused testify hearing last week. pickering flatly denied unwilling appear. i said day hearing willing appear, come hearing [ issa ] excluded from, pickering told nbcs david gregory. told majority said welcome hearing ; could come time. issa said unaware pickerings late notice added private deposition intends formally request monday ambassador appropriate way begin inquiry. fact dont want sort stage show, issa said. republican relentless questioning administration response attack, leaked document revealing last week official state department suggested edits talking point erased reference terrorist groups. while hillary clinton stated publicly involved editing process, criticism former secretary state muchdiscussed possible presidential candidate strong subtext benghazi debate. senate intelligence committee chairwoman dianne feinstein, dcalif., said meet press ” issas panel deliberately put clinton ambition crosshairs. my concern hillary clinton name mentioned 32 time hearing, point hearing discredit secretary state, high popularity may well candidate president, feinstein said. meanwhile, national republican congressional committee using benghazi issue raise money, washington post reported. going obama benghazi. help u fight now, ” proclaims page nrcc site. on new fundraising page, committee asks donation keep fight, declaring coverup ” using picture obama clinton. the page implores supporter demand answers. ” on cbc ’ s face nation ” sunday, former secretary defense robert gate forcefully defended obama administration ’ s action benghazi, saying critic cartoonish impression military capability military forces. gates, republican holdover bush administration stayed two year obamas first term, repeatedly declined criticize policymakers responded attack left four american dead, including ambassador chris stevens. frankly, job time, think decision would were, said gates, chancellor college william mary virginia. we dont ready force standing middle east, getting somebody timely way would difficult, impossible, said. suggestion could flown fighter jet attacker scare noise something, gate said, ignored number surface air missile disappeared gadhafis\n",
            "True label:\n",
            "1\n",
            "Predicted label:\n",
            "2\n",
            "--------------------------------------------------\n",
            "Input text:\n",
            "the justice department inspector general referred finding report former fbi deputy director andrew mccabe federal prosecutor washington possible criminal investigation. washington post writes : the referral d. c. u. s. attorney ’ s office occurred time ago, inspector general concluded mccabe lied investigator boss, thenfbi director james b. comey, four occasions, three oath. [... ] referral raise least possibility mccabe could charged jailed alleged misconduct — perhaps comey testifying witness him. referral federal prosecutors, though, necessarily mean mccabe charged crime. michael r. bromwich, mccabe ’ s lawyer, said statement : advised referral within past weeks. [... ] confident that, unless inappropriate pressure high level administration, u. s. attorney ’ s office conclude decline prosecute. ” the inspector general report — which attorney general jeff session used basis firing mccabe last month — was originally leaked ( rather officially released ) almost soon completed. likewise, news mccabes criminal referral also leaked thursday, though referral made week ago maybe even longer. someone sure eager make sure public know mccabes woes. the ig report specifically charged mccabe lacked candor ” internal investigator agency concluded wasn ’ t authorized disclose reporter existence investigation clinton foundation. on msnbc thursday, former fbi assistant director frank figliuzzi called criminal referral matter unprecedented. if indeed true, charge thats referred recommended lack candor internal inquiry, cannot recall ever happening 25year fbi career, figliuzzi said. remedy termination, criminal referral. so, im troubled reporting correct.... ill go far say unprecedented make criminal referral lacking candor internal inquiry. figliuzzi added approving unauthorized leak something could rise level criminal referral.\n",
            "True label:\n",
            "0\n",
            "Predicted label:\n",
            "2\n",
            "--------------------------------------------------\n",
            "Input text:\n",
            "one persistent claim donald trump ’ s rise it ’ s response economic anxiety struggle among white workingclass americans. this comforting notion, particularly left. suggests large number american drawn racist demagogue he ’ s racist demagogue, failure modern capitalism. also implies voter could robust leftwing economic agenda addressed plight. but there ’ s also plenty data suggesting isn ’ t satisfying explanation. trump ’ s rise always seemed closely related prejudice economics. analysis survey shown consistently racial resentment correlate strongly trump support one ’ s income degree pessimism economy. now, gallup ’ s jonathan rothwell ( via washington post ) offered particularly detailed argument there ’ s lot pure economic anxiety work here. gallup regular survey offered rothwell large dataset 87, 428 american told pollster whether held favorable unfavorable view donald trump. sample size let drill geographically, analyzing support trump regional local level — even, questions, individual zip codes. he linked geographic information data decline manufacturing, affected area rise chinese imports, intergenerational mobility, racial segregation, white mortality rates. that let test factor explanation trump. trump support correlated area affected globalization, many commentator suggested? check chinese import data. trump support coincide increased death rate white middleaged women, increase chronicled princeton economist anne case angus deaton? check health data. trump base poor white — way complicated that what rothwell found revelatory, say least. find individual struggling economically likely support trump, people living area suffered loss manufacturing jobs, influx immigration, competition china. contrast, people area white struggling healthwise, term intergenerational mobility ( and area racially segregated ), seem likely back trump. trump supporter richer, poorer, average : one thing, rothwell found across overall population among whites, support trump correlated higher income, lower. that ’ s surprising ; lowincome people always preferred democrats. definitely contradicts image trump spokesman economically struggling. rothwell also found trump supporter likelier unemployed left workforce. problem men dropping labor force doesn ’ t seem factor behind trump ’ s rise. the individual data suggest view trump favorably confronting abnormally high economic distress, conventional measure employment income, concludes. nonetheless, trump supporter tend bluecollar le educated : hand, rothwell also find trump supporter likely work bluecollar field le education. fact, however, sits uneasily trump ’ s greater support among wealthy lower support among poor, suggests sweet spot lesseducated people bluecollar field nonetheless pretty well economically. trump well racially segregated areas : turning geographic data, rothwell\n",
            "True label:\n",
            "0\n",
            "Predicted label:\n",
            "2\n",
            "--------------------------------------------------\n",
            "Input text:\n",
            "sign get new weekly column newsletter. looking back strongest, smartest opinion take week cnn outlets. one house democrat impeachment president donald trump withholding aid ukraine, allegedly political gain. republican sofar solid defense president. those train collision course head u senate, constitution requires trial — its shape yet unknown — to determine whether trump removed office. but there one certain takeaway week : wednesday donald trump became third president impeached 230 year since george washington first elected. the vote impeach donald trump partisan predictable, wrote historian jeremi suri, watched 10 hour debate house. still mattered enormously setting grave, vote impeachment rare. on surface, democrat republican describing two different realities, speaking past other, suri noted. democrat diagnosed lawless, corrupt, lying president. republican recounted president tried lead, opponent undermined him, time again. one side narrated trump villainy ; side lamented trump victimhood. avlon added, issue. president admitted extended request investigate ( joe ) biden chinese. part pattern weve seen president... if opposed impeachment case, saying future president able abuse unique power office personal political gain. recipe disaster democratic republic. presidential freakout? president trump, already tweeting record pace recent days, sent remarkable sixpage letter speaker nancy pelosi vote impeachment, then, house approved abuseofpower obstructionofcongress articles, gave longestever rally speech, denouncing democrat crowd michigan. dean obeidallah. trump called lot things, even secure u president would unnerved prospect political demise 67 vote away, wrote. trump called lot things, secure one them. get free weekly newsletter sign cnn opinion new newsletter. join u twitter facebook frida ghitis. salem witch trial gave due process accused, absurdly claimed, though refused participate impeachment process democrat invited so. claim drew exasperated rebuke mayor salem, noted 1692 trial targeted powerless, innocent victim woman died horrific deaths. letter pelosi? trump, world powerful man, undoubtedly one luckiest, continued drench thick, sticky coat selfpity, wrote. salem witch trial gave due process accused, absurdly claimed, though refused participate impeachment process democrat invited so. claim drew exasperated rebuke mayor salem, noted 1692 trial targeted powerless, innocent victim woman died horrific deaths. paul begala called letter trump governing philosophy distilled wrote, wannabe autocrat, made goal clear : remake america remade republican party turning onceproud, strong party gaggle sycopha\n",
            "True label:\n",
            "0\n",
            "Predicted label:\n",
            "1\n",
            "--------------------------------------------------\n",
            "Input text:\n",
            "in january 2018, u. s. embassy beijing took unusual step repeatedly sending u. s. science diplomat wuhan institute virology ( wiv ), 2015 become china ’ s first laboratory achieve highest level international bioresearch safety ( known bsl4 ). wiv issued news release english last visits, occurred march 27, 2018. u. s. delegation led jamison fouss, consul general wuhan, rick switzer, embassy ’ s counselor environment, science, technology health. last week, wiv erased statement website, though remains archived internet. what u. s. official learned visit concerned much dispatched two diplomatic cable categorized sensitive unclassified back washington. cable warned safety management weakness wiv lab proposed attention help. first cable, obtained, also warns lab ’ s work bat coronaviruses potential human transmission represented risk new sarslike pandemic. ad ad during interaction scientist wiv laboratory, noted new lab serious shortage appropriately trained technician investigator needed safely operate highcontainment laboratory, ” state jan. 19, 2018, cable, drafted two official embassy ’ s environment, science health section met wiv scientists. ( the state department declined comment detail story. ) the chinese researcher wiv receiving assistance galveston national laboratory university texas medical branch u. s. organizations, chinese requested additional help. cable argued united state give wuhan lab support, mainly research bat coronaviruses important also dangerous. a cable noted, u. s. visitor met shi zhengli, head research project, publishing study related bat coronaviruses many years. november 2017, u. s. officials ’ visit, shi ’ s team published research showing horseshoe bat collected cave yunnan province likely bat population spawned sars coronavirus 2003. ad ad most importantly, ” cable states, researcher also showed various sarslike coronaviruses interact ace2, human receptor identified sarscoronavirus. finding strongly suggests sarslike coronaviruses bat transmitted human cause sarslike diseases. public health perspective, make continued surveillance sarslike coronaviruses bat study animalhuman interface critical future emerging coronavirus outbreak prediction prevention. ” the research designed prevent next sarslike pandemic anticipating might emerge. even 2015, scientist questioned whether shi ’ s team taking unnecessary risks. october 2014, u. s. government imposed moratorium funding research make virus deadly contagious, known gainoffunction ” experiments. a many pointed out, evidence virus plaguing world engineered ; scientist largely agree came animals. saying didn ’ t come lab, spent\n",
            "True label:\n",
            "0\n",
            "Predicted label:\n",
            "1\n",
            "--------------------------------------------------\n",
            "Input text:\n",
            "the wall street journal adam entous dropped huge story tuesday morning : israel acquired classified u information spying iranian nuclear negotiations, leaked stolen information emerging deal american lawmaker attempt sabotage obama administration outreach tehran. this yet another disaster usisrael relations. thats israel acquired classified u information, honestly isnt surprising. whats really outrageous israel used information deliberate attempt manipulate american politics. no one shocked israel spying talks. certain degree espionage pretty par course world politics, even among allies. indeed, entous story repeatedly make clear, american official expected israel snoop them. fact, according entous, u found israeli spying already spying israel : the white house discovered operation, fact, u. s. intelligence agency spying israel intercepted communication among israeli official carried detail u. s. believed could come access confidential talks, official briefed matter said. but real scandal here, thats israel using stolen intelligence part deliberate campaign messing around american partisan politics. thats white house angry : one thing u. s. israel spy other. another thing israel steal u. s. secret play back u. s. legislator undermine u. s. diplomacy, senior u official told entous. if entous reporting correct, israeli government used leaked information help republican build support new sanction among democrats, would necessary overcome obamas veto. israel using stolen information help mitch mcconnell john boehner foment democratic rebellion president. this reason israeli prime minister benjamin netanyahus speech congress iran infuriated many democrat month. problem wasnt netanyahu invited congress ; speech coordinated republican behind president back deliberate attempt undermine iran policy. the spying / briefing allegation suggest speech part much broader campaign help republican pas new sanctions, particularly dangerous move netanyahu time israel risk becoming partisan issue america. ally really arent supposed sort thing. playing partisan domestic politics — classified information, le — position israel republican party ally, americas. fact republican interest line israel case doesnt justify crossing lines. none say netanyahu government sit accept american iran policy opposes. perfectly within bound netanyahu publicly oppose ongoing negotiation international power seeking limit iran nuclear capability exchange relief crippling economic sanctions. fine netanyahu lobby french, important role negotiations, push stringent limit iran nuclear program. thats normal international politics. but republican vote count congress isnt. watch : netanyahus argument congress iran\n",
            "True label:\n",
            "0\n",
            "Predicted label:\n",
            "2\n",
            "--------------------------------------------------\n",
            "Input text:\n",
            "georgia sending first republican woman congress. news outlet began declaring karen handel winner georgia 6th district u. s. house seat roughly 10 p. m. tuesday evening, three hour poll closed north atlanta suburbs. become first woman represent peach state congress since democrat cynthia mckinney lost reelection bid 11 year ago. handel hardfought victory democrat jon ossoff came amid deluge outside money attention. race viewed nationally key test president donald trump popularity among gop voters, republican health care overhaul left nascent resistance movement. vote, 11 : 15 p. m. tuesday night, close anticipated. read condensed takeout race here. full coverage, check live blog redesigned myajc politics page. updated 12 : 05 a. m. trump call congratulate handel karen handel phone colleague kyle wingfield tonight quickly answer call line. turned president donald trump. he wished well, said great campaign, proud me, later told wingfield. said knew going win. i ’ m glad did. ” when trump visited 6th district campaigned handel back april, famously told shed better win. recounting comment tuesday, handel chuckled jokingly added, i ’ m sure consequence would meet president ’ s expectations. ” updated 11 : 05 p. m. final thought today turnout kristina torres, ajcs point person georgia voting trends, sent along take putting tonight final vote tally perspective : sixth district voter turned unprecedented number tuesday runoff, take step back appreciate much. already knew typical turnout offyear special election notoriously low, georgia ’ s 6th district special election april 18 ( which decided tuesday ’ s runoff ) topped 37 percent — nearly 194, 000 people voted. tuesday ’ s unofficial ballot count topped 241, 500. that ’ s 210, 000 vote cast district 2014 – putting contest squarely common midterm contests, special elections. many predicted 210, 000plus turnout, although sure high would go. one got right mark rountree, president landmark communications, predicted overall turnout 235, 000 240, 000 voter — majority voted early ( and that ’ s happened ). 6th district long considered highly motivated. sense, turnout percentagewise didn ’ t disappoint. district 526, 000 registered voter all, nearly half came out : unofficial turnout stood 46 percent race. updated 10 : 55 p. m. handel thanks boisterous crowd our colleague mark niesse, who posted handel watch party tonight, sent along report describing jubilant scene hyatt regency dunwoody : republican karen handel celebrated win democrat jon ossoff tuesday crowd chanting karen,\n",
            "True label:\n",
            "0\n",
            "Predicted label:\n",
            "1\n",
            "--------------------------------------------------\n",
            "Input text:\n",
            "it ’ s week since murder unarmed black man named george floyd minneapolis, yet feel like year ’ s worth happened. american city church burned. peaceful protester teargassed shot at. store small business destroyed looted. journalist arrested. monday, president united state responded threat turn military american citizen photoop march washington church, enjoyed protection military police secret service. columnist indepth political coverage, sport analysis, entertainment review cultural commentary. to say dark time america feel like understatement. processing impossible. readily use voice speak out, pen call out, i ’ m proud admit i ’ m struggling say. i ’ m gutted. flattened. heartbroken. could someone like — white, privileged, employed, safe — say mean anything? change something? help anything? if i ’ m truly ally say friend hurting, grieving, cry help, voice isn ’ t one matter right now. is. instead speaking here, listen. i ’ ll listen harder ever before. i ’ ll listen black voices, protesters, activist community leader trench years, decades, centuries. i ’ ll listen speak, i ’ ll listen hard speak silent protest. i ’ ll listen family george floyd, breonna taylor, ahmaud arbery, tamir rice, trayvon martin, eric garner, sandra bland countless tragic others whose son daughters, brother sisters, aunt uncle ripped away, blotted senseless act injustice violence. i ’ ll listen colleague friend different community long patient teachers. may walked next years, walking two different americas. understand i ’ ll never understand. i ’ ll listen black pastors, civic leaders, teachers. i ’ ll listen story everyday american big city small towns, urban enclave rural corners, failed american promise, rejected, disrespected, marginalized, suspected, accused, incarcerated, killed. i ’ ll listen anyone speak. email secuppdailynews @ gmail. com. because, finally, it ’ s voice count. s. e. cupp host s. e. cupp unfiltered ” cnn. send letter letters @ suntimes. com.\n",
            "True label:\n",
            "0\n",
            "Predicted label:\n",
            "2\n",
            "--------------------------------------------------\n",
            "Input text:\n",
            "matt latimer former speechwriter president george w. bush. currently copartner javelin, literary agency communication firm based alexandria, contributing editor politico magazine. not long ago, writer peter beinart offered interesting idea 45th president : someone write novel run win democrat. ” underpinning suggestion, course, highly probable possibility one point another ideologically ambidextrous donald trump contemplated scenario. it ’ s fascinating thought experiment : could trump done democrat 2016 republicans? not? there, too, would challenged overconfident, messagechallenged establishment candidate ( hillary clinton instead jeb bush ). would even smaller number competitor dispatch. one could easily see well better bernie sanders — surprising clinton iowa caucuses, winning new hampshire primaries, and on. point, many trump ’ s views — skepticism trade, sympathetic planned parenthood, opposition iraq war, focus bluecollar worker rust belt america — seemed gel well, better, bluestate america red. think democrat wouldn ’ t tolerate misogynist rhetoric boorish behavior leaders? well, you ’ ve forgotten woodrow wilson john f. kennedy lbj bill clinton. story continued below there are, every whatif scenario, flaws. democrat would deeply resented trump ’ s birther questioning barack obama ’ s origins, would highly skeptical former reality tv star ’ s political bona fides even hadn ’ t made sharp turn right explored presidential bid runup 2012 election. comment woman minority would exposed withering scrutiny among left ’ s army advocacy groups. liberal donor would likely banded together strangle candidacy cradle — if weren ’ t laughing off. republican elite tried strategy 2015, well, manifestly didn ’ t work. what ’ s more, trump hold passel progressive stances — and friendship political map. bloomberg ’ s josh green notes, apprentice days, trump even wildly popular among minorities. it ’ s entirely crazy imagine outflanking coronationminded hillary clinton left blitzing weak democratic field like general sherman marching georgia. besides, it ’ s fun think about. so how, fact, might history changed trump descended infamous golden escalator declared candidacy democratic nomination? would ( depressingly ) same? below : guess key moment first six month presidency donald j. trump, democrat : january 20, 2017 in starstudded celebrity inauguration, attendee include cher, madonna, oprah ellen degeneres, president trump offer stirring praise predecessors. grateful president obama first lady michelle obama gracious aid throughout transition. magnificent, ” says — and rhetoric seem squarely aimed republican leadership, slam small group\n",
            "True label:\n",
            "1\n",
            "Predicted label:\n",
            "0\n",
            "--------------------------------------------------\n",
            "Input text:\n",
            "doj inspector general michael horowitz released long awaited report thursday afternoon detailing fbi behavior 2016 presidential election. important point found report : 1 ) bias found fbi : during course review, oig discovered text message instant message fbi employee investigative team, conducted using fbi mobile device computers, expressed statement hostility toward candidate donald trump statement support candidate clinton. deeply troubled text message exchanged strzok page potentially indicated created appearance investigative decision impacted bias improper considerations. 2 ) fbi agent peter strzok fbi attorney lisa page exchanged message stopping trump becoming president. august 8, 2016 : text message august 8, 2016, page stated, [ trump ’ s ] ever going become president, right? right?! ” strzok responded, no. he ’ s not. we ’ ll stop it. ” 203 when asked text message, strzok stated specifically recall sending it, believed intended reassure page trump would elected, suggest would something impact investigation. 3 ) five agents, agent strzok attorney page, expressed antitrump, proclinton message official fbi devices. in undertaking analysis, task made significantly difficult text instant message exchanged fbi device system five fbi employee involved midyear investigation. message reflected political opinion support former secretary clinton political opponent, donald trump. text message instant message mixed political commentary discussion midyear investigation, raised concern political bias may impacted investigative decisions. 4 ) one agent endorsed resistance. the third exchange identified november 22, 2016. fbi attorney 2 sent instant message fbi attorney 1 commenting amount money subject fbi investigation paid working trump campaign. fbi attorney 1 responded, making rethink commitment trump administration? ” fbi attorney 2 replied, hell no. ” added, viva le resistance. ” 5 ) former fbi director james comey inappropriately went outside chain command criminal investigation former secretary state hillary clinton. also botched discovery clinton email anthony weiners laptop used personal gmail account conduct official fbi business. we concluded comey ’ s unilateral announcement inconsistent department policy violated longstanding department practice protocol by, among things, criticizing clinton ’ s uncharged conduct. also found comey usurped authority attorney general, inadequately incompletely described legal position department prosecutors. 6 ) former attorney general loretta lynch practiced poor judgement secretly meeting former president bill clinton private plane 2016. day meeting, comey announced hillary clinton would referred doj criminal prosecution mishandling classified information.\n",
            "True label:\n",
            "2\n",
            "Predicted label:\n",
            "0\n",
            "--------------------------------------------------\n",
            "Input text:\n",
            "the funniest part say rule colorado changed help guy like cruz. ” reality rule changed block guy like cruz. colorado used award delegate via caucus, backfired 2012 rick santorum upset mitt romney there. that ’ s tends go caucus — unlike statewide primary, benefit wellorganized candidate passionate grassroots following, hallmark cruz ’ s campaign. rule altered last august, decoupling caucus process awarding delegates, done intent preventing another victory outsider — trump cruz, rand paul, ben carson, on. hope, i ’ m sure, establishment champion would emerge year would, dint greater campaign resource insider ” support, ” able outorganize insurgent candidate electing delegate directly. trump ’ s wrong, words, believe system rigged, ” rigged try hurt cruz much hurt him. happened? cruz adapted trump didn ’ t. establishment candidate crumbled, cruz got organized target delegate state district level trump glided mediasaturation campaign strategy. trump paying attention, he ’ d brought paul manafort campaign day colorado changed rules, knowing delegatewrangling could end playing key role claiming nomination. didn ’ t. which, say ben domenech, raise question : trump can ’ t anticipate opponents ’ move straightforward game like this, rule written publicly available, how ’ s going foreign policy? there plenty example ted cruz savvy tactician 2016 cycle, colorado disaster trump one them, trump irritating everyone abortion issue cruz ’ s fault, trump driving negative woman never get rose ” territory cruz ’ s fault. another owngoal america ’ s king deal seems uninterested actual work make deal happen. even modicum preparation could ’ ve landed trump several delegate colorado – instead, team appear uninterested work everyone reporting week need order win. part, trump team vowing win delegate majority convention. experienced serious setback south carolina, iowa, indiana, north dakota, north carolina, tennessee, louisiana, south dakota, georgia. cases, trump ’ s setback would significant simply paid attention delegate process works. [ t ] wo key trump claim fallen apart thanks inability fight delegate properly, writes ben shapiro : [ h ] e ’ s great dealmaker, doesn ’ t hire best people. ” pay attention clip below, fact, you ’ ll find trump complaining one point process wooing delegates, offer trips, offer sort things, you ’ re allowed that. ” that ’ s secondfunniest moment here. billionaire wrote art deal, ” who ’ s bragged month shrewd buying influence pol like hillary clinton cutting big\n",
            "True label:\n",
            "2\n",
            "Predicted label:\n",
            "0\n",
            "--------------------------------------------------\n",
            "Input text:\n",
            "hospital send covid19 patient information department health human service database washington, d. c., new policy alarming health expert say concerned information withheld public politicized. historically, cdc [ centers disease control prevention ] place public health data sent, raise question access researcher access reporters, access public try better understand happening outbreak, said jen kates, director global health hiv policy nonpartisan kaiser family foundation, comment new york times. data protected? transparency, access, role cdc understanding data? ” the policy posted document hhs website. beginning wednesday, department cdc collect daily report patients, number available bed ventilators, information pandemic. the report said change streamline data gathering helping white house coronavirus task force allocate supplies. however, database open public, medical official fear hinder researcher rely cdc data projection decisions. hhs spokesperson michael caputo, however, said cdc system inadequate, agency still make data available public. however, added, cdc week lag reporting hospital data, united state need realtime. the cdc, operating division hhs, certainly participate streamlined allofgovernment response. simply longer control it, caputo added. the change came conference call white house coronavirus response coordinator dr. deborah birx hospital executives. said hospital adequate reporting data brought together working group devise new plan.\n",
            "True label:\n",
            "2\n",
            "Predicted label:\n",
            "1\n",
            "--------------------------------------------------\n",
            "Input text:\n",
            "say ethic plagiarists — at least ear audience want hear. when joe biden cratered first official run white house 1987, series borrowed speech passages, hand gestures, even biographical detail ( no, didnt derive family coal miners, claimed, first clan ever attend college ; lifted detail speech u. k. labor politician neil kinnock ). deception nonetheless revealed political truth : ronald reagan peeled bluecollar voter democratic party, would take relatable, regularsounding joe lure back. american may tell seek candidate lead, reality theyre likely reward politicians, like biden, follow public taste already gone. generally dont serve multiple tier elected office 47 years — longer pete buttigieg, beto orourke several democratic presidential candidate alive — by getting ahead voter comfort zones. get weather vane. joe biden political weather vane covered rust. hell creak direction prevailing wind eventually, apologetically need be, dont expect man point toward bold new future. main selling point greatest weakness. during late 1980s early 90s, country exhausted end threedecade rise violent crime, biden right putting fingerprint would become america mass incarceration machine. cosponsored antidrug abuse act, included much tougher penalty crack cocaine powder cocaine, lamented 6 every 10 criminal arrested drug charge case dropped. now even lawandorder republican president pushing criminal justice reform, uncle joe characterizing role crack / powder disparity big mistake. biden absolutely follow, lead, legalizing marijuana, two three americans — and 12 presidential candidate immediately behind national polls — now support. even serving white house choom gang emeritus barack obama, thenveep still using oldtimey prohibitionist language, calling pot gateway drug. think every time american public opinion past halfcentury swung toward publicpolicy hysteria many would eventually regret, youll see joe there, zeliglike, flashing choppers. iraq war? check. ( as characterized vox dara lind ) disastrous, forgotten 1996 law created today immigration problem? yep. patriot act? he dining one years. those u wary government power shudder sight politician demonstrated eagerness wield mass get rowdy. yet bidens fingerinthewind ideological pliability uses, too, famously 2012, gingerly led party conclusion marriage equality voting member long since held. this, le two decade ( of course! ) voting notorious defense marriage act. bidens current high standing poll sight behold u remember six feeble previous flirtation oval office. suggests that, cycle democrat prioritizing electability recent\n",
            "True label:\n",
            "2\n",
            "Predicted label:\n",
            "0\n",
            "--------------------------------------------------\n",
            "Input text:\n",
            "minnesota seeking million dollar federal government clean riot erupted aftermath george floyd ’ s death minneapolis police custody may 25. on thursday, gov. tim walz announced seeking federal emergency management agency cash, noting rioting left trail $ 500 million destruction. we ’ re asking federal partner step help community recover, ” said news release. need come together ensure minnesotan victim destruction access critical infrastructure need go grocery store, pick medication, live lives. together, rebuild. ” the release said rioting destruction raged minneapolis surrounding communities, state called 10, 000 law enforcement personnel try restore order minnesota national guard fully mobilized first time since world war ii. nearly 1, 500 twin city business damaged vandalism, fire, looting, ” release said, referring minneapolis, epicenter rioting, nearby st. paul. trending : former slave hub ghana asks africanamericans return home africa walz, member state ’ s democraticfarmerlabor party, want president donald trump declare major disaster state minnesota extensive fire damage public infrastructure caused civil unrest. ” he bemoaned level destruction even riots, began may 26, taking place. over last 72 hour people brought destruction terror minnesota anybody history. that ’ s we ’ re against, ” walz said may 30, according karetv. however, time, rioter sympathy others party. should federal taxpayer pay destruction rioting minnesota? yes completing poll entitles western journal news update free charge. may opt anytime. also agree privacy policy term use youre logged facebook. click log out. 1 % ( 54 votes ) 99 % ( 5343 votes ) what we ’ ve seen last two day … result much builtup anger sadness, ” minneapolis mayor jacob frey said may 29, according nbc news. anger sadness ingrained black community, five minute horror, 400 years. ” if you ’ re feeling sadness anger, it ’ s understandable, it ’ s right, ” said. frey walz saying week planned ask federal government money repair damage riots. the minneapolis star tribune noted baltimore sought fema funding riot followed 2015 death freddie gray police custody. funding ever materialized. democratic rep. betty mccollum said minneapolis need prove outside force instigated riot violence flow citizens. related : major city council unanimously approves measure abolish police department if demonstrated outside provocateur committed act destruction, clear rationale emergency declaration president trump, ” said. democratic rep. ilhan omar, whose district includes city, said minneapolis owed federal aid. we moral responsibility help community heal economically, ” said statement. minneapolis ’ s\n",
            "True label:\n",
            "2\n",
            "Predicted label:\n",
            "1\n",
            "--------------------------------------------------\n",
            "Input text:\n",
            "donald trump in march 7, 2016, photo, republican presidential candidate donald trump speaks campaign rally concord, n. c. ( gerry broome / the associated press ) dr. clarke rountree, uah college liberal arts, communication arts, department chair. by dr. clarke rountree, chairman communication art department university alabama huntsville. earned m. a. ph. d. rhetorical study university iowa, undergraduate degree political science uah. research interest judicial rhetoric, political rhetoric, burkeian rhetorical theory, argument theory, rhetoric race, religious discourse. in 2009, president obama presented health care plan congress, representative joe wilson ( rsc ) disturbed house chamber nationally televised address yelling lie! obama said illegal immigrant would covered health care proposal. attendee town hall rally carried sign showing obama hitler. representative alan grayson ( dfl ) claimed : get sick, america, republican health care plan this : die quickly. former gop vice presidential candidate sarah palin claimed health care law included death panel would decide worthy living would left die. senate majority leader harry reid ( dnv ) compared republican resistance health care reform resisted abolition slavery. for years, obama detractor pushed idea 44th president united state born africa ineligible nation leader, including billionaire developer, television star, republican presidential candidate donald trump, leading obama release longform birth certificate hawaii prove citizenship. liberal msnbc commentator ed schultz called conservative commentator laura ingraham rightwing slut california national organization woman president patty bellasalma called gop gubernatorial candidate meg whitman political whore. recently, dr. ben carson, gop candidate 2016 presidential election, called president obama psychopath. most american dont need hear example like recognize live age political incivility. incivility lead political polarization, legislative gridlock, cynicism government. although suffered rancorous time civil war era notable today incivility different. twovolume edited book published 2013, venomous speech : problem american political discourse right left ( praeger ), 23 scholar explored different facet problem incivility today. opened book explaining see key cause current political dysfunction. essay summarize cause explain may difficult change situation short run. three major cause incivility medium revolution, campaign finance revolution, reshuffling political parties. the medium revolution started shortly watergate scandal toppled president nixon inspired journalist aggressive rooting corruption. aggressiveness reflected number minor scandal medium blew major news stories, often adding gate end, billygate ( carter ), irangate ( reagan ), troopergate ( clinton ), pl\n",
            "True label:\n",
            "1\n",
            "Predicted label:\n",
            "2\n",
            "--------------------------------------------------\n",
            "Input text:\n",
            "republican held hope deal reached allowing young undocumented immigrant remain u. s., despite president donald trump saying effort probably dead ” amid growing tension keeping government funded past friday. trump escalated rhetoric immigration pair earlymorning sunday twitter message appeared move away day ago seemed potential deal democrat moderate republican legislation continue deferred action childhood arrival program. daca probably dead democrat don ’ t really want it, want talk take desperately needed money away military, ” trump tweeted sunday florida, he ’ s spending weekend club. i, president, want people coming country going help u become strong great again, people coming system based merit. lotteries! ” trump said. comment followed four tweet topic saturday. the immigration debate involving young undocumented immigrant brought country child trump ’ s demand funding build wall southern u. s. border playing day potential government shutdown soon end week. trump contradicted shortly trump ’ s tweets, contradicted key senate republican even homeland security secretary, kirstjen nielsen, said fox news sunday ” there ’ s still hope solution democrat would agree close immigration loopholes. i believe daca dead, ” nielsen said. said trump administration congressional republican want securityimmigration deal. ” also said would completely irresponsible ” democrat demand deal tied keeping government funded. republican senator david perdue georgia also expressed optimism abc ’ s week ” finding fix daca, democrat get serious negotiating ” securing u. s. border family reunification chain migration. ” ‘ good faith ’ democrat senator jeff flake arizona, also republican, said senator party support proposed compromise legislation helped write. we ’ re working add republican list, coming week, ” flake said abc. said bill way get 60 vote required passage senate. flake also rejected president ’ s claim democrat don ’ t really want ” deal. i ’ ve negotiating working democrat immigration 17 years, ” said. democrat negotiating good faith. ” the immigration debate taking place backdrop controversy trump reportedly called haiti, el salvador african nation shithole countries ” oval office meeting senators. trump denied making comment twitter posting friday, although white house didn ’ t dispute quotation widely reported thursday. senator dick durbin illinois, secondranking democrat, said denial true. ” perdue georgia attended meeting called comment reported gross misrepresentation. ” use word, ” said perdue, top ally trump. nielsen also meeting said didn ’ t recall specific phrase used. cotton comment republican senator tom cotton arkansas also said cbs ’ s face nation ” didn ’ t hear trump\n",
            "True label:\n",
            "2\n",
            "Predicted label:\n",
            "0\n",
            "--------------------------------------------------\n",
            "Input text:\n",
            "growth u. s. labor cost robust initially thought third quarter, suggesting inflation could remain tame near term. the sharp downward revision labor costs, reported labor department tuesday, also pointed easing squeeze profit margins. corporate profit reduced strong labor cost growth outpaced revenue. worker productivity still sluggish, however, pace growth labor cost likely remain solid. this certainly good news companies ’ profit margin pressure, ” said lydia boussour, senior economist oxford economics new york. however, slower productivity growth steady compensation growth keep upward pressure unit labor cost going forward. ” unit labor costs, price labor per single unit output, increased 2. 5 % annualized rate third quarter. previously reported advanced 3. 6 % rate. secondquarter growth labor cost raised 2. 4 % pace 0. 1 % rate. compared third quarter 2018, labor cost grew 2. 2 % rate, rather previously estimated 3. 1 %. growth hourly compensation also revised lower, 2. 3 % rate third quarter, originally reported 3. 3 % pace. hourly compensation grew 3. 7 % rate compared third quarter 2018, instead previously reported 4. 5 % pace. last quarter ’ s gain unit labor cost compensation line recent measure showing moderate wage gains, indicating inflation probably continue run federal reserve ’ s 2 % target. that pace inflation indicates stable inflation, ” said rubeela farooqi, chief u. s. economist high frequency economics white plains, new york. fed official scheduled begin twoday policy meeting tuesday. central bank expected cut interest rate wednesday backdrop relatively upbeat economic data, including sharp narrowing trade deficit october, rebound order bigticket item surge job growth november. the fed cut rate october third time year, signaled pause easing cycle started july reduced borrowing cost first time since 2008. the central bank ’ s preferred inflation measure increased 1. 6 % 12 month october, slowing 1. 7 % september. november data published later month. the government reported last month aftertax profit without inventory valuation capital consumption adjustment, corresponds s & p 500 profits, decreased $ 11. 3 billion, rate 0. 6 % third quarter. profit rate 0. 4 % compared third quarter 2018. the dollar steady basket currencies, u. s. treasury price fell. stock wall street mixed. productivity mismeasured? the government also confirmed worker productivity fell nearly four year third quarter rebound hours, driven surge volatile selfemployed unpaid family worker component, outpaced output. nonfarm productivity, measure hourly output per worker, decreased 0. 2 % rate last quarter\n",
            "True label:\n",
            "2\n",
            "Predicted label:\n",
            "1\n",
            "--------------------------------------------------\n",
            "Input text:\n",
            "donald trump said thursday interview doesnt play lose, always assumed hed well presidential election, admitted campaign gone beyond would even assumed. in interview prerecorded wednesday night airing thursday ontrump asked abc george stephanopoulos thought would get far. trump replied, people asked question, guess answer yes, dont think would done it. looking forward acceptance speech republican national convention, trump said he looking make grand entrance like monday, good grouping word thats going talk country problem have. we deep problems, said trump. really deepseated problem entrance. word getting word done, way going get taken care to, november, well. the speech, said, include talk trade, law order, nation borders, among many different things. our country lot problems, told stephanopoulos. think ill basically using message giving message ive talking long time. the abc host reminded trump lot big applause lines, call temporary ban muslim immigration insistence wall built along mexican border, trump told still key goals. youll hearing lot thing tomorrow, trump said prerecorded interview. but many people said believe trump need evolve general election nears, nominee told stephanopoulos thati am. im honest person, said. think message good message. got here. almost 14 million votes. thats vote anybody history republican party. there something happening, george, people tired whats going on. he also disagreed poll showing many american still consider unqualified run presidency. think im qualified, dont forget hillary spending hundred million ads, said. know spent far? nothing, nothing. thats doesnt want waste money soon. im like racehorse, said. racehorse way back im looking anything now, raising lot money, $ 51 million last month put lot money. im $ 60 million put in. spent $ 3. 8 million last month. but said hell soon start spending money, important thing country. trump also spoke speech given wife, melania, overshadowed convention early week revealed part matched first lady michelle obamas 2008 democratic national convention speech. meredith mciver, worked trump family before, offered resignation role helping trump wife speech, trump wouldnt accept it. shes long time, good person, said trump mciver. came see me, hated see conflict made mistake. people make mistakes. youve made mistakes. make mistake think terrific came forward say, look, mistake made thought unfair melania. he does, though, think medium treated wife well whole ordeal, think actually anything it. as interview prerecorded, question texas sen. ted cruzs refusal\n",
            "True label:\n",
            "2\n",
            "Predicted label:\n",
            "0\n",
            "--------------------------------------------------\n",
            "Input text:\n",
            "this article part feature package american dream became unaffordable million workingclass middleclass americans. reason autopsy thing veered track, read american dream became unaffordable two feature package, doctor broke health care student loan arent working. at beginning 20th century, virtually zoning law united states. 1921, zoning come 48 large u. s. cities, representing fifth country population. 1932, 1, 165 municipal government adopted zoning, covering twothirds urban population. 1968, nearly every metropolitan government zoning, large swath rural america. it revolution, rapid one. property owner allowed use land profitable desirable use : live it, sell commercial industrial business, sell developer. nearly every municipality rule dictate piece land used kind housing, any, allowed it. this wasnt spontaneous shift : federal government made concerted effort promote comprehensive regulation local land use zoning. hasnt meant decline american liberties. meant sharp increase cost housing country much segregated class race. zoning arose time rapid urbanization : percentage american living urban area jumped 14 percent 1880 54 percent 1920. one source swelling great migration african american south northern cities. another largescale migration eastern southern european united states : foreignborn share american resident peaked 15 percent around 1920. this rapid influx rearranged urban politics. growing ethnic group organized welloiled political machines, white anglosaxon protestant began lose control city governments. many moved suburb created government there. others attempted wrest back control city imposing new form policing power. that old guard viewed migration urbanization chaotic, subversive forces. native white worried competition jobs, affluent american northern european descent fretted incursion allegedly inferior genes. social scientist era not, large, feel strong commitment free markets — a typical scholarly article era declared large city excellent illustration insufficiency laissezfaire doctrine — and educated professional generally willing impose new regulations. enter zoning. in 1920, nativeborn white much likely homeowner immigrant eastern southern europe, hispanics, asians, african americans. zoning law prioritized singlefamily detached home sought isolate multifamily housing commerce. robert whitten, early zoning leader consulted around country, explicit this. atlanta hired develop city zoning statute 1922, whitten tried prohibit black people living white neighborhoods, even though u. s. supreme court struck law 1917. more broadly, whitten argued even one apartment sends community singlefamily home slippery slope devaluation. view influential : coauthored new york city planning resolution, adopted 1916, 1968 douglas commission — a working group charged\n",
            "True label:\n",
            "2\n",
            "Predicted label:\n",
            "1\n",
            "--------------------------------------------------\n",
            "Input text:\n",
            "the supreme court nova scotia bestowed blessing cancel culture – the twisted phenomenon whereby university public library cancel scheduled event someone claim offended. nova scotia, cancel culture spread personalized license plates. justice darlene jamieson ruled january 31, 2020, one anonymous complaint lorne grabher ’ s personalized grabher ” license plate enough warrant permanent cancellation. court affirmed january 2017 decision cancel plate grabher family used 25 years, mr. grabher ’ s surname could misinterpreted ” socially unacceptable slogan. ” lorne grabher austriangerman heritage. family immigrated canada europe 1906. father served canadian armed forces, stationed cape breton, nova scotia. family ’ s history, including name heritage signifies, important grabher family. around 1990 grabher family applied grabher ” plate, originally gift lorne ’ s father later used lorne ’ s son. 27 consecutive years, three generation grabhers, registrar authorized plate use family ’ s motor vehicle nova scotia. year registrar motor vehicle renewed plate without issue. all took wreck noble family tradition one anonymous complaint registrar, october 2016. without taking account grabher family ’ s pride austriangerman heritage, ignoring prior decision renew plate year year year, janice harland registrar motor vehicle told lorne grabher : recognize plate issued last name, public cannot expected know misinterpret socially unacceptable slogan. ” for lorne grabher, case personalized plate. it ’ s family ’ s name, personal dignity, ongoing insult nova scotia government censorship plate. justice darlene jamieson effectively equated lorne grabher ’ s surname eatass, foqme, hotcok, blowjb, brdsht, fstfk, fckpig, 8cunt, dchbag, gngbng, fquall objectionable term banned list word prohibited nova scotia registrar motor vehicles. court moved double standard foul language used another government entity, halifax water board, whose bus ad included phrase powerful sh * t ” proud dingle. ” court also deemed irrelevant existence canadian place name like dildo, newfoundland, ” swastika, ontario, ” red indian lake, newfoundland, ” crotch lake, ontario, ” old squaw islands, nunavut, ” cape negro ” nova scotia. justice jamieson relied heavily report carrie rentschler ( https : / / www. mcgill. ca / ahcs / peoplecontacts / faculty / rentschler ) mcgill university professor feminist medium studies ” specializes thing like construction new political subjectivities, ” emergent form\n",
            "True label:\n",
            "2\n",
            "Predicted label:\n",
            "0\n",
            "--------------------------------------------------\n",
            "Input text:\n",
            "when poafpybitty husband, virgil, decided return pine ridge 15 year living reservation, choosing life reservation life refer outside. it also meant return home poafpybitty grew in, house abandoned death parents. brother murdered poafpybittys young son looked on. i knew moving home going struggle, said recent interview. didnt care. the challenge facing resident pine ridge, one poorest part country, chronic mounting. 40, 000 member oglala sioux tribe live vast expanse land roughly size connecticut. poverty unemployment rate remain seismic, alcoholism rampant life expectancy shortest country, according recent study published journal jama internal medicine. nearly everyone spoke recent trip pine ridge story put fine point hard business living. man cared young relative suffers fetal alcohol syndrome ; woman held gunpoint daughter thenboyfriend, addicted drugs ; woman whod found brother dead hour met her, still shaken talk. virgil poafpybitty inside home pine ridge indian reservation south dakota. coming back here, learn live day day, virgil poafpybitty said. cant think future. the future pine ridge could soon grow bleaker. budget president donald trump unveiled tuesday make deep cut slew area life reservation depends on. spending reduction touch every part life access clean drinking water block grant fund program feed elderly muchneeded afterschool programs. one nation deeply impoverished communities, resident tribal leader say cut could devastating. wishing away inevitable campaign slogan political promise ring hollow pine ridge reservation, part resident say theyve seen before. 1999, thenpresident bill clinton visited sprawling, 3, 000squaremile reservation part socalled poverty tour economically depressed community across country. clinton announced economic empowerment zone help boost pine ridge economy. railed unemployment rate 15 time national rate native community replete deadly disease soaring rate infant mortality, telling pine ridge resident thing persist, cannot rest better. nearly two decade four administration later, little changed. president bill clinton listens oglala sioux nation president harold salway july 7, 1999, pine ridge indian reservation. it like time stood still, virgil poafpbitty said. buildings, stores. doesnt matter government get there. still poor. the sweeping cut included trump budget proposal sent shiver community. cut could devastating, according mason big crow, oglala sioux tribe treasurer. the tribe could lose least half money receives federal sources, big crow said email response question president budget blueprint. tribal leader already meeting discussing impact future year budgets. trump plan would slash budget interior department includes bureau indian affairs, federal\n",
            "True label:\n",
            "0\n",
            "Predicted label:\n",
            "2\n",
            "--------------------------------------------------\n",
            "Input text:\n",
            "the big news day : fbi agent raided law office michael cohen, president donald trump lawyer involved payment $ 130, 000 adult performer stormy daniel nondisclosure agreement. report suggest also raided home. recently ive listening podcast slow burn, watergate. there fascinating theme throughout it : youre living historical event, know? tell development big deal? this big deal. early on, here thing already tell. 1. according cohens lawyer, u. s. attorney office southern district new york ( widely regarded within important prestigious u. s. attorney office country ) secured search warrant fbi, based referral robert muellers office. assuming report correct, mean mainstream u. s. attorney office — not special counsel robert muellers office — thought enough search warrant here. 2. moreover, office thought enough search warrant. thought enough search warrant attorney office attorney client communications. thats fraught extraordinary move requires multiple level authorization within department justice. u. s. attorney manual ( usam ) — at section 913. 320 — contains relevant policy procedures. highlights : the fed supposed raid law firm le intrusive measure wont work. usam put it : in order avoid impinging valid attorneyclient relationships, prosecutor expected take least intrusive approach consistent vigorous effective law enforcement evidence sought attorney actively engaged practice law. consideration given obtaining information source use subpoena, unless effort could compromise criminal investigation prosecution, could result obstruction destruction evidence, would otherwise ineffective. such search requires highlevel approval. usam requires search warrant approved u. s. attorney — the head office, presidential appointee — and requires consultation criminal division u. s. department justice. couple rogue ausas sneaking warrant. such search requires elaborate review process. basic rule government may deliberately seize, review, attorneyclient communications. usam — and relevant caselaw — therefore require fed set review process. process might involve judge reviewing material separate privileged ( or might fall within exception privilege ), else set dirty team review insulated clean team running investigation. another option special master, experienced qualified thirdparty attorney review. sometimes reviewing team identifying protecting privileged material. sometimes reviewing team preparing seek, implement, court ruling document privileged. ( robert mueller aggressive sort thing ; already sought obtained court ruling paul manaforts communication lawyer privileged undertaken purpose fraud — the socalled crimefraud exception attorneyclient privilege. ) 3. magistrate judge signed this. federal magistrate judge ( appointed local district judges, president ) review search warrant applications. magistrate judge therefore reviewed application found probable cause — that is,\n",
            "True label:\n",
            "2\n",
            "Predicted label:\n",
            "1\n",
            "--------------------------------------------------\n",
            "Input text:\n",
            "i live short section bleecker street manhattan way completely unrepresentative new york city, much le america. yet protest sparked police killing george floyd continue, violence, looting, vandalism spread across country, 500 foot traversed block may spell two mostlikely future country seems close experiencing violent season since 1968, major riot seemed part everyday life. see today protest representing nonviolent, righteous anger brutalized minority enough demanding end murderous status quo? see unleashing anarchy chaos masquerading social justice? respond say something about country might end up. at west end block, bleecker intersects lafayette street ; sits kith, hip, expensive streetwear shop popular used meter guest velvetrope system like trendy nightclub would. coronavirus lockdown went effect, clothing store deemed nonessential power be, kith locked door emptied store merchandise prevent wouldbe thief breaking in. youd walk window see naked shelf $ 300 sweatsuit $ 50 knit cap hung. this past sunday, though, owner boarded window plywood, hurricane coming ( many business throughout city same ). shouldnt bothered. monday morning, walked store around 7 a. m. saw plywood peeled back place window smashed. kith merchandise bag strewn street. the damage part massive looting throughout neighborhood. couple block away houston street near broadway, massive adidas store wiped clean virtually stock, many window broken. early monday morning, even saw two latecomer looter storm store armful clothing car, theyd left running street. around corner broadway, nypd vehicle used traffic cop completely scorched gutted, left street like carcass exotic beast. storefront smashed window many had, like adidas store, wiped display stands. dozen suspected looter arrested soho sunday night protest death george floyd descended chaos, reported new york post. in response damage, monday, kith owner started building stronger barrier around perimeter store, time using scaffolding system thick green panel 30 foot high. end today, barrier stood even taller imposing, providing one assumes impervious defense whatever mayhem night gotham might bring. new york curfew kick 8 p. m. rest week, attempt put end couple day daily beast rachel olding described complete anarchy. throughout city sunday monday nights, olding documented twitter feed roving band mostly young people breaking store running sort merchandise. hard describe rampant looting tonight midtown manhattan lawless was. complete anarchy. literally hundred store broadway, fifth ave, sixth ave. kid ruling street like party. pic. twitter. com / y9\n",
            "True label:\n",
            "2\n",
            "Predicted label:\n",
            "0\n",
            "--------------------------------------------------\n",
            "Input text:\n",
            "we ’ re political moment that ’ s anything normal. usual expectation politics, life general, operate pretty much hold, america dealing lot anxiety politics. first, there ’ s trump administration ’ s everchanging response coronavirus. there ’ s question individual state handling ( or handling ) crisis, lastly, there ’ s real question democracy function come general election november. already we ’ ve seen first cracks, number state deciding whether postpone primary local elections. political infighting likely get worse, too, state try figure ensure safe election, many cases, may easy answers. in time crisis, lot rule expectation wind getting shifted bent. instance, disaster sometimes lead people give freedom otherwise treasure rally around leader normally oppose. crisis also funny way underscoring value actually vital democracy. in 2018, wrote importance democratic value actually matter talk norm violated eroded. offered example democratic value root early ( and ongoing ) complaint trump administration, including president trump ’ s disregard institutions ’ independence ( think clash congress fulfilling oversight duties ) inability unwillingness gracefully handle dissenting viewpoint part political process ( think insulting reporter using unflattering nickname political opponents ). now, though, moment crisis, whole new set norm coming tension democratic values, highlighting value risk. take controversy around former vice president joe biden ’ s relative silence covid19 crisis. presumptive democratic nominee kept low profile, sparking criticism corner he ’ s failing lead, behavior arguably line expectation presumptive nominee act — i. e., don ’ t criticize sitting president crisis campaign moment national tragedy. biden ’ s decision to question trump ’ s leadership crisis might run afoul deeper values, like need transparency importance vibrant political opposition. a political scientist jonathan bernstein observed, trump never good ceremonial part job, offering reassurance message national unity. central function presidential rhetoric, especially time uncertainty stress. yet trump combative inconsistent leadership, biden made limited effort fill symbolic void. norm say must rally around leader suspend politics emergencies, remaining silent, biden may risking larger democratic value holding leader accountable. we ’ ve also seen script flipped crisis, though, trump isn ’ t actually violating norm — he ’ s holding white house press briefing pretty much daily, instance, fall line norm president communicate public. yet trump still managed subvert norm presidential behavior way attack democratic values. he insulted member press leader democratic party, undercutting idea legitimate opposition — is, giveandtake political conflict different party press hold accountable. he ’ s even asserted authority nation ’ s governors, disregarding distinct power state local government federal system\n",
            "True label:\n",
            "1\n",
            "Predicted label:\n",
            "0\n",
            "--------------------------------------------------\n",
            "Input text:\n",
            "support dropping rate point year past 20 years. continues, it ’ ll sink 50 percent sometime around 2024. the good news? big gaymarriage debate probably even big marijuana debate almost certainly long then, mean capital punishment center stage itself. here ’ s next socialissue hot potato, perhaps : follow link gallup examine partisan split. support fallen across board past 25 years, decline among republican ( 9 ) le half among democrat ( 22 ) independent ( 21 ). even so, indie ( 60 percent ) republican ( 81 percent ) still strongly favor, even democrat near majority ( 47 percent ). i ’ m skeptical we ’ re headed future majority opposes cp outright, may headed one margin narrower it ’ s since mid60s. question : why? what ’ s driving this? hunch first seeing data story people wrongly convicted crime disproportionately punished race slowly shifting public opinion. may — there ’ s nothing rest gallup ’ s data suggests it. number believe death penalty applied fairly bit lower it ’ s recent year still point higher back 2000 ; number say it ’ s applied often lower recently 2004. dramatic shift either metric. my next guess, fueled tweet guardian ’ s harry enten, really reaction long decline america ’ s crime rate. theory, safer people feel, le sharply they ’ re likely react violent crime. whether rightly wrongly, many people think capital punishment deters murder would otherwise committed. fewer murder happening, go figure clamor cp diminishes. look graph, tracking violent crime u. s. last decades, you ’ ll find corroborating evidence enten ’ s theory. crime ticked upward early 90 beginning fall steadily circa 1994. coincidentally, per gallup graph top here, support death penalty max 1994 begin drop. that ’ s answer! except one thing : that come gallup poll published 2011 showing lot american don ’ t actually know crime dropping time. pew poll published may year provides additional evidence. number crime committed using gun fallen along rest crime rate, clear majority american ( 56 percent ) think it ’ s gone past 20 years. ( only 26 percent knew truth. ) support capital punishment eroding due america becoming safer american don ’ t know it ’ s safer? asked enten, reasoned american might personally feel safer even though they ’ re ignorant condition country large, turn might driving feeling cp. pointed metric specifically — fear walking alone night — possibly better barometer perception crime. don ’ t know, though ; here ’ s 2011 gallup poll showed that\n",
            "True label:\n",
            "2\n",
            "Predicted label:\n",
            "1\n",
            "--------------------------------------------------\n",
            "Input text:\n",
            "vice president joe biden announce running president next week, according multiple reports. the announcement expected video message wednesday, according three people knowledge plans. even though officially launched campaign biden appeared near top several poll democratic candidates. democrat would happy former vp ended party ’ s nominee. how many would like see joe biden get in? show hands, cnns alisyn camerota asked panel six democrats, selected ohio, new york, new jersey pennsylvania, new day tuesday morning. one raised hands. time done, said carol evans, one panelists. honest, sen. biden come kind goodoldboy politics past, added another panelist, russell banks. dont think joe biden represents new thing need, third panelist, owen evans, said. need new economy, need new politics need someone different. ( cnn ) in addition lack enthusiasm entering race democrats, age, biden faced recent backlash several woman inappropriate unwanted touching. social norm begun change, they ’ ve shifted, boundary protecting personal space reset, get it, ” biden said video addressing claims. hear they ’ re saying. understand it. i ’ ll much mindful. that ’ s responsibility, i ’ ll meet it. ” president trump predicted earlier week democratic race would come biden sen. bernie sander ( ivt ). i believe crazy bernie sander vs. sleepy joe biden two finalist run maybe best economy history country ( and many great things )! ” wrote. look forward facing whoever may be. may god rest soul! ”\n",
            "True label:\n",
            "2\n",
            "Predicted label:\n",
            "0\n",
            "--------------------------------------------------\n",
            "Input text:\n",
            "thing matter it ’ s secret country across latin america strictest abortion law world – el salvador exception. fact, it ’ s known country that regularly prosecutes imprisons woman result abortion ban – even case woman suffered miscarriages, stillbirth obstetric emergencies. but last decade, activists, lawyers, international women ’ s group rallied behind salvadoran woman imprisoned obstetric emergencies. ” since 2009, 38 woman released jail, 16 remain incarcerated, least three — including evelyn hernandez — middle legal proceedings. evelyn hernandez, el salvador, found innocent retrial. el salvador total ban abortion led woman whose pregnancy ended without fault getting lengthy prison term https : / / t. co / gzvv6npatm — skynews ( @ skynews ) march 15, 2020 evelyn hernandez ’ s case made international headline tried homicide charge experiencing stillbirth – didn ’ t even know pregnant. but year maintains innocence wrongdoing, hernandez finally found innocent el salvador ’ s judicial system. i made victim justice system anything just. know countless woman experienced country miscarriage still considered crime reproductive right nonexistent. must stand demand salvadoran government release remaining woman wrongfully put behind bar like me. fight end here, ” hernandez said trial. her defense attorney added tweet, explode happiness. ” amnesty international described verdict resounding victory right woman el salvador ” called government end shameful discriminatory practice criminalizing women ”. el salvador one strictest antiabortion law world. the unspeakable cruelty el salvador abortion law https : / / t. co / y4d1kxjy76 — sapna singh ( @ sapnasingh1997 ) june 10, 2020 since 1998, el salvador complete total ban abortion – zero exception – including case woman ’ s life risk pregnancy result rape incest. fact, el salavador known country regularly prosecutes imprisons woman result abortion ban – even case woman suffered miscarriages, stillbirth obstetric emergencies. typically, woman found guilty face two eight year jail many case – case evelyn – charge increased aggravate homicide, carry minimum sentence 30 years. today, 20 woman prison trumped charge manslaughter, homicide, aggravated homicide accused abortion. total, least 50 woman imprisoned. evelyn ’ s case headline year repeated appeal prosecutors. abortion performed every day, every country, lopez said. ban ban abortion, same. since 1998 woman el salvador imprisoned country strict abortion laws. # abortion\n",
            "True label:\n",
            "0\n",
            "Predicted label:\n",
            "2\n",
            "--------------------------------------------------\n",
            "Input text:\n",
            "james comey fired back week hillary clinton former secretary state cited justice department inspector general report email case challenge premise investigation itself. clinton terse, snarky tweet following release nearly 600page report, accused former fbi director defying chain command email probe. also said he, too, used personal email account government business. but emails, ” clinton tweeted, response reporter tweet comey ’ s use gmail ” account slap outrage private email server fbi probe itself. but interview berlin week, comey asked whether would apologize clinton refused. stressed difference personal email use, involved unclassified information, said still doesnt understand investigated. comey used personal email conduct fbi business, watchdog report find no. here ’ s why. don ’ t want criticize her, show even late date, doesn ’ t understand investigation case about, ” comey said interview german newspaper die zeit. it use personal email system, didn ’ t get investigation, used say ‘ colin powell secretary state used aol, ’ about, ” comey explained. communicating classified topic system topic done classified system. ” he added : never did. would problem using aol, gmail, clinton. com — or state department ’ s [ unclassified ] system. ” doj inspector general michael horowitz found comey used personal email account conduct unclassified fbi business, ” found inconsistent department policy. ” horowitz cited called absence exigent circumstance frequency use personal email occurred. ” comey defended use personal email account — but said understood horowitz put report. what would do, write speeches — i would write speeches — i would type home gmail government account, ” comey explained. or, still work draft, would send home could work laptop. ” i talking anything remotely classified inspector general didn ’ t say well, ” comey said. get tweet, get people focused it, it ’ s totally different thing. ” comey first broke silence inspector general report last week oped new york times. the former fbi boss, separately, facing ig scrutiny handling classified information memo memorializing conversation president trump.\n",
            "True label:\n",
            "2\n",
            "Predicted label:\n",
            "0\n",
            "--------------------------------------------------\n"
          ]
        }
      ],
      "source": [
        "for i in wrong_guesses[:50]:\n",
        "  decoded_text = bert_tokenizer.decode(x_test['input_ids'][i], skip_special_tokens=True)\n",
        "\n",
        "  print(\"Input text:\")\n",
        "  print(decoded_text)\n",
        "  print(\"True label:\")\n",
        "  print(y_test.iloc[i])\n",
        "  print(\"Predicted label:\")\n",
        "  print(predictions_model.numpy()[i])\n",
        "\n",
        "  print(\"-\" * 50)\n"
      ]
    },
    {
      "cell_type": "code",
      "execution_count": null,
      "metadata": {
        "id": "btFttc_4q6zg"
      },
      "outputs": [],
      "source": [
        "sources_analysis.to_csv('bert_fine_tuning_wrong guess(7.24.24).csv', index=False)"
      ]
    },
    {
      "cell_type": "code",
      "execution_count": null,
      "metadata": {
        "id": "ZtlxJn3vpGcT"
      },
      "outputs": [],
      "source": []
    }
  ],
  "metadata": {
    "accelerator": "GPU",
    "colab": {
      "gpuType": "A100",
      "machine_shape": "hm",
      "provenance": []
    },
    "kernelspec": {
      "display_name": "Python 3",
      "name": "python3"
    },
    "language_info": {
      "name": "python"
    },
    "widgets": {
      "application/vnd.jupyter.widget-state+json": {
        "6d7d317a8d0a48f8b3fd035aae4fae83": {
          "model_module": "@jupyter-widgets/controls",
          "model_name": "HBoxModel",
          "model_module_version": "1.5.0",
          "state": {
            "_dom_classes": [],
            "_model_module": "@jupyter-widgets/controls",
            "_model_module_version": "1.5.0",
            "_model_name": "HBoxModel",
            "_view_count": null,
            "_view_module": "@jupyter-widgets/controls",
            "_view_module_version": "1.5.0",
            "_view_name": "HBoxView",
            "box_style": "",
            "children": [
              "IPY_MODEL_b351b33e7cb6413f960c5cb1cbedc8a9",
              "IPY_MODEL_a97b7c1313c948e2a797acb7919173f5",
              "IPY_MODEL_86d90285c9cb420eacfa44b2aa21738e"
            ],
            "layout": "IPY_MODEL_6cc3cb458df7433098120dcad6a8b8dd"
          }
        },
        "b351b33e7cb6413f960c5cb1cbedc8a9": {
          "model_module": "@jupyter-widgets/controls",
          "model_name": "HTMLModel",
          "model_module_version": "1.5.0",
          "state": {
            "_dom_classes": [],
            "_model_module": "@jupyter-widgets/controls",
            "_model_module_version": "1.5.0",
            "_model_name": "HTMLModel",
            "_view_count": null,
            "_view_module": "@jupyter-widgets/controls",
            "_view_module_version": "1.5.0",
            "_view_name": "HTMLView",
            "description": "",
            "description_tooltip": null,
            "layout": "IPY_MODEL_d06a7c3626b743dd86820f9020f26898",
            "placeholder": "​",
            "style": "IPY_MODEL_c8216971e61e424ca3fe07ce4d3106ad",
            "value": "Downloading: 100%"
          }
        },
        "a97b7c1313c948e2a797acb7919173f5": {
          "model_module": "@jupyter-widgets/controls",
          "model_name": "FloatProgressModel",
          "model_module_version": "1.5.0",
          "state": {
            "_dom_classes": [],
            "_model_module": "@jupyter-widgets/controls",
            "_model_module_version": "1.5.0",
            "_model_name": "FloatProgressModel",
            "_view_count": null,
            "_view_module": "@jupyter-widgets/controls",
            "_view_module_version": "1.5.0",
            "_view_name": "ProgressView",
            "bar_style": "success",
            "description": "",
            "description_tooltip": null,
            "layout": "IPY_MODEL_9cb3e2b9b53243759c21178542ea578c",
            "max": 231508,
            "min": 0,
            "orientation": "horizontal",
            "style": "IPY_MODEL_b094ce600bf044ea86fcdd53424d477b",
            "value": 231508
          }
        },
        "86d90285c9cb420eacfa44b2aa21738e": {
          "model_module": "@jupyter-widgets/controls",
          "model_name": "HTMLModel",
          "model_module_version": "1.5.0",
          "state": {
            "_dom_classes": [],
            "_model_module": "@jupyter-widgets/controls",
            "_model_module_version": "1.5.0",
            "_model_name": "HTMLModel",
            "_view_count": null,
            "_view_module": "@jupyter-widgets/controls",
            "_view_module_version": "1.5.0",
            "_view_name": "HTMLView",
            "description": "",
            "description_tooltip": null,
            "layout": "IPY_MODEL_8330ee00c5234441af7a153a4bc57aef",
            "placeholder": "​",
            "style": "IPY_MODEL_295a8922c73f4af3a75010eb0edb18ca",
            "value": " 226k/226k [00:00&lt;00:00, 976kB/s]"
          }
        },
        "6cc3cb458df7433098120dcad6a8b8dd": {
          "model_module": "@jupyter-widgets/base",
          "model_name": "LayoutModel",
          "model_module_version": "1.2.0",
          "state": {
            "_model_module": "@jupyter-widgets/base",
            "_model_module_version": "1.2.0",
            "_model_name": "LayoutModel",
            "_view_count": null,
            "_view_module": "@jupyter-widgets/base",
            "_view_module_version": "1.2.0",
            "_view_name": "LayoutView",
            "align_content": null,
            "align_items": null,
            "align_self": null,
            "border": null,
            "bottom": null,
            "display": null,
            "flex": null,
            "flex_flow": null,
            "grid_area": null,
            "grid_auto_columns": null,
            "grid_auto_flow": null,
            "grid_auto_rows": null,
            "grid_column": null,
            "grid_gap": null,
            "grid_row": null,
            "grid_template_areas": null,
            "grid_template_columns": null,
            "grid_template_rows": null,
            "height": null,
            "justify_content": null,
            "justify_items": null,
            "left": null,
            "margin": null,
            "max_height": null,
            "max_width": null,
            "min_height": null,
            "min_width": null,
            "object_fit": null,
            "object_position": null,
            "order": null,
            "overflow": null,
            "overflow_x": null,
            "overflow_y": null,
            "padding": null,
            "right": null,
            "top": null,
            "visibility": null,
            "width": null
          }
        },
        "d06a7c3626b743dd86820f9020f26898": {
          "model_module": "@jupyter-widgets/base",
          "model_name": "LayoutModel",
          "model_module_version": "1.2.0",
          "state": {
            "_model_module": "@jupyter-widgets/base",
            "_model_module_version": "1.2.0",
            "_model_name": "LayoutModel",
            "_view_count": null,
            "_view_module": "@jupyter-widgets/base",
            "_view_module_version": "1.2.0",
            "_view_name": "LayoutView",
            "align_content": null,
            "align_items": null,
            "align_self": null,
            "border": null,
            "bottom": null,
            "display": null,
            "flex": null,
            "flex_flow": null,
            "grid_area": null,
            "grid_auto_columns": null,
            "grid_auto_flow": null,
            "grid_auto_rows": null,
            "grid_column": null,
            "grid_gap": null,
            "grid_row": null,
            "grid_template_areas": null,
            "grid_template_columns": null,
            "grid_template_rows": null,
            "height": null,
            "justify_content": null,
            "justify_items": null,
            "left": null,
            "margin": null,
            "max_height": null,
            "max_width": null,
            "min_height": null,
            "min_width": null,
            "object_fit": null,
            "object_position": null,
            "order": null,
            "overflow": null,
            "overflow_x": null,
            "overflow_y": null,
            "padding": null,
            "right": null,
            "top": null,
            "visibility": null,
            "width": null
          }
        },
        "c8216971e61e424ca3fe07ce4d3106ad": {
          "model_module": "@jupyter-widgets/controls",
          "model_name": "DescriptionStyleModel",
          "model_module_version": "1.5.0",
          "state": {
            "_model_module": "@jupyter-widgets/controls",
            "_model_module_version": "1.5.0",
            "_model_name": "DescriptionStyleModel",
            "_view_count": null,
            "_view_module": "@jupyter-widgets/base",
            "_view_module_version": "1.2.0",
            "_view_name": "StyleView",
            "description_width": ""
          }
        },
        "9cb3e2b9b53243759c21178542ea578c": {
          "model_module": "@jupyter-widgets/base",
          "model_name": "LayoutModel",
          "model_module_version": "1.2.0",
          "state": {
            "_model_module": "@jupyter-widgets/base",
            "_model_module_version": "1.2.0",
            "_model_name": "LayoutModel",
            "_view_count": null,
            "_view_module": "@jupyter-widgets/base",
            "_view_module_version": "1.2.0",
            "_view_name": "LayoutView",
            "align_content": null,
            "align_items": null,
            "align_self": null,
            "border": null,
            "bottom": null,
            "display": null,
            "flex": null,
            "flex_flow": null,
            "grid_area": null,
            "grid_auto_columns": null,
            "grid_auto_flow": null,
            "grid_auto_rows": null,
            "grid_column": null,
            "grid_gap": null,
            "grid_row": null,
            "grid_template_areas": null,
            "grid_template_columns": null,
            "grid_template_rows": null,
            "height": null,
            "justify_content": null,
            "justify_items": null,
            "left": null,
            "margin": null,
            "max_height": null,
            "max_width": null,
            "min_height": null,
            "min_width": null,
            "object_fit": null,
            "object_position": null,
            "order": null,
            "overflow": null,
            "overflow_x": null,
            "overflow_y": null,
            "padding": null,
            "right": null,
            "top": null,
            "visibility": null,
            "width": null
          }
        },
        "b094ce600bf044ea86fcdd53424d477b": {
          "model_module": "@jupyter-widgets/controls",
          "model_name": "ProgressStyleModel",
          "model_module_version": "1.5.0",
          "state": {
            "_model_module": "@jupyter-widgets/controls",
            "_model_module_version": "1.5.0",
            "_model_name": "ProgressStyleModel",
            "_view_count": null,
            "_view_module": "@jupyter-widgets/base",
            "_view_module_version": "1.2.0",
            "_view_name": "StyleView",
            "bar_color": null,
            "description_width": ""
          }
        },
        "8330ee00c5234441af7a153a4bc57aef": {
          "model_module": "@jupyter-widgets/base",
          "model_name": "LayoutModel",
          "model_module_version": "1.2.0",
          "state": {
            "_model_module": "@jupyter-widgets/base",
            "_model_module_version": "1.2.0",
            "_model_name": "LayoutModel",
            "_view_count": null,
            "_view_module": "@jupyter-widgets/base",
            "_view_module_version": "1.2.0",
            "_view_name": "LayoutView",
            "align_content": null,
            "align_items": null,
            "align_self": null,
            "border": null,
            "bottom": null,
            "display": null,
            "flex": null,
            "flex_flow": null,
            "grid_area": null,
            "grid_auto_columns": null,
            "grid_auto_flow": null,
            "grid_auto_rows": null,
            "grid_column": null,
            "grid_gap": null,
            "grid_row": null,
            "grid_template_areas": null,
            "grid_template_columns": null,
            "grid_template_rows": null,
            "height": null,
            "justify_content": null,
            "justify_items": null,
            "left": null,
            "margin": null,
            "max_height": null,
            "max_width": null,
            "min_height": null,
            "min_width": null,
            "object_fit": null,
            "object_position": null,
            "order": null,
            "overflow": null,
            "overflow_x": null,
            "overflow_y": null,
            "padding": null,
            "right": null,
            "top": null,
            "visibility": null,
            "width": null
          }
        },
        "295a8922c73f4af3a75010eb0edb18ca": {
          "model_module": "@jupyter-widgets/controls",
          "model_name": "DescriptionStyleModel",
          "model_module_version": "1.5.0",
          "state": {
            "_model_module": "@jupyter-widgets/controls",
            "_model_module_version": "1.5.0",
            "_model_name": "DescriptionStyleModel",
            "_view_count": null,
            "_view_module": "@jupyter-widgets/base",
            "_view_module_version": "1.2.0",
            "_view_name": "StyleView",
            "description_width": ""
          }
        },
        "cb1e626d925b4c86a776d93da550b132": {
          "model_module": "@jupyter-widgets/controls",
          "model_name": "HBoxModel",
          "model_module_version": "1.5.0",
          "state": {
            "_dom_classes": [],
            "_model_module": "@jupyter-widgets/controls",
            "_model_module_version": "1.5.0",
            "_model_name": "HBoxModel",
            "_view_count": null,
            "_view_module": "@jupyter-widgets/controls",
            "_view_module_version": "1.5.0",
            "_view_name": "HBoxView",
            "box_style": "",
            "children": [
              "IPY_MODEL_eb3477b8447f4b2bbec443262f1aa13b",
              "IPY_MODEL_d23a7752c13b418998c0f05bb87145b8",
              "IPY_MODEL_e2bdbb03f8b44a2f80488d166b262d03"
            ],
            "layout": "IPY_MODEL_7fb466bf35064fbdbae8b849c6c6ade2"
          }
        },
        "eb3477b8447f4b2bbec443262f1aa13b": {
          "model_module": "@jupyter-widgets/controls",
          "model_name": "HTMLModel",
          "model_module_version": "1.5.0",
          "state": {
            "_dom_classes": [],
            "_model_module": "@jupyter-widgets/controls",
            "_model_module_version": "1.5.0",
            "_model_name": "HTMLModel",
            "_view_count": null,
            "_view_module": "@jupyter-widgets/controls",
            "_view_module_version": "1.5.0",
            "_view_name": "HTMLView",
            "description": "",
            "description_tooltip": null,
            "layout": "IPY_MODEL_20055306f3974eb994690354c26f0646",
            "placeholder": "​",
            "style": "IPY_MODEL_43deca47b9d04ce4982dc017d021d658",
            "value": "Downloading: 100%"
          }
        },
        "d23a7752c13b418998c0f05bb87145b8": {
          "model_module": "@jupyter-widgets/controls",
          "model_name": "FloatProgressModel",
          "model_module_version": "1.5.0",
          "state": {
            "_dom_classes": [],
            "_model_module": "@jupyter-widgets/controls",
            "_model_module_version": "1.5.0",
            "_model_name": "FloatProgressModel",
            "_view_count": null,
            "_view_module": "@jupyter-widgets/controls",
            "_view_module_version": "1.5.0",
            "_view_name": "ProgressView",
            "bar_style": "success",
            "description": "",
            "description_tooltip": null,
            "layout": "IPY_MODEL_c7f05627a73c4241a51ee6413e70ee4f",
            "max": 48,
            "min": 0,
            "orientation": "horizontal",
            "style": "IPY_MODEL_64830e08828a434fbae2f41661e16610",
            "value": 48
          }
        },
        "e2bdbb03f8b44a2f80488d166b262d03": {
          "model_module": "@jupyter-widgets/controls",
          "model_name": "HTMLModel",
          "model_module_version": "1.5.0",
          "state": {
            "_dom_classes": [],
            "_model_module": "@jupyter-widgets/controls",
            "_model_module_version": "1.5.0",
            "_model_name": "HTMLModel",
            "_view_count": null,
            "_view_module": "@jupyter-widgets/controls",
            "_view_module_version": "1.5.0",
            "_view_name": "HTMLView",
            "description": "",
            "description_tooltip": null,
            "layout": "IPY_MODEL_2b67497c279e4b23a22ebb81703c70a9",
            "placeholder": "​",
            "style": "IPY_MODEL_cd6b25d7e14d40dcbb9e40f8332da090",
            "value": " 48.0/48.0 [00:00&lt;00:00, 3.73kB/s]"
          }
        },
        "7fb466bf35064fbdbae8b849c6c6ade2": {
          "model_module": "@jupyter-widgets/base",
          "model_name": "LayoutModel",
          "model_module_version": "1.2.0",
          "state": {
            "_model_module": "@jupyter-widgets/base",
            "_model_module_version": "1.2.0",
            "_model_name": "LayoutModel",
            "_view_count": null,
            "_view_module": "@jupyter-widgets/base",
            "_view_module_version": "1.2.0",
            "_view_name": "LayoutView",
            "align_content": null,
            "align_items": null,
            "align_self": null,
            "border": null,
            "bottom": null,
            "display": null,
            "flex": null,
            "flex_flow": null,
            "grid_area": null,
            "grid_auto_columns": null,
            "grid_auto_flow": null,
            "grid_auto_rows": null,
            "grid_column": null,
            "grid_gap": null,
            "grid_row": null,
            "grid_template_areas": null,
            "grid_template_columns": null,
            "grid_template_rows": null,
            "height": null,
            "justify_content": null,
            "justify_items": null,
            "left": null,
            "margin": null,
            "max_height": null,
            "max_width": null,
            "min_height": null,
            "min_width": null,
            "object_fit": null,
            "object_position": null,
            "order": null,
            "overflow": null,
            "overflow_x": null,
            "overflow_y": null,
            "padding": null,
            "right": null,
            "top": null,
            "visibility": null,
            "width": null
          }
        },
        "20055306f3974eb994690354c26f0646": {
          "model_module": "@jupyter-widgets/base",
          "model_name": "LayoutModel",
          "model_module_version": "1.2.0",
          "state": {
            "_model_module": "@jupyter-widgets/base",
            "_model_module_version": "1.2.0",
            "_model_name": "LayoutModel",
            "_view_count": null,
            "_view_module": "@jupyter-widgets/base",
            "_view_module_version": "1.2.0",
            "_view_name": "LayoutView",
            "align_content": null,
            "align_items": null,
            "align_self": null,
            "border": null,
            "bottom": null,
            "display": null,
            "flex": null,
            "flex_flow": null,
            "grid_area": null,
            "grid_auto_columns": null,
            "grid_auto_flow": null,
            "grid_auto_rows": null,
            "grid_column": null,
            "grid_gap": null,
            "grid_row": null,
            "grid_template_areas": null,
            "grid_template_columns": null,
            "grid_template_rows": null,
            "height": null,
            "justify_content": null,
            "justify_items": null,
            "left": null,
            "margin": null,
            "max_height": null,
            "max_width": null,
            "min_height": null,
            "min_width": null,
            "object_fit": null,
            "object_position": null,
            "order": null,
            "overflow": null,
            "overflow_x": null,
            "overflow_y": null,
            "padding": null,
            "right": null,
            "top": null,
            "visibility": null,
            "width": null
          }
        },
        "43deca47b9d04ce4982dc017d021d658": {
          "model_module": "@jupyter-widgets/controls",
          "model_name": "DescriptionStyleModel",
          "model_module_version": "1.5.0",
          "state": {
            "_model_module": "@jupyter-widgets/controls",
            "_model_module_version": "1.5.0",
            "_model_name": "DescriptionStyleModel",
            "_view_count": null,
            "_view_module": "@jupyter-widgets/base",
            "_view_module_version": "1.2.0",
            "_view_name": "StyleView",
            "description_width": ""
          }
        },
        "c7f05627a73c4241a51ee6413e70ee4f": {
          "model_module": "@jupyter-widgets/base",
          "model_name": "LayoutModel",
          "model_module_version": "1.2.0",
          "state": {
            "_model_module": "@jupyter-widgets/base",
            "_model_module_version": "1.2.0",
            "_model_name": "LayoutModel",
            "_view_count": null,
            "_view_module": "@jupyter-widgets/base",
            "_view_module_version": "1.2.0",
            "_view_name": "LayoutView",
            "align_content": null,
            "align_items": null,
            "align_self": null,
            "border": null,
            "bottom": null,
            "display": null,
            "flex": null,
            "flex_flow": null,
            "grid_area": null,
            "grid_auto_columns": null,
            "grid_auto_flow": null,
            "grid_auto_rows": null,
            "grid_column": null,
            "grid_gap": null,
            "grid_row": null,
            "grid_template_areas": null,
            "grid_template_columns": null,
            "grid_template_rows": null,
            "height": null,
            "justify_content": null,
            "justify_items": null,
            "left": null,
            "margin": null,
            "max_height": null,
            "max_width": null,
            "min_height": null,
            "min_width": null,
            "object_fit": null,
            "object_position": null,
            "order": null,
            "overflow": null,
            "overflow_x": null,
            "overflow_y": null,
            "padding": null,
            "right": null,
            "top": null,
            "visibility": null,
            "width": null
          }
        },
        "64830e08828a434fbae2f41661e16610": {
          "model_module": "@jupyter-widgets/controls",
          "model_name": "ProgressStyleModel",
          "model_module_version": "1.5.0",
          "state": {
            "_model_module": "@jupyter-widgets/controls",
            "_model_module_version": "1.5.0",
            "_model_name": "ProgressStyleModel",
            "_view_count": null,
            "_view_module": "@jupyter-widgets/base",
            "_view_module_version": "1.2.0",
            "_view_name": "StyleView",
            "bar_color": null,
            "description_width": ""
          }
        },
        "2b67497c279e4b23a22ebb81703c70a9": {
          "model_module": "@jupyter-widgets/base",
          "model_name": "LayoutModel",
          "model_module_version": "1.2.0",
          "state": {
            "_model_module": "@jupyter-widgets/base",
            "_model_module_version": "1.2.0",
            "_model_name": "LayoutModel",
            "_view_count": null,
            "_view_module": "@jupyter-widgets/base",
            "_view_module_version": "1.2.0",
            "_view_name": "LayoutView",
            "align_content": null,
            "align_items": null,
            "align_self": null,
            "border": null,
            "bottom": null,
            "display": null,
            "flex": null,
            "flex_flow": null,
            "grid_area": null,
            "grid_auto_columns": null,
            "grid_auto_flow": null,
            "grid_auto_rows": null,
            "grid_column": null,
            "grid_gap": null,
            "grid_row": null,
            "grid_template_areas": null,
            "grid_template_columns": null,
            "grid_template_rows": null,
            "height": null,
            "justify_content": null,
            "justify_items": null,
            "left": null,
            "margin": null,
            "max_height": null,
            "max_width": null,
            "min_height": null,
            "min_width": null,
            "object_fit": null,
            "object_position": null,
            "order": null,
            "overflow": null,
            "overflow_x": null,
            "overflow_y": null,
            "padding": null,
            "right": null,
            "top": null,
            "visibility": null,
            "width": null
          }
        },
        "cd6b25d7e14d40dcbb9e40f8332da090": {
          "model_module": "@jupyter-widgets/controls",
          "model_name": "DescriptionStyleModel",
          "model_module_version": "1.5.0",
          "state": {
            "_model_module": "@jupyter-widgets/controls",
            "_model_module_version": "1.5.0",
            "_model_name": "DescriptionStyleModel",
            "_view_count": null,
            "_view_module": "@jupyter-widgets/base",
            "_view_module_version": "1.2.0",
            "_view_name": "StyleView",
            "description_width": ""
          }
        },
        "b8c1a8b3d8ab4d1e94e3c0d0c44548bc": {
          "model_module": "@jupyter-widgets/controls",
          "model_name": "HBoxModel",
          "model_module_version": "1.5.0",
          "state": {
            "_dom_classes": [],
            "_model_module": "@jupyter-widgets/controls",
            "_model_module_version": "1.5.0",
            "_model_name": "HBoxModel",
            "_view_count": null,
            "_view_module": "@jupyter-widgets/controls",
            "_view_module_version": "1.5.0",
            "_view_name": "HBoxView",
            "box_style": "",
            "children": [
              "IPY_MODEL_39731a3de01a4312bd703e3cf639fd3a",
              "IPY_MODEL_b2f874276d6b446ca07409951aa45491",
              "IPY_MODEL_e187697fb33f410494063687890dc0de"
            ],
            "layout": "IPY_MODEL_27a1d0addff340c88f6781196984401f"
          }
        },
        "39731a3de01a4312bd703e3cf639fd3a": {
          "model_module": "@jupyter-widgets/controls",
          "model_name": "HTMLModel",
          "model_module_version": "1.5.0",
          "state": {
            "_dom_classes": [],
            "_model_module": "@jupyter-widgets/controls",
            "_model_module_version": "1.5.0",
            "_model_name": "HTMLModel",
            "_view_count": null,
            "_view_module": "@jupyter-widgets/controls",
            "_view_module_version": "1.5.0",
            "_view_name": "HTMLView",
            "description": "",
            "description_tooltip": null,
            "layout": "IPY_MODEL_2169dd726c994770b57bca22de4cab50",
            "placeholder": "​",
            "style": "IPY_MODEL_836c68c5fadf48629201428256de32bd",
            "value": "Downloading: 100%"
          }
        },
        "b2f874276d6b446ca07409951aa45491": {
          "model_module": "@jupyter-widgets/controls",
          "model_name": "FloatProgressModel",
          "model_module_version": "1.5.0",
          "state": {
            "_dom_classes": [],
            "_model_module": "@jupyter-widgets/controls",
            "_model_module_version": "1.5.0",
            "_model_name": "FloatProgressModel",
            "_view_count": null,
            "_view_module": "@jupyter-widgets/controls",
            "_view_module_version": "1.5.0",
            "_view_name": "ProgressView",
            "bar_style": "success",
            "description": "",
            "description_tooltip": null,
            "layout": "IPY_MODEL_766b48578a1142509a867d43201de6c4",
            "max": 570,
            "min": 0,
            "orientation": "horizontal",
            "style": "IPY_MODEL_6eca13851f2149bd845bc0d679c9a983",
            "value": 570
          }
        },
        "e187697fb33f410494063687890dc0de": {
          "model_module": "@jupyter-widgets/controls",
          "model_name": "HTMLModel",
          "model_module_version": "1.5.0",
          "state": {
            "_dom_classes": [],
            "_model_module": "@jupyter-widgets/controls",
            "_model_module_version": "1.5.0",
            "_model_name": "HTMLModel",
            "_view_count": null,
            "_view_module": "@jupyter-widgets/controls",
            "_view_module_version": "1.5.0",
            "_view_name": "HTMLView",
            "description": "",
            "description_tooltip": null,
            "layout": "IPY_MODEL_95faf289fc2a4884b9bde3d32958efec",
            "placeholder": "​",
            "style": "IPY_MODEL_193335097c904a199e4a46a5517651ad",
            "value": " 570/570 [00:00&lt;00:00, 45.7kB/s]"
          }
        },
        "27a1d0addff340c88f6781196984401f": {
          "model_module": "@jupyter-widgets/base",
          "model_name": "LayoutModel",
          "model_module_version": "1.2.0",
          "state": {
            "_model_module": "@jupyter-widgets/base",
            "_model_module_version": "1.2.0",
            "_model_name": "LayoutModel",
            "_view_count": null,
            "_view_module": "@jupyter-widgets/base",
            "_view_module_version": "1.2.0",
            "_view_name": "LayoutView",
            "align_content": null,
            "align_items": null,
            "align_self": null,
            "border": null,
            "bottom": null,
            "display": null,
            "flex": null,
            "flex_flow": null,
            "grid_area": null,
            "grid_auto_columns": null,
            "grid_auto_flow": null,
            "grid_auto_rows": null,
            "grid_column": null,
            "grid_gap": null,
            "grid_row": null,
            "grid_template_areas": null,
            "grid_template_columns": null,
            "grid_template_rows": null,
            "height": null,
            "justify_content": null,
            "justify_items": null,
            "left": null,
            "margin": null,
            "max_height": null,
            "max_width": null,
            "min_height": null,
            "min_width": null,
            "object_fit": null,
            "object_position": null,
            "order": null,
            "overflow": null,
            "overflow_x": null,
            "overflow_y": null,
            "padding": null,
            "right": null,
            "top": null,
            "visibility": null,
            "width": null
          }
        },
        "2169dd726c994770b57bca22de4cab50": {
          "model_module": "@jupyter-widgets/base",
          "model_name": "LayoutModel",
          "model_module_version": "1.2.0",
          "state": {
            "_model_module": "@jupyter-widgets/base",
            "_model_module_version": "1.2.0",
            "_model_name": "LayoutModel",
            "_view_count": null,
            "_view_module": "@jupyter-widgets/base",
            "_view_module_version": "1.2.0",
            "_view_name": "LayoutView",
            "align_content": null,
            "align_items": null,
            "align_self": null,
            "border": null,
            "bottom": null,
            "display": null,
            "flex": null,
            "flex_flow": null,
            "grid_area": null,
            "grid_auto_columns": null,
            "grid_auto_flow": null,
            "grid_auto_rows": null,
            "grid_column": null,
            "grid_gap": null,
            "grid_row": null,
            "grid_template_areas": null,
            "grid_template_columns": null,
            "grid_template_rows": null,
            "height": null,
            "justify_content": null,
            "justify_items": null,
            "left": null,
            "margin": null,
            "max_height": null,
            "max_width": null,
            "min_height": null,
            "min_width": null,
            "object_fit": null,
            "object_position": null,
            "order": null,
            "overflow": null,
            "overflow_x": null,
            "overflow_y": null,
            "padding": null,
            "right": null,
            "top": null,
            "visibility": null,
            "width": null
          }
        },
        "836c68c5fadf48629201428256de32bd": {
          "model_module": "@jupyter-widgets/controls",
          "model_name": "DescriptionStyleModel",
          "model_module_version": "1.5.0",
          "state": {
            "_model_module": "@jupyter-widgets/controls",
            "_model_module_version": "1.5.0",
            "_model_name": "DescriptionStyleModel",
            "_view_count": null,
            "_view_module": "@jupyter-widgets/base",
            "_view_module_version": "1.2.0",
            "_view_name": "StyleView",
            "description_width": ""
          }
        },
        "766b48578a1142509a867d43201de6c4": {
          "model_module": "@jupyter-widgets/base",
          "model_name": "LayoutModel",
          "model_module_version": "1.2.0",
          "state": {
            "_model_module": "@jupyter-widgets/base",
            "_model_module_version": "1.2.0",
            "_model_name": "LayoutModel",
            "_view_count": null,
            "_view_module": "@jupyter-widgets/base",
            "_view_module_version": "1.2.0",
            "_view_name": "LayoutView",
            "align_content": null,
            "align_items": null,
            "align_self": null,
            "border": null,
            "bottom": null,
            "display": null,
            "flex": null,
            "flex_flow": null,
            "grid_area": null,
            "grid_auto_columns": null,
            "grid_auto_flow": null,
            "grid_auto_rows": null,
            "grid_column": null,
            "grid_gap": null,
            "grid_row": null,
            "grid_template_areas": null,
            "grid_template_columns": null,
            "grid_template_rows": null,
            "height": null,
            "justify_content": null,
            "justify_items": null,
            "left": null,
            "margin": null,
            "max_height": null,
            "max_width": null,
            "min_height": null,
            "min_width": null,
            "object_fit": null,
            "object_position": null,
            "order": null,
            "overflow": null,
            "overflow_x": null,
            "overflow_y": null,
            "padding": null,
            "right": null,
            "top": null,
            "visibility": null,
            "width": null
          }
        },
        "6eca13851f2149bd845bc0d679c9a983": {
          "model_module": "@jupyter-widgets/controls",
          "model_name": "ProgressStyleModel",
          "model_module_version": "1.5.0",
          "state": {
            "_model_module": "@jupyter-widgets/controls",
            "_model_module_version": "1.5.0",
            "_model_name": "ProgressStyleModel",
            "_view_count": null,
            "_view_module": "@jupyter-widgets/base",
            "_view_module_version": "1.2.0",
            "_view_name": "StyleView",
            "bar_color": null,
            "description_width": ""
          }
        },
        "95faf289fc2a4884b9bde3d32958efec": {
          "model_module": "@jupyter-widgets/base",
          "model_name": "LayoutModel",
          "model_module_version": "1.2.0",
          "state": {
            "_model_module": "@jupyter-widgets/base",
            "_model_module_version": "1.2.0",
            "_model_name": "LayoutModel",
            "_view_count": null,
            "_view_module": "@jupyter-widgets/base",
            "_view_module_version": "1.2.0",
            "_view_name": "LayoutView",
            "align_content": null,
            "align_items": null,
            "align_self": null,
            "border": null,
            "bottom": null,
            "display": null,
            "flex": null,
            "flex_flow": null,
            "grid_area": null,
            "grid_auto_columns": null,
            "grid_auto_flow": null,
            "grid_auto_rows": null,
            "grid_column": null,
            "grid_gap": null,
            "grid_row": null,
            "grid_template_areas": null,
            "grid_template_columns": null,
            "grid_template_rows": null,
            "height": null,
            "justify_content": null,
            "justify_items": null,
            "left": null,
            "margin": null,
            "max_height": null,
            "max_width": null,
            "min_height": null,
            "min_width": null,
            "object_fit": null,
            "object_position": null,
            "order": null,
            "overflow": null,
            "overflow_x": null,
            "overflow_y": null,
            "padding": null,
            "right": null,
            "top": null,
            "visibility": null,
            "width": null
          }
        },
        "193335097c904a199e4a46a5517651ad": {
          "model_module": "@jupyter-widgets/controls",
          "model_name": "DescriptionStyleModel",
          "model_module_version": "1.5.0",
          "state": {
            "_model_module": "@jupyter-widgets/controls",
            "_model_module_version": "1.5.0",
            "_model_name": "DescriptionStyleModel",
            "_view_count": null,
            "_view_module": "@jupyter-widgets/base",
            "_view_module_version": "1.2.0",
            "_view_name": "StyleView",
            "description_width": ""
          }
        },
        "3aaeafbfc0d949afaa6bfb028b2b4ec8": {
          "model_module": "@jupyter-widgets/controls",
          "model_name": "HBoxModel",
          "model_module_version": "1.5.0",
          "state": {
            "_dom_classes": [],
            "_model_module": "@jupyter-widgets/controls",
            "_model_module_version": "1.5.0",
            "_model_name": "HBoxModel",
            "_view_count": null,
            "_view_module": "@jupyter-widgets/controls",
            "_view_module_version": "1.5.0",
            "_view_name": "HBoxView",
            "box_style": "",
            "children": [
              "IPY_MODEL_0d6b05c9d06c45f68123788e03cbb5e4",
              "IPY_MODEL_82586aa116e34ee7bf71a3e9afa08368",
              "IPY_MODEL_cc53061cdde34b62a247cf081225e657"
            ],
            "layout": "IPY_MODEL_ae6696d51888442291d926fd752962e5"
          }
        },
        "0d6b05c9d06c45f68123788e03cbb5e4": {
          "model_module": "@jupyter-widgets/controls",
          "model_name": "HTMLModel",
          "model_module_version": "1.5.0",
          "state": {
            "_dom_classes": [],
            "_model_module": "@jupyter-widgets/controls",
            "_model_module_version": "1.5.0",
            "_model_name": "HTMLModel",
            "_view_count": null,
            "_view_module": "@jupyter-widgets/controls",
            "_view_module_version": "1.5.0",
            "_view_name": "HTMLView",
            "description": "",
            "description_tooltip": null,
            "layout": "IPY_MODEL_d4f96e83700a4eb69a3e45340bff04bf",
            "placeholder": "​",
            "style": "IPY_MODEL_05c14f50a8834e53887351dc6db8fa5f",
            "value": "Downloading: 100%"
          }
        },
        "82586aa116e34ee7bf71a3e9afa08368": {
          "model_module": "@jupyter-widgets/controls",
          "model_name": "FloatProgressModel",
          "model_module_version": "1.5.0",
          "state": {
            "_dom_classes": [],
            "_model_module": "@jupyter-widgets/controls",
            "_model_module_version": "1.5.0",
            "_model_name": "FloatProgressModel",
            "_view_count": null,
            "_view_module": "@jupyter-widgets/controls",
            "_view_module_version": "1.5.0",
            "_view_name": "ProgressView",
            "bar_style": "success",
            "description": "",
            "description_tooltip": null,
            "layout": "IPY_MODEL_48f578514b894858a8f914ba0334a3e1",
            "max": 536063208,
            "min": 0,
            "orientation": "horizontal",
            "style": "IPY_MODEL_27a91eba5b754f07952b01382dd9cde4",
            "value": 536063208
          }
        },
        "cc53061cdde34b62a247cf081225e657": {
          "model_module": "@jupyter-widgets/controls",
          "model_name": "HTMLModel",
          "model_module_version": "1.5.0",
          "state": {
            "_dom_classes": [],
            "_model_module": "@jupyter-widgets/controls",
            "_model_module_version": "1.5.0",
            "_model_name": "HTMLModel",
            "_view_count": null,
            "_view_module": "@jupyter-widgets/controls",
            "_view_module_version": "1.5.0",
            "_view_name": "HTMLView",
            "description": "",
            "description_tooltip": null,
            "layout": "IPY_MODEL_f59193152406441f9c2af416601951c3",
            "placeholder": "​",
            "style": "IPY_MODEL_c44172e175994464bf80169babc2b989",
            "value": " 511M/511M [00:06&lt;00:00, 74.0MB/s]"
          }
        },
        "ae6696d51888442291d926fd752962e5": {
          "model_module": "@jupyter-widgets/base",
          "model_name": "LayoutModel",
          "model_module_version": "1.2.0",
          "state": {
            "_model_module": "@jupyter-widgets/base",
            "_model_module_version": "1.2.0",
            "_model_name": "LayoutModel",
            "_view_count": null,
            "_view_module": "@jupyter-widgets/base",
            "_view_module_version": "1.2.0",
            "_view_name": "LayoutView",
            "align_content": null,
            "align_items": null,
            "align_self": null,
            "border": null,
            "bottom": null,
            "display": null,
            "flex": null,
            "flex_flow": null,
            "grid_area": null,
            "grid_auto_columns": null,
            "grid_auto_flow": null,
            "grid_auto_rows": null,
            "grid_column": null,
            "grid_gap": null,
            "grid_row": null,
            "grid_template_areas": null,
            "grid_template_columns": null,
            "grid_template_rows": null,
            "height": null,
            "justify_content": null,
            "justify_items": null,
            "left": null,
            "margin": null,
            "max_height": null,
            "max_width": null,
            "min_height": null,
            "min_width": null,
            "object_fit": null,
            "object_position": null,
            "order": null,
            "overflow": null,
            "overflow_x": null,
            "overflow_y": null,
            "padding": null,
            "right": null,
            "top": null,
            "visibility": null,
            "width": null
          }
        },
        "d4f96e83700a4eb69a3e45340bff04bf": {
          "model_module": "@jupyter-widgets/base",
          "model_name": "LayoutModel",
          "model_module_version": "1.2.0",
          "state": {
            "_model_module": "@jupyter-widgets/base",
            "_model_module_version": "1.2.0",
            "_model_name": "LayoutModel",
            "_view_count": null,
            "_view_module": "@jupyter-widgets/base",
            "_view_module_version": "1.2.0",
            "_view_name": "LayoutView",
            "align_content": null,
            "align_items": null,
            "align_self": null,
            "border": null,
            "bottom": null,
            "display": null,
            "flex": null,
            "flex_flow": null,
            "grid_area": null,
            "grid_auto_columns": null,
            "grid_auto_flow": null,
            "grid_auto_rows": null,
            "grid_column": null,
            "grid_gap": null,
            "grid_row": null,
            "grid_template_areas": null,
            "grid_template_columns": null,
            "grid_template_rows": null,
            "height": null,
            "justify_content": null,
            "justify_items": null,
            "left": null,
            "margin": null,
            "max_height": null,
            "max_width": null,
            "min_height": null,
            "min_width": null,
            "object_fit": null,
            "object_position": null,
            "order": null,
            "overflow": null,
            "overflow_x": null,
            "overflow_y": null,
            "padding": null,
            "right": null,
            "top": null,
            "visibility": null,
            "width": null
          }
        },
        "05c14f50a8834e53887351dc6db8fa5f": {
          "model_module": "@jupyter-widgets/controls",
          "model_name": "DescriptionStyleModel",
          "model_module_version": "1.5.0",
          "state": {
            "_model_module": "@jupyter-widgets/controls",
            "_model_module_version": "1.5.0",
            "_model_name": "DescriptionStyleModel",
            "_view_count": null,
            "_view_module": "@jupyter-widgets/base",
            "_view_module_version": "1.2.0",
            "_view_name": "StyleView",
            "description_width": ""
          }
        },
        "48f578514b894858a8f914ba0334a3e1": {
          "model_module": "@jupyter-widgets/base",
          "model_name": "LayoutModel",
          "model_module_version": "1.2.0",
          "state": {
            "_model_module": "@jupyter-widgets/base",
            "_model_module_version": "1.2.0",
            "_model_name": "LayoutModel",
            "_view_count": null,
            "_view_module": "@jupyter-widgets/base",
            "_view_module_version": "1.2.0",
            "_view_name": "LayoutView",
            "align_content": null,
            "align_items": null,
            "align_self": null,
            "border": null,
            "bottom": null,
            "display": null,
            "flex": null,
            "flex_flow": null,
            "grid_area": null,
            "grid_auto_columns": null,
            "grid_auto_flow": null,
            "grid_auto_rows": null,
            "grid_column": null,
            "grid_gap": null,
            "grid_row": null,
            "grid_template_areas": null,
            "grid_template_columns": null,
            "grid_template_rows": null,
            "height": null,
            "justify_content": null,
            "justify_items": null,
            "left": null,
            "margin": null,
            "max_height": null,
            "max_width": null,
            "min_height": null,
            "min_width": null,
            "object_fit": null,
            "object_position": null,
            "order": null,
            "overflow": null,
            "overflow_x": null,
            "overflow_y": null,
            "padding": null,
            "right": null,
            "top": null,
            "visibility": null,
            "width": null
          }
        },
        "27a91eba5b754f07952b01382dd9cde4": {
          "model_module": "@jupyter-widgets/controls",
          "model_name": "ProgressStyleModel",
          "model_module_version": "1.5.0",
          "state": {
            "_model_module": "@jupyter-widgets/controls",
            "_model_module_version": "1.5.0",
            "_model_name": "ProgressStyleModel",
            "_view_count": null,
            "_view_module": "@jupyter-widgets/base",
            "_view_module_version": "1.2.0",
            "_view_name": "StyleView",
            "bar_color": null,
            "description_width": ""
          }
        },
        "f59193152406441f9c2af416601951c3": {
          "model_module": "@jupyter-widgets/base",
          "model_name": "LayoutModel",
          "model_module_version": "1.2.0",
          "state": {
            "_model_module": "@jupyter-widgets/base",
            "_model_module_version": "1.2.0",
            "_model_name": "LayoutModel",
            "_view_count": null,
            "_view_module": "@jupyter-widgets/base",
            "_view_module_version": "1.2.0",
            "_view_name": "LayoutView",
            "align_content": null,
            "align_items": null,
            "align_self": null,
            "border": null,
            "bottom": null,
            "display": null,
            "flex": null,
            "flex_flow": null,
            "grid_area": null,
            "grid_auto_columns": null,
            "grid_auto_flow": null,
            "grid_auto_rows": null,
            "grid_column": null,
            "grid_gap": null,
            "grid_row": null,
            "grid_template_areas": null,
            "grid_template_columns": null,
            "grid_template_rows": null,
            "height": null,
            "justify_content": null,
            "justify_items": null,
            "left": null,
            "margin": null,
            "max_height": null,
            "max_width": null,
            "min_height": null,
            "min_width": null,
            "object_fit": null,
            "object_position": null,
            "order": null,
            "overflow": null,
            "overflow_x": null,
            "overflow_y": null,
            "padding": null,
            "right": null,
            "top": null,
            "visibility": null,
            "width": null
          }
        },
        "c44172e175994464bf80169babc2b989": {
          "model_module": "@jupyter-widgets/controls",
          "model_name": "DescriptionStyleModel",
          "model_module_version": "1.5.0",
          "state": {
            "_model_module": "@jupyter-widgets/controls",
            "_model_module_version": "1.5.0",
            "_model_name": "DescriptionStyleModel",
            "_view_count": null,
            "_view_module": "@jupyter-widgets/base",
            "_view_module_version": "1.2.0",
            "_view_name": "StyleView",
            "description_width": ""
          }
        }
      }
    }
  },
  "nbformat": 4,
  "nbformat_minor": 0
}