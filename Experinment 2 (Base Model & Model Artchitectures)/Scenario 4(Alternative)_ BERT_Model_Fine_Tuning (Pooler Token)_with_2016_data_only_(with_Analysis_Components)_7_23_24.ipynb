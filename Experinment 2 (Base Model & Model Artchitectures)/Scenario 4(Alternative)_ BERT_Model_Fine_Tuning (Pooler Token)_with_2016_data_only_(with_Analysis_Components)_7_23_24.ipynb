{
  "nbformat": 4,
  "nbformat_minor": 0,
  "metadata": {
    "colab": {
      "provenance": [],
      "machine_shape": "hm",
      "gpuType": "A100"
    },
    "kernelspec": {
      "name": "python3",
      "display_name": "Python 3"
    },
    "language_info": {
      "name": "python"
    },
    "accelerator": "GPU",
    "widgets": {
      "application/vnd.jupyter.widget-state+json": {
        "d74d89653e6341e3bba944f0eef167ac": {
          "model_module": "@jupyter-widgets/controls",
          "model_name": "HBoxModel",
          "model_module_version": "1.5.0",
          "state": {
            "_dom_classes": [],
            "_model_module": "@jupyter-widgets/controls",
            "_model_module_version": "1.5.0",
            "_model_name": "HBoxModel",
            "_view_count": null,
            "_view_module": "@jupyter-widgets/controls",
            "_view_module_version": "1.5.0",
            "_view_name": "HBoxView",
            "box_style": "",
            "children": [
              "IPY_MODEL_7a52e88d3cae44f7b67a95b42e39f045",
              "IPY_MODEL_7c38f53ef808479e82aba16caf699984",
              "IPY_MODEL_7e889e30e0f14a448048f79bd3e218a4"
            ],
            "layout": "IPY_MODEL_d913c1adf71240358b46d382db0c57ae"
          }
        },
        "7a52e88d3cae44f7b67a95b42e39f045": {
          "model_module": "@jupyter-widgets/controls",
          "model_name": "HTMLModel",
          "model_module_version": "1.5.0",
          "state": {
            "_dom_classes": [],
            "_model_module": "@jupyter-widgets/controls",
            "_model_module_version": "1.5.0",
            "_model_name": "HTMLModel",
            "_view_count": null,
            "_view_module": "@jupyter-widgets/controls",
            "_view_module_version": "1.5.0",
            "_view_name": "HTMLView",
            "description": "",
            "description_tooltip": null,
            "layout": "IPY_MODEL_71b7eab70eb643ddbac0d73bc7664e52",
            "placeholder": "​",
            "style": "IPY_MODEL_27593c6e02d84c1381d395a59976b951",
            "value": "Downloading: 100%"
          }
        },
        "7c38f53ef808479e82aba16caf699984": {
          "model_module": "@jupyter-widgets/controls",
          "model_name": "FloatProgressModel",
          "model_module_version": "1.5.0",
          "state": {
            "_dom_classes": [],
            "_model_module": "@jupyter-widgets/controls",
            "_model_module_version": "1.5.0",
            "_model_name": "FloatProgressModel",
            "_view_count": null,
            "_view_module": "@jupyter-widgets/controls",
            "_view_module_version": "1.5.0",
            "_view_name": "ProgressView",
            "bar_style": "success",
            "description": "",
            "description_tooltip": null,
            "layout": "IPY_MODEL_df5de28dc0124a5188d3492601f1e43a",
            "max": 231508,
            "min": 0,
            "orientation": "horizontal",
            "style": "IPY_MODEL_db8e88a1bc464ebeb0d7a56d6590d107",
            "value": 231508
          }
        },
        "7e889e30e0f14a448048f79bd3e218a4": {
          "model_module": "@jupyter-widgets/controls",
          "model_name": "HTMLModel",
          "model_module_version": "1.5.0",
          "state": {
            "_dom_classes": [],
            "_model_module": "@jupyter-widgets/controls",
            "_model_module_version": "1.5.0",
            "_model_name": "HTMLModel",
            "_view_count": null,
            "_view_module": "@jupyter-widgets/controls",
            "_view_module_version": "1.5.0",
            "_view_name": "HTMLView",
            "description": "",
            "description_tooltip": null,
            "layout": "IPY_MODEL_5fd48abe1338458b989d78043ff2ad19",
            "placeholder": "​",
            "style": "IPY_MODEL_eb65369765fa4308902d234c38234428",
            "value": " 226k/226k [00:00&lt;00:00, 11.2MB/s]"
          }
        },
        "d913c1adf71240358b46d382db0c57ae": {
          "model_module": "@jupyter-widgets/base",
          "model_name": "LayoutModel",
          "model_module_version": "1.2.0",
          "state": {
            "_model_module": "@jupyter-widgets/base",
            "_model_module_version": "1.2.0",
            "_model_name": "LayoutModel",
            "_view_count": null,
            "_view_module": "@jupyter-widgets/base",
            "_view_module_version": "1.2.0",
            "_view_name": "LayoutView",
            "align_content": null,
            "align_items": null,
            "align_self": null,
            "border": null,
            "bottom": null,
            "display": null,
            "flex": null,
            "flex_flow": null,
            "grid_area": null,
            "grid_auto_columns": null,
            "grid_auto_flow": null,
            "grid_auto_rows": null,
            "grid_column": null,
            "grid_gap": null,
            "grid_row": null,
            "grid_template_areas": null,
            "grid_template_columns": null,
            "grid_template_rows": null,
            "height": null,
            "justify_content": null,
            "justify_items": null,
            "left": null,
            "margin": null,
            "max_height": null,
            "max_width": null,
            "min_height": null,
            "min_width": null,
            "object_fit": null,
            "object_position": null,
            "order": null,
            "overflow": null,
            "overflow_x": null,
            "overflow_y": null,
            "padding": null,
            "right": null,
            "top": null,
            "visibility": null,
            "width": null
          }
        },
        "71b7eab70eb643ddbac0d73bc7664e52": {
          "model_module": "@jupyter-widgets/base",
          "model_name": "LayoutModel",
          "model_module_version": "1.2.0",
          "state": {
            "_model_module": "@jupyter-widgets/base",
            "_model_module_version": "1.2.0",
            "_model_name": "LayoutModel",
            "_view_count": null,
            "_view_module": "@jupyter-widgets/base",
            "_view_module_version": "1.2.0",
            "_view_name": "LayoutView",
            "align_content": null,
            "align_items": null,
            "align_self": null,
            "border": null,
            "bottom": null,
            "display": null,
            "flex": null,
            "flex_flow": null,
            "grid_area": null,
            "grid_auto_columns": null,
            "grid_auto_flow": null,
            "grid_auto_rows": null,
            "grid_column": null,
            "grid_gap": null,
            "grid_row": null,
            "grid_template_areas": null,
            "grid_template_columns": null,
            "grid_template_rows": null,
            "height": null,
            "justify_content": null,
            "justify_items": null,
            "left": null,
            "margin": null,
            "max_height": null,
            "max_width": null,
            "min_height": null,
            "min_width": null,
            "object_fit": null,
            "object_position": null,
            "order": null,
            "overflow": null,
            "overflow_x": null,
            "overflow_y": null,
            "padding": null,
            "right": null,
            "top": null,
            "visibility": null,
            "width": null
          }
        },
        "27593c6e02d84c1381d395a59976b951": {
          "model_module": "@jupyter-widgets/controls",
          "model_name": "DescriptionStyleModel",
          "model_module_version": "1.5.0",
          "state": {
            "_model_module": "@jupyter-widgets/controls",
            "_model_module_version": "1.5.0",
            "_model_name": "DescriptionStyleModel",
            "_view_count": null,
            "_view_module": "@jupyter-widgets/base",
            "_view_module_version": "1.2.0",
            "_view_name": "StyleView",
            "description_width": ""
          }
        },
        "df5de28dc0124a5188d3492601f1e43a": {
          "model_module": "@jupyter-widgets/base",
          "model_name": "LayoutModel",
          "model_module_version": "1.2.0",
          "state": {
            "_model_module": "@jupyter-widgets/base",
            "_model_module_version": "1.2.0",
            "_model_name": "LayoutModel",
            "_view_count": null,
            "_view_module": "@jupyter-widgets/base",
            "_view_module_version": "1.2.0",
            "_view_name": "LayoutView",
            "align_content": null,
            "align_items": null,
            "align_self": null,
            "border": null,
            "bottom": null,
            "display": null,
            "flex": null,
            "flex_flow": null,
            "grid_area": null,
            "grid_auto_columns": null,
            "grid_auto_flow": null,
            "grid_auto_rows": null,
            "grid_column": null,
            "grid_gap": null,
            "grid_row": null,
            "grid_template_areas": null,
            "grid_template_columns": null,
            "grid_template_rows": null,
            "height": null,
            "justify_content": null,
            "justify_items": null,
            "left": null,
            "margin": null,
            "max_height": null,
            "max_width": null,
            "min_height": null,
            "min_width": null,
            "object_fit": null,
            "object_position": null,
            "order": null,
            "overflow": null,
            "overflow_x": null,
            "overflow_y": null,
            "padding": null,
            "right": null,
            "top": null,
            "visibility": null,
            "width": null
          }
        },
        "db8e88a1bc464ebeb0d7a56d6590d107": {
          "model_module": "@jupyter-widgets/controls",
          "model_name": "ProgressStyleModel",
          "model_module_version": "1.5.0",
          "state": {
            "_model_module": "@jupyter-widgets/controls",
            "_model_module_version": "1.5.0",
            "_model_name": "ProgressStyleModel",
            "_view_count": null,
            "_view_module": "@jupyter-widgets/base",
            "_view_module_version": "1.2.0",
            "_view_name": "StyleView",
            "bar_color": null,
            "description_width": ""
          }
        },
        "5fd48abe1338458b989d78043ff2ad19": {
          "model_module": "@jupyter-widgets/base",
          "model_name": "LayoutModel",
          "model_module_version": "1.2.0",
          "state": {
            "_model_module": "@jupyter-widgets/base",
            "_model_module_version": "1.2.0",
            "_model_name": "LayoutModel",
            "_view_count": null,
            "_view_module": "@jupyter-widgets/base",
            "_view_module_version": "1.2.0",
            "_view_name": "LayoutView",
            "align_content": null,
            "align_items": null,
            "align_self": null,
            "border": null,
            "bottom": null,
            "display": null,
            "flex": null,
            "flex_flow": null,
            "grid_area": null,
            "grid_auto_columns": null,
            "grid_auto_flow": null,
            "grid_auto_rows": null,
            "grid_column": null,
            "grid_gap": null,
            "grid_row": null,
            "grid_template_areas": null,
            "grid_template_columns": null,
            "grid_template_rows": null,
            "height": null,
            "justify_content": null,
            "justify_items": null,
            "left": null,
            "margin": null,
            "max_height": null,
            "max_width": null,
            "min_height": null,
            "min_width": null,
            "object_fit": null,
            "object_position": null,
            "order": null,
            "overflow": null,
            "overflow_x": null,
            "overflow_y": null,
            "padding": null,
            "right": null,
            "top": null,
            "visibility": null,
            "width": null
          }
        },
        "eb65369765fa4308902d234c38234428": {
          "model_module": "@jupyter-widgets/controls",
          "model_name": "DescriptionStyleModel",
          "model_module_version": "1.5.0",
          "state": {
            "_model_module": "@jupyter-widgets/controls",
            "_model_module_version": "1.5.0",
            "_model_name": "DescriptionStyleModel",
            "_view_count": null,
            "_view_module": "@jupyter-widgets/base",
            "_view_module_version": "1.2.0",
            "_view_name": "StyleView",
            "description_width": ""
          }
        },
        "466140e197c643cb964638912bed866c": {
          "model_module": "@jupyter-widgets/controls",
          "model_name": "HBoxModel",
          "model_module_version": "1.5.0",
          "state": {
            "_dom_classes": [],
            "_model_module": "@jupyter-widgets/controls",
            "_model_module_version": "1.5.0",
            "_model_name": "HBoxModel",
            "_view_count": null,
            "_view_module": "@jupyter-widgets/controls",
            "_view_module_version": "1.5.0",
            "_view_name": "HBoxView",
            "box_style": "",
            "children": [
              "IPY_MODEL_2f2a9bf1e4db400392f415313160bfe5",
              "IPY_MODEL_c36ae7038f2548769677131253ef9f44",
              "IPY_MODEL_f96c7bbd47ff498387a8a09581c5e6de"
            ],
            "layout": "IPY_MODEL_be24f5e9be494a2f816d971bc4e00929"
          }
        },
        "2f2a9bf1e4db400392f415313160bfe5": {
          "model_module": "@jupyter-widgets/controls",
          "model_name": "HTMLModel",
          "model_module_version": "1.5.0",
          "state": {
            "_dom_classes": [],
            "_model_module": "@jupyter-widgets/controls",
            "_model_module_version": "1.5.0",
            "_model_name": "HTMLModel",
            "_view_count": null,
            "_view_module": "@jupyter-widgets/controls",
            "_view_module_version": "1.5.0",
            "_view_name": "HTMLView",
            "description": "",
            "description_tooltip": null,
            "layout": "IPY_MODEL_a5312c69a5f947839440b133c70490f5",
            "placeholder": "​",
            "style": "IPY_MODEL_6648d8ade8114748a6e675a174038507",
            "value": "Downloading: 100%"
          }
        },
        "c36ae7038f2548769677131253ef9f44": {
          "model_module": "@jupyter-widgets/controls",
          "model_name": "FloatProgressModel",
          "model_module_version": "1.5.0",
          "state": {
            "_dom_classes": [],
            "_model_module": "@jupyter-widgets/controls",
            "_model_module_version": "1.5.0",
            "_model_name": "FloatProgressModel",
            "_view_count": null,
            "_view_module": "@jupyter-widgets/controls",
            "_view_module_version": "1.5.0",
            "_view_name": "ProgressView",
            "bar_style": "success",
            "description": "",
            "description_tooltip": null,
            "layout": "IPY_MODEL_3ba93a485dc54d27b0e377483db65d21",
            "max": 48,
            "min": 0,
            "orientation": "horizontal",
            "style": "IPY_MODEL_d5f562a75f89439d9a70d7e04fca16d1",
            "value": 48
          }
        },
        "f96c7bbd47ff498387a8a09581c5e6de": {
          "model_module": "@jupyter-widgets/controls",
          "model_name": "HTMLModel",
          "model_module_version": "1.5.0",
          "state": {
            "_dom_classes": [],
            "_model_module": "@jupyter-widgets/controls",
            "_model_module_version": "1.5.0",
            "_model_name": "HTMLModel",
            "_view_count": null,
            "_view_module": "@jupyter-widgets/controls",
            "_view_module_version": "1.5.0",
            "_view_name": "HTMLView",
            "description": "",
            "description_tooltip": null,
            "layout": "IPY_MODEL_605c506b40f44ac88019f1752099860e",
            "placeholder": "​",
            "style": "IPY_MODEL_b79f1bc328544f5094ef5b1da37b3dba",
            "value": " 48.0/48.0 [00:00&lt;00:00, 3.59kB/s]"
          }
        },
        "be24f5e9be494a2f816d971bc4e00929": {
          "model_module": "@jupyter-widgets/base",
          "model_name": "LayoutModel",
          "model_module_version": "1.2.0",
          "state": {
            "_model_module": "@jupyter-widgets/base",
            "_model_module_version": "1.2.0",
            "_model_name": "LayoutModel",
            "_view_count": null,
            "_view_module": "@jupyter-widgets/base",
            "_view_module_version": "1.2.0",
            "_view_name": "LayoutView",
            "align_content": null,
            "align_items": null,
            "align_self": null,
            "border": null,
            "bottom": null,
            "display": null,
            "flex": null,
            "flex_flow": null,
            "grid_area": null,
            "grid_auto_columns": null,
            "grid_auto_flow": null,
            "grid_auto_rows": null,
            "grid_column": null,
            "grid_gap": null,
            "grid_row": null,
            "grid_template_areas": null,
            "grid_template_columns": null,
            "grid_template_rows": null,
            "height": null,
            "justify_content": null,
            "justify_items": null,
            "left": null,
            "margin": null,
            "max_height": null,
            "max_width": null,
            "min_height": null,
            "min_width": null,
            "object_fit": null,
            "object_position": null,
            "order": null,
            "overflow": null,
            "overflow_x": null,
            "overflow_y": null,
            "padding": null,
            "right": null,
            "top": null,
            "visibility": null,
            "width": null
          }
        },
        "a5312c69a5f947839440b133c70490f5": {
          "model_module": "@jupyter-widgets/base",
          "model_name": "LayoutModel",
          "model_module_version": "1.2.0",
          "state": {
            "_model_module": "@jupyter-widgets/base",
            "_model_module_version": "1.2.0",
            "_model_name": "LayoutModel",
            "_view_count": null,
            "_view_module": "@jupyter-widgets/base",
            "_view_module_version": "1.2.0",
            "_view_name": "LayoutView",
            "align_content": null,
            "align_items": null,
            "align_self": null,
            "border": null,
            "bottom": null,
            "display": null,
            "flex": null,
            "flex_flow": null,
            "grid_area": null,
            "grid_auto_columns": null,
            "grid_auto_flow": null,
            "grid_auto_rows": null,
            "grid_column": null,
            "grid_gap": null,
            "grid_row": null,
            "grid_template_areas": null,
            "grid_template_columns": null,
            "grid_template_rows": null,
            "height": null,
            "justify_content": null,
            "justify_items": null,
            "left": null,
            "margin": null,
            "max_height": null,
            "max_width": null,
            "min_height": null,
            "min_width": null,
            "object_fit": null,
            "object_position": null,
            "order": null,
            "overflow": null,
            "overflow_x": null,
            "overflow_y": null,
            "padding": null,
            "right": null,
            "top": null,
            "visibility": null,
            "width": null
          }
        },
        "6648d8ade8114748a6e675a174038507": {
          "model_module": "@jupyter-widgets/controls",
          "model_name": "DescriptionStyleModel",
          "model_module_version": "1.5.0",
          "state": {
            "_model_module": "@jupyter-widgets/controls",
            "_model_module_version": "1.5.0",
            "_model_name": "DescriptionStyleModel",
            "_view_count": null,
            "_view_module": "@jupyter-widgets/base",
            "_view_module_version": "1.2.0",
            "_view_name": "StyleView",
            "description_width": ""
          }
        },
        "3ba93a485dc54d27b0e377483db65d21": {
          "model_module": "@jupyter-widgets/base",
          "model_name": "LayoutModel",
          "model_module_version": "1.2.0",
          "state": {
            "_model_module": "@jupyter-widgets/base",
            "_model_module_version": "1.2.0",
            "_model_name": "LayoutModel",
            "_view_count": null,
            "_view_module": "@jupyter-widgets/base",
            "_view_module_version": "1.2.0",
            "_view_name": "LayoutView",
            "align_content": null,
            "align_items": null,
            "align_self": null,
            "border": null,
            "bottom": null,
            "display": null,
            "flex": null,
            "flex_flow": null,
            "grid_area": null,
            "grid_auto_columns": null,
            "grid_auto_flow": null,
            "grid_auto_rows": null,
            "grid_column": null,
            "grid_gap": null,
            "grid_row": null,
            "grid_template_areas": null,
            "grid_template_columns": null,
            "grid_template_rows": null,
            "height": null,
            "justify_content": null,
            "justify_items": null,
            "left": null,
            "margin": null,
            "max_height": null,
            "max_width": null,
            "min_height": null,
            "min_width": null,
            "object_fit": null,
            "object_position": null,
            "order": null,
            "overflow": null,
            "overflow_x": null,
            "overflow_y": null,
            "padding": null,
            "right": null,
            "top": null,
            "visibility": null,
            "width": null
          }
        },
        "d5f562a75f89439d9a70d7e04fca16d1": {
          "model_module": "@jupyter-widgets/controls",
          "model_name": "ProgressStyleModel",
          "model_module_version": "1.5.0",
          "state": {
            "_model_module": "@jupyter-widgets/controls",
            "_model_module_version": "1.5.0",
            "_model_name": "ProgressStyleModel",
            "_view_count": null,
            "_view_module": "@jupyter-widgets/base",
            "_view_module_version": "1.2.0",
            "_view_name": "StyleView",
            "bar_color": null,
            "description_width": ""
          }
        },
        "605c506b40f44ac88019f1752099860e": {
          "model_module": "@jupyter-widgets/base",
          "model_name": "LayoutModel",
          "model_module_version": "1.2.0",
          "state": {
            "_model_module": "@jupyter-widgets/base",
            "_model_module_version": "1.2.0",
            "_model_name": "LayoutModel",
            "_view_count": null,
            "_view_module": "@jupyter-widgets/base",
            "_view_module_version": "1.2.0",
            "_view_name": "LayoutView",
            "align_content": null,
            "align_items": null,
            "align_self": null,
            "border": null,
            "bottom": null,
            "display": null,
            "flex": null,
            "flex_flow": null,
            "grid_area": null,
            "grid_auto_columns": null,
            "grid_auto_flow": null,
            "grid_auto_rows": null,
            "grid_column": null,
            "grid_gap": null,
            "grid_row": null,
            "grid_template_areas": null,
            "grid_template_columns": null,
            "grid_template_rows": null,
            "height": null,
            "justify_content": null,
            "justify_items": null,
            "left": null,
            "margin": null,
            "max_height": null,
            "max_width": null,
            "min_height": null,
            "min_width": null,
            "object_fit": null,
            "object_position": null,
            "order": null,
            "overflow": null,
            "overflow_x": null,
            "overflow_y": null,
            "padding": null,
            "right": null,
            "top": null,
            "visibility": null,
            "width": null
          }
        },
        "b79f1bc328544f5094ef5b1da37b3dba": {
          "model_module": "@jupyter-widgets/controls",
          "model_name": "DescriptionStyleModel",
          "model_module_version": "1.5.0",
          "state": {
            "_model_module": "@jupyter-widgets/controls",
            "_model_module_version": "1.5.0",
            "_model_name": "DescriptionStyleModel",
            "_view_count": null,
            "_view_module": "@jupyter-widgets/base",
            "_view_module_version": "1.2.0",
            "_view_name": "StyleView",
            "description_width": ""
          }
        },
        "2f0185cd64ab4728bacf08eee6e1ddba": {
          "model_module": "@jupyter-widgets/controls",
          "model_name": "HBoxModel",
          "model_module_version": "1.5.0",
          "state": {
            "_dom_classes": [],
            "_model_module": "@jupyter-widgets/controls",
            "_model_module_version": "1.5.0",
            "_model_name": "HBoxModel",
            "_view_count": null,
            "_view_module": "@jupyter-widgets/controls",
            "_view_module_version": "1.5.0",
            "_view_name": "HBoxView",
            "box_style": "",
            "children": [
              "IPY_MODEL_98f9cdd89dd94927a31c730d0c339f54",
              "IPY_MODEL_4d5e84f1256d490d920410348ecaa808",
              "IPY_MODEL_bc18f0e13fab482b9543d3290b8bf9e8"
            ],
            "layout": "IPY_MODEL_8a880c94d118438195da40664602a9f4"
          }
        },
        "98f9cdd89dd94927a31c730d0c339f54": {
          "model_module": "@jupyter-widgets/controls",
          "model_name": "HTMLModel",
          "model_module_version": "1.5.0",
          "state": {
            "_dom_classes": [],
            "_model_module": "@jupyter-widgets/controls",
            "_model_module_version": "1.5.0",
            "_model_name": "HTMLModel",
            "_view_count": null,
            "_view_module": "@jupyter-widgets/controls",
            "_view_module_version": "1.5.0",
            "_view_name": "HTMLView",
            "description": "",
            "description_tooltip": null,
            "layout": "IPY_MODEL_10afdf005ed74e01b1cf756a6fc2d3fb",
            "placeholder": "​",
            "style": "IPY_MODEL_551e7e6af7314a0ebaa3d4b920c9bcbf",
            "value": "Downloading: 100%"
          }
        },
        "4d5e84f1256d490d920410348ecaa808": {
          "model_module": "@jupyter-widgets/controls",
          "model_name": "FloatProgressModel",
          "model_module_version": "1.5.0",
          "state": {
            "_dom_classes": [],
            "_model_module": "@jupyter-widgets/controls",
            "_model_module_version": "1.5.0",
            "_model_name": "FloatProgressModel",
            "_view_count": null,
            "_view_module": "@jupyter-widgets/controls",
            "_view_module_version": "1.5.0",
            "_view_name": "ProgressView",
            "bar_style": "success",
            "description": "",
            "description_tooltip": null,
            "layout": "IPY_MODEL_9f8cc9a137b346eebc9b42e0c2ecae5d",
            "max": 570,
            "min": 0,
            "orientation": "horizontal",
            "style": "IPY_MODEL_9687e500f7c44b369582f1acf5a44e26",
            "value": 570
          }
        },
        "bc18f0e13fab482b9543d3290b8bf9e8": {
          "model_module": "@jupyter-widgets/controls",
          "model_name": "HTMLModel",
          "model_module_version": "1.5.0",
          "state": {
            "_dom_classes": [],
            "_model_module": "@jupyter-widgets/controls",
            "_model_module_version": "1.5.0",
            "_model_name": "HTMLModel",
            "_view_count": null,
            "_view_module": "@jupyter-widgets/controls",
            "_view_module_version": "1.5.0",
            "_view_name": "HTMLView",
            "description": "",
            "description_tooltip": null,
            "layout": "IPY_MODEL_f29c1069e7a642c4b5d8a1d666b4fea5",
            "placeholder": "​",
            "style": "IPY_MODEL_6830732302e14884947bf394e2e46ea5",
            "value": " 570/570 [00:00&lt;00:00, 44.8kB/s]"
          }
        },
        "8a880c94d118438195da40664602a9f4": {
          "model_module": "@jupyter-widgets/base",
          "model_name": "LayoutModel",
          "model_module_version": "1.2.0",
          "state": {
            "_model_module": "@jupyter-widgets/base",
            "_model_module_version": "1.2.0",
            "_model_name": "LayoutModel",
            "_view_count": null,
            "_view_module": "@jupyter-widgets/base",
            "_view_module_version": "1.2.0",
            "_view_name": "LayoutView",
            "align_content": null,
            "align_items": null,
            "align_self": null,
            "border": null,
            "bottom": null,
            "display": null,
            "flex": null,
            "flex_flow": null,
            "grid_area": null,
            "grid_auto_columns": null,
            "grid_auto_flow": null,
            "grid_auto_rows": null,
            "grid_column": null,
            "grid_gap": null,
            "grid_row": null,
            "grid_template_areas": null,
            "grid_template_columns": null,
            "grid_template_rows": null,
            "height": null,
            "justify_content": null,
            "justify_items": null,
            "left": null,
            "margin": null,
            "max_height": null,
            "max_width": null,
            "min_height": null,
            "min_width": null,
            "object_fit": null,
            "object_position": null,
            "order": null,
            "overflow": null,
            "overflow_x": null,
            "overflow_y": null,
            "padding": null,
            "right": null,
            "top": null,
            "visibility": null,
            "width": null
          }
        },
        "10afdf005ed74e01b1cf756a6fc2d3fb": {
          "model_module": "@jupyter-widgets/base",
          "model_name": "LayoutModel",
          "model_module_version": "1.2.0",
          "state": {
            "_model_module": "@jupyter-widgets/base",
            "_model_module_version": "1.2.0",
            "_model_name": "LayoutModel",
            "_view_count": null,
            "_view_module": "@jupyter-widgets/base",
            "_view_module_version": "1.2.0",
            "_view_name": "LayoutView",
            "align_content": null,
            "align_items": null,
            "align_self": null,
            "border": null,
            "bottom": null,
            "display": null,
            "flex": null,
            "flex_flow": null,
            "grid_area": null,
            "grid_auto_columns": null,
            "grid_auto_flow": null,
            "grid_auto_rows": null,
            "grid_column": null,
            "grid_gap": null,
            "grid_row": null,
            "grid_template_areas": null,
            "grid_template_columns": null,
            "grid_template_rows": null,
            "height": null,
            "justify_content": null,
            "justify_items": null,
            "left": null,
            "margin": null,
            "max_height": null,
            "max_width": null,
            "min_height": null,
            "min_width": null,
            "object_fit": null,
            "object_position": null,
            "order": null,
            "overflow": null,
            "overflow_x": null,
            "overflow_y": null,
            "padding": null,
            "right": null,
            "top": null,
            "visibility": null,
            "width": null
          }
        },
        "551e7e6af7314a0ebaa3d4b920c9bcbf": {
          "model_module": "@jupyter-widgets/controls",
          "model_name": "DescriptionStyleModel",
          "model_module_version": "1.5.0",
          "state": {
            "_model_module": "@jupyter-widgets/controls",
            "_model_module_version": "1.5.0",
            "_model_name": "DescriptionStyleModel",
            "_view_count": null,
            "_view_module": "@jupyter-widgets/base",
            "_view_module_version": "1.2.0",
            "_view_name": "StyleView",
            "description_width": ""
          }
        },
        "9f8cc9a137b346eebc9b42e0c2ecae5d": {
          "model_module": "@jupyter-widgets/base",
          "model_name": "LayoutModel",
          "model_module_version": "1.2.0",
          "state": {
            "_model_module": "@jupyter-widgets/base",
            "_model_module_version": "1.2.0",
            "_model_name": "LayoutModel",
            "_view_count": null,
            "_view_module": "@jupyter-widgets/base",
            "_view_module_version": "1.2.0",
            "_view_name": "LayoutView",
            "align_content": null,
            "align_items": null,
            "align_self": null,
            "border": null,
            "bottom": null,
            "display": null,
            "flex": null,
            "flex_flow": null,
            "grid_area": null,
            "grid_auto_columns": null,
            "grid_auto_flow": null,
            "grid_auto_rows": null,
            "grid_column": null,
            "grid_gap": null,
            "grid_row": null,
            "grid_template_areas": null,
            "grid_template_columns": null,
            "grid_template_rows": null,
            "height": null,
            "justify_content": null,
            "justify_items": null,
            "left": null,
            "margin": null,
            "max_height": null,
            "max_width": null,
            "min_height": null,
            "min_width": null,
            "object_fit": null,
            "object_position": null,
            "order": null,
            "overflow": null,
            "overflow_x": null,
            "overflow_y": null,
            "padding": null,
            "right": null,
            "top": null,
            "visibility": null,
            "width": null
          }
        },
        "9687e500f7c44b369582f1acf5a44e26": {
          "model_module": "@jupyter-widgets/controls",
          "model_name": "ProgressStyleModel",
          "model_module_version": "1.5.0",
          "state": {
            "_model_module": "@jupyter-widgets/controls",
            "_model_module_version": "1.5.0",
            "_model_name": "ProgressStyleModel",
            "_view_count": null,
            "_view_module": "@jupyter-widgets/base",
            "_view_module_version": "1.2.0",
            "_view_name": "StyleView",
            "bar_color": null,
            "description_width": ""
          }
        },
        "f29c1069e7a642c4b5d8a1d666b4fea5": {
          "model_module": "@jupyter-widgets/base",
          "model_name": "LayoutModel",
          "model_module_version": "1.2.0",
          "state": {
            "_model_module": "@jupyter-widgets/base",
            "_model_module_version": "1.2.0",
            "_model_name": "LayoutModel",
            "_view_count": null,
            "_view_module": "@jupyter-widgets/base",
            "_view_module_version": "1.2.0",
            "_view_name": "LayoutView",
            "align_content": null,
            "align_items": null,
            "align_self": null,
            "border": null,
            "bottom": null,
            "display": null,
            "flex": null,
            "flex_flow": null,
            "grid_area": null,
            "grid_auto_columns": null,
            "grid_auto_flow": null,
            "grid_auto_rows": null,
            "grid_column": null,
            "grid_gap": null,
            "grid_row": null,
            "grid_template_areas": null,
            "grid_template_columns": null,
            "grid_template_rows": null,
            "height": null,
            "justify_content": null,
            "justify_items": null,
            "left": null,
            "margin": null,
            "max_height": null,
            "max_width": null,
            "min_height": null,
            "min_width": null,
            "object_fit": null,
            "object_position": null,
            "order": null,
            "overflow": null,
            "overflow_x": null,
            "overflow_y": null,
            "padding": null,
            "right": null,
            "top": null,
            "visibility": null,
            "width": null
          }
        },
        "6830732302e14884947bf394e2e46ea5": {
          "model_module": "@jupyter-widgets/controls",
          "model_name": "DescriptionStyleModel",
          "model_module_version": "1.5.0",
          "state": {
            "_model_module": "@jupyter-widgets/controls",
            "_model_module_version": "1.5.0",
            "_model_name": "DescriptionStyleModel",
            "_view_count": null,
            "_view_module": "@jupyter-widgets/base",
            "_view_module_version": "1.2.0",
            "_view_name": "StyleView",
            "description_width": ""
          }
        },
        "23008665479a4f93af7536be470478e2": {
          "model_module": "@jupyter-widgets/controls",
          "model_name": "HBoxModel",
          "model_module_version": "1.5.0",
          "state": {
            "_dom_classes": [],
            "_model_module": "@jupyter-widgets/controls",
            "_model_module_version": "1.5.0",
            "_model_name": "HBoxModel",
            "_view_count": null,
            "_view_module": "@jupyter-widgets/controls",
            "_view_module_version": "1.5.0",
            "_view_name": "HBoxView",
            "box_style": "",
            "children": [
              "IPY_MODEL_ada68322423b4f689d34614f528bf52e",
              "IPY_MODEL_99e3f86a373a4d028a05b9ffdfd6d49d",
              "IPY_MODEL_ade861599e3e427c8e982c2f5a04c3b0"
            ],
            "layout": "IPY_MODEL_edb31cbc87174b92b5773036f6f9fdf1"
          }
        },
        "ada68322423b4f689d34614f528bf52e": {
          "model_module": "@jupyter-widgets/controls",
          "model_name": "HTMLModel",
          "model_module_version": "1.5.0",
          "state": {
            "_dom_classes": [],
            "_model_module": "@jupyter-widgets/controls",
            "_model_module_version": "1.5.0",
            "_model_name": "HTMLModel",
            "_view_count": null,
            "_view_module": "@jupyter-widgets/controls",
            "_view_module_version": "1.5.0",
            "_view_name": "HTMLView",
            "description": "",
            "description_tooltip": null,
            "layout": "IPY_MODEL_e91e122616ff4e11a327a353e0125f22",
            "placeholder": "​",
            "style": "IPY_MODEL_a33b1184b015499e8299a19577f74c56",
            "value": "Downloading: 100%"
          }
        },
        "99e3f86a373a4d028a05b9ffdfd6d49d": {
          "model_module": "@jupyter-widgets/controls",
          "model_name": "FloatProgressModel",
          "model_module_version": "1.5.0",
          "state": {
            "_dom_classes": [],
            "_model_module": "@jupyter-widgets/controls",
            "_model_module_version": "1.5.0",
            "_model_name": "FloatProgressModel",
            "_view_count": null,
            "_view_module": "@jupyter-widgets/controls",
            "_view_module_version": "1.5.0",
            "_view_name": "ProgressView",
            "bar_style": "success",
            "description": "",
            "description_tooltip": null,
            "layout": "IPY_MODEL_f8f98c292ce04a10b6bda99b815929ea",
            "max": 536063208,
            "min": 0,
            "orientation": "horizontal",
            "style": "IPY_MODEL_f634742a289e4de1ba3838d3b631ed70",
            "value": 536063208
          }
        },
        "ade861599e3e427c8e982c2f5a04c3b0": {
          "model_module": "@jupyter-widgets/controls",
          "model_name": "HTMLModel",
          "model_module_version": "1.5.0",
          "state": {
            "_dom_classes": [],
            "_model_module": "@jupyter-widgets/controls",
            "_model_module_version": "1.5.0",
            "_model_name": "HTMLModel",
            "_view_count": null,
            "_view_module": "@jupyter-widgets/controls",
            "_view_module_version": "1.5.0",
            "_view_name": "HTMLView",
            "description": "",
            "description_tooltip": null,
            "layout": "IPY_MODEL_73b86441a38c4cad9b7b56e9fff8e81d",
            "placeholder": "​",
            "style": "IPY_MODEL_dd05d415d71640f9bba446182a772faf",
            "value": " 511M/511M [00:06&lt;00:00, 84.1MB/s]"
          }
        },
        "edb31cbc87174b92b5773036f6f9fdf1": {
          "model_module": "@jupyter-widgets/base",
          "model_name": "LayoutModel",
          "model_module_version": "1.2.0",
          "state": {
            "_model_module": "@jupyter-widgets/base",
            "_model_module_version": "1.2.0",
            "_model_name": "LayoutModel",
            "_view_count": null,
            "_view_module": "@jupyter-widgets/base",
            "_view_module_version": "1.2.0",
            "_view_name": "LayoutView",
            "align_content": null,
            "align_items": null,
            "align_self": null,
            "border": null,
            "bottom": null,
            "display": null,
            "flex": null,
            "flex_flow": null,
            "grid_area": null,
            "grid_auto_columns": null,
            "grid_auto_flow": null,
            "grid_auto_rows": null,
            "grid_column": null,
            "grid_gap": null,
            "grid_row": null,
            "grid_template_areas": null,
            "grid_template_columns": null,
            "grid_template_rows": null,
            "height": null,
            "justify_content": null,
            "justify_items": null,
            "left": null,
            "margin": null,
            "max_height": null,
            "max_width": null,
            "min_height": null,
            "min_width": null,
            "object_fit": null,
            "object_position": null,
            "order": null,
            "overflow": null,
            "overflow_x": null,
            "overflow_y": null,
            "padding": null,
            "right": null,
            "top": null,
            "visibility": null,
            "width": null
          }
        },
        "e91e122616ff4e11a327a353e0125f22": {
          "model_module": "@jupyter-widgets/base",
          "model_name": "LayoutModel",
          "model_module_version": "1.2.0",
          "state": {
            "_model_module": "@jupyter-widgets/base",
            "_model_module_version": "1.2.0",
            "_model_name": "LayoutModel",
            "_view_count": null,
            "_view_module": "@jupyter-widgets/base",
            "_view_module_version": "1.2.0",
            "_view_name": "LayoutView",
            "align_content": null,
            "align_items": null,
            "align_self": null,
            "border": null,
            "bottom": null,
            "display": null,
            "flex": null,
            "flex_flow": null,
            "grid_area": null,
            "grid_auto_columns": null,
            "grid_auto_flow": null,
            "grid_auto_rows": null,
            "grid_column": null,
            "grid_gap": null,
            "grid_row": null,
            "grid_template_areas": null,
            "grid_template_columns": null,
            "grid_template_rows": null,
            "height": null,
            "justify_content": null,
            "justify_items": null,
            "left": null,
            "margin": null,
            "max_height": null,
            "max_width": null,
            "min_height": null,
            "min_width": null,
            "object_fit": null,
            "object_position": null,
            "order": null,
            "overflow": null,
            "overflow_x": null,
            "overflow_y": null,
            "padding": null,
            "right": null,
            "top": null,
            "visibility": null,
            "width": null
          }
        },
        "a33b1184b015499e8299a19577f74c56": {
          "model_module": "@jupyter-widgets/controls",
          "model_name": "DescriptionStyleModel",
          "model_module_version": "1.5.0",
          "state": {
            "_model_module": "@jupyter-widgets/controls",
            "_model_module_version": "1.5.0",
            "_model_name": "DescriptionStyleModel",
            "_view_count": null,
            "_view_module": "@jupyter-widgets/base",
            "_view_module_version": "1.2.0",
            "_view_name": "StyleView",
            "description_width": ""
          }
        },
        "f8f98c292ce04a10b6bda99b815929ea": {
          "model_module": "@jupyter-widgets/base",
          "model_name": "LayoutModel",
          "model_module_version": "1.2.0",
          "state": {
            "_model_module": "@jupyter-widgets/base",
            "_model_module_version": "1.2.0",
            "_model_name": "LayoutModel",
            "_view_count": null,
            "_view_module": "@jupyter-widgets/base",
            "_view_module_version": "1.2.0",
            "_view_name": "LayoutView",
            "align_content": null,
            "align_items": null,
            "align_self": null,
            "border": null,
            "bottom": null,
            "display": null,
            "flex": null,
            "flex_flow": null,
            "grid_area": null,
            "grid_auto_columns": null,
            "grid_auto_flow": null,
            "grid_auto_rows": null,
            "grid_column": null,
            "grid_gap": null,
            "grid_row": null,
            "grid_template_areas": null,
            "grid_template_columns": null,
            "grid_template_rows": null,
            "height": null,
            "justify_content": null,
            "justify_items": null,
            "left": null,
            "margin": null,
            "max_height": null,
            "max_width": null,
            "min_height": null,
            "min_width": null,
            "object_fit": null,
            "object_position": null,
            "order": null,
            "overflow": null,
            "overflow_x": null,
            "overflow_y": null,
            "padding": null,
            "right": null,
            "top": null,
            "visibility": null,
            "width": null
          }
        },
        "f634742a289e4de1ba3838d3b631ed70": {
          "model_module": "@jupyter-widgets/controls",
          "model_name": "ProgressStyleModel",
          "model_module_version": "1.5.0",
          "state": {
            "_model_module": "@jupyter-widgets/controls",
            "_model_module_version": "1.5.0",
            "_model_name": "ProgressStyleModel",
            "_view_count": null,
            "_view_module": "@jupyter-widgets/base",
            "_view_module_version": "1.2.0",
            "_view_name": "StyleView",
            "bar_color": null,
            "description_width": ""
          }
        },
        "73b86441a38c4cad9b7b56e9fff8e81d": {
          "model_module": "@jupyter-widgets/base",
          "model_name": "LayoutModel",
          "model_module_version": "1.2.0",
          "state": {
            "_model_module": "@jupyter-widgets/base",
            "_model_module_version": "1.2.0",
            "_model_name": "LayoutModel",
            "_view_count": null,
            "_view_module": "@jupyter-widgets/base",
            "_view_module_version": "1.2.0",
            "_view_name": "LayoutView",
            "align_content": null,
            "align_items": null,
            "align_self": null,
            "border": null,
            "bottom": null,
            "display": null,
            "flex": null,
            "flex_flow": null,
            "grid_area": null,
            "grid_auto_columns": null,
            "grid_auto_flow": null,
            "grid_auto_rows": null,
            "grid_column": null,
            "grid_gap": null,
            "grid_row": null,
            "grid_template_areas": null,
            "grid_template_columns": null,
            "grid_template_rows": null,
            "height": null,
            "justify_content": null,
            "justify_items": null,
            "left": null,
            "margin": null,
            "max_height": null,
            "max_width": null,
            "min_height": null,
            "min_width": null,
            "object_fit": null,
            "object_position": null,
            "order": null,
            "overflow": null,
            "overflow_x": null,
            "overflow_y": null,
            "padding": null,
            "right": null,
            "top": null,
            "visibility": null,
            "width": null
          }
        },
        "dd05d415d71640f9bba446182a772faf": {
          "model_module": "@jupyter-widgets/controls",
          "model_name": "DescriptionStyleModel",
          "model_module_version": "1.5.0",
          "state": {
            "_model_module": "@jupyter-widgets/controls",
            "_model_module_version": "1.5.0",
            "_model_name": "DescriptionStyleModel",
            "_view_count": null,
            "_view_module": "@jupyter-widgets/base",
            "_view_module_version": "1.2.0",
            "_view_name": "StyleView",
            "description_width": ""
          }
        }
      }
    }
  },
  "cells": [
    {
      "cell_type": "code",
      "execution_count": 1,
      "metadata": {
        "id": "4CVDyMAfqUGP"
      },
      "outputs": [],
      "source": [
        "%%capture\n",
        "!pip install tensorflow-datasets==4.8 --quiet\n",
        "!pip install tensorflow==2.15.0 --quiet #15 13\n",
        "!pip install tf_keras==2.15.0 --quiet\n",
        "!pip install tensorflow-text==2.15.0 --quiet #15\n",
        "!pip install pydot --quiet\n",
        "!pip install transformers==4.17 --quiet\n",
        "!pip install -U scikit-learn"
      ]
    },
    {
      "cell_type": "code",
      "source": [
        "#Tensorflow libiries\n",
        "from tensorflow import keras\n",
        "from tensorflow.keras.layers import Embedding, Input, Dense, Lambda\n",
        "from tensorflow.keras.models import Model\n",
        "import tensorflow as tf\n",
        "import tensorflow.keras.backend as K\n",
        "import tensorflow_datasets as tfds\n",
        "\n",
        "#Transformers - BERT from huggingface\n",
        "from transformers import BertTokenizer, TFBertModel\n",
        "from transformers import logging\n",
        "logging.set_verbosity_error()\n",
        "from transformers import AutoConfig\n",
        "from tensorflow.keras.callbacks import EarlyStopping\n",
        "\n",
        "#NLP libiries\n",
        "import sklearn as sk\n",
        "from sklearn.metrics import classification_report\n",
        "import os\n",
        "import nltk\n",
        "from nltk.data import find\n",
        "\n",
        "#data process\n",
        "import re\n",
        "import numpy as np\n",
        "import seaborn as sns\n",
        "import matplotlib.pyplot as plt\n",
        "import multiprocessing\n",
        "import pandas as pd\n",
        "import math\n",
        "from bs4 import BeautifulSoup\n",
        "import os\n",
        "import json\n"
      ],
      "metadata": {
        "id": "8rWTGr5HuknD"
      },
      "execution_count": 2,
      "outputs": []
    },
    {
      "cell_type": "code",
      "source": [
        "#loading the pre-trained tokenizer and model\n",
        "bert_tokenizer = BertTokenizer.from_pretrained('bert-base-uncased')\n",
        "bert_model = TFBertModel.from_pretrained('bert-base-uncased')"
      ],
      "metadata": {
        "colab": {
          "base_uri": "https://localhost:8080/",
          "height": 166,
          "referenced_widgets": [
            "d74d89653e6341e3bba944f0eef167ac",
            "7a52e88d3cae44f7b67a95b42e39f045",
            "7c38f53ef808479e82aba16caf699984",
            "7e889e30e0f14a448048f79bd3e218a4",
            "d913c1adf71240358b46d382db0c57ae",
            "71b7eab70eb643ddbac0d73bc7664e52",
            "27593c6e02d84c1381d395a59976b951",
            "df5de28dc0124a5188d3492601f1e43a",
            "db8e88a1bc464ebeb0d7a56d6590d107",
            "5fd48abe1338458b989d78043ff2ad19",
            "eb65369765fa4308902d234c38234428",
            "466140e197c643cb964638912bed866c",
            "2f2a9bf1e4db400392f415313160bfe5",
            "c36ae7038f2548769677131253ef9f44",
            "f96c7bbd47ff498387a8a09581c5e6de",
            "be24f5e9be494a2f816d971bc4e00929",
            "a5312c69a5f947839440b133c70490f5",
            "6648d8ade8114748a6e675a174038507",
            "3ba93a485dc54d27b0e377483db65d21",
            "d5f562a75f89439d9a70d7e04fca16d1",
            "605c506b40f44ac88019f1752099860e",
            "b79f1bc328544f5094ef5b1da37b3dba",
            "2f0185cd64ab4728bacf08eee6e1ddba",
            "98f9cdd89dd94927a31c730d0c339f54",
            "4d5e84f1256d490d920410348ecaa808",
            "bc18f0e13fab482b9543d3290b8bf9e8",
            "8a880c94d118438195da40664602a9f4",
            "10afdf005ed74e01b1cf756a6fc2d3fb",
            "551e7e6af7314a0ebaa3d4b920c9bcbf",
            "9f8cc9a137b346eebc9b42e0c2ecae5d",
            "9687e500f7c44b369582f1acf5a44e26",
            "f29c1069e7a642c4b5d8a1d666b4fea5",
            "6830732302e14884947bf394e2e46ea5",
            "23008665479a4f93af7536be470478e2",
            "ada68322423b4f689d34614f528bf52e",
            "99e3f86a373a4d028a05b9ffdfd6d49d",
            "ade861599e3e427c8e982c2f5a04c3b0",
            "edb31cbc87174b92b5773036f6f9fdf1",
            "e91e122616ff4e11a327a353e0125f22",
            "a33b1184b015499e8299a19577f74c56",
            "f8f98c292ce04a10b6bda99b815929ea",
            "f634742a289e4de1ba3838d3b631ed70",
            "73b86441a38c4cad9b7b56e9fff8e81d",
            "dd05d415d71640f9bba446182a772faf"
          ]
        },
        "id": "QyG5dUyAvfHc",
        "outputId": "85de07de-5a51-4e4d-c810-a3d4503cee9f"
      },
      "execution_count": 3,
      "outputs": [
        {
          "output_type": "display_data",
          "data": {
            "text/plain": [
              "Downloading:   0%|          | 0.00/226k [00:00<?, ?B/s]"
            ],
            "application/vnd.jupyter.widget-view+json": {
              "version_major": 2,
              "version_minor": 0,
              "model_id": "d74d89653e6341e3bba944f0eef167ac"
            }
          },
          "metadata": {}
        },
        {
          "output_type": "display_data",
          "data": {
            "text/plain": [
              "Downloading:   0%|          | 0.00/48.0 [00:00<?, ?B/s]"
            ],
            "application/vnd.jupyter.widget-view+json": {
              "version_major": 2,
              "version_minor": 0,
              "model_id": "466140e197c643cb964638912bed866c"
            }
          },
          "metadata": {}
        },
        {
          "output_type": "display_data",
          "data": {
            "text/plain": [
              "Downloading:   0%|          | 0.00/570 [00:00<?, ?B/s]"
            ],
            "application/vnd.jupyter.widget-view+json": {
              "version_major": 2,
              "version_minor": 0,
              "model_id": "2f0185cd64ab4728bacf08eee6e1ddba"
            }
          },
          "metadata": {}
        },
        {
          "output_type": "display_data",
          "data": {
            "text/plain": [
              "Downloading:   0%|          | 0.00/511M [00:00<?, ?B/s]"
            ],
            "application/vnd.jupyter.widget-view+json": {
              "version_major": 2,
              "version_minor": 0,
              "model_id": "23008665479a4f93af7536be470478e2"
            }
          },
          "metadata": {}
        }
      ]
    },
    {
      "cell_type": "code",
      "source": [
        "#load the dataset\n",
        "full_dataset=pd.read_csv('full_dataset(Revised).csv')\n",
        "\n",
        "test_dataset=pd.read_csv('full_test_data(Revised).csv')"
      ],
      "metadata": {
        "id": "MBnQJ_WWgOTv"
      },
      "execution_count": 5,
      "outputs": []
    },
    {
      "cell_type": "code",
      "source": [
        "#process the df[date]'s format to date time\n",
        "full_dataset['date'] = pd.to_datetime(full_dataset['date'])\n",
        "test_dataset['date'] = pd.to_datetime(test_dataset['date'])\n",
        "\n",
        "#filter the 2016 dataset for training and taking out the 2016 from the test_dataset\n",
        "train_df = full_dataset[full_dataset['date'].dt.year == 2016]\n",
        "test_df = test_dataset[test_dataset['date'].dt.year != 2016]\n",
        "\n",
        "# Adjust pandas display settings to show all rows and columns\n",
        "pd.set_option('display.max_rows', None)  # Show all rows\n",
        "pd.set_option('display.max_columns', None)  # Show all columns\n",
        "pd.set_option('display.max_colwidth', None)  # Show full content of each column\n",
        "pd.set_option('display.width', None)  # Auto-detect width of the display\n",
        "\n",
        "\n"
      ],
      "metadata": {
        "id": "pkqZfuBwwCuR"
      },
      "execution_count": 6,
      "outputs": []
    },
    {
      "cell_type": "code",
      "source": [
        "test_dataset.info()"
      ],
      "metadata": {
        "colab": {
          "base_uri": "https://localhost:8080/"
        },
        "id": "K12qZY7uC6BJ",
        "outputId": "5b64890e-64dd-4fed-d39c-0fb19ed123e2"
      },
      "execution_count": 14,
      "outputs": [
        {
          "output_type": "stream",
          "name": "stdout",
          "text": [
            "<class 'pandas.core.frame.DataFrame'>\n",
            "RangeIndex: 5029 entries, 0 to 5028\n",
            "Data columns (total 6 columns):\n",
            " #   Column            Non-Null Count  Dtype         \n",
            "---  ------            --------------  -----         \n",
            " 0   title             5029 non-null   object        \n",
            " 1   date              5029 non-null   datetime64[ns]\n",
            " 2   content_original  5029 non-null   object        \n",
            " 3   bias              5029 non-null   int64         \n",
            " 4   bias_text         5029 non-null   object        \n",
            " 5   source            5029 non-null   object        \n",
            "dtypes: datetime64[ns](1), int64(1), object(4)\n",
            "memory usage: 235.9+ KB\n"
          ]
        }
      ]
    },
    {
      "cell_type": "code",
      "source": [
        "train_df.head(1)"
      ],
      "metadata": {
        "colab": {
          "base_uri": "https://localhost:8080/",
          "height": 364
        },
        "id": "j8jNnMPKxMCW",
        "outputId": "88d2eb08-db20-46d8-d061-4c0940de2f0d"
      },
      "execution_count": 7,
      "outputs": [
        {
          "output_type": "execute_result",
          "data": {
            "text/plain": [
              "                                                                     title       date  \\\n",
              "13  rnc chief threatens john kasich, republican won’t support donald trump 2016-09-18   \n",
              "\n",
              "                                                                                                                                                                                                                                                                                                                                                                                                                                                                                                                                                                                                                                                                                                                                                                                                                                                                                                                                                                                                                                                                                                                                                                                                                                                                                                                                                                                                                                                                                                                                                                                                                                                                                                                                                                                                                                                                                                                                                                                                                                                                                                                                                                                                                            content_original  \\\n",
              "13  republican national committee chairman reince priebus sunday threatened ohio gov. john kasich republican refuse support presidential nominee donald trump, saying party may take step ensure it’s easy them” seek white house again. speaking cbs’ face nation,” mr. priebus said every republican ran 2016 need get behind mr. trump. those haven’t — including mr. kasich, former florida gov. jeb bush, texas sen. ted cruz — could see diminished support party moving forward. people agreed support nominee, took part process, used tool rnc. agreed support nominee. took part process. we’re private party, we’re public entity. people need get board,” mr. priebus said. and they’re thinking they’re going run someday, think we’re going evaluate process, nomination process, don’t think it’s going easy them,” said. mr. kasich said it’s unlikely” he’ll vote mr. trump … much water bridge,” ohio governor said interview cnn aired friday. see also: 48% democratic voter say bernie sander replace hillary drop race mr. bush expressed similar sentiments, mr. cruz famously withheld endorsement mr. trump republican national convention instead told republican vote conscience” november. mr. priebus denied threatening mr. kasich, mr. cruz anyone else, yet clearly suggested party would put roadblock front electoral hope anyone hasn’t offered fullthroated endorsement mr. trump. people party talking we’re going … it’s threat. it’s question,” rnc chairman said. private party people come around four eight years?” mr. kasich, former 2016 gop presidential candidate himself, said it’s still important get vote republican like sen. rob portman, running reelection ohio. we want get people vote. want reelect senator portman, want reelect people ticket,” mr. kasich said. i’m voting hillary [clinton].” i’ll let everybody know … think action spoken loudly. louder even words,” said. mr. kasich cleveland republican national convention july, attend convention itself. asked libertarian nominee gary johnson, mr. kasich said: haven’t even gone yet. it’s long way [until] election day.” sign daily newsletter copyright © 2019 washington times, llc. click reprint permission.   \n",
              "\n",
              "    bias bias_text            source  \n",
              "13     2     right  Washington Times  "
            ],
            "text/html": [
              "\n",
              "  <div id=\"df-36cedcf3-9fcf-4c7d-a416-369ac050d7b6\" class=\"colab-df-container\">\n",
              "    <div>\n",
              "<style scoped>\n",
              "    .dataframe tbody tr th:only-of-type {\n",
              "        vertical-align: middle;\n",
              "    }\n",
              "\n",
              "    .dataframe tbody tr th {\n",
              "        vertical-align: top;\n",
              "    }\n",
              "\n",
              "    .dataframe thead th {\n",
              "        text-align: right;\n",
              "    }\n",
              "</style>\n",
              "<table border=\"1\" class=\"dataframe\">\n",
              "  <thead>\n",
              "    <tr style=\"text-align: right;\">\n",
              "      <th></th>\n",
              "      <th>title</th>\n",
              "      <th>date</th>\n",
              "      <th>content_original</th>\n",
              "      <th>bias</th>\n",
              "      <th>bias_text</th>\n",
              "      <th>source</th>\n",
              "    </tr>\n",
              "  </thead>\n",
              "  <tbody>\n",
              "    <tr>\n",
              "      <th>13</th>\n",
              "      <td>rnc chief threatens john kasich, republican won’t support donald trump</td>\n",
              "      <td>2016-09-18</td>\n",
              "      <td>republican national committee chairman reince priebus sunday threatened ohio gov. john kasich republican refuse support presidential nominee donald trump, saying party may take step ensure it’s easy them” seek white house again. speaking cbs’ face nation,” mr. priebus said every republican ran 2016 need get behind mr. trump. those haven’t — including mr. kasich, former florida gov. jeb bush, texas sen. ted cruz — could see diminished support party moving forward. people agreed support nominee, took part process, used tool rnc. agreed support nominee. took part process. we’re private party, we’re public entity. people need get board,” mr. priebus said. and they’re thinking they’re going run someday, think we’re going evaluate process, nomination process, don’t think it’s going easy them,” said. mr. kasich said it’s unlikely” he’ll vote mr. trump … much water bridge,” ohio governor said interview cnn aired friday. see also: 48% democratic voter say bernie sander replace hillary drop race mr. bush expressed similar sentiments, mr. cruz famously withheld endorsement mr. trump republican national convention instead told republican vote conscience” november. mr. priebus denied threatening mr. kasich, mr. cruz anyone else, yet clearly suggested party would put roadblock front electoral hope anyone hasn’t offered fullthroated endorsement mr. trump. people party talking we’re going … it’s threat. it’s question,” rnc chairman said. private party people come around four eight years?” mr. kasich, former 2016 gop presidential candidate himself, said it’s still important get vote republican like sen. rob portman, running reelection ohio. we want get people vote. want reelect senator portman, want reelect people ticket,” mr. kasich said. i’m voting hillary [clinton].” i’ll let everybody know … think action spoken loudly. louder even words,” said. mr. kasich cleveland republican national convention july, attend convention itself. asked libertarian nominee gary johnson, mr. kasich said: haven’t even gone yet. it’s long way [until] election day.” sign daily newsletter copyright © 2019 washington times, llc. click reprint permission.</td>\n",
              "      <td>2</td>\n",
              "      <td>right</td>\n",
              "      <td>Washington Times</td>\n",
              "    </tr>\n",
              "  </tbody>\n",
              "</table>\n",
              "</div>\n",
              "    <div class=\"colab-df-buttons\">\n",
              "\n",
              "  <div class=\"colab-df-container\">\n",
              "    <button class=\"colab-df-convert\" onclick=\"convertToInteractive('df-36cedcf3-9fcf-4c7d-a416-369ac050d7b6')\"\n",
              "            title=\"Convert this dataframe to an interactive table.\"\n",
              "            style=\"display:none;\">\n",
              "\n",
              "  <svg xmlns=\"http://www.w3.org/2000/svg\" height=\"24px\" viewBox=\"0 -960 960 960\">\n",
              "    <path d=\"M120-120v-720h720v720H120Zm60-500h600v-160H180v160Zm220 220h160v-160H400v160Zm0 220h160v-160H400v160ZM180-400h160v-160H180v160Zm440 0h160v-160H620v160ZM180-180h160v-160H180v160Zm440 0h160v-160H620v160Z\"/>\n",
              "  </svg>\n",
              "    </button>\n",
              "\n",
              "  <style>\n",
              "    .colab-df-container {\n",
              "      display:flex;\n",
              "      gap: 12px;\n",
              "    }\n",
              "\n",
              "    .colab-df-convert {\n",
              "      background-color: #E8F0FE;\n",
              "      border: none;\n",
              "      border-radius: 50%;\n",
              "      cursor: pointer;\n",
              "      display: none;\n",
              "      fill: #1967D2;\n",
              "      height: 32px;\n",
              "      padding: 0 0 0 0;\n",
              "      width: 32px;\n",
              "    }\n",
              "\n",
              "    .colab-df-convert:hover {\n",
              "      background-color: #E2EBFA;\n",
              "      box-shadow: 0px 1px 2px rgba(60, 64, 67, 0.3), 0px 1px 3px 1px rgba(60, 64, 67, 0.15);\n",
              "      fill: #174EA6;\n",
              "    }\n",
              "\n",
              "    .colab-df-buttons div {\n",
              "      margin-bottom: 4px;\n",
              "    }\n",
              "\n",
              "    [theme=dark] .colab-df-convert {\n",
              "      background-color: #3B4455;\n",
              "      fill: #D2E3FC;\n",
              "    }\n",
              "\n",
              "    [theme=dark] .colab-df-convert:hover {\n",
              "      background-color: #434B5C;\n",
              "      box-shadow: 0px 1px 3px 1px rgba(0, 0, 0, 0.15);\n",
              "      filter: drop-shadow(0px 1px 2px rgba(0, 0, 0, 0.3));\n",
              "      fill: #FFFFFF;\n",
              "    }\n",
              "  </style>\n",
              "\n",
              "    <script>\n",
              "      const buttonEl =\n",
              "        document.querySelector('#df-36cedcf3-9fcf-4c7d-a416-369ac050d7b6 button.colab-df-convert');\n",
              "      buttonEl.style.display =\n",
              "        google.colab.kernel.accessAllowed ? 'block' : 'none';\n",
              "\n",
              "      async function convertToInteractive(key) {\n",
              "        const element = document.querySelector('#df-36cedcf3-9fcf-4c7d-a416-369ac050d7b6');\n",
              "        const dataTable =\n",
              "          await google.colab.kernel.invokeFunction('convertToInteractive',\n",
              "                                                    [key], {});\n",
              "        if (!dataTable) return;\n",
              "\n",
              "        const docLinkHtml = 'Like what you see? Visit the ' +\n",
              "          '<a target=\"_blank\" href=https://colab.research.google.com/notebooks/data_table.ipynb>data table notebook</a>'\n",
              "          + ' to learn more about interactive tables.';\n",
              "        element.innerHTML = '';\n",
              "        dataTable['output_type'] = 'display_data';\n",
              "        await google.colab.output.renderOutput(dataTable, element);\n",
              "        const docLink = document.createElement('div');\n",
              "        docLink.innerHTML = docLinkHtml;\n",
              "        element.appendChild(docLink);\n",
              "      }\n",
              "    </script>\n",
              "  </div>\n",
              "\n",
              "\n",
              "    </div>\n",
              "  </div>\n"
            ],
            "application/vnd.google.colaboratory.intrinsic+json": {
              "type": "dataframe",
              "variable_name": "train_df",
              "summary": "{\n  \"name\": \"train_df\",\n  \"rows\": 2893,\n  \"fields\": [\n    {\n      \"column\": \"title\",\n      \"properties\": {\n        \"dtype\": \"string\",\n        \"num_unique_values\": 2893,\n        \"samples\": [\n          \"trump: inner city run democrat dangerous war zone\",\n          \"justin trudeau: globalisation isnt working ordinary people\",\n          \"rnc considers cutting cash trump\"\n        ],\n        \"semantic_type\": \"\",\n        \"description\": \"\"\n      }\n    },\n    {\n      \"column\": \"date\",\n      \"properties\": {\n        \"dtype\": \"date\",\n        \"min\": \"2016-01-01 00:00:00\",\n        \"max\": \"2016-12-31 00:00:00\",\n        \"num_unique_values\": 365,\n        \"samples\": [\n          \"2016-01-20 00:00:00\",\n          \"2016-01-27 00:00:00\",\n          \"2016-09-11 00:00:00\"\n        ],\n        \"semantic_type\": \"\",\n        \"description\": \"\"\n      }\n    },\n    {\n      \"column\": \"content_original\",\n      \"properties\": {\n        \"dtype\": \"string\",\n        \"num_unique_values\": 2892,\n        \"samples\": [\n          \"if donald trump elected president republican hold onto congress, house speaker paul ryan bluntly promising ram partisan agenda capitol hill next year, obamacare repeal trilliondollar tax cut likely top list. democrat would utterly defenseless stop them. typically, party leader offer least pretense seeking bipartisanship discussing policy plans. ryan saying frankly republican would use budget reconciliation \\u2014 powerful procedural tool \\u2014 bypass democrat entirely. it\\u2019s tool republican slammed democrat using pas 2010 health care law objections. story continued below while gop leader made empty threat use reconciliation repeal obamacare past, ryan making clear time plan use counts. would likely support trump white house. larry kudlow, economic adviser gop presidential nominee, said also strongly urging trump embrace reconciliation order pas sweeping tax cuts. ryan peeled back curtain strategy news conference last week reporter suggested would struggle implement ambitious agenda next year. all, noted, republican certain lack 60 vote needed senate break democratic filibuster legislation. ryan gave minitutorial congressional rule bazooka pocket assembled reporters. this plan 2017,\\u201d ryan said, waving copy better way\\u201d policy agenda. much budget reconciliation.\\u201d explained key piece fiscal nature,\\u201d meaning moved quickly budget maneuver requires simple majority senate house. game plan 2017,\\u201d ryan said seemingly unconvinced press. democrat progressive advocate skeptical. terrified might better word. i\\u2019m extremely concerned,\\u201d said harry stein, director fiscal policy liberal center american progress. there\\u2019s flawed assumption coverage election matter either way, we\\u2019re going gridlock. \\u2026 assume that\\u2019s state nature. it\\u2019s not.\\u201d here\\u2019s process works: house senate pas identical budgets, include broad instruction congress pas reconciliation legislation privileged status cannot filibustered senate. bill intended change current law comply budget\\u2019s directive must abide certain parliamentary rules, effect spending tax levels. ultimately broad swath policy change made. there\\u2019s enormous amount reconciliation,\\u201d stein said. antitax activist grover norquist agreed. think everything that\\u2019s paul ryan budget plan reconciliation,\\u201d said. that\\u2019s model. it\\u2019s secret, it\\u2019s obvious thing do.\\u201d both party used budget reconciliation past. george w. bush\\u2019s trilliondollar tax cut passed procedure 2001 2003; democrat used 2010 finish passing obamacare, republican rebuking democrat running roughshod gop. a senior senate democratic aide said height hypocrisy\\u201d republican plan use reconciliation previous complaints. winning back senate critical democrat stop republican ramming deep cut earned benefit programs,\\u201d aide said. an aide senate majority leader mitch mcconnell didn\\u2019t weigh matter, noting announcement made next year\\u2019s budget process. but republican already done dry run targeting obamacare. the gopcontrolled congress passed reconciliation bill last year would repeal key part health law, including effectively eliminating individual employer mandate scrapping medicaid expansion, insurance subsidy consumer medical device cadillac taxes. bill promptly vetoed president barack obama, would serve road map republican 2017. reconciliation process relies heavily precedent, opponent obamacare already know pas muster senate parliamentarian. notably, bill also defunded planned parenthood one year, sign expansive reconciliation bill be. other piece ryan\\u2019s better way\\u201d policy agenda could find way reconciliation measure controversial proposal bring cost medicare medicaid overhaul food stamp program housing assistance lowincome renters. every line bill would face scrutiny democrats, skilled procedural tactician could overcome parliamentary challenges. republican would also set rewriting tax code budget reconciliation. asked procedure would good way implement gop tax plans, kudlow responded, good, fabulous.\\u201d speaking campaign, kudlow said reconciliation fastest way judgment get necessary progrowth tax reform.\\u201d said encouraging path trump staff year, considering it. trump house republican proposed different tax plans, largely sync major principles. would cut top tax rate individual 33 percent current 39.6 percent. corporate rate would drop 15 percent trump\\u2019s plan 20 percent house gop plan, 35 percent today. plan also would drain federal coffer several trillion dollar give biggest boost wealthy. end decade, richest 1 percent would accumulated 99.6 percent benefit house gop plan, according nonpartisan tax policy center. one drawback using budget reconciliation vehicle tax cut bill increase deficit 10 years, provision sunset. case bush tax cut \\u2014 though vast majority ultimately extended permanently obama administration. a 10year tax cut bad deal,\\u201d norquist said. thing life forever.\\u201d the obvious issue pursuing reconciliation fundamentally partisan exercise. bill becomes political pi\\u00f1ata,\\u201d said douglas holtzeakin, former director congressional budget office. but some, that\\u2019s feature, bug. ryan\\u2019s office didn\\u2019t respond request comment, vocal need get trump white house enact agenda. i\\u2019m tired divided government. doesn\\u2019t work well,\\u201d ryan said last week. we\\u2019ve gotten good thing done. big thing \\u2014 poverty, debt crisis, economy, health care \\u2014 thing stuck divided government, that\\u2019s think unified republican government\\u2019s way go.\\u201d\",\n          \"donald trump exposing truth gop. conservative party led delusional incompetent politician cannot win anything. 15 year war, two trillion funding war, thousand american life sacrificed, absolutely nothing show gop done america. need start admitting truth want restore america powerhouse was. for years, told numerous politician would shakeup washington, d.c. none made promise done anything. obama completely manhandled weak house representative senate american finally fed up. everything medium said either lie completely wrong; respect, choose believe latter. ted cruz marco rubio refuse get others way, therefore, trump continues dominate part country. small sample going washington past 8 16 years; politician putting personal status common good country. american fed absolutely trust republican establishment. in nine months, donald trump undoubtedly changed political nightmare consumed country. donald trump single handedly destroyed jeb bush campaign ease. making mockery two first term senator clear path winning republican nomination. america, small sample shakeup yearning for. donald trump say going change things, already has. north south far west, trump catapulted way victory practically himself. exposed gop thought was, u already knew was. donald trump perfect many flaws. however, donald trump real. he say make politician quiver shallow shoes. never another donald trump maybe think twice throwing away.\",\n          \"throughout presidential campaign donald trump complained extensively biased news coverage, singled individual journalist criticism, challenged foundation freedom press, called loosening libel laws. now presidentelect, trump war medium continues. recent meeting top television executives, example, trump berated network outrageous dishonest coverage and, according source, told cnn chief jeff zucker everyone network liar ashamed. day, rather holding press conference journalist might ask difficult uncomfortable questions, trump instead released youtube video updating public white house transition, said proceeded smoothly, efficiently, effectively. a president, trump mistrust medium certainly make life difficult journalist trying provide public clear view presidential decisionmaking. clear, presidential animosity toward press nothing new. president get frustrated view unsympathetic press corp mangle reinterprets word news, making difficult communicate clearly american public. a result, president long sought reduce number press conference hold increasing amount communication means. emergence social medium simply allowed trump take trend next level. though distasteful dysfunctional, republic wont fall journalist watch youtube like rest u learn trump to. but deeper danger trump war undermine medium effective forum debate deliberation. avoiding engagement journalist stifling medium critic public shaming strongarm tactics, trump weaken ability press play role watchdog critic envisioned founder embodied first amendment. attacking medias objectivity credibility, trump administration weaken whats left public confidence public sphere and, extension, entire project democratic selfgovernance. trump already enjoys disturbing level support assault news media. postelection pew survey, example, 22 percent american gave press either b campaign coverage, 59 percent giving f. september 2016 gallup poll found 32 percent public trust press fair amount great deal report news fully, accurately, fairly, lowest figure since gallup first asked question 1976. nor timing trump war medium accident. medium become arena conflict partisan battle increasingly polarized political system. believe medium exhibit liberal bias, trump welcome corrective. surprisingly then, recent collapse trust driven primarily republicans, 14 percent believe mass mew medium deserves even fair amount trust compared 30 percent independent 51 percent democrats. related trend increasing balkanization news audience around competing news sources. 2014 pew study showed, example, 47 percent consistent conservative name fox news primary (and trusted) source news politics, almost completely avoiding major news outlet like new york times. even frightening fact trend appears pronounced among younger americans, tend somewhat liberal parents. 2016 26 percent age 50 trusted news medium compared 38 percent age 50 older. advent social medium help. 34 percent american adult use web trust information get social medium sources. how trump deal medium seems clear. le clear, however, medium respond trump. past 30 year provide much reason optimism. news industry pummeled fragmentation news audience emergence internet. difficult economic environment face, news organization shown little stomach increasing hard news budget supporting much way investigative journalism. instead, good deal pass american journalism today simply information recycled straight government sources. exceptions, course, well newer, nontraditional source news opinion provide alternative narrative mainstream medium accounts. encouraging, perhaps, emerging sign trump election may lead reinvigorated sense duty part journalists, news organizations, ngos. whether initial response add effective counterpoint trump bully pulpit, however, remains seen. trevor thrall senior fellow cato institute defense foreign policy department.\"\n        ],\n        \"semantic_type\": \"\",\n        \"description\": \"\"\n      }\n    },\n    {\n      \"column\": \"bias\",\n      \"properties\": {\n        \"dtype\": \"number\",\n        \"std\": 0,\n        \"min\": 0,\n        \"max\": 2,\n        \"num_unique_values\": 3,\n        \"samples\": [\n          2,\n          0,\n          1\n        ],\n        \"semantic_type\": \"\",\n        \"description\": \"\"\n      }\n    },\n    {\n      \"column\": \"bias_text\",\n      \"properties\": {\n        \"dtype\": \"category\",\n        \"num_unique_values\": 3,\n        \"samples\": [\n          \"right\",\n          \"left\",\n          \"center\"\n        ],\n        \"semantic_type\": \"\",\n        \"description\": \"\"\n      }\n    },\n    {\n      \"column\": \"source\",\n      \"properties\": {\n        \"dtype\": \"category\",\n        \"num_unique_values\": 101,\n        \"samples\": [\n          \"Drudge Report\",\n          \"Daily Kos\",\n          \"Brent Bozell\"\n        ],\n        \"semantic_type\": \"\",\n        \"description\": \"\"\n      }\n    }\n  ]\n}"
            }
          },
          "metadata": {},
          "execution_count": 7
        }
      ]
    },
    {
      "cell_type": "code",
      "source": [
        "print(f\"basic train_df info: \",train_df.shape)"
      ],
      "metadata": {
        "colab": {
          "base_uri": "https://localhost:8080/"
        },
        "id": "BlS6YagLwzQd",
        "outputId": "44fbeeff-ca74-4249-e903-f0da443560e3"
      },
      "execution_count": 8,
      "outputs": [
        {
          "output_type": "stream",
          "name": "stdout",
          "text": [
            "basic train_df info:  (2893, 6)\n"
          ]
        }
      ]
    },
    {
      "cell_type": "code",
      "source": [
        "test_df.head(1)"
      ],
      "metadata": {
        "colab": {
          "base_uri": "https://localhost:8080/",
          "height": 314
        },
        "id": "FaHi8VSJw1sO",
        "outputId": "5ec6fe14-43f6-48ef-d24b-6c7b1c487b4e"
      },
      "execution_count": 9,
      "outputs": [
        {
          "output_type": "execute_result",
          "data": {
            "text/plain": [
              "                                                              title       date  \\\n",
              "1  opinion: john brennan: president trump’s claim collusion hogwash 2018-08-16   \n",
              "\n",
              "                                                                                                                                                                                                                                                                                                                                                                                                                                                                                                                                                                                                                                                                                                                                                                                                                                                                                                                                                                                                                                                                                                                                                                                                                                                                                                                                                                                                                                                                                                                                                                                                                                                                                                                                                                                                                                                                                                                                                                               content_original  \\\n",
              "1  when alexander bortnikov, head russia’s internal security service, told early august 2016 phone call russia wasn’t interfering presidential election, knew lying. previous several year grown weary mr. bortnikov’s denial russia’s perfidy — mistreatment american diplomat citizen moscow, repeated failure adhere ceasefire agreement syria paramilitary intervention eastern ukraine, name issues. when warned mr. bortnikov russian interference election intolerable would roil united statesrussia relation many years, denied russian involvement election, america elsewhere, feigned sincerity heard many time before. president vladimir putin russia reiterated denial numerous time past two years, often donald trump’s seeming approval. russian denial are, word, hogwash. before, infamous meddling last presidential election, russia practiced art shaping political event abroad wellhoned active measure program, employ array technical capabilities, information operation oldfashioned human intelligence spycraft. electoral politics western democracy present especially inviting target, variety politicians, political parties, medium outlets, think tank influencers readily manipulated, wittingly unwittingly, even bought outright russian intelligence operatives. freedom liberty liberal western democracy cherish autocracy fear exploited russian intelligence service collect sensitive information also distribute propaganda disinformation, increasingly via growing number social medium platforms. having worked closely f.b.i. many year counterintelligence investigations, well aware russia’s ability work surreptitiously within united states, cultivating relationship individual wield actual potential power. like mr. bortnikov, russian operative agent well trained art deception. troll political, business cultural water search gullible unprincipled individual become pliant hand russian puppet masters. often, puppet found.   \n",
              "\n",
              "   bias bias_text                 source  \n",
              "1     0      left  New York Times - News  "
            ],
            "text/html": [
              "\n",
              "  <div id=\"df-59dbbc37-1d07-475f-95d4-1e68614367a1\" class=\"colab-df-container\">\n",
              "    <div>\n",
              "<style scoped>\n",
              "    .dataframe tbody tr th:only-of-type {\n",
              "        vertical-align: middle;\n",
              "    }\n",
              "\n",
              "    .dataframe tbody tr th {\n",
              "        vertical-align: top;\n",
              "    }\n",
              "\n",
              "    .dataframe thead th {\n",
              "        text-align: right;\n",
              "    }\n",
              "</style>\n",
              "<table border=\"1\" class=\"dataframe\">\n",
              "  <thead>\n",
              "    <tr style=\"text-align: right;\">\n",
              "      <th></th>\n",
              "      <th>title</th>\n",
              "      <th>date</th>\n",
              "      <th>content_original</th>\n",
              "      <th>bias</th>\n",
              "      <th>bias_text</th>\n",
              "      <th>source</th>\n",
              "    </tr>\n",
              "  </thead>\n",
              "  <tbody>\n",
              "    <tr>\n",
              "      <th>1</th>\n",
              "      <td>opinion: john brennan: president trump’s claim collusion hogwash</td>\n",
              "      <td>2018-08-16</td>\n",
              "      <td>when alexander bortnikov, head russia’s internal security service, told early august 2016 phone call russia wasn’t interfering presidential election, knew lying. previous several year grown weary mr. bortnikov’s denial russia’s perfidy — mistreatment american diplomat citizen moscow, repeated failure adhere ceasefire agreement syria paramilitary intervention eastern ukraine, name issues. when warned mr. bortnikov russian interference election intolerable would roil united statesrussia relation many years, denied russian involvement election, america elsewhere, feigned sincerity heard many time before. president vladimir putin russia reiterated denial numerous time past two years, often donald trump’s seeming approval. russian denial are, word, hogwash. before, infamous meddling last presidential election, russia practiced art shaping political event abroad wellhoned active measure program, employ array technical capabilities, information operation oldfashioned human intelligence spycraft. electoral politics western democracy present especially inviting target, variety politicians, political parties, medium outlets, think tank influencers readily manipulated, wittingly unwittingly, even bought outright russian intelligence operatives. freedom liberty liberal western democracy cherish autocracy fear exploited russian intelligence service collect sensitive information also distribute propaganda disinformation, increasingly via growing number social medium platforms. having worked closely f.b.i. many year counterintelligence investigations, well aware russia’s ability work surreptitiously within united states, cultivating relationship individual wield actual potential power. like mr. bortnikov, russian operative agent well trained art deception. troll political, business cultural water search gullible unprincipled individual become pliant hand russian puppet masters. often, puppet found.</td>\n",
              "      <td>0</td>\n",
              "      <td>left</td>\n",
              "      <td>New York Times - News</td>\n",
              "    </tr>\n",
              "  </tbody>\n",
              "</table>\n",
              "</div>\n",
              "    <div class=\"colab-df-buttons\">\n",
              "\n",
              "  <div class=\"colab-df-container\">\n",
              "    <button class=\"colab-df-convert\" onclick=\"convertToInteractive('df-59dbbc37-1d07-475f-95d4-1e68614367a1')\"\n",
              "            title=\"Convert this dataframe to an interactive table.\"\n",
              "            style=\"display:none;\">\n",
              "\n",
              "  <svg xmlns=\"http://www.w3.org/2000/svg\" height=\"24px\" viewBox=\"0 -960 960 960\">\n",
              "    <path d=\"M120-120v-720h720v720H120Zm60-500h600v-160H180v160Zm220 220h160v-160H400v160Zm0 220h160v-160H400v160ZM180-400h160v-160H180v160Zm440 0h160v-160H620v160ZM180-180h160v-160H180v160Zm440 0h160v-160H620v160Z\"/>\n",
              "  </svg>\n",
              "    </button>\n",
              "\n",
              "  <style>\n",
              "    .colab-df-container {\n",
              "      display:flex;\n",
              "      gap: 12px;\n",
              "    }\n",
              "\n",
              "    .colab-df-convert {\n",
              "      background-color: #E8F0FE;\n",
              "      border: none;\n",
              "      border-radius: 50%;\n",
              "      cursor: pointer;\n",
              "      display: none;\n",
              "      fill: #1967D2;\n",
              "      height: 32px;\n",
              "      padding: 0 0 0 0;\n",
              "      width: 32px;\n",
              "    }\n",
              "\n",
              "    .colab-df-convert:hover {\n",
              "      background-color: #E2EBFA;\n",
              "      box-shadow: 0px 1px 2px rgba(60, 64, 67, 0.3), 0px 1px 3px 1px rgba(60, 64, 67, 0.15);\n",
              "      fill: #174EA6;\n",
              "    }\n",
              "\n",
              "    .colab-df-buttons div {\n",
              "      margin-bottom: 4px;\n",
              "    }\n",
              "\n",
              "    [theme=dark] .colab-df-convert {\n",
              "      background-color: #3B4455;\n",
              "      fill: #D2E3FC;\n",
              "    }\n",
              "\n",
              "    [theme=dark] .colab-df-convert:hover {\n",
              "      background-color: #434B5C;\n",
              "      box-shadow: 0px 1px 3px 1px rgba(0, 0, 0, 0.15);\n",
              "      filter: drop-shadow(0px 1px 2px rgba(0, 0, 0, 0.3));\n",
              "      fill: #FFFFFF;\n",
              "    }\n",
              "  </style>\n",
              "\n",
              "    <script>\n",
              "      const buttonEl =\n",
              "        document.querySelector('#df-59dbbc37-1d07-475f-95d4-1e68614367a1 button.colab-df-convert');\n",
              "      buttonEl.style.display =\n",
              "        google.colab.kernel.accessAllowed ? 'block' : 'none';\n",
              "\n",
              "      async function convertToInteractive(key) {\n",
              "        const element = document.querySelector('#df-59dbbc37-1d07-475f-95d4-1e68614367a1');\n",
              "        const dataTable =\n",
              "          await google.colab.kernel.invokeFunction('convertToInteractive',\n",
              "                                                    [key], {});\n",
              "        if (!dataTable) return;\n",
              "\n",
              "        const docLinkHtml = 'Like what you see? Visit the ' +\n",
              "          '<a target=\"_blank\" href=https://colab.research.google.com/notebooks/data_table.ipynb>data table notebook</a>'\n",
              "          + ' to learn more about interactive tables.';\n",
              "        element.innerHTML = '';\n",
              "        dataTable['output_type'] = 'display_data';\n",
              "        await google.colab.output.renderOutput(dataTable, element);\n",
              "        const docLink = document.createElement('div');\n",
              "        docLink.innerHTML = docLinkHtml;\n",
              "        element.appendChild(docLink);\n",
              "      }\n",
              "    </script>\n",
              "  </div>\n",
              "\n",
              "\n",
              "    </div>\n",
              "  </div>\n"
            ],
            "application/vnd.google.colaboratory.intrinsic+json": {
              "type": "dataframe",
              "variable_name": "test_df",
              "summary": "{\n  \"name\": \"test_df\",\n  \"rows\": 4407,\n  \"fields\": [\n    {\n      \"column\": \"title\",\n      \"properties\": {\n        \"dtype\": \"string\",\n        \"num_unique_values\": 4407,\n        \"samples\": [\n          \"u.n. chief target dangerous epidemic misinformation coronavirus\",\n          \"closing chapter. one chapter.\",\n          \"why romney losing mustwin ohio\"\n        ],\n        \"semantic_type\": \"\",\n        \"description\": \"\"\n      }\n    },\n    {\n      \"column\": \"date\",\n      \"properties\": {\n        \"dtype\": \"date\",\n        \"min\": \"2012-04-03 00:00:00\",\n        \"max\": \"2020-07-21 00:00:00\",\n        \"num_unique_values\": 1952,\n        \"samples\": [\n          \"2013-01-07 00:00:00\",\n          \"2018-11-30 00:00:00\",\n          \"2018-06-21 00:00:00\"\n        ],\n        \"semantic_type\": \"\",\n        \"description\": \"\"\n      }\n    },\n    {\n      \"column\": \"content_original\",\n      \"properties\": {\n        \"dtype\": \"string\",\n        \"num_unique_values\": 4407,\n        \"samples\": [\n          \"u.n. chief target dangerous epidemic misinformation coronavirus enlarge image toggle caption juan karita/ap juan karita/ap the world facing dangerous epidemic misinformation covid19 \\u2014 vaccine reestablish public trust, head united nation said tuesday. around world, people scared. want know to turn advice, said u.n. secretarygeneral ant\\u00f3nio guterres. the distortion willful ignorance scientific fact poison putting even life risk challenging crisis since world war ii, guterres said. with covid19 responsible 120,000 death nearly 2 million case worldwide, u.n. creating special communication project combat misinformation virus, secretary general said. this time science solidarity, guterres said video message plan. yet global misinfodemic spreading. harmful health advice snakeoil solution proliferating, u.n. leader said. wild conspiracy theory infecting internet. hatred going viral, stigmatizing vilifying people groups. guterres called spread bad selfserving information secondary disease; some, might seem like underlying condition today medium landscape. solve problem, said, vaccine trust. first, trust science, guterres said, adding, salute journalist others factchecking mountain misleading story social medium posts. the u.n. head called social medium company to root harmful bogus claim covid19. also said people must able put trust institution grounded responsive, responsible, evidencebased governance leadership. and people must trust respect even time crisis, guterres said, calling government preserve human rights. together, let reject lie nonsense there, said.\",\n          \"from congratulator chief: boston police state police local police across commonwealth massachusetts responded professionalism bravery five long days,\\u201d president said white house. tonight determined efforts, we\\u2019ve closed important chapter tragedy.\\u201d it\\u2019s rare day you\\u2019ll read sentence here, obama correct two different equally important points. first all, hearty congratulation due law enforcement official level involved massive mission bringing close (perhaps) relatively short order. collective hive mind idiot asking taking long catch them, really nothing say you. the second portion consider, even amidst well deserved partying celebration going beantown across country, certainly one chapter\\u201d longer story. possibly much, much longer story. ap roundup many question government face day month come, you\\u2019ve debating night long. even that, it\\u2019s still unclear go here. the end rocky road seems fairly clear, least me. apology oppose capital punishment moral grounds, guy wind cooling room temperature. maybe comastermind mayhem maybe follower, big bro real boris badenov story. even so, follow. maimed dead, spectator watching marathon police trying keep u safe deserve nothing less. but get there? leaders, graham mccain, gate early calling tamerlan dzhokhar tsarnaev treated enemy combatant. i\\u2019m ruling entirely, certainly need get information theoretical accomplice may there. there\\u2019s sticky detail kept mind here: tsarnaev united state citizen. doesn\\u2019t matter whether born raised heartland got boat eastern europe took naturalization oath yesterday, treat equally law. remain extremely skeptical idea taking citizen american soil \\u2013 matter heinous action \\u2013 suddenly reclassifying somehow le right anyone else. path lead people showing door removing rights. i\\u2019m hearing concern corner fact tsarnaev wasn\\u2019t read miranda right mean longer choice head military tribunal. legal expert coming forward week seem agree public safety clause full effect, would lose ability use early statement detention trial. clear\\u2026 act terrorism. there\\u2019s question that. terrorism illegal home too, prosecuted it. maybe there\\u2019s link group we\\u2019ll find going forward. maybe two chuckleheads losers, uncle opined. can\\u2019t help believe there\\u2019s constitutionally viable way soak information possible guy, give trial put ground. update: (jazz) apologies. mixed tsarnaevs there. it\\u2019s dzhokhar. fixed above.\",\n          \"(cnn) poll show mitt romney trailing president barack obama every one swing state 2012 campaign waged. but romney appears deeper trouble ohio elsewhere, alarming development republican know candidate white house chance begin end kind middleclass voter reside place akron, cincinnati zanesville. so exactly romney trailing? two survey released recent days, one ohio newspaper association another washington post, crystallized challenge facing romney embarks second straight day campaigning buckeye state. the topline number obama led 5 point among likely voter ohio poll, startling 8 point post poll tell part story. obama 50% battleground poll romneys favorable rating underwater. almost twothirds voter approve obamas decision bail auto industry, staple ohio manufacturing economy. president lead romney wide margin question would help middle class. and voter asked candidate would better job handling economy, obama sturdy lead, undercutting thematic premise romneys candidacy. romney aide: obama spiking football early ohio interview two dozen republican strategist elected official across ohio revealed array explanation easy answer romneys failure catch there. some pointed obama campaign aggressive effort hang romneys opposition federal bailout chrysler general motor around neck. others said hangover remains divisive 2011 battle collective bargaining right hurt gop standing working class voters. a handful gop strategist blamed romneys standing campaign staffer arent ohio natives. one longtime republican strategist griped arrogant topdown approach romney team said done poor job listening advice savvy ohio strategist charge rebuffed romney aide point field staffer ohio office sen. rob portman house speaker john boehner come board. still others cited romneys lackluster political skill said stiff ceo demeanor turnoff ohioans, one republican officeholder saying former mississippi gov. haley barbour wasnt far said recently romney caricatured plutocrat married known equestrian. a man without message the main criticism emerged, though, romney man without message. we still point think still winnable race romney, said ohio attorney general mike dewine. generally talk people, feeling obama hasnt done great job. romney hasnt made sale. still can. hasnt made sale yet. another statewide republican officeholder like others interviewed article want identified criticizing republican ticket, offered blunter assessment. both romney obama, official argued, provided nothing narrow argument fantasy land policy prescription country. opinion: romney get back track? why mitt romney running president presidency about? official asked. dont think republican ohio answer question. made compelling case candidacy. dont make campaign marginal tax rates. make child grandchild future country. romney adjusting. campaign, prevented spending general election fund republican national convention concluded late august, launched first statewide television buy campaign last week. the former massachusetts governor also intensified rhetoric trade, long potent issue ohio, accusing president failing stand china costing american jobs. but romneys argument du jour spent week attacking president handling foreign policy recent turmoil middle east isnt likely resonate ohio much concise aggressive jobsthemed message, republican said. several ohio gop operative even credited obama campaign presenting consistent economic argument. fallout bailout obama force persistently reminded voter auto bailout television smallscale earned medium event around state republican faulted romney failing develop succinct response criticism state one every eight job tied auto sector. romney wrote new york time oped 2008 titled let detroit go bankrupt argued managed bankruptcy industry, without use government funds. may, took credit proposing bankruptcy idea. august, tapped running mate, wisconsin rep. paul ryan, voted favor bailout. meanwhile, obama campaign aired multiple tv ad issue synced probailout message downballot democratic candidate sen. sherrod brown. poll: brown ahead gop challenger ohio senate race labor organization leaving thousand bailoutthemed doorknob hanger making phone call union member highlighting obamas support auto industry. according washington post poll, 64% ohio registered voter view federal loan gm chrysler mostly good state economy. 29% said bailout mostly bad. putting finer point matter, one longtime ohio gop strategist called obamas advantage auto bailout kick ball romney campaign. ground operation bright spot romney one aspect romney operation earned praise republican campaign ground game, made 3 million volunteer voter contact far year knocked 28 time many door ohio john mccains campaign 2008. it one better operation country, always is, romneys political director rich beeson told cnn. ohio always led way cycle. the socalled victory effort joint venture romney campaign, republican national committee ohio republican party 40 office statewide. the obama operation, deeply embedded state four years, twice number. romney campaign managed keep pace president voter contact effort, data post poll revealed tuesday. the humming ground effort, combined ohio traditional gop lean whats expected animated conservative base 2008, republican confident final margin election day much closer 5, 6 7point obama lead seen recent public polls. nobody win ohio 5, said mark weaver, republican consultant two decade campaign experience state. anybody tell doesnt know ohio. state close. divided. obama 5 romney 5. weaver complimented romney campaign effort predicted 2point victory republican november advised gop nominee spend time state rely le scripted remark large crowds. i think need get romney ohio more, talking cuff more, said. think sincere guy, think talk cuff, people like him. another ohio republican strategist said romney begin dispatching wife, ann, suburb cleveland columbus, room improvement nice way saying obama doubledigit lead among woman voter ohio, according post poll. a lingering complication romneys argument ohio improving state economy. romney: ad spot on mixed message kasich irks gop republican gov. john kasichs relentless boosterism uptick ohio job creation run counter national republican message obamas policy kept economy bouncing back. the statewide unemployment rate fallen 7.2%, roughly point national average. bellwether central ohio, home capital city columbus thriving suburbs, jobless rate fell 5.9% august. kasich shy talking ohio job growth, even muddle romney campaign argument state national economy. at recent campaign event conservative owensville, fiery kasich boasted ohio rocking! moment turning microphone paul ryan, proceeded issue dire warning obamas economic policies. the mixed messaging rankled republican romney kasich camps. side done best keep tension wraps, occasionally spill public view. rex elsass, kasichs medium consultant longtime adviser, told cnn romney running counter reality perception people ohio. romney would better stood john kasichs shoulder said, here example state thats better job creation, spite president doing, elsass said. when run advertising thats running rest country, inconsistent people feeling ohio, thing getting better, continued. youre telling people thing getting worse throw graphic end ad say ohio, thats statespecific message working here. romney has, fact, complimented kasichs economic development effort spate local interview campaign event account personal animosity two men. but republican close campaign groused privately kasich bringing little romney effort beyond appearing campaign events, boehner, portman handful statewide official loaned manpower money fight. portman, instance, turned one romneys reliable ally campaign trail, hosting 20 fundraiser raising $2 million campaign. romney praise debate practice partner portman one washingtonbased gop operative involved campaign closely watching ohio accused kasich enough help romney win state. no single swing state republican le willing criticize president obama important juncture campaign john kasich, republican told cnn. anyone doesnt want obama second term furious him.\"\n        ],\n        \"semantic_type\": \"\",\n        \"description\": \"\"\n      }\n    },\n    {\n      \"column\": \"bias\",\n      \"properties\": {\n        \"dtype\": \"number\",\n        \"std\": 0,\n        \"min\": 0,\n        \"max\": 2,\n        \"num_unique_values\": 3,\n        \"samples\": [\n          0,\n          2,\n          1\n        ],\n        \"semantic_type\": \"\",\n        \"description\": \"\"\n      }\n    },\n    {\n      \"column\": \"bias_text\",\n      \"properties\": {\n        \"dtype\": \"category\",\n        \"num_unique_values\": 3,\n        \"samples\": [\n          \"left\",\n          \"right\",\n          \"center\"\n        ],\n        \"semantic_type\": \"\",\n        \"description\": \"\"\n      }\n    },\n    {\n      \"column\": \"source\",\n      \"properties\": {\n        \"dtype\": \"category\",\n        \"num_unique_values\": 137,\n        \"samples\": [\n          \"International Business Times\",\n          \"The Dallas Morning News\",\n          \"Politico\"\n        ],\n        \"semantic_type\": \"\",\n        \"description\": \"\"\n      }\n    }\n  ]\n}"
            }
          },
          "metadata": {},
          "execution_count": 9
        }
      ]
    },
    {
      "cell_type": "code",
      "source": [
        "print(f\"basic test_df info: \",test_df.shape)"
      ],
      "metadata": {
        "colab": {
          "base_uri": "https://localhost:8080/"
        },
        "id": "GdbG2sxpxddS",
        "outputId": "7e6c74c2-fd51-4db4-e2e7-06e9e8bb4b2f"
      },
      "execution_count": 10,
      "outputs": [
        {
          "output_type": "stream",
          "name": "stdout",
          "text": [
            "basic test_df info:  (4407, 6)\n"
          ]
        }
      ]
    },
    {
      "cell_type": "code",
      "source": [
        "# extract the train and test text from both dataframes\n",
        "train_text = train_df['content_original']\n",
        "train_text_labels = train_df['bias']\n",
        "\n",
        "test_text = test_df['content_original']\n",
        "test_text_labels = test_df['bias']\n",
        "\n",
        "\n",
        "print(f\"size of training dataset: \",len(train_text))\n",
        "print()\n",
        "print(f\"size of testing dataset: \",len(test_text))\n",
        "print()\n",
        "print(f\"Left with Label 0 \")\n",
        "print(f\"Center with Label 1 \")\n",
        "print(f\"Right with Label 2 \")"
      ],
      "metadata": {
        "colab": {
          "base_uri": "https://localhost:8080/"
        },
        "id": "DN_SB3PTxfhF",
        "outputId": "759e7f48-2cc7-4681-c21a-e8740ba3ee6e"
      },
      "execution_count": 15,
      "outputs": [
        {
          "output_type": "stream",
          "name": "stdout",
          "text": [
            "size of training dataset:  2893\n",
            "\n",
            "size of testing dataset:  4407\n",
            "\n",
            "Left with Label 0 \n",
            "Center with Label 1 \n",
            "Right with Label 2 \n"
          ]
        }
      ]
    },
    {
      "cell_type": "code",
      "source": [
        "MAX_SEQUENCE_LENGTH = 512"
      ],
      "metadata": {
        "id": "68tKtWPry7iK"
      },
      "execution_count": 16,
      "outputs": []
    },
    {
      "cell_type": "code",
      "source": [
        "# tokenize the dataset, truncate at `max_length`,\n",
        "\n",
        "#tokenizing the train text\n",
        "x_train = bert_tokenizer(train_text.tolist(),\n",
        "              max_length=MAX_SEQUENCE_LENGTH,\n",
        "              truncation=True,\n",
        "              padding='max_length',\n",
        "              return_tensors='tf')\n",
        "y_train = train_text_labels\n",
        "\n",
        "# #tokenizing the validate text\n",
        "# x_validate = bert_tokenizer(validate_text.tolist(),\n",
        "#               max_length=MAX_SEQUENCE_LENGTH,\n",
        "#               truncation=True,\n",
        "#               padding='max_length',\n",
        "#               return_tensors='tf')\n",
        "# y_validate = validate_text_labels\n",
        "\n",
        "\n",
        "#tokenizing the test text\n",
        "x_test = bert_tokenizer(test_text.tolist(),\n",
        "              max_length=MAX_SEQUENCE_LENGTH,\n",
        "              truncation=True,\n",
        "              padding='max_length',\n",
        "              return_tensors='tf')\n",
        "y_test = test_text_labels"
      ],
      "metadata": {
        "id": "UlXC06Z_zPAp"
      },
      "execution_count": 17,
      "outputs": []
    },
    {
      "cell_type": "code",
      "source": [
        "#BERT base uncased model configurations\n",
        "config = AutoConfig.from_pretrained('bert-base-uncased')\n",
        "\n",
        "config"
      ],
      "metadata": {
        "colab": {
          "base_uri": "https://localhost:8080/"
        },
        "id": "7YWZdBWp02fi",
        "outputId": "2760d394-c7d6-4495-f2f0-5b6e22ebdda9"
      },
      "execution_count": 18,
      "outputs": [
        {
          "output_type": "execute_result",
          "data": {
            "text/plain": [
              "BertConfig {\n",
              "  \"_name_or_path\": \"bert-base-uncased\",\n",
              "  \"architectures\": [\n",
              "    \"BertForMaskedLM\"\n",
              "  ],\n",
              "  \"attention_probs_dropout_prob\": 0.1,\n",
              "  \"classifier_dropout\": null,\n",
              "  \"gradient_checkpointing\": false,\n",
              "  \"hidden_act\": \"gelu\",\n",
              "  \"hidden_dropout_prob\": 0.1,\n",
              "  \"hidden_size\": 768,\n",
              "  \"initializer_range\": 0.02,\n",
              "  \"intermediate_size\": 3072,\n",
              "  \"layer_norm_eps\": 1e-12,\n",
              "  \"max_position_embeddings\": 512,\n",
              "  \"model_type\": \"bert\",\n",
              "  \"num_attention_heads\": 12,\n",
              "  \"num_hidden_layers\": 12,\n",
              "  \"pad_token_id\": 0,\n",
              "  \"position_embedding_type\": \"absolute\",\n",
              "  \"transformers_version\": \"4.17.0\",\n",
              "  \"type_vocab_size\": 2,\n",
              "  \"use_cache\": true,\n",
              "  \"vocab_size\": 30522\n",
              "}"
            ]
          },
          "metadata": {},
          "execution_count": 18
        }
      ]
    },
    {
      "cell_type": "markdown",
      "source": [
        "#BERT Uncase Model Fine-Tuning with One LSTM Layer"
      ],
      "metadata": {
        "id": "gsKxWorr17QH"
      }
    },
    {
      "cell_type": "code",
      "source": [
        "def create_bert_classification_model(bert_model,\n",
        "                                     num_train_layers=0,\n",
        "                                     num_classes = 3,\n",
        "                                     hidden_size = 768,\n",
        "                                     dropout=0.1,\n",
        "                                     attention_probs_dropout_prob = 0.1,\n",
        "                                     hidden_dropout_prob=0.1,\n",
        "                                    #  lstm_units=90,\n",
        "                                     learning_rate=0.00005):\n",
        "    \"\"\"\n",
        "    Build a simple classification model with BERT. Use the Pooler Output for classification purposes\n",
        "    \"\"\"\n",
        "    if num_train_layers == 0:\n",
        "        # Freeze all layers of pre-trained BERT model\n",
        "        bert_model.trainable = False\n",
        "\n",
        "    elif num_train_layers == 12:\n",
        "        # Train all layers of the BERT model\n",
        "        bert_model.trainable = True\n",
        "\n",
        "    else:\n",
        "        # Restrict training to the num_train_layers outer transformer layers\n",
        "        retrain_layers = []\n",
        "\n",
        "        for retrain_layer_number in range(num_train_layers):\n",
        "\n",
        "            layer_code = '_' + str(11 - retrain_layer_number)\n",
        "            retrain_layers.append(layer_code)\n",
        "\n",
        "\n",
        "        print('retrain layers: ', retrain_layers)\n",
        "\n",
        "        for w in bert_model.weights:\n",
        "            if not any([x in w.name for x in retrain_layers]):\n",
        "                #print('freezing: ', w)\n",
        "                w._trainable = False\n",
        "\n",
        "    input_ids = tf.keras.layers.Input(shape=(MAX_SEQUENCE_LENGTH,), dtype=tf.int64, name='input_ids_layer')\n",
        "    token_type_ids = tf.keras.layers.Input(shape=(MAX_SEQUENCE_LENGTH,), dtype=tf.int64, name='token_type_ids_layer')\n",
        "    attention_mask = tf.keras.layers.Input(shape=(MAX_SEQUENCE_LENGTH,), dtype=tf.int64, name='attention_mask_layer')\n",
        "\n",
        "    bert_inputs = {'input_ids': input_ids,\n",
        "                   'token_type_ids': token_type_ids,\n",
        "                   'attention_mask': attention_mask}\n",
        "\n",
        "    bert_out = bert_model(bert_inputs)\n",
        "\n",
        "    pooler_token = bert_out[1]\n",
        "    #cls_token = bert_out[0][:, 0, :]\n",
        "\n",
        "    # # Reshape pooler token to be compatible with LSTM input\n",
        "    # reshaped_pooler = tf.keras.layers.Reshape((1, -1))(pooler_token)\n",
        "\n",
        "    # # Added LSTM layer\n",
        "    # lstm_layer = tf.keras.layers.LSTM(lstm_units, return_sequences=False, name='lstm_layer')(reshaped_pooler)\n",
        "    # lstm_layer = tf.keras.layers.Dropout(dropout)(lstm_layer)\n",
        "\n",
        "\n",
        "    classification = tf.keras.layers.Dense(num_classes, activation='softmax',name='classification_layer')(pooler_token)\n",
        "\n",
        "    classification_model = tf.keras.Model(inputs=[input_ids, token_type_ids, attention_mask], outputs=[classification])\n",
        "\n",
        "    classification_model.compile(optimizer=tf.keras.optimizers.Adam(learning_rate=learning_rate),\n",
        "                                 loss=tf.keras.losses.SparseCategoricalCrossentropy(from_logits=False),\n",
        "                                 metrics='accuracy')\n",
        "\n",
        "    return classification_model"
      ],
      "metadata": {
        "id": "F9jCrtXh2akX"
      },
      "execution_count": 19,
      "outputs": []
    },
    {
      "cell_type": "code",
      "source": [
        "#let's get a fresh instance of the bert_model -- good practice\n",
        "bert_model = TFBertModel.from_pretrained('bert-base-uncased')\n",
        "bert_classification_model = create_bert_classification_model(bert_model, num_train_layers=12)"
      ],
      "metadata": {
        "id": "P4doyzf15rJT"
      },
      "execution_count": 20,
      "outputs": []
    },
    {
      "cell_type": "code",
      "source": [
        "#confirm all layers are frozen\n",
        "bert_classification_model.summary()"
      ],
      "metadata": {
        "colab": {
          "base_uri": "https://localhost:8080/"
        },
        "id": "-dy-ypDH6cb-",
        "outputId": "ede532e7-868b-4b6d-8f70-43bec3e48af6"
      },
      "execution_count": 21,
      "outputs": [
        {
          "output_type": "stream",
          "name": "stdout",
          "text": [
            "Model: \"model\"\n",
            "__________________________________________________________________________________________________\n",
            " Layer (type)                Output Shape                 Param #   Connected to                  \n",
            "==================================================================================================\n",
            " attention_mask_layer (Inpu  [(None, 512)]                0         []                            \n",
            " tLayer)                                                                                          \n",
            "                                                                                                  \n",
            " input_ids_layer (InputLaye  [(None, 512)]                0         []                            \n",
            " r)                                                                                               \n",
            "                                                                                                  \n",
            " token_type_ids_layer (Inpu  [(None, 512)]                0         []                            \n",
            " tLayer)                                                                                          \n",
            "                                                                                                  \n",
            " tf_bert_model_1 (TFBertMod  TFBaseModelOutputWithPooli   1094822   ['attention_mask_layer[0][0]',\n",
            " el)                         ngAndCrossAttentions(last_   40         'input_ids_layer[0][0]',     \n",
            "                             hidden_state=(None, 512, 7              'token_type_ids_layer[0][0]']\n",
            "                             68),                                                                 \n",
            "                              pooler_output=(None, 768)                                           \n",
            "                             , past_key_values=None, hi                                           \n",
            "                             dden_states=None, attentio                                           \n",
            "                             ns=None, cross_attentions=                                           \n",
            "                             None)                                                                \n",
            "                                                                                                  \n",
            " classification_layer (Dens  (None, 3)                    2307      ['tf_bert_model_1[0][1]']     \n",
            " e)                                                                                               \n",
            "                                                                                                  \n",
            "==================================================================================================\n",
            "Total params: 109484547 (417.65 MB)\n",
            "Trainable params: 109484547 (417.65 MB)\n",
            "Non-trainable params: 0 (0.00 Byte)\n",
            "__________________________________________________________________________________________________\n"
          ]
        }
      ]
    },
    {
      "cell_type": "code",
      "source": [
        "keras.utils.plot_model(bert_classification_model, show_shapes=True, dpi=90)"
      ],
      "metadata": {
        "id": "dAsKlqf46fiu",
        "colab": {
          "base_uri": "https://localhost:8080/",
          "height": 246
        },
        "outputId": "986bce88-3057-42ba-d7a0-2247f6a5fd89"
      },
      "execution_count": 22,
      "outputs": [
        {
          "output_type": "execute_result",
          "data": {
            "image/png": "[encoded data removed]",
            "text/plain": [
              "<IPython.core.display.Image object>"
            ]
          },
          "metadata": {},
          "execution_count": 22
        }
      ]
    },
    {
      "cell_type": "code",
      "source": [
        "from tensorflow.keras.callbacks import EarlyStopping\n",
        "# Early stopping callback to avoid overfitting issue\n",
        "early_stopping = EarlyStopping(\n",
        "    monitor='val_accuracy',\n",
        "    patience=2,\n",
        "    mode='max',\n",
        "    restore_best_weights=True  # Restore model weights from the epoch with the best value of the monitored quantity\n",
        ")"
      ],
      "metadata": {
        "id": "WhUOF1is2AKd"
      },
      "execution_count": 23,
      "outputs": []
    },
    {
      "cell_type": "code",
      "source": [
        "bert_classification_model_history = bert_classification_model.fit(\n",
        "    [x_train.input_ids, x_train.token_type_ids, x_train.attention_mask],\n",
        "    y_train,\n",
        "    validation_data=([x_test.input_ids, x_test.token_type_ids, x_test.attention_mask], y_test),\n",
        "    batch_size=32,\n",
        "    epochs=5,\n",
        "    callbacks=[early_stopping]\n",
        ")"
      ],
      "metadata": {
        "colab": {
          "base_uri": "https://localhost:8080/"
        },
        "id": "HWvj_hjF6CGR",
        "outputId": "610383f7-29ad-48bd-8e75-35a6c3e3c7a7"
      },
      "execution_count": 24,
      "outputs": [
        {
          "output_type": "stream",
          "name": "stdout",
          "text": [
            "Epoch 1/5\n",
            "91/91 [==============================] - 156s 1s/step - loss: 1.0591 - accuracy: 0.4559 - val_loss: 1.0341 - val_accuracy: 0.4856\n",
            "Epoch 2/5\n",
            "91/91 [==============================] - 110s 1s/step - loss: 0.9381 - accuracy: 0.5493 - val_loss: 0.7886 - val_accuracy: 0.6399\n",
            "Epoch 3/5\n",
            "91/91 [==============================] - 110s 1s/step - loss: 0.5788 - accuracy: 0.7442 - val_loss: 0.6941 - val_accuracy: 0.7014\n",
            "Epoch 4/5\n",
            "91/91 [==============================] - 110s 1s/step - loss: 0.4283 - accuracy: 0.8199 - val_loss: 0.6245 - val_accuracy: 0.7590\n",
            "Epoch 5/5\n",
            "91/91 [==============================] - 110s 1s/step - loss: 0.2902 - accuracy: 0.8925 - val_loss: 0.5604 - val_accuracy: 0.7878\n"
          ]
        }
      ]
    },
    {
      "cell_type": "code",
      "source": [
        "history = bert_classification_model_history.history\n",
        "\n",
        "# Plotting accuracy\n",
        "plt.figure(figsize=(12,5))\n",
        "plt.subplot(1,2,1)\n",
        "plt.plot(history['accuracy'], label='Training Accuracy')\n",
        "plt.plot(history['val_accuracy'], label='Validation Accuracy')\n",
        "plt.title('Model Accuracy')\n",
        "plt.xlabel('Epoch')\n",
        "plt.ylabel('Accuracy')\n",
        "plt.legend()\n",
        "\n",
        "# Plotting loss\n",
        "plt.subplot(1,2,2)\n",
        "plt.plot(history['loss'], label='Training Loss')\n",
        "plt.plot(history['val_loss'], label='Validation Loss')\n",
        "plt.title('Model Loss')\n",
        "plt.xlabel('Epoch')\n",
        "plt.ylabel('Loss')\n",
        "plt.legend()\n",
        "\n",
        "plt.tight_layout()\n",
        "plt.show()"
      ],
      "metadata": {
        "colab": {
          "base_uri": "https://localhost:8080/",
          "height": 528
        },
        "id": "TGvT2O2_AQsL",
        "outputId": "a72e3a9d-8555-4ec5-fc8e-351772ccf209"
      },
      "execution_count": 25,
      "outputs": [
        {
          "output_type": "display_data",
          "data": {
            "text/plain": [
              "<Figure size 1200x500 with 2 Axes>"
            ],
            "image/png": "[encoded data removed]"
          },
          "metadata": {}
        }
      ]
    },
    {
      "cell_type": "code",
      "source": [
        "predictions_model= bert_classification_model.predict([x_test.input_ids, x_test.token_type_ids, x_test.attention_mask])\n",
        "predictions_model = tf.argmax(predictions_model, axis=-1)\n",
        "predictions_model"
      ],
      "metadata": {
        "colab": {
          "base_uri": "https://localhost:8080/"
        },
        "id": "-d-4N0F99apO",
        "outputId": "a3a53df3-d095-493e-ea52-d45ea18f001f"
      },
      "execution_count": 26,
      "outputs": [
        {
          "output_type": "stream",
          "name": "stdout",
          "text": [
            "138/138 [==============================] - 39s 263ms/step\n"
          ]
        },
        {
          "output_type": "execute_result",
          "data": {
            "text/plain": [
              "<tf.Tensor: shape=(4407,), dtype=int64, numpy=array([0, 0, 2, ..., 2, 2, 0])>"
            ]
          },
          "metadata": {},
          "execution_count": 26
        }
      ]
    },
    {
      "cell_type": "code",
      "source": [
        "print(classification_report(y_test, predictions_model.numpy(),\n",
        "                            target_names=['Left ','Center','Right']))"
      ],
      "metadata": {
        "colab": {
          "base_uri": "https://localhost:8080/"
        },
        "id": "nP_B6GDR9oeK",
        "outputId": "b9c7bf68-8d2d-4b12-cbef-984edaacc8ff"
      },
      "execution_count": 27,
      "outputs": [
        {
          "output_type": "stream",
          "name": "stdout",
          "text": [
            "              precision    recall  f1-score   support\n",
            "\n",
            "       Left        0.79      0.85      0.82      1836\n",
            "      Center       0.79      0.78      0.79      1005\n",
            "       Right       0.78      0.72      0.75      1566\n",
            "\n",
            "    accuracy                           0.79      4407\n",
            "   macro avg       0.79      0.78      0.78      4407\n",
            "weighted avg       0.79      0.79      0.79      4407\n",
            "\n"
          ]
        }
      ]
    },
    {
      "cell_type": "code",
      "source": [
        "def plot_confusion_matrix(y_true, y_pred, label_names):\n",
        "    cm = tf.math.confusion_matrix(y_true, y_pred)\n",
        "    cm = cm/cm.numpy().sum(axis=1)[:, tf.newaxis]\n",
        "\n",
        "    plt.figure(figsize=(20,7))\n",
        "    sns.heatmap(\n",
        "        cm, annot=True,\n",
        "        xticklabels=label_names,\n",
        "        yticklabels=label_names)\n",
        "    plt.xlabel(\"Predicted\")\n",
        "    plt.ylabel(\"True\")"
      ],
      "metadata": {
        "id": "qdv27kz39yqB"
      },
      "execution_count": 28,
      "outputs": []
    },
    {
      "cell_type": "code",
      "source": [
        "target_names=['Left ','Center','Right']\n",
        "plot_confusion_matrix(y_test, predictions_model.numpy(), target_names)"
      ],
      "metadata": {
        "colab": {
          "base_uri": "https://localhost:8080/",
          "height": 561
        },
        "id": "nml10N3ycx4r",
        "outputId": "e7333491-7c50-41e4-98d3-8df53b9c1851"
      },
      "execution_count": 29,
      "outputs": [
        {
          "output_type": "display_data",
          "data": {
            "text/plain": [
              "<Figure size 2000x700 with 2 Axes>"
            ],
            "image/png": "[encoded data removed]"
          },
          "metadata": {}
        }
      ]
    },
    {
      "cell_type": "code",
      "source": [
        "bert_wrong_guesses = np.where(y_test != predictions_model.numpy())"
      ],
      "metadata": {
        "id": "EuLHf0kn-aOh"
      },
      "execution_count": 31,
      "outputs": []
    },
    {
      "cell_type": "code",
      "source": [
        "print(f'Number of Wrong Guesses: ',len(bert_wrong_guesses[0]))"
      ],
      "metadata": {
        "colab": {
          "base_uri": "https://localhost:8080/"
        },
        "id": "Eu3ncelpdXIH",
        "outputId": "acedbe06-73e1-4c2a-d612-9bb415bf16dc"
      },
      "execution_count": 32,
      "outputs": [
        {
          "output_type": "stream",
          "name": "stdout",
          "text": [
            "Number of Wrong Guesses:  935\n"
          ]
        }
      ]
    },
    {
      "cell_type": "code",
      "source": [
        "#sampling 20 of the wrong precditions\n",
        "wrong_guesses = [i for i in np.squeeze(bert_wrong_guesses[0])]\n",
        "decoded_wrong_guesses_text=[]\n",
        "\n",
        "for i in wrong_guesses[:]:\n",
        "  decoded_text = bert_tokenizer.decode(x_test['input_ids'][i], skip_special_tokens=True)\n",
        "\n",
        "  # print(\"Input text:\")\n",
        "  # print(decoded_text)\n",
        "  decoded_wrong_guesses_text.append(decoded_text)\n",
        "  # print(\"True label:\")\n",
        "  # print(y_test.iloc[i])\n",
        "  # print(\"Predicted label:\")\n",
        "  # print(predictions_model.numpy()[i])\n",
        "\n",
        "  # print(\"-\" * 50)\n",
        "\n"
      ],
      "metadata": {
        "id": "q48gMIXLdk2q"
      },
      "execution_count": 33,
      "outputs": []
    },
    {
      "cell_type": "code",
      "source": [
        "len(decoded_wrong_guesses_text)"
      ],
      "metadata": {
        "colab": {
          "base_uri": "https://localhost:8080/"
        },
        "id": "QAlXC5vHem8q",
        "outputId": "75d7ef4f-7583-4912-a7a8-00bcaf817997"
      },
      "execution_count": 34,
      "outputs": [
        {
          "output_type": "execute_result",
          "data": {
            "text/plain": [
              "935"
            ]
          },
          "metadata": {},
          "execution_count": 34
        }
      ]
    },
    {
      "cell_type": "code",
      "source": [
        "# Get the actual indices of the rows with wrong guesses\n",
        "wrong_guesses_indices = test_df.index[wrong_guesses]\n",
        "\n",
        "# Now use these correct indices to extract the relevant rows\n",
        "sources_analysis = test_df.loc[wrong_guesses_indices]"
      ],
      "metadata": {
        "id": "r7ePHhyxke3d"
      },
      "execution_count": 36,
      "outputs": []
    },
    {
      "cell_type": "code",
      "source": [
        "# Count the occurrences of each source\n",
        "source_counts = sources_analysis['source'].value_counts()\n",
        "\n",
        "# Get the top 10 sources\n",
        "top_sources = source_counts.head(30)\n",
        "\n",
        "# Create a bar plot for the top 10 sources\n",
        "plt.figure(figsize=(12, 6))\n",
        "top_sources.plot(kind='bar')\n",
        "\n",
        "# Customize the plot\n",
        "plt.title(\"Distribution of Wrong Guess' Sources (Top 10)\")\n",
        "plt.xlabel('Source')\n",
        "plt.ylabel('Count')\n",
        "plt.xticks(rotation=45, ha='right')\n",
        "plt.tight_layout()\n",
        "\n",
        "# Show the plot\n",
        "plt.show()"
      ],
      "metadata": {
        "id": "_HmBmevpmvV1",
        "colab": {
          "base_uri": "https://localhost:8080/",
          "height": 628
        },
        "outputId": "5df5659f-f8e8-4400-bd82-c61f2bd0bb5c"
      },
      "execution_count": 40,
      "outputs": [
        {
          "output_type": "display_data",
          "data": {
            "text/plain": [
              "<Figure size 1200x600 with 1 Axes>"
            ],
            "image/png": "[encoded data removed]"
          },
          "metadata": {}
        }
      ]
    },
    {
      "cell_type": "code",
      "source": [
        "# Convert 'date' to datetime if it's not already\n",
        "sources_analysis['date'] = pd.to_datetime(sources_analysis['date'])\n",
        "\n",
        "# Extract year from the date\n",
        "sources_analysis['year'] = sources_analysis['date'].dt.year\n",
        "\n",
        "# Count occurrences of each year\n",
        "year_counts = sources_analysis['year'].value_counts().sort_index()\n",
        "\n",
        "# Create a bar plot\n",
        "plt.figure(figsize=(12, 6))\n",
        "year_counts.plot(kind='bar')\n",
        "\n",
        "# Customize the plot\n",
        "plt.title('Distribution of Sources by Year')\n",
        "plt.xlabel('Year')\n",
        "plt.ylabel('Count')\n",
        "plt.xticks(rotation=0)  # No rotation for years\n",
        "plt.tight_layout()\n",
        "\n",
        "# Show the plot\n",
        "plt.show()"
      ],
      "metadata": {
        "id": "OlczO-KVoc6z",
        "colab": {
          "base_uri": "https://localhost:8080/",
          "height": 628
        },
        "outputId": "d6029495-b1ba-4131-cac7-69fc66af2412"
      },
      "execution_count": 41,
      "outputs": [
        {
          "output_type": "display_data",
          "data": {
            "text/plain": [
              "<Figure size 1200x600 with 1 Axes>"
            ],
            "image/png": "[encoded data removed]"
          },
          "metadata": {}
        }
      ]
    },
    {
      "cell_type": "code",
      "source": [
        "# for i in wrong_guesses[:50]:\n",
        "#   decoded_text = bert_tokenizer.decode(x_test['input_ids'][i], skip_special_tokens=True)\n",
        "\n",
        "#   print(\"Input text:\")\n",
        "#   print(decoded_text)\n",
        "#   print(\"True label:\")\n",
        "#   print(y_test.iloc[i])\n",
        "#   print(\"Predicted label:\")\n",
        "#   print(predictions_model.numpy()[i])\n",
        "\n",
        "#   print(\"-\" * 50)\n"
      ],
      "metadata": {
        "id": "QubWzf3VpCMj"
      },
      "execution_count": null,
      "outputs": []
    },
    {
      "cell_type": "code",
      "source": [
        "decoded_wrong_guesses_df = pd.DataFrame({'text': decoded_wrong_guesses_text})\n",
        "\n",
        "# Now you can save it to a CSV file\n",
        "decoded_wrong_guesses_df.to_csv('bert_fine_tuning_wrong guess(7.23.24).csv', index=False)"
      ],
      "metadata": {
        "id": "btFttc_4q6zg"
      },
      "execution_count": 43,
      "outputs": []
    },
    {
      "cell_type": "code",
      "source": [],
      "metadata": {
        "id": "ZtlxJn3vpGcT"
      },
      "execution_count": null,
      "outputs": []
    }
  ]
}