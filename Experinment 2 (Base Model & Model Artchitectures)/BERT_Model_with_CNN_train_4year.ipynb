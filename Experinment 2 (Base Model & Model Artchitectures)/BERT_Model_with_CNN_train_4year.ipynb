{
  "nbformat": 4,
  "nbformat_minor": 0,
  "metadata": {
    "colab": {
      "provenance": [],
      "machine_shape": "hm",
      "gpuType": "A100",
      "last_runtime": {
        "build_target": "//learning/grp/tools/ml_python:ml_notebook",
        "kind": "private"
      }
    },
    "kernelspec": {
      "name": "python3",
      "display_name": "Python 3"
    },
    "language_info": {
      "name": "python"
    },
    "accelerator": "GPU",
    "widgets": {
      "application/vnd.jupyter.widget-state+json": {
        "1a49313bac444c9091a8f4f5c1caf9b4": {
          "model_module": "@jupyter-widgets/controls",
          "model_name": "HBoxModel",
          "model_module_version": "1.5.0",
          "state": {
            "_dom_classes": [],
            "_model_module": "@jupyter-widgets/controls",
            "_model_module_version": "1.5.0",
            "_model_name": "HBoxModel",
            "_view_count": null,
            "_view_module": "@jupyter-widgets/controls",
            "_view_module_version": "1.5.0",
            "_view_name": "HBoxView",
            "box_style": "",
            "children": [
              "IPY_MODEL_fb877d3d856042f3a3629ea5320a9508",
              "IPY_MODEL_21e6f79a20ba4470beb65704e2f442f8",
              "IPY_MODEL_a69b6a1c4bd549a28aa300ae55f8cb88"
            ],
            "layout": "IPY_MODEL_30f7cccf754a456484d0aed35512a47c"
          }
        },
        "fb877d3d856042f3a3629ea5320a9508": {
          "model_module": "@jupyter-widgets/controls",
          "model_name": "HTMLModel",
          "model_module_version": "1.5.0",
          "state": {
            "_dom_classes": [],
            "_model_module": "@jupyter-widgets/controls",
            "_model_module_version": "1.5.0",
            "_model_name": "HTMLModel",
            "_view_count": null,
            "_view_module": "@jupyter-widgets/controls",
            "_view_module_version": "1.5.0",
            "_view_name": "HTMLView",
            "description": "",
            "description_tooltip": null,
            "layout": "IPY_MODEL_817436c0d3604ac2a1a71179d720e5af",
            "placeholder": "​",
            "style": "IPY_MODEL_b520e872912c46248b989bf91f65b55c",
            "value": "tokenizer_config.json: 100%"
          }
        },
        "21e6f79a20ba4470beb65704e2f442f8": {
          "model_module": "@jupyter-widgets/controls",
          "model_name": "FloatProgressModel",
          "model_module_version": "1.5.0",
          "state": {
            "_dom_classes": [],
            "_model_module": "@jupyter-widgets/controls",
            "_model_module_version": "1.5.0",
            "_model_name": "FloatProgressModel",
            "_view_count": null,
            "_view_module": "@jupyter-widgets/controls",
            "_view_module_version": "1.5.0",
            "_view_name": "ProgressView",
            "bar_style": "success",
            "description": "",
            "description_tooltip": null,
            "layout": "IPY_MODEL_42873a110afe4bd3b1f5480419f7429f",
            "max": 48,
            "min": 0,
            "orientation": "horizontal",
            "style": "IPY_MODEL_acec8df2a620422cb8284e501282d00d",
            "value": 48
          }
        },
        "a69b6a1c4bd549a28aa300ae55f8cb88": {
          "model_module": "@jupyter-widgets/controls",
          "model_name": "HTMLModel",
          "model_module_version": "1.5.0",
          "state": {
            "_dom_classes": [],
            "_model_module": "@jupyter-widgets/controls",
            "_model_module_version": "1.5.0",
            "_model_name": "HTMLModel",
            "_view_count": null,
            "_view_module": "@jupyter-widgets/controls",
            "_view_module_version": "1.5.0",
            "_view_name": "HTMLView",
            "description": "",
            "description_tooltip": null,
            "layout": "IPY_MODEL_fbf6745b632341adbfdf9cbbd149ad14",
            "placeholder": "​",
            "style": "IPY_MODEL_19baf69c13ad4b13ad022e529d00825d",
            "value": " 48.0/48.0 [00:00&lt;00:00, 6.95kB/s]"
          }
        },
        "30f7cccf754a456484d0aed35512a47c": {
          "model_module": "@jupyter-widgets/base",
          "model_name": "LayoutModel",
          "model_module_version": "1.2.0",
          "state": {
            "_model_module": "@jupyter-widgets/base",
            "_model_module_version": "1.2.0",
            "_model_name": "LayoutModel",
            "_view_count": null,
            "_view_module": "@jupyter-widgets/base",
            "_view_module_version": "1.2.0",
            "_view_name": "LayoutView",
            "align_content": null,
            "align_items": null,
            "align_self": null,
            "border": null,
            "bottom": null,
            "display": null,
            "flex": null,
            "flex_flow": null,
            "grid_area": null,
            "grid_auto_columns": null,
            "grid_auto_flow": null,
            "grid_auto_rows": null,
            "grid_column": null,
            "grid_gap": null,
            "grid_row": null,
            "grid_template_areas": null,
            "grid_template_columns": null,
            "grid_template_rows": null,
            "height": null,
            "justify_content": null,
            "justify_items": null,
            "left": null,
            "margin": null,
            "max_height": null,
            "max_width": null,
            "min_height": null,
            "min_width": null,
            "object_fit": null,
            "object_position": null,
            "order": null,
            "overflow": null,
            "overflow_x": null,
            "overflow_y": null,
            "padding": null,
            "right": null,
            "top": null,
            "visibility": null,
            "width": null
          }
        },
        "817436c0d3604ac2a1a71179d720e5af": {
          "model_module": "@jupyter-widgets/base",
          "model_name": "LayoutModel",
          "model_module_version": "1.2.0",
          "state": {
            "_model_module": "@jupyter-widgets/base",
            "_model_module_version": "1.2.0",
            "_model_name": "LayoutModel",
            "_view_count": null,
            "_view_module": "@jupyter-widgets/base",
            "_view_module_version": "1.2.0",
            "_view_name": "LayoutView",
            "align_content": null,
            "align_items": null,
            "align_self": null,
            "border": null,
            "bottom": null,
            "display": null,
            "flex": null,
            "flex_flow": null,
            "grid_area": null,
            "grid_auto_columns": null,
            "grid_auto_flow": null,
            "grid_auto_rows": null,
            "grid_column": null,
            "grid_gap": null,
            "grid_row": null,
            "grid_template_areas": null,
            "grid_template_columns": null,
            "grid_template_rows": null,
            "height": null,
            "justify_content": null,
            "justify_items": null,
            "left": null,
            "margin": null,
            "max_height": null,
            "max_width": null,
            "min_height": null,
            "min_width": null,
            "object_fit": null,
            "object_position": null,
            "order": null,
            "overflow": null,
            "overflow_x": null,
            "overflow_y": null,
            "padding": null,
            "right": null,
            "top": null,
            "visibility": null,
            "width": null
          }
        },
        "b520e872912c46248b989bf91f65b55c": {
          "model_module": "@jupyter-widgets/controls",
          "model_name": "DescriptionStyleModel",
          "model_module_version": "1.5.0",
          "state": {
            "_model_module": "@jupyter-widgets/controls",
            "_model_module_version": "1.5.0",
            "_model_name": "DescriptionStyleModel",
            "_view_count": null,
            "_view_module": "@jupyter-widgets/base",
            "_view_module_version": "1.2.0",
            "_view_name": "StyleView",
            "description_width": ""
          }
        },
        "42873a110afe4bd3b1f5480419f7429f": {
          "model_module": "@jupyter-widgets/base",
          "model_name": "LayoutModel",
          "model_module_version": "1.2.0",
          "state": {
            "_model_module": "@jupyter-widgets/base",
            "_model_module_version": "1.2.0",
            "_model_name": "LayoutModel",
            "_view_count": null,
            "_view_module": "@jupyter-widgets/base",
            "_view_module_version": "1.2.0",
            "_view_name": "LayoutView",
            "align_content": null,
            "align_items": null,
            "align_self": null,
            "border": null,
            "bottom": null,
            "display": null,
            "flex": null,
            "flex_flow": null,
            "grid_area": null,
            "grid_auto_columns": null,
            "grid_auto_flow": null,
            "grid_auto_rows": null,
            "grid_column": null,
            "grid_gap": null,
            "grid_row": null,
            "grid_template_areas": null,
            "grid_template_columns": null,
            "grid_template_rows": null,
            "height": null,
            "justify_content": null,
            "justify_items": null,
            "left": null,
            "margin": null,
            "max_height": null,
            "max_width": null,
            "min_height": null,
            "min_width": null,
            "object_fit": null,
            "object_position": null,
            "order": null,
            "overflow": null,
            "overflow_x": null,
            "overflow_y": null,
            "padding": null,
            "right": null,
            "top": null,
            "visibility": null,
            "width": null
          }
        },
        "acec8df2a620422cb8284e501282d00d": {
          "model_module": "@jupyter-widgets/controls",
          "model_name": "ProgressStyleModel",
          "model_module_version": "1.5.0",
          "state": {
            "_model_module": "@jupyter-widgets/controls",
            "_model_module_version": "1.5.0",
            "_model_name": "ProgressStyleModel",
            "_view_count": null,
            "_view_module": "@jupyter-widgets/base",
            "_view_module_version": "1.2.0",
            "_view_name": "StyleView",
            "bar_color": null,
            "description_width": ""
          }
        },
        "fbf6745b632341adbfdf9cbbd149ad14": {
          "model_module": "@jupyter-widgets/base",
          "model_name": "LayoutModel",
          "model_module_version": "1.2.0",
          "state": {
            "_model_module": "@jupyter-widgets/base",
            "_model_module_version": "1.2.0",
            "_model_name": "LayoutModel",
            "_view_count": null,
            "_view_module": "@jupyter-widgets/base",
            "_view_module_version": "1.2.0",
            "_view_name": "LayoutView",
            "align_content": null,
            "align_items": null,
            "align_self": null,
            "border": null,
            "bottom": null,
            "display": null,
            "flex": null,
            "flex_flow": null,
            "grid_area": null,
            "grid_auto_columns": null,
            "grid_auto_flow": null,
            "grid_auto_rows": null,
            "grid_column": null,
            "grid_gap": null,
            "grid_row": null,
            "grid_template_areas": null,
            "grid_template_columns": null,
            "grid_template_rows": null,
            "height": null,
            "justify_content": null,
            "justify_items": null,
            "left": null,
            "margin": null,
            "max_height": null,
            "max_width": null,
            "min_height": null,
            "min_width": null,
            "object_fit": null,
            "object_position": null,
            "order": null,
            "overflow": null,
            "overflow_x": null,
            "overflow_y": null,
            "padding": null,
            "right": null,
            "top": null,
            "visibility": null,
            "width": null
          }
        },
        "19baf69c13ad4b13ad022e529d00825d": {
          "model_module": "@jupyter-widgets/controls",
          "model_name": "DescriptionStyleModel",
          "model_module_version": "1.5.0",
          "state": {
            "_model_module": "@jupyter-widgets/controls",
            "_model_module_version": "1.5.0",
            "_model_name": "DescriptionStyleModel",
            "_view_count": null,
            "_view_module": "@jupyter-widgets/base",
            "_view_module_version": "1.2.0",
            "_view_name": "StyleView",
            "description_width": ""
          }
        },
        "36b48812222748189f0ab5c3f7c8f8d7": {
          "model_module": "@jupyter-widgets/controls",
          "model_name": "HBoxModel",
          "model_module_version": "1.5.0",
          "state": {
            "_dom_classes": [],
            "_model_module": "@jupyter-widgets/controls",
            "_model_module_version": "1.5.0",
            "_model_name": "HBoxModel",
            "_view_count": null,
            "_view_module": "@jupyter-widgets/controls",
            "_view_module_version": "1.5.0",
            "_view_name": "HBoxView",
            "box_style": "",
            "children": [
              "IPY_MODEL_08026574b02e491a863cfe83dbbe5f8c",
              "IPY_MODEL_44884d9bdc4b43179ff404714a839935",
              "IPY_MODEL_0709ab2db06146dea51badb12c659f23"
            ],
            "layout": "IPY_MODEL_fc8fbf565f5548149a01a7d488ab7136"
          }
        },
        "08026574b02e491a863cfe83dbbe5f8c": {
          "model_module": "@jupyter-widgets/controls",
          "model_name": "HTMLModel",
          "model_module_version": "1.5.0",
          "state": {
            "_dom_classes": [],
            "_model_module": "@jupyter-widgets/controls",
            "_model_module_version": "1.5.0",
            "_model_name": "HTMLModel",
            "_view_count": null,
            "_view_module": "@jupyter-widgets/controls",
            "_view_module_version": "1.5.0",
            "_view_name": "HTMLView",
            "description": "",
            "description_tooltip": null,
            "layout": "IPY_MODEL_8c7032d0f65444539a82d6e32b5d572d",
            "placeholder": "​",
            "style": "IPY_MODEL_91e9604968514aa2937817f3b6fb539b",
            "value": "vocab.txt: 100%"
          }
        },
        "44884d9bdc4b43179ff404714a839935": {
          "model_module": "@jupyter-widgets/controls",
          "model_name": "FloatProgressModel",
          "model_module_version": "1.5.0",
          "state": {
            "_dom_classes": [],
            "_model_module": "@jupyter-widgets/controls",
            "_model_module_version": "1.5.0",
            "_model_name": "FloatProgressModel",
            "_view_count": null,
            "_view_module": "@jupyter-widgets/controls",
            "_view_module_version": "1.5.0",
            "_view_name": "ProgressView",
            "bar_style": "success",
            "description": "",
            "description_tooltip": null,
            "layout": "IPY_MODEL_a26b623726e948ea9dee2bde8ec9c64a",
            "max": 231508,
            "min": 0,
            "orientation": "horizontal",
            "style": "IPY_MODEL_daa1b7eae4b94358bcbb98635fb898b5",
            "value": 231508
          }
        },
        "0709ab2db06146dea51badb12c659f23": {
          "model_module": "@jupyter-widgets/controls",
          "model_name": "HTMLModel",
          "model_module_version": "1.5.0",
          "state": {
            "_dom_classes": [],
            "_model_module": "@jupyter-widgets/controls",
            "_model_module_version": "1.5.0",
            "_model_name": "HTMLModel",
            "_view_count": null,
            "_view_module": "@jupyter-widgets/controls",
            "_view_module_version": "1.5.0",
            "_view_name": "HTMLView",
            "description": "",
            "description_tooltip": null,
            "layout": "IPY_MODEL_c488cdad2fd64676a0bffd459e51554b",
            "placeholder": "​",
            "style": "IPY_MODEL_150a897d1aa64bfc9d0d94a488c5a4aa",
            "value": " 232k/232k [00:00&lt;00:00, 30.9MB/s]"
          }
        },
        "fc8fbf565f5548149a01a7d488ab7136": {
          "model_module": "@jupyter-widgets/base",
          "model_name": "LayoutModel",
          "model_module_version": "1.2.0",
          "state": {
            "_model_module": "@jupyter-widgets/base",
            "_model_module_version": "1.2.0",
            "_model_name": "LayoutModel",
            "_view_count": null,
            "_view_module": "@jupyter-widgets/base",
            "_view_module_version": "1.2.0",
            "_view_name": "LayoutView",
            "align_content": null,
            "align_items": null,
            "align_self": null,
            "border": null,
            "bottom": null,
            "display": null,
            "flex": null,
            "flex_flow": null,
            "grid_area": null,
            "grid_auto_columns": null,
            "grid_auto_flow": null,
            "grid_auto_rows": null,
            "grid_column": null,
            "grid_gap": null,
            "grid_row": null,
            "grid_template_areas": null,
            "grid_template_columns": null,
            "grid_template_rows": null,
            "height": null,
            "justify_content": null,
            "justify_items": null,
            "left": null,
            "margin": null,
            "max_height": null,
            "max_width": null,
            "min_height": null,
            "min_width": null,
            "object_fit": null,
            "object_position": null,
            "order": null,
            "overflow": null,
            "overflow_x": null,
            "overflow_y": null,
            "padding": null,
            "right": null,
            "top": null,
            "visibility": null,
            "width": null
          }
        },
        "8c7032d0f65444539a82d6e32b5d572d": {
          "model_module": "@jupyter-widgets/base",
          "model_name": "LayoutModel",
          "model_module_version": "1.2.0",
          "state": {
            "_model_module": "@jupyter-widgets/base",
            "_model_module_version": "1.2.0",
            "_model_name": "LayoutModel",
            "_view_count": null,
            "_view_module": "@jupyter-widgets/base",
            "_view_module_version": "1.2.0",
            "_view_name": "LayoutView",
            "align_content": null,
            "align_items": null,
            "align_self": null,
            "border": null,
            "bottom": null,
            "display": null,
            "flex": null,
            "flex_flow": null,
            "grid_area": null,
            "grid_auto_columns": null,
            "grid_auto_flow": null,
            "grid_auto_rows": null,
            "grid_column": null,
            "grid_gap": null,
            "grid_row": null,
            "grid_template_areas": null,
            "grid_template_columns": null,
            "grid_template_rows": null,
            "height": null,
            "justify_content": null,
            "justify_items": null,
            "left": null,
            "margin": null,
            "max_height": null,
            "max_width": null,
            "min_height": null,
            "min_width": null,
            "object_fit": null,
            "object_position": null,
            "order": null,
            "overflow": null,
            "overflow_x": null,
            "overflow_y": null,
            "padding": null,
            "right": null,
            "top": null,
            "visibility": null,
            "width": null
          }
        },
        "91e9604968514aa2937817f3b6fb539b": {
          "model_module": "@jupyter-widgets/controls",
          "model_name": "DescriptionStyleModel",
          "model_module_version": "1.5.0",
          "state": {
            "_model_module": "@jupyter-widgets/controls",
            "_model_module_version": "1.5.0",
            "_model_name": "DescriptionStyleModel",
            "_view_count": null,
            "_view_module": "@jupyter-widgets/base",
            "_view_module_version": "1.2.0",
            "_view_name": "StyleView",
            "description_width": ""
          }
        },
        "a26b623726e948ea9dee2bde8ec9c64a": {
          "model_module": "@jupyter-widgets/base",
          "model_name": "LayoutModel",
          "model_module_version": "1.2.0",
          "state": {
            "_model_module": "@jupyter-widgets/base",
            "_model_module_version": "1.2.0",
            "_model_name": "LayoutModel",
            "_view_count": null,
            "_view_module": "@jupyter-widgets/base",
            "_view_module_version": "1.2.0",
            "_view_name": "LayoutView",
            "align_content": null,
            "align_items": null,
            "align_self": null,
            "border": null,
            "bottom": null,
            "display": null,
            "flex": null,
            "flex_flow": null,
            "grid_area": null,
            "grid_auto_columns": null,
            "grid_auto_flow": null,
            "grid_auto_rows": null,
            "grid_column": null,
            "grid_gap": null,
            "grid_row": null,
            "grid_template_areas": null,
            "grid_template_columns": null,
            "grid_template_rows": null,
            "height": null,
            "justify_content": null,
            "justify_items": null,
            "left": null,
            "margin": null,
            "max_height": null,
            "max_width": null,
            "min_height": null,
            "min_width": null,
            "object_fit": null,
            "object_position": null,
            "order": null,
            "overflow": null,
            "overflow_x": null,
            "overflow_y": null,
            "padding": null,
            "right": null,
            "top": null,
            "visibility": null,
            "width": null
          }
        },
        "daa1b7eae4b94358bcbb98635fb898b5": {
          "model_module": "@jupyter-widgets/controls",
          "model_name": "ProgressStyleModel",
          "model_module_version": "1.5.0",
          "state": {
            "_model_module": "@jupyter-widgets/controls",
            "_model_module_version": "1.5.0",
            "_model_name": "ProgressStyleModel",
            "_view_count": null,
            "_view_module": "@jupyter-widgets/base",
            "_view_module_version": "1.2.0",
            "_view_name": "StyleView",
            "bar_color": null,
            "description_width": ""
          }
        },
        "c488cdad2fd64676a0bffd459e51554b": {
          "model_module": "@jupyter-widgets/base",
          "model_name": "LayoutModel",
          "model_module_version": "1.2.0",
          "state": {
            "_model_module": "@jupyter-widgets/base",
            "_model_module_version": "1.2.0",
            "_model_name": "LayoutModel",
            "_view_count": null,
            "_view_module": "@jupyter-widgets/base",
            "_view_module_version": "1.2.0",
            "_view_name": "LayoutView",
            "align_content": null,
            "align_items": null,
            "align_self": null,
            "border": null,
            "bottom": null,
            "display": null,
            "flex": null,
            "flex_flow": null,
            "grid_area": null,
            "grid_auto_columns": null,
            "grid_auto_flow": null,
            "grid_auto_rows": null,
            "grid_column": null,
            "grid_gap": null,
            "grid_row": null,
            "grid_template_areas": null,
            "grid_template_columns": null,
            "grid_template_rows": null,
            "height": null,
            "justify_content": null,
            "justify_items": null,
            "left": null,
            "margin": null,
            "max_height": null,
            "max_width": null,
            "min_height": null,
            "min_width": null,
            "object_fit": null,
            "object_position": null,
            "order": null,
            "overflow": null,
            "overflow_x": null,
            "overflow_y": null,
            "padding": null,
            "right": null,
            "top": null,
            "visibility": null,
            "width": null
          }
        },
        "150a897d1aa64bfc9d0d94a488c5a4aa": {
          "model_module": "@jupyter-widgets/controls",
          "model_name": "DescriptionStyleModel",
          "model_module_version": "1.5.0",
          "state": {
            "_model_module": "@jupyter-widgets/controls",
            "_model_module_version": "1.5.0",
            "_model_name": "DescriptionStyleModel",
            "_view_count": null,
            "_view_module": "@jupyter-widgets/base",
            "_view_module_version": "1.2.0",
            "_view_name": "StyleView",
            "description_width": ""
          }
        },
        "63deada0457245a580a805902d2d3d75": {
          "model_module": "@jupyter-widgets/controls",
          "model_name": "HBoxModel",
          "model_module_version": "1.5.0",
          "state": {
            "_dom_classes": [],
            "_model_module": "@jupyter-widgets/controls",
            "_model_module_version": "1.5.0",
            "_model_name": "HBoxModel",
            "_view_count": null,
            "_view_module": "@jupyter-widgets/controls",
            "_view_module_version": "1.5.0",
            "_view_name": "HBoxView",
            "box_style": "",
            "children": [
              "IPY_MODEL_84f20ef3e71d420f947ddb6eb87ba1d3",
              "IPY_MODEL_438b33ffd05041469828e00460f85747",
              "IPY_MODEL_62751c544a114560aad5d33a2fdae9e0"
            ],
            "layout": "IPY_MODEL_8b1bcacc62524e6e800365a13137be4a"
          }
        },
        "84f20ef3e71d420f947ddb6eb87ba1d3": {
          "model_module": "@jupyter-widgets/controls",
          "model_name": "HTMLModel",
          "model_module_version": "1.5.0",
          "state": {
            "_dom_classes": [],
            "_model_module": "@jupyter-widgets/controls",
            "_model_module_version": "1.5.0",
            "_model_name": "HTMLModel",
            "_view_count": null,
            "_view_module": "@jupyter-widgets/controls",
            "_view_module_version": "1.5.0",
            "_view_name": "HTMLView",
            "description": "",
            "description_tooltip": null,
            "layout": "IPY_MODEL_781b4840fd9c4c80ba8d41f6c6fb5b68",
            "placeholder": "​",
            "style": "IPY_MODEL_40687dc6f4e947e595fdd38e98b6e552",
            "value": "tokenizer.json: 100%"
          }
        },
        "438b33ffd05041469828e00460f85747": {
          "model_module": "@jupyter-widgets/controls",
          "model_name": "FloatProgressModel",
          "model_module_version": "1.5.0",
          "state": {
            "_dom_classes": [],
            "_model_module": "@jupyter-widgets/controls",
            "_model_module_version": "1.5.0",
            "_model_name": "FloatProgressModel",
            "_view_count": null,
            "_view_module": "@jupyter-widgets/controls",
            "_view_module_version": "1.5.0",
            "_view_name": "ProgressView",
            "bar_style": "success",
            "description": "",
            "description_tooltip": null,
            "layout": "IPY_MODEL_2e4eaf0de92442f28f0eec97a56dc052",
            "max": 466062,
            "min": 0,
            "orientation": "horizontal",
            "style": "IPY_MODEL_23c837eae21a4b8d8fdb415fb557475a",
            "value": 466062
          }
        },
        "62751c544a114560aad5d33a2fdae9e0": {
          "model_module": "@jupyter-widgets/controls",
          "model_name": "HTMLModel",
          "model_module_version": "1.5.0",
          "state": {
            "_dom_classes": [],
            "_model_module": "@jupyter-widgets/controls",
            "_model_module_version": "1.5.0",
            "_model_name": "HTMLModel",
            "_view_count": null,
            "_view_module": "@jupyter-widgets/controls",
            "_view_module_version": "1.5.0",
            "_view_name": "HTMLView",
            "description": "",
            "description_tooltip": null,
            "layout": "IPY_MODEL_d4daccab476b43eaab7258909ea0551f",
            "placeholder": "​",
            "style": "IPY_MODEL_e72aeada9bea42618ae7117d83d08e83",
            "value": " 466k/466k [00:00&lt;00:00, 67.4MB/s]"
          }
        },
        "8b1bcacc62524e6e800365a13137be4a": {
          "model_module": "@jupyter-widgets/base",
          "model_name": "LayoutModel",
          "model_module_version": "1.2.0",
          "state": {
            "_model_module": "@jupyter-widgets/base",
            "_model_module_version": "1.2.0",
            "_model_name": "LayoutModel",
            "_view_count": null,
            "_view_module": "@jupyter-widgets/base",
            "_view_module_version": "1.2.0",
            "_view_name": "LayoutView",
            "align_content": null,
            "align_items": null,
            "align_self": null,
            "border": null,
            "bottom": null,
            "display": null,
            "flex": null,
            "flex_flow": null,
            "grid_area": null,
            "grid_auto_columns": null,
            "grid_auto_flow": null,
            "grid_auto_rows": null,
            "grid_column": null,
            "grid_gap": null,
            "grid_row": null,
            "grid_template_areas": null,
            "grid_template_columns": null,
            "grid_template_rows": null,
            "height": null,
            "justify_content": null,
            "justify_items": null,
            "left": null,
            "margin": null,
            "max_height": null,
            "max_width": null,
            "min_height": null,
            "min_width": null,
            "object_fit": null,
            "object_position": null,
            "order": null,
            "overflow": null,
            "overflow_x": null,
            "overflow_y": null,
            "padding": null,
            "right": null,
            "top": null,
            "visibility": null,
            "width": null
          }
        },
        "781b4840fd9c4c80ba8d41f6c6fb5b68": {
          "model_module": "@jupyter-widgets/base",
          "model_name": "LayoutModel",
          "model_module_version": "1.2.0",
          "state": {
            "_model_module": "@jupyter-widgets/base",
            "_model_module_version": "1.2.0",
            "_model_name": "LayoutModel",
            "_view_count": null,
            "_view_module": "@jupyter-widgets/base",
            "_view_module_version": "1.2.0",
            "_view_name": "LayoutView",
            "align_content": null,
            "align_items": null,
            "align_self": null,
            "border": null,
            "bottom": null,
            "display": null,
            "flex": null,
            "flex_flow": null,
            "grid_area": null,
            "grid_auto_columns": null,
            "grid_auto_flow": null,
            "grid_auto_rows": null,
            "grid_column": null,
            "grid_gap": null,
            "grid_row": null,
            "grid_template_areas": null,
            "grid_template_columns": null,
            "grid_template_rows": null,
            "height": null,
            "justify_content": null,
            "justify_items": null,
            "left": null,
            "margin": null,
            "max_height": null,
            "max_width": null,
            "min_height": null,
            "min_width": null,
            "object_fit": null,
            "object_position": null,
            "order": null,
            "overflow": null,
            "overflow_x": null,
            "overflow_y": null,
            "padding": null,
            "right": null,
            "top": null,
            "visibility": null,
            "width": null
          }
        },
        "40687dc6f4e947e595fdd38e98b6e552": {
          "model_module": "@jupyter-widgets/controls",
          "model_name": "DescriptionStyleModel",
          "model_module_version": "1.5.0",
          "state": {
            "_model_module": "@jupyter-widgets/controls",
            "_model_module_version": "1.5.0",
            "_model_name": "DescriptionStyleModel",
            "_view_count": null,
            "_view_module": "@jupyter-widgets/base",
            "_view_module_version": "1.2.0",
            "_view_name": "StyleView",
            "description_width": ""
          }
        },
        "2e4eaf0de92442f28f0eec97a56dc052": {
          "model_module": "@jupyter-widgets/base",
          "model_name": "LayoutModel",
          "model_module_version": "1.2.0",
          "state": {
            "_model_module": "@jupyter-widgets/base",
            "_model_module_version": "1.2.0",
            "_model_name": "LayoutModel",
            "_view_count": null,
            "_view_module": "@jupyter-widgets/base",
            "_view_module_version": "1.2.0",
            "_view_name": "LayoutView",
            "align_content": null,
            "align_items": null,
            "align_self": null,
            "border": null,
            "bottom": null,
            "display": null,
            "flex": null,
            "flex_flow": null,
            "grid_area": null,
            "grid_auto_columns": null,
            "grid_auto_flow": null,
            "grid_auto_rows": null,
            "grid_column": null,
            "grid_gap": null,
            "grid_row": null,
            "grid_template_areas": null,
            "grid_template_columns": null,
            "grid_template_rows": null,
            "height": null,
            "justify_content": null,
            "justify_items": null,
            "left": null,
            "margin": null,
            "max_height": null,
            "max_width": null,
            "min_height": null,
            "min_width": null,
            "object_fit": null,
            "object_position": null,
            "order": null,
            "overflow": null,
            "overflow_x": null,
            "overflow_y": null,
            "padding": null,
            "right": null,
            "top": null,
            "visibility": null,
            "width": null
          }
        },
        "23c837eae21a4b8d8fdb415fb557475a": {
          "model_module": "@jupyter-widgets/controls",
          "model_name": "ProgressStyleModel",
          "model_module_version": "1.5.0",
          "state": {
            "_model_module": "@jupyter-widgets/controls",
            "_model_module_version": "1.5.0",
            "_model_name": "ProgressStyleModel",
            "_view_count": null,
            "_view_module": "@jupyter-widgets/base",
            "_view_module_version": "1.2.0",
            "_view_name": "StyleView",
            "bar_color": null,
            "description_width": ""
          }
        },
        "d4daccab476b43eaab7258909ea0551f": {
          "model_module": "@jupyter-widgets/base",
          "model_name": "LayoutModel",
          "model_module_version": "1.2.0",
          "state": {
            "_model_module": "@jupyter-widgets/base",
            "_model_module_version": "1.2.0",
            "_model_name": "LayoutModel",
            "_view_count": null,
            "_view_module": "@jupyter-widgets/base",
            "_view_module_version": "1.2.0",
            "_view_name": "LayoutView",
            "align_content": null,
            "align_items": null,
            "align_self": null,
            "border": null,
            "bottom": null,
            "display": null,
            "flex": null,
            "flex_flow": null,
            "grid_area": null,
            "grid_auto_columns": null,
            "grid_auto_flow": null,
            "grid_auto_rows": null,
            "grid_column": null,
            "grid_gap": null,
            "grid_row": null,
            "grid_template_areas": null,
            "grid_template_columns": null,
            "grid_template_rows": null,
            "height": null,
            "justify_content": null,
            "justify_items": null,
            "left": null,
            "margin": null,
            "max_height": null,
            "max_width": null,
            "min_height": null,
            "min_width": null,
            "object_fit": null,
            "object_position": null,
            "order": null,
            "overflow": null,
            "overflow_x": null,
            "overflow_y": null,
            "padding": null,
            "right": null,
            "top": null,
            "visibility": null,
            "width": null
          }
        },
        "e72aeada9bea42618ae7117d83d08e83": {
          "model_module": "@jupyter-widgets/controls",
          "model_name": "DescriptionStyleModel",
          "model_module_version": "1.5.0",
          "state": {
            "_model_module": "@jupyter-widgets/controls",
            "_model_module_version": "1.5.0",
            "_model_name": "DescriptionStyleModel",
            "_view_count": null,
            "_view_module": "@jupyter-widgets/base",
            "_view_module_version": "1.2.0",
            "_view_name": "StyleView",
            "description_width": ""
          }
        },
        "30e09efc6631494390ec7e91d089097e": {
          "model_module": "@jupyter-widgets/controls",
          "model_name": "HBoxModel",
          "model_module_version": "1.5.0",
          "state": {
            "_dom_classes": [],
            "_model_module": "@jupyter-widgets/controls",
            "_model_module_version": "1.5.0",
            "_model_name": "HBoxModel",
            "_view_count": null,
            "_view_module": "@jupyter-widgets/controls",
            "_view_module_version": "1.5.0",
            "_view_name": "HBoxView",
            "box_style": "",
            "children": [
              "IPY_MODEL_1324ec12ba51425999455f8627ae4d6f",
              "IPY_MODEL_3b08bb0221354daf996707c5ca34d54e",
              "IPY_MODEL_52f3f7f7a2594f63adcf71d12667e344"
            ],
            "layout": "IPY_MODEL_9613f5011659401c9dc917e86745167f"
          }
        },
        "1324ec12ba51425999455f8627ae4d6f": {
          "model_module": "@jupyter-widgets/controls",
          "model_name": "HTMLModel",
          "model_module_version": "1.5.0",
          "state": {
            "_dom_classes": [],
            "_model_module": "@jupyter-widgets/controls",
            "_model_module_version": "1.5.0",
            "_model_name": "HTMLModel",
            "_view_count": null,
            "_view_module": "@jupyter-widgets/controls",
            "_view_module_version": "1.5.0",
            "_view_name": "HTMLView",
            "description": "",
            "description_tooltip": null,
            "layout": "IPY_MODEL_2c7b41a4ba274665bc8f797bb31805c7",
            "placeholder": "​",
            "style": "IPY_MODEL_ce3bfe087d95476183e34b185fd476b5",
            "value": "config.json: 100%"
          }
        },
        "3b08bb0221354daf996707c5ca34d54e": {
          "model_module": "@jupyter-widgets/controls",
          "model_name": "FloatProgressModel",
          "model_module_version": "1.5.0",
          "state": {
            "_dom_classes": [],
            "_model_module": "@jupyter-widgets/controls",
            "_model_module_version": "1.5.0",
            "_model_name": "FloatProgressModel",
            "_view_count": null,
            "_view_module": "@jupyter-widgets/controls",
            "_view_module_version": "1.5.0",
            "_view_name": "ProgressView",
            "bar_style": "success",
            "description": "",
            "description_tooltip": null,
            "layout": "IPY_MODEL_ece10df8030442c0a97ed84942519900",
            "max": 570,
            "min": 0,
            "orientation": "horizontal",
            "style": "IPY_MODEL_8f308587098748bda42c76981e3c7bae",
            "value": 570
          }
        },
        "52f3f7f7a2594f63adcf71d12667e344": {
          "model_module": "@jupyter-widgets/controls",
          "model_name": "HTMLModel",
          "model_module_version": "1.5.0",
          "state": {
            "_dom_classes": [],
            "_model_module": "@jupyter-widgets/controls",
            "_model_module_version": "1.5.0",
            "_model_name": "HTMLModel",
            "_view_count": null,
            "_view_module": "@jupyter-widgets/controls",
            "_view_module_version": "1.5.0",
            "_view_name": "HTMLView",
            "description": "",
            "description_tooltip": null,
            "layout": "IPY_MODEL_cc05fe044fc942f2803d9b25ad308c4d",
            "placeholder": "​",
            "style": "IPY_MODEL_d2b0f66759ef455181a6f7a7c88d782f",
            "value": " 570/570 [00:00&lt;00:00, 79.4kB/s]"
          }
        },
        "9613f5011659401c9dc917e86745167f": {
          "model_module": "@jupyter-widgets/base",
          "model_name": "LayoutModel",
          "model_module_version": "1.2.0",
          "state": {
            "_model_module": "@jupyter-widgets/base",
            "_model_module_version": "1.2.0",
            "_model_name": "LayoutModel",
            "_view_count": null,
            "_view_module": "@jupyter-widgets/base",
            "_view_module_version": "1.2.0",
            "_view_name": "LayoutView",
            "align_content": null,
            "align_items": null,
            "align_self": null,
            "border": null,
            "bottom": null,
            "display": null,
            "flex": null,
            "flex_flow": null,
            "grid_area": null,
            "grid_auto_columns": null,
            "grid_auto_flow": null,
            "grid_auto_rows": null,
            "grid_column": null,
            "grid_gap": null,
            "grid_row": null,
            "grid_template_areas": null,
            "grid_template_columns": null,
            "grid_template_rows": null,
            "height": null,
            "justify_content": null,
            "justify_items": null,
            "left": null,
            "margin": null,
            "max_height": null,
            "max_width": null,
            "min_height": null,
            "min_width": null,
            "object_fit": null,
            "object_position": null,
            "order": null,
            "overflow": null,
            "overflow_x": null,
            "overflow_y": null,
            "padding": null,
            "right": null,
            "top": null,
            "visibility": null,
            "width": null
          }
        },
        "2c7b41a4ba274665bc8f797bb31805c7": {
          "model_module": "@jupyter-widgets/base",
          "model_name": "LayoutModel",
          "model_module_version": "1.2.0",
          "state": {
            "_model_module": "@jupyter-widgets/base",
            "_model_module_version": "1.2.0",
            "_model_name": "LayoutModel",
            "_view_count": null,
            "_view_module": "@jupyter-widgets/base",
            "_view_module_version": "1.2.0",
            "_view_name": "LayoutView",
            "align_content": null,
            "align_items": null,
            "align_self": null,
            "border": null,
            "bottom": null,
            "display": null,
            "flex": null,
            "flex_flow": null,
            "grid_area": null,
            "grid_auto_columns": null,
            "grid_auto_flow": null,
            "grid_auto_rows": null,
            "grid_column": null,
            "grid_gap": null,
            "grid_row": null,
            "grid_template_areas": null,
            "grid_template_columns": null,
            "grid_template_rows": null,
            "height": null,
            "justify_content": null,
            "justify_items": null,
            "left": null,
            "margin": null,
            "max_height": null,
            "max_width": null,
            "min_height": null,
            "min_width": null,
            "object_fit": null,
            "object_position": null,
            "order": null,
            "overflow": null,
            "overflow_x": null,
            "overflow_y": null,
            "padding": null,
            "right": null,
            "top": null,
            "visibility": null,
            "width": null
          }
        },
        "ce3bfe087d95476183e34b185fd476b5": {
          "model_module": "@jupyter-widgets/controls",
          "model_name": "DescriptionStyleModel",
          "model_module_version": "1.5.0",
          "state": {
            "_model_module": "@jupyter-widgets/controls",
            "_model_module_version": "1.5.0",
            "_model_name": "DescriptionStyleModel",
            "_view_count": null,
            "_view_module": "@jupyter-widgets/base",
            "_view_module_version": "1.2.0",
            "_view_name": "StyleView",
            "description_width": ""
          }
        },
        "ece10df8030442c0a97ed84942519900": {
          "model_module": "@jupyter-widgets/base",
          "model_name": "LayoutModel",
          "model_module_version": "1.2.0",
          "state": {
            "_model_module": "@jupyter-widgets/base",
            "_model_module_version": "1.2.0",
            "_model_name": "LayoutModel",
            "_view_count": null,
            "_view_module": "@jupyter-widgets/base",
            "_view_module_version": "1.2.0",
            "_view_name": "LayoutView",
            "align_content": null,
            "align_items": null,
            "align_self": null,
            "border": null,
            "bottom": null,
            "display": null,
            "flex": null,
            "flex_flow": null,
            "grid_area": null,
            "grid_auto_columns": null,
            "grid_auto_flow": null,
            "grid_auto_rows": null,
            "grid_column": null,
            "grid_gap": null,
            "grid_row": null,
            "grid_template_areas": null,
            "grid_template_columns": null,
            "grid_template_rows": null,
            "height": null,
            "justify_content": null,
            "justify_items": null,
            "left": null,
            "margin": null,
            "max_height": null,
            "max_width": null,
            "min_height": null,
            "min_width": null,
            "object_fit": null,
            "object_position": null,
            "order": null,
            "overflow": null,
            "overflow_x": null,
            "overflow_y": null,
            "padding": null,
            "right": null,
            "top": null,
            "visibility": null,
            "width": null
          }
        },
        "8f308587098748bda42c76981e3c7bae": {
          "model_module": "@jupyter-widgets/controls",
          "model_name": "ProgressStyleModel",
          "model_module_version": "1.5.0",
          "state": {
            "_model_module": "@jupyter-widgets/controls",
            "_model_module_version": "1.5.0",
            "_model_name": "ProgressStyleModel",
            "_view_count": null,
            "_view_module": "@jupyter-widgets/base",
            "_view_module_version": "1.2.0",
            "_view_name": "StyleView",
            "bar_color": null,
            "description_width": ""
          }
        },
        "cc05fe044fc942f2803d9b25ad308c4d": {
          "model_module": "@jupyter-widgets/base",
          "model_name": "LayoutModel",
          "model_module_version": "1.2.0",
          "state": {
            "_model_module": "@jupyter-widgets/base",
            "_model_module_version": "1.2.0",
            "_model_name": "LayoutModel",
            "_view_count": null,
            "_view_module": "@jupyter-widgets/base",
            "_view_module_version": "1.2.0",
            "_view_name": "LayoutView",
            "align_content": null,
            "align_items": null,
            "align_self": null,
            "border": null,
            "bottom": null,
            "display": null,
            "flex": null,
            "flex_flow": null,
            "grid_area": null,
            "grid_auto_columns": null,
            "grid_auto_flow": null,
            "grid_auto_rows": null,
            "grid_column": null,
            "grid_gap": null,
            "grid_row": null,
            "grid_template_areas": null,
            "grid_template_columns": null,
            "grid_template_rows": null,
            "height": null,
            "justify_content": null,
            "justify_items": null,
            "left": null,
            "margin": null,
            "max_height": null,
            "max_width": null,
            "min_height": null,
            "min_width": null,
            "object_fit": null,
            "object_position": null,
            "order": null,
            "overflow": null,
            "overflow_x": null,
            "overflow_y": null,
            "padding": null,
            "right": null,
            "top": null,
            "visibility": null,
            "width": null
          }
        },
        "d2b0f66759ef455181a6f7a7c88d782f": {
          "model_module": "@jupyter-widgets/controls",
          "model_name": "DescriptionStyleModel",
          "model_module_version": "1.5.0",
          "state": {
            "_model_module": "@jupyter-widgets/controls",
            "_model_module_version": "1.5.0",
            "_model_name": "DescriptionStyleModel",
            "_view_count": null,
            "_view_module": "@jupyter-widgets/base",
            "_view_module_version": "1.2.0",
            "_view_name": "StyleView",
            "description_width": ""
          }
        }
      }
    }
  },
  "cells": [
    {
      "cell_type": "code",
      "execution_count": 1,
      "metadata": {
        "id": "4CVDyMAfqUGP",
        "executionInfo": {
          "status": "ok",
          "timestamp": 1721709819546,
          "user_tz": 420,
          "elapsed": 53,
          "user": {
            "displayName": "Mehmet Inonu",
            "userId": "11071037674531622506"
          }
        }
      },
      "outputs": [],
      "source": [
        "%%capture\n",
        "!pip install tensorflow-datasets==4.8 --quiet\n",
        "!pip install tensorflow==2.15.0 --quiet #15 13\n",
        "!pip install tf_keras==2.15.0 --quiet\n",
        "!pip install tensorflow-text==2.15.0 --quiet #15\n",
        "!pip install pydot --quiet\n",
        "!pip install transformers==4.17 --quiet\n",
        "!pip install -U scikit-learn"
      ]
    },
    {
      "cell_type": "code",
      "source": [
        "#Tensorflow libiries\n",
        "from tensorflow import keras\n",
        "from tensorflow.keras.layers import Embedding, Input, Dense, Lambda\n",
        "from tensorflow.keras.models import Model\n",
        "import tensorflow as tf\n",
        "import tensorflow.keras.backend as K\n",
        "import tensorflow_datasets as tfds\n",
        "\n",
        "#Transformers - BERT from huggingface\n",
        "from transformers import BertTokenizer, TFBertModel\n",
        "from transformers import logging\n",
        "logging.set_verbosity_error()\n",
        "from transformers import AutoConfig\n",
        "\n",
        "#sklearn\n",
        "from sklearn.metrics import classification_report\n",
        "\n",
        "#NLP libiries\n",
        "import sklearn as sk\n",
        "import os\n",
        "import nltk\n",
        "from nltk.data import find\n",
        "\n",
        "#data process\n",
        "import numpy as np\n",
        "import matplotlib.pyplot as plt\n",
        "import re\n",
        "import multiprocessing\n",
        "import pandas as pd\n",
        "import math\n",
        "from bs4 import BeautifulSoup\n",
        "import os\n",
        "import json\n"
      ],
      "metadata": {
        "id": "8rWTGr5HuknD",
        "executionInfo": {
          "status": "ok",
          "timestamp": 1721709836740,
          "user_tz": 420,
          "elapsed": 8655,
          "user": {
            "displayName": "Mehmet Inonu",
            "userId": "11071037674531622506"
          }
        }
      },
      "execution_count": 2,
      "outputs": []
    },
    {
      "cell_type": "code",
      "source": [
        "#loading the pre-trained tokenizer and model\n",
        "bert_tokenizer = BertTokenizer.from_pretrained('bert-base-uncased')\n",
        "bert_model = TFBertModel.from_pretrained('bert-base-uncased')"
      ],
      "metadata": {
        "colab": {
          "height": 834,
          "referenced_widgets": [
            "1a49313bac444c9091a8f4f5c1caf9b4",
            "fb877d3d856042f3a3629ea5320a9508",
            "21e6f79a20ba4470beb65704e2f442f8",
            "a69b6a1c4bd549a28aa300ae55f8cb88",
            "30f7cccf754a456484d0aed35512a47c",
            "817436c0d3604ac2a1a71179d720e5af",
            "b520e872912c46248b989bf91f65b55c",
            "42873a110afe4bd3b1f5480419f7429f",
            "acec8df2a620422cb8284e501282d00d",
            "fbf6745b632341adbfdf9cbbd149ad14",
            "19baf69c13ad4b13ad022e529d00825d",
            "36b48812222748189f0ab5c3f7c8f8d7",
            "08026574b02e491a863cfe83dbbe5f8c",
            "44884d9bdc4b43179ff404714a839935",
            "0709ab2db06146dea51badb12c659f23",
            "fc8fbf565f5548149a01a7d488ab7136",
            "8c7032d0f65444539a82d6e32b5d572d",
            "91e9604968514aa2937817f3b6fb539b",
            "a26b623726e948ea9dee2bde8ec9c64a",
            "daa1b7eae4b94358bcbb98635fb898b5",
            "c488cdad2fd64676a0bffd459e51554b",
            "150a897d1aa64bfc9d0d94a488c5a4aa",
            "63deada0457245a580a805902d2d3d75",
            "84f20ef3e71d420f947ddb6eb87ba1d3",
            "438b33ffd05041469828e00460f85747",
            "62751c544a114560aad5d33a2fdae9e0",
            "8b1bcacc62524e6e800365a13137be4a",
            "781b4840fd9c4c80ba8d41f6c6fb5b68",
            "40687dc6f4e947e595fdd38e98b6e552",
            "2e4eaf0de92442f28f0eec97a56dc052",
            "23c837eae21a4b8d8fdb415fb557475a",
            "d4daccab476b43eaab7258909ea0551f",
            "e72aeada9bea42618ae7117d83d08e83",
            "30e09efc6631494390ec7e91d089097e",
            "1324ec12ba51425999455f8627ae4d6f",
            "3b08bb0221354daf996707c5ca34d54e",
            "52f3f7f7a2594f63adcf71d12667e344",
            "9613f5011659401c9dc917e86745167f",
            "2c7b41a4ba274665bc8f797bb31805c7",
            "ce3bfe087d95476183e34b185fd476b5",
            "ece10df8030442c0a97ed84942519900",
            "8f308587098748bda42c76981e3c7bae",
            "cc05fe044fc942f2803d9b25ad308c4d",
            "d2b0f66759ef455181a6f7a7c88d782f"
          ]
        },
        "id": "QyG5dUyAvfHc",
        "outputId": "19bce3f1-93b1-40ec-cc22-f7eb77006cf7",
        "executionInfo": {
          "status": "error",
          "timestamp": 1721709850399,
          "user_tz": 420,
          "elapsed": 10854,
          "user": {
            "displayName": "Mehmet Inonu",
            "userId": "11071037674531622506"
          }
        }
      },
      "execution_count": 3,
      "outputs": [
        {
          "output_type": "stream",
          "name": "stderr",
          "text": [
            "/export/hda3/borglet/remote_hdd_fs_dirs/0.colab_kernel_brain_frameworks_gpu_minonu.kernel.minonu.3630699421263.14b334fb3717c109/mount/server/ml_notebook.runfiles/google3/third_party/py/huggingface_hub/file_download.py:1136: FutureWarning: `resume_download` is deprecated and will be removed in version 1.0.0. Downloads always resume when possible. If you want to force a new download, use `force_download=True`.\n",
            "  warnings.warn(\n"
          ]
        },
        {
          "output_type": "display_data",
          "data": {
            "application/vnd.jupyter.widget-view+json": {
              "model_id": "1a49313bac444c9091a8f4f5c1caf9b4",
              "version_major": 2,
              "version_minor": 0
            },
            "text/plain": [
              "tokenizer_config.json:   0%|          | 0.00/48.0 [00:00<?, ?B/s]"
            ]
          },
          "metadata": {}
        },
        {
          "output_type": "display_data",
          "data": {
            "application/vnd.jupyter.widget-view+json": {
              "model_id": "36b48812222748189f0ab5c3f7c8f8d7",
              "version_major": 2,
              "version_minor": 0
            },
            "text/plain": [
              "vocab.txt:   0%|          | 0.00/232k [00:00<?, ?B/s]"
            ]
          },
          "metadata": {}
        },
        {
          "output_type": "display_data",
          "data": {
            "application/vnd.jupyter.widget-view+json": {
              "model_id": "63deada0457245a580a805902d2d3d75",
              "version_major": 2,
              "version_minor": 0
            },
            "text/plain": [
              "tokenizer.json:   0%|          | 0.00/466k [00:00<?, ?B/s]"
            ]
          },
          "metadata": {}
        },
        {
          "output_type": "display_data",
          "data": {
            "application/vnd.jupyter.widget-view+json": {
              "model_id": "30e09efc6631494390ec7e91d089097e",
              "version_major": 2,
              "version_minor": 0
            },
            "text/plain": [
              "config.json:   0%|          | 0.00/570 [00:00<?, ?B/s]"
            ]
          },
          "metadata": {}
        },
        {
          "output_type": "error",
          "ename": "ConnectionError",
          "evalue": "HTTPSConnectionPool(host='huggingface.co', port=443): Max retries exceeded with url: /bert-base-uncased/resolve/main/model.safetensors.index.json (Caused by NameResolutionError(\"<urllib3.connection.HTTPSConnection object at 0x7367700ef490>: Failed to resolve 'huggingface.co' ([Errno -3] Temporary failure in name resolution)\"))",
          "traceback": [
            "\u001b[1;31m---------------------------------------------------------------------------\u001b[0m",
            "\u001b[1;31mgaierror\u001b[0m                                  Traceback (most recent call last)",
            "\u001b[1;32m/export/hda3/borglet/remote_hdd_fs_dirs/0.colab_kernel_brain_frameworks_gpu_minonu.kernel.minonu.3630699421263.14b334fb3717c109/mount/server/ml_notebook.runfiles/google3/third_party/py/urllib3/connection.py\u001b[0m in \u001b[0;36m_new_conn\u001b[1;34m(self)\u001b[0m\n\u001b[0;32m    197\u001b[0m         \u001b[1;32mtry\u001b[0m\u001b[1;33m:\u001b[0m\u001b[1;33m\u001b[0m\u001b[1;33m\u001b[0m\u001b[0m\n\u001b[1;32m--> 198\u001b[1;33m             sock = connection.create_connection(\n\u001b[0m\u001b[0;32m    199\u001b[0m                 \u001b[1;33m(\u001b[0m\u001b[0mself\u001b[0m\u001b[1;33m.\u001b[0m\u001b[0m_dns_host\u001b[0m\u001b[1;33m,\u001b[0m \u001b[0mself\u001b[0m\u001b[1;33m.\u001b[0m\u001b[0mport\u001b[0m\u001b[1;33m)\u001b[0m\u001b[1;33m,\u001b[0m\u001b[1;33m\u001b[0m\u001b[1;33m\u001b[0m\u001b[0m\n",
            "\u001b[1;32m/export/hda3/borglet/remote_hdd_fs_dirs/0.colab_kernel_brain_frameworks_gpu_minonu.kernel.minonu.3630699421263.14b334fb3717c109/mount/server/ml_notebook.runfiles/google3/third_party/py/urllib3/util/connection.py\u001b[0m in \u001b[0;36mcreate_connection\u001b[1;34m(address, timeout, source_address, socket_options)\u001b[0m\n\u001b[0;32m     59\u001b[0m \u001b[1;33m\u001b[0m\u001b[0m\n\u001b[1;32m---> 60\u001b[1;33m     \u001b[1;32mfor\u001b[0m \u001b[0mres\u001b[0m \u001b[1;32min\u001b[0m \u001b[0msocket\u001b[0m\u001b[1;33m.\u001b[0m\u001b[0mgetaddrinfo\u001b[0m\u001b[1;33m(\u001b[0m\u001b[0mhost\u001b[0m\u001b[1;33m,\u001b[0m \u001b[0mport\u001b[0m\u001b[1;33m,\u001b[0m \u001b[0mfamily\u001b[0m\u001b[1;33m,\u001b[0m \u001b[0msocket\u001b[0m\u001b[1;33m.\u001b[0m\u001b[0mSOCK_STREAM\u001b[0m\u001b[1;33m)\u001b[0m\u001b[1;33m:\u001b[0m\u001b[1;33m\u001b[0m\u001b[1;33m\u001b[0m\u001b[0m\n\u001b[0m\u001b[0;32m     61\u001b[0m         \u001b[0maf\u001b[0m\u001b[1;33m,\u001b[0m \u001b[0msocktype\u001b[0m\u001b[1;33m,\u001b[0m \u001b[0mproto\u001b[0m\u001b[1;33m,\u001b[0m \u001b[0mcanonname\u001b[0m\u001b[1;33m,\u001b[0m \u001b[0msa\u001b[0m \u001b[1;33m=\u001b[0m \u001b[0mres\u001b[0m\u001b[1;33m\u001b[0m\u001b[1;33m\u001b[0m\u001b[0m\n",
            "\u001b[1;32m/<embedded stdlib>/socket.py\u001b[0m in \u001b[0;36mgetaddrinfo\u001b[1;34m(host, port, family, type, proto, flags)\u001b[0m\n\u001b[0;32m    982\u001b[0m     \u001b[0maddrlist\u001b[0m \u001b[1;33m=\u001b[0m \u001b[1;33m[\u001b[0m\u001b[1;33m]\u001b[0m\u001b[1;33m\u001b[0m\u001b[1;33m\u001b[0m\u001b[0m\n\u001b[1;32m--> 983\u001b[1;33m     \u001b[1;32mfor\u001b[0m \u001b[0mres\u001b[0m \u001b[1;32min\u001b[0m \u001b[0m_socket\u001b[0m\u001b[1;33m.\u001b[0m\u001b[0mgetaddrinfo\u001b[0m\u001b[1;33m(\u001b[0m\u001b[0mhost\u001b[0m\u001b[1;33m,\u001b[0m \u001b[0mport\u001b[0m\u001b[1;33m,\u001b[0m \u001b[0mfamily\u001b[0m\u001b[1;33m,\u001b[0m \u001b[0mtype\u001b[0m\u001b[1;33m,\u001b[0m \u001b[0mproto\u001b[0m\u001b[1;33m,\u001b[0m \u001b[0mflags\u001b[0m\u001b[1;33m)\u001b[0m\u001b[1;33m:\u001b[0m\u001b[1;33m\u001b[0m\u001b[1;33m\u001b[0m\u001b[0m\n\u001b[0m\u001b[0;32m    984\u001b[0m         \u001b[0maf\u001b[0m\u001b[1;33m,\u001b[0m \u001b[0msocktype\u001b[0m\u001b[1;33m,\u001b[0m \u001b[0mproto\u001b[0m\u001b[1;33m,\u001b[0m \u001b[0mcanonname\u001b[0m\u001b[1;33m,\u001b[0m \u001b[0msa\u001b[0m \u001b[1;33m=\u001b[0m \u001b[0mres\u001b[0m\u001b[1;33m\u001b[0m\u001b[1;33m\u001b[0m\u001b[0m\n",
            "\u001b[1;31mgaierror\u001b[0m: [Errno -3] Temporary failure in name resolution",
            "\nThe above exception was the direct cause of the following exception:\n",
            "\u001b[1;31mNameResolutionError\u001b[0m                       Traceback (most recent call last)",
            "\u001b[1;32m/export/hda3/borglet/remote_hdd_fs_dirs/0.colab_kernel_brain_frameworks_gpu_minonu.kernel.minonu.3630699421263.14b334fb3717c109/mount/server/ml_notebook.runfiles/google3/third_party/py/urllib3/connectionpool.py\u001b[0m in \u001b[0;36murlopen\u001b[1;34m(self, method, url, body, headers, retries, redirect, assert_same_host, timeout, pool_timeout, release_conn, chunked, body_pos, preload_content, decode_content, **response_kw)\u001b[0m\n\u001b[0;32m    810\u001b[0m             \u001b[1;31m# Make the request on the HTTPConnection object\u001b[0m\u001b[1;33m\u001b[0m\u001b[1;33m\u001b[0m\u001b[0m\n\u001b[1;32m--> 811\u001b[1;33m             response = self._make_request(\n\u001b[0m\u001b[0;32m    812\u001b[0m                 \u001b[0mconn\u001b[0m\u001b[1;33m,\u001b[0m\u001b[1;33m\u001b[0m\u001b[1;33m\u001b[0m\u001b[0m\n",
            "\u001b[1;32m/export/hda3/borglet/remote_hdd_fs_dirs/0.colab_kernel_brain_frameworks_gpu_minonu.kernel.minonu.3630699421263.14b334fb3717c109/mount/server/ml_notebook.runfiles/google3/third_party/py/urllib3/connectionpool.py\u001b[0m in \u001b[0;36m_make_request\u001b[1;34m(self, conn, method, url, body, headers, retries, timeout, chunked, response_conn, preload_content, decode_content, enforce_content_length)\u001b[0m\n\u001b[0;32m    502\u001b[0m                 \u001b[0mnew_e\u001b[0m \u001b[1;33m=\u001b[0m \u001b[0m_wrap_proxy_error\u001b[0m\u001b[1;33m(\u001b[0m\u001b[0mnew_e\u001b[0m\u001b[1;33m,\u001b[0m \u001b[0mconn\u001b[0m\u001b[1;33m.\u001b[0m\u001b[0mproxy\u001b[0m\u001b[1;33m.\u001b[0m\u001b[0mscheme\u001b[0m\u001b[1;33m)\u001b[0m\u001b[1;33m\u001b[0m\u001b[1;33m\u001b[0m\u001b[0m\n\u001b[1;32m--> 503\u001b[1;33m             \u001b[1;32mraise\u001b[0m \u001b[0mnew_e\u001b[0m\u001b[1;33m\u001b[0m\u001b[1;33m\u001b[0m\u001b[0m\n\u001b[0m\u001b[0;32m    504\u001b[0m \u001b[1;33m\u001b[0m\u001b[0m\n",
            "\u001b[1;32m/export/hda3/borglet/remote_hdd_fs_dirs/0.colab_kernel_brain_frameworks_gpu_minonu.kernel.minonu.3630699421263.14b334fb3717c109/mount/server/ml_notebook.runfiles/google3/third_party/py/urllib3/connectionpool.py\u001b[0m in \u001b[0;36m_make_request\u001b[1;34m(self, conn, method, url, body, headers, retries, timeout, chunked, response_conn, preload_content, decode_content, enforce_content_length)\u001b[0m\n\u001b[0;32m    478\u001b[0m             \u001b[1;32mtry\u001b[0m\u001b[1;33m:\u001b[0m\u001b[1;33m\u001b[0m\u001b[1;33m\u001b[0m\u001b[0m\n\u001b[1;32m--> 479\u001b[1;33m                 \u001b[0mself\u001b[0m\u001b[1;33m.\u001b[0m\u001b[0m_validate_conn\u001b[0m\u001b[1;33m(\u001b[0m\u001b[0mconn\u001b[0m\u001b[1;33m)\u001b[0m\u001b[1;33m\u001b[0m\u001b[1;33m\u001b[0m\u001b[0m\n\u001b[0m\u001b[0;32m    480\u001b[0m             \u001b[1;32mexcept\u001b[0m \u001b[1;33m(\u001b[0m\u001b[0mSocketTimeout\u001b[0m\u001b[1;33m,\u001b[0m \u001b[0mBaseSSLError\u001b[0m\u001b[1;33m)\u001b[0m \u001b[1;32mas\u001b[0m \u001b[0me\u001b[0m\u001b[1;33m:\u001b[0m\u001b[1;33m\u001b[0m\u001b[1;33m\u001b[0m\u001b[0m\n",
            "\u001b[1;32m/export/hda3/borglet/remote_hdd_fs_dirs/0.colab_kernel_brain_frameworks_gpu_minonu.kernel.minonu.3630699421263.14b334fb3717c109/mount/server/ml_notebook.runfiles/google3/third_party/py/urllib3/connectionpool.py\u001b[0m in \u001b[0;36m_validate_conn\u001b[1;34m(self, conn)\u001b[0m\n\u001b[0;32m   1149\u001b[0m         \u001b[1;32mif\u001b[0m \u001b[0mconn\u001b[0m\u001b[1;33m.\u001b[0m\u001b[0mis_closed\u001b[0m\u001b[1;33m:\u001b[0m\u001b[1;33m\u001b[0m\u001b[1;33m\u001b[0m\u001b[0m\n\u001b[1;32m-> 1150\u001b[1;33m             \u001b[0mconn\u001b[0m\u001b[1;33m.\u001b[0m\u001b[0mconnect\u001b[0m\u001b[1;33m(\u001b[0m\u001b[1;33m)\u001b[0m\u001b[1;33m\u001b[0m\u001b[1;33m\u001b[0m\u001b[0m\n\u001b[0m\u001b[0;32m   1151\u001b[0m \u001b[1;33m\u001b[0m\u001b[0m\n",
            "\u001b[1;32m/export/hda3/borglet/remote_hdd_fs_dirs/0.colab_kernel_brain_frameworks_gpu_minonu.kernel.minonu.3630699421263.14b334fb3717c109/mount/server/ml_notebook.runfiles/google3/third_party/py/urllib3/connection.py\u001b[0m in \u001b[0;36mconnect\u001b[1;34m(self)\u001b[0m\n\u001b[0;32m    616\u001b[0m         \u001b[0msock\u001b[0m\u001b[1;33m:\u001b[0m \u001b[0msocket\u001b[0m\u001b[1;33m.\u001b[0m\u001b[0msocket\u001b[0m \u001b[1;33m|\u001b[0m \u001b[0mssl\u001b[0m\u001b[1;33m.\u001b[0m\u001b[0mSSLSocket\u001b[0m\u001b[1;33m\u001b[0m\u001b[1;33m\u001b[0m\u001b[0m\n\u001b[1;32m--> 617\u001b[1;33m         \u001b[0mself\u001b[0m\u001b[1;33m.\u001b[0m\u001b[0msock\u001b[0m \u001b[1;33m=\u001b[0m \u001b[0msock\u001b[0m \u001b[1;33m=\u001b[0m \u001b[0mself\u001b[0m\u001b[1;33m.\u001b[0m\u001b[0m_new_conn\u001b[0m\u001b[1;33m(\u001b[0m\u001b[1;33m)\u001b[0m\u001b[1;33m\u001b[0m\u001b[1;33m\u001b[0m\u001b[0m\n\u001b[0m\u001b[0;32m    618\u001b[0m         \u001b[0mserver_hostname\u001b[0m\u001b[1;33m:\u001b[0m \u001b[0mstr\u001b[0m \u001b[1;33m=\u001b[0m \u001b[0mself\u001b[0m\u001b[1;33m.\u001b[0m\u001b[0mhost\u001b[0m\u001b[1;33m\u001b[0m\u001b[1;33m\u001b[0m\u001b[0m\n",
            "\u001b[1;32m/export/hda3/borglet/remote_hdd_fs_dirs/0.colab_kernel_brain_frameworks_gpu_minonu.kernel.minonu.3630699421263.14b334fb3717c109/mount/server/ml_notebook.runfiles/google3/third_party/py/urllib3/connection.py\u001b[0m in \u001b[0;36m_new_conn\u001b[1;34m(self)\u001b[0m\n\u001b[0;32m    204\u001b[0m         \u001b[1;32mexcept\u001b[0m \u001b[0msocket\u001b[0m\u001b[1;33m.\u001b[0m\u001b[0mgaierror\u001b[0m \u001b[1;32mas\u001b[0m \u001b[0me\u001b[0m\u001b[1;33m:\u001b[0m\u001b[1;33m\u001b[0m\u001b[1;33m\u001b[0m\u001b[0m\n\u001b[1;32m--> 205\u001b[1;33m             \u001b[1;32mraise\u001b[0m \u001b[0mNameResolutionError\u001b[0m\u001b[1;33m(\u001b[0m\u001b[0mself\u001b[0m\u001b[1;33m.\u001b[0m\u001b[0mhost\u001b[0m\u001b[1;33m,\u001b[0m \u001b[0mself\u001b[0m\u001b[1;33m,\u001b[0m \u001b[0me\u001b[0m\u001b[1;33m)\u001b[0m \u001b[1;32mfrom\u001b[0m \u001b[0me\u001b[0m\u001b[1;33m\u001b[0m\u001b[1;33m\u001b[0m\u001b[0m\n\u001b[0m\u001b[0;32m    206\u001b[0m         \u001b[1;32mexcept\u001b[0m \u001b[0mSocketTimeout\u001b[0m \u001b[1;32mas\u001b[0m \u001b[0me\u001b[0m\u001b[1;33m:\u001b[0m\u001b[1;33m\u001b[0m\u001b[1;33m\u001b[0m\u001b[0m\n",
            "\u001b[1;31mNameResolutionError\u001b[0m: <urllib3.connection.HTTPSConnection object at 0x7367700ef490>: Failed to resolve 'huggingface.co' ([Errno -3] Temporary failure in name resolution)",
            "\nThe above exception was the direct cause of the following exception:\n",
            "\u001b[1;31mMaxRetryError\u001b[0m                             Traceback (most recent call last)",
            "\u001b[1;32m/export/hda3/borglet/remote_hdd_fs_dirs/0.colab_kernel_brain_frameworks_gpu_minonu.kernel.minonu.3630699421263.14b334fb3717c109/mount/server/ml_notebook.runfiles/google3/third_party/py/requests/adapters.py\u001b[0m in \u001b[0;36msend\u001b[1;34m(self, request, stream, timeout, verify, cert, proxies)\u001b[0m\n\u001b[0;32m    486\u001b[0m         \u001b[1;32mtry\u001b[0m\u001b[1;33m:\u001b[0m\u001b[1;33m\u001b[0m\u001b[1;33m\u001b[0m\u001b[0m\n\u001b[1;32m--> 487\u001b[1;33m             resp = conn.urlopen(\n\u001b[0m\u001b[0;32m    488\u001b[0m                 \u001b[0mmethod\u001b[0m\u001b[1;33m=\u001b[0m\u001b[0mrequest\u001b[0m\u001b[1;33m.\u001b[0m\u001b[0mmethod\u001b[0m\u001b[1;33m,\u001b[0m\u001b[1;33m\u001b[0m\u001b[1;33m\u001b[0m\u001b[0m\n",
            "\u001b[1;32m/export/hda3/borglet/remote_hdd_fs_dirs/0.colab_kernel_brain_frameworks_gpu_minonu.kernel.minonu.3630699421263.14b334fb3717c109/mount/server/ml_notebook.runfiles/google3/third_party/py/urllib3/connectionpool.py\u001b[0m in \u001b[0;36murlopen\u001b[1;34m(self, method, url, body, headers, retries, redirect, assert_same_host, timeout, pool_timeout, release_conn, chunked, body_pos, preload_content, decode_content, **response_kw)\u001b[0m\n\u001b[0;32m    864\u001b[0m \u001b[1;33m\u001b[0m\u001b[0m\n\u001b[1;32m--> 865\u001b[1;33m             retries = retries.increment(\n\u001b[0m\u001b[0;32m    866\u001b[0m                 \u001b[0mmethod\u001b[0m\u001b[1;33m,\u001b[0m \u001b[0murl\u001b[0m\u001b[1;33m,\u001b[0m \u001b[0merror\u001b[0m\u001b[1;33m=\u001b[0m\u001b[0mnew_e\u001b[0m\u001b[1;33m,\u001b[0m \u001b[0m_pool\u001b[0m\u001b[1;33m=\u001b[0m\u001b[0mself\u001b[0m\u001b[1;33m,\u001b[0m \u001b[0m_stacktrace\u001b[0m\u001b[1;33m=\u001b[0m\u001b[0msys\u001b[0m\u001b[1;33m.\u001b[0m\u001b[0mexc_info\u001b[0m\u001b[1;33m(\u001b[0m\u001b[1;33m)\u001b[0m\u001b[1;33m[\u001b[0m\u001b[1;36m2\u001b[0m\u001b[1;33m]\u001b[0m\u001b[1;33m\u001b[0m\u001b[1;33m\u001b[0m\u001b[0m\n",
            "\u001b[1;32m/export/hda3/borglet/remote_hdd_fs_dirs/0.colab_kernel_brain_frameworks_gpu_minonu.kernel.minonu.3630699421263.14b334fb3717c109/mount/server/ml_notebook.runfiles/google3/third_party/py/urllib3/util/retry.py\u001b[0m in \u001b[0;36mincrement\u001b[1;34m(self, method, url, response, error, _pool, _stacktrace)\u001b[0m\n\u001b[0;32m    515\u001b[0m             \u001b[0mreason\u001b[0m \u001b[1;33m=\u001b[0m \u001b[0merror\u001b[0m \u001b[1;32mor\u001b[0m \u001b[0mResponseError\u001b[0m\u001b[1;33m(\u001b[0m\u001b[0mcause\u001b[0m\u001b[1;33m)\u001b[0m\u001b[1;33m\u001b[0m\u001b[1;33m\u001b[0m\u001b[0m\n\u001b[1;32m--> 516\u001b[1;33m             \u001b[1;32mraise\u001b[0m \u001b[0mMaxRetryError\u001b[0m\u001b[1;33m(\u001b[0m\u001b[0m_pool\u001b[0m\u001b[1;33m,\u001b[0m \u001b[0murl\u001b[0m\u001b[1;33m,\u001b[0m \u001b[0mreason\u001b[0m\u001b[1;33m)\u001b[0m \u001b[1;32mfrom\u001b[0m \u001b[0mreason\u001b[0m  \u001b[1;31m# type: ignore[arg-type]\u001b[0m\u001b[1;33m\u001b[0m\u001b[1;33m\u001b[0m\u001b[0m\n\u001b[0m\u001b[0;32m    517\u001b[0m \u001b[1;33m\u001b[0m\u001b[0m\n",
            "\u001b[1;31mMaxRetryError\u001b[0m: HTTPSConnectionPool(host='huggingface.co', port=443): Max retries exceeded with url: /bert-base-uncased/resolve/main/model.safetensors.index.json (Caused by NameResolutionError(\"<urllib3.connection.HTTPSConnection object at 0x7367700ef490>: Failed to resolve 'huggingface.co' ([Errno -3] Temporary failure in name resolution)\"))",
            "\nDuring handling of the above exception, another exception occurred:\n",
            "\u001b[1;31mConnectionError\u001b[0m                           Traceback (most recent call last)",
            "\u001b[1;32m<ipython-input-3-fedbd1bcf54c>\u001b[0m in \u001b[0;36m<module>\u001b[1;34m()\u001b[0m\n\u001b[0;32m      1\u001b[0m \u001b[1;31m#loading the pre-trained tokenizer and model\u001b[0m\u001b[1;33m\u001b[0m\u001b[1;33m\u001b[0m\u001b[0m\n\u001b[0;32m      2\u001b[0m \u001b[0mbert_tokenizer\u001b[0m \u001b[1;33m=\u001b[0m \u001b[0mBertTokenizer\u001b[0m\u001b[1;33m.\u001b[0m\u001b[0mfrom_pretrained\u001b[0m\u001b[1;33m(\u001b[0m\u001b[1;34m'bert-base-uncased'\u001b[0m\u001b[1;33m)\u001b[0m\u001b[1;33m\u001b[0m\u001b[1;33m\u001b[0m\u001b[0m\n\u001b[1;32m----> 3\u001b[1;33m \u001b[0mbert_model\u001b[0m \u001b[1;33m=\u001b[0m \u001b[0mTFBertModel\u001b[0m\u001b[1;33m.\u001b[0m\u001b[0mfrom_pretrained\u001b[0m\u001b[1;33m(\u001b[0m\u001b[1;34m'bert-base-uncased'\u001b[0m\u001b[1;33m)\u001b[0m\u001b[1;33m\u001b[0m\u001b[1;33m\u001b[0m\u001b[0m\n\u001b[0m",
            "\u001b[1;32m/export/hda3/borglet/remote_hdd_fs_dirs/0.colab_kernel_brain_frameworks_gpu_minonu.kernel.minonu.3630699421263.14b334fb3717c109/mount/server/ml_notebook.runfiles/google3/third_party/py/transformers/modeling_tf_utils.py\u001b[0m in \u001b[0;36mfrom_pretrained\u001b[1;34m(cls, pretrained_model_name_or_path, config, cache_dir, ignore_mismatched_sizes, force_download, local_files_only, token, revision, use_safetensors, *model_args, **kwargs)\u001b[0m\n\u001b[0;32m   2867\u001b[0m                             \u001b[1;34m\"token\"\u001b[0m\u001b[1;33m:\u001b[0m \u001b[0mtoken\u001b[0m\u001b[1;33m,\u001b[0m\u001b[1;33m\u001b[0m\u001b[1;33m\u001b[0m\u001b[0m\n\u001b[0;32m   2868\u001b[0m                         }\n\u001b[1;32m-> 2869\u001b[1;33m                         \u001b[1;32mif\u001b[0m \u001b[0mhas_file\u001b[0m\u001b[1;33m(\u001b[0m\u001b[0mpretrained_model_name_or_path\u001b[0m\u001b[1;33m,\u001b[0m \u001b[0mSAFE_WEIGHTS_INDEX_NAME\u001b[0m\u001b[1;33m,\u001b[0m \u001b[1;33m**\u001b[0m\u001b[0mhas_file_kwargs\u001b[0m\u001b[1;33m)\u001b[0m\u001b[1;33m:\u001b[0m\u001b[1;33m\u001b[0m\u001b[1;33m\u001b[0m\u001b[0m\n\u001b[0m\u001b[0;32m   2870\u001b[0m                             \u001b[0mis_sharded\u001b[0m \u001b[1;33m=\u001b[0m \u001b[1;32mTrue\u001b[0m\u001b[1;33m\u001b[0m\u001b[1;33m\u001b[0m\u001b[0m\n\u001b[0;32m   2871\u001b[0m                         \u001b[1;32melif\u001b[0m \u001b[0mhas_file\u001b[0m\u001b[1;33m(\u001b[0m\u001b[0mpretrained_model_name_or_path\u001b[0m\u001b[1;33m,\u001b[0m \u001b[0mWEIGHTS_NAME\u001b[0m\u001b[1;33m,\u001b[0m \u001b[1;33m**\u001b[0m\u001b[0mhas_file_kwargs\u001b[0m\u001b[1;33m)\u001b[0m\u001b[1;33m:\u001b[0m\u001b[1;33m\u001b[0m\u001b[1;33m\u001b[0m\u001b[0m\n",
            "\u001b[1;32m/export/hda3/borglet/remote_hdd_fs_dirs/0.colab_kernel_brain_frameworks_gpu_minonu.kernel.minonu.3630699421263.14b334fb3717c109/mount/server/ml_notebook.runfiles/google3/third_party/py/transformers/utils/hub.py\u001b[0m in \u001b[0;36mhas_file\u001b[1;34m(path_or_repo, filename, revision, proxies, token, **deprecated_kwargs)\u001b[0m\n\u001b[0;32m    626\u001b[0m     \u001b[0mheaders\u001b[0m \u001b[1;33m=\u001b[0m \u001b[0mbuild_hf_headers\u001b[0m\u001b[1;33m(\u001b[0m\u001b[0mtoken\u001b[0m\u001b[1;33m=\u001b[0m\u001b[0mtoken\u001b[0m\u001b[1;33m,\u001b[0m \u001b[0muser_agent\u001b[0m\u001b[1;33m=\u001b[0m\u001b[0mhttp_user_agent\u001b[0m\u001b[1;33m(\u001b[0m\u001b[1;33m)\u001b[0m\u001b[1;33m)\u001b[0m\u001b[1;33m\u001b[0m\u001b[1;33m\u001b[0m\u001b[0m\n\u001b[0;32m    627\u001b[0m \u001b[1;33m\u001b[0m\u001b[0m\n\u001b[1;32m--> 628\u001b[1;33m     \u001b[0mr\u001b[0m \u001b[1;33m=\u001b[0m \u001b[0mrequests\u001b[0m\u001b[1;33m.\u001b[0m\u001b[0mhead\u001b[0m\u001b[1;33m(\u001b[0m\u001b[0murl\u001b[0m\u001b[1;33m,\u001b[0m \u001b[0mheaders\u001b[0m\u001b[1;33m=\u001b[0m\u001b[0mheaders\u001b[0m\u001b[1;33m,\u001b[0m \u001b[0mallow_redirects\u001b[0m\u001b[1;33m=\u001b[0m\u001b[1;32mFalse\u001b[0m\u001b[1;33m,\u001b[0m \u001b[0mproxies\u001b[0m\u001b[1;33m=\u001b[0m\u001b[0mproxies\u001b[0m\u001b[1;33m,\u001b[0m \u001b[0mtimeout\u001b[0m\u001b[1;33m=\u001b[0m\u001b[1;36m10\u001b[0m\u001b[1;33m)\u001b[0m\u001b[1;33m\u001b[0m\u001b[1;33m\u001b[0m\u001b[0m\n\u001b[0m\u001b[0;32m    629\u001b[0m     \u001b[1;32mtry\u001b[0m\u001b[1;33m:\u001b[0m\u001b[1;33m\u001b[0m\u001b[1;33m\u001b[0m\u001b[0m\n\u001b[0;32m    630\u001b[0m         \u001b[0mhf_raise_for_status\u001b[0m\u001b[1;33m(\u001b[0m\u001b[0mr\u001b[0m\u001b[1;33m)\u001b[0m\u001b[1;33m\u001b[0m\u001b[1;33m\u001b[0m\u001b[0m\n",
            "\u001b[1;32m/export/hda3/borglet/remote_hdd_fs_dirs/0.colab_kernel_brain_frameworks_gpu_minonu.kernel.minonu.3630699421263.14b334fb3717c109/mount/server/ml_notebook.runfiles/google3/third_party/py/requests/api.py\u001b[0m in \u001b[0;36mhead\u001b[1;34m(url, **kwargs)\u001b[0m\n\u001b[0;32m     98\u001b[0m \u001b[1;33m\u001b[0m\u001b[0m\n\u001b[0;32m     99\u001b[0m     \u001b[0mkwargs\u001b[0m\u001b[1;33m.\u001b[0m\u001b[0msetdefault\u001b[0m\u001b[1;33m(\u001b[0m\u001b[1;34m\"allow_redirects\"\u001b[0m\u001b[1;33m,\u001b[0m \u001b[1;32mFalse\u001b[0m\u001b[1;33m)\u001b[0m\u001b[1;33m\u001b[0m\u001b[1;33m\u001b[0m\u001b[0m\n\u001b[1;32m--> 100\u001b[1;33m     \u001b[1;32mreturn\u001b[0m \u001b[0mrequest\u001b[0m\u001b[1;33m(\u001b[0m\u001b[1;34m\"head\"\u001b[0m\u001b[1;33m,\u001b[0m \u001b[0murl\u001b[0m\u001b[1;33m,\u001b[0m \u001b[1;33m**\u001b[0m\u001b[0mkwargs\u001b[0m\u001b[1;33m)\u001b[0m\u001b[1;33m\u001b[0m\u001b[1;33m\u001b[0m\u001b[0m\n\u001b[0m\u001b[0;32m    101\u001b[0m \u001b[1;33m\u001b[0m\u001b[0m\n\u001b[0;32m    102\u001b[0m \u001b[1;33m\u001b[0m\u001b[0m\n",
            "\u001b[1;32m/export/hda3/borglet/remote_hdd_fs_dirs/0.colab_kernel_brain_frameworks_gpu_minonu.kernel.minonu.3630699421263.14b334fb3717c109/mount/server/ml_notebook.runfiles/google3/third_party/py/requests/api.py\u001b[0m in \u001b[0;36mrequest\u001b[1;34m(method, url, **kwargs)\u001b[0m\n\u001b[0;32m     57\u001b[0m     \u001b[1;31m# cases, and look like a memory leak in others.\u001b[0m\u001b[1;33m\u001b[0m\u001b[1;33m\u001b[0m\u001b[0m\n\u001b[0;32m     58\u001b[0m     \u001b[1;32mwith\u001b[0m \u001b[0msessions\u001b[0m\u001b[1;33m.\u001b[0m\u001b[0mSession\u001b[0m\u001b[1;33m(\u001b[0m\u001b[1;33m)\u001b[0m \u001b[1;32mas\u001b[0m \u001b[0msession\u001b[0m\u001b[1;33m:\u001b[0m\u001b[1;33m\u001b[0m\u001b[1;33m\u001b[0m\u001b[0m\n\u001b[1;32m---> 59\u001b[1;33m         \u001b[1;32mreturn\u001b[0m \u001b[0msession\u001b[0m\u001b[1;33m.\u001b[0m\u001b[0mrequest\u001b[0m\u001b[1;33m(\u001b[0m\u001b[0mmethod\u001b[0m\u001b[1;33m=\u001b[0m\u001b[0mmethod\u001b[0m\u001b[1;33m,\u001b[0m \u001b[0murl\u001b[0m\u001b[1;33m=\u001b[0m\u001b[0murl\u001b[0m\u001b[1;33m,\u001b[0m \u001b[1;33m**\u001b[0m\u001b[0mkwargs\u001b[0m\u001b[1;33m)\u001b[0m\u001b[1;33m\u001b[0m\u001b[1;33m\u001b[0m\u001b[0m\n\u001b[0m\u001b[0;32m     60\u001b[0m \u001b[1;33m\u001b[0m\u001b[0m\n\u001b[0;32m     61\u001b[0m \u001b[1;33m\u001b[0m\u001b[0m\n",
            "\u001b[1;32m/export/hda3/borglet/remote_hdd_fs_dirs/0.colab_kernel_brain_frameworks_gpu_minonu.kernel.minonu.3630699421263.14b334fb3717c109/mount/server/ml_notebook.runfiles/google3/third_party/py/requests/sessions.py\u001b[0m in \u001b[0;36mrequest\u001b[1;34m(self, method, url, params, data, headers, cookies, files, auth, timeout, allow_redirects, proxies, hooks, stream, verify, cert, json)\u001b[0m\n\u001b[0;32m    587\u001b[0m         }\n\u001b[0;32m    588\u001b[0m         \u001b[0msend_kwargs\u001b[0m\u001b[1;33m.\u001b[0m\u001b[0mupdate\u001b[0m\u001b[1;33m(\u001b[0m\u001b[0msettings\u001b[0m\u001b[1;33m)\u001b[0m\u001b[1;33m\u001b[0m\u001b[1;33m\u001b[0m\u001b[0m\n\u001b[1;32m--> 589\u001b[1;33m         \u001b[0mresp\u001b[0m \u001b[1;33m=\u001b[0m \u001b[0mself\u001b[0m\u001b[1;33m.\u001b[0m\u001b[0msend\u001b[0m\u001b[1;33m(\u001b[0m\u001b[0mprep\u001b[0m\u001b[1;33m,\u001b[0m \u001b[1;33m**\u001b[0m\u001b[0msend_kwargs\u001b[0m\u001b[1;33m)\u001b[0m\u001b[1;33m\u001b[0m\u001b[1;33m\u001b[0m\u001b[0m\n\u001b[0m\u001b[0;32m    590\u001b[0m \u001b[1;33m\u001b[0m\u001b[0m\n\u001b[0;32m    591\u001b[0m         \u001b[1;32mreturn\u001b[0m \u001b[0mresp\u001b[0m\u001b[1;33m\u001b[0m\u001b[1;33m\u001b[0m\u001b[0m\n",
            "\u001b[1;32m/export/hda3/borglet/remote_hdd_fs_dirs/0.colab_kernel_brain_frameworks_gpu_minonu.kernel.minonu.3630699421263.14b334fb3717c109/mount/server/ml_notebook.runfiles/google3/third_party/py/requests/sessions.py\u001b[0m in \u001b[0;36msend\u001b[1;34m(self, request, **kwargs)\u001b[0m\n\u001b[0;32m    701\u001b[0m \u001b[1;33m\u001b[0m\u001b[0m\n\u001b[0;32m    702\u001b[0m         \u001b[1;31m# Send the request\u001b[0m\u001b[1;33m\u001b[0m\u001b[1;33m\u001b[0m\u001b[0m\n\u001b[1;32m--> 703\u001b[1;33m         \u001b[0mr\u001b[0m \u001b[1;33m=\u001b[0m \u001b[0madapter\u001b[0m\u001b[1;33m.\u001b[0m\u001b[0msend\u001b[0m\u001b[1;33m(\u001b[0m\u001b[0mrequest\u001b[0m\u001b[1;33m,\u001b[0m \u001b[1;33m**\u001b[0m\u001b[0mkwargs\u001b[0m\u001b[1;33m)\u001b[0m\u001b[1;33m\u001b[0m\u001b[1;33m\u001b[0m\u001b[0m\n\u001b[0m\u001b[0;32m    704\u001b[0m \u001b[1;33m\u001b[0m\u001b[0m\n\u001b[0;32m    705\u001b[0m         \u001b[1;31m# Total elapsed time of the request (approximately)\u001b[0m\u001b[1;33m\u001b[0m\u001b[1;33m\u001b[0m\u001b[0m\n",
            "\u001b[1;32m/export/hda3/borglet/remote_hdd_fs_dirs/0.colab_kernel_brain_frameworks_gpu_minonu.kernel.minonu.3630699421263.14b334fb3717c109/mount/server/ml_notebook.runfiles/google3/third_party/py/requests/adapters.py\u001b[0m in \u001b[0;36msend\u001b[1;34m(self, request, stream, timeout, verify, cert, proxies)\u001b[0m\n\u001b[0;32m    518\u001b[0m                 \u001b[1;32mraise\u001b[0m \u001b[0mSSLError\u001b[0m\u001b[1;33m(\u001b[0m\u001b[0me\u001b[0m\u001b[1;33m,\u001b[0m \u001b[0mrequest\u001b[0m\u001b[1;33m=\u001b[0m\u001b[0mrequest\u001b[0m\u001b[1;33m)\u001b[0m\u001b[1;33m\u001b[0m\u001b[1;33m\u001b[0m\u001b[0m\n\u001b[0;32m    519\u001b[0m \u001b[1;33m\u001b[0m\u001b[0m\n\u001b[1;32m--> 520\u001b[1;33m             \u001b[1;32mraise\u001b[0m \u001b[0mConnectionError\u001b[0m\u001b[1;33m(\u001b[0m\u001b[0me\u001b[0m\u001b[1;33m,\u001b[0m \u001b[0mrequest\u001b[0m\u001b[1;33m=\u001b[0m\u001b[0mrequest\u001b[0m\u001b[1;33m)\u001b[0m\u001b[1;33m\u001b[0m\u001b[1;33m\u001b[0m\u001b[0m\n\u001b[0m\u001b[0;32m    521\u001b[0m \u001b[1;33m\u001b[0m\u001b[0m\n\u001b[0;32m    522\u001b[0m         \u001b[1;32mexcept\u001b[0m \u001b[0mClosedPoolError\u001b[0m \u001b[1;32mas\u001b[0m \u001b[0me\u001b[0m\u001b[1;33m:\u001b[0m\u001b[1;33m\u001b[0m\u001b[1;33m\u001b[0m\u001b[0m\n",
            "\u001b[1;31mConnectionError\u001b[0m: HTTPSConnectionPool(host='huggingface.co', port=443): Max retries exceeded with url: /bert-base-uncased/resolve/main/model.safetensors.index.json (Caused by NameResolutionError(\"<urllib3.connection.HTTPSConnection object at 0x7367700ef490>: Failed to resolve 'huggingface.co' ([Errno -3] Temporary failure in name resolution)\"))"
          ],
          "debug": {
            "argv": [
              "/export/hda3/borglet/remote_hdd_fs_dirs/0.colab_kernel_brain_frameworks_gpu_minonu.kernel.minonu.3630699421263.14b334fb3717c109/mount/server/ml_notebook",
              "kernel",
              "-f",
              "/tmp/ipy-be-qqe39f2z/profile_colab/security/kernel-c9038412-61c2-4cc3-b812-6c7d342df904.json",
              "--profile-dir",
              "/tmp/ipy-be-qqe39f2z/profile_colab",
              "--profile=colab",
              "--ipython-dir=/tmp/ipy-be-8257tlr5",
              "--no-secure"
            ],
            "build": "Built on Thu Jul 18 10:50:58 2024 (1721325058)\nBuilt by brain-frameworks-releaser@jjbed31.prod.google.com:/google/src/cloud/buildrabbit-username/buildrabbit-client/google3\nBuilt as //learning/grp/tools/ml_python:ml_notebook\nBuild ID: efd620b7-18bd-4aec-b9fd-53b4f2eefeda\nBuilt from changelist 653643276 in a mint client based on //depot/google3\nBuild label: ml_notebook_v100_2024-07-18-10_00_RC00\nBuild platform: gcc-4.X.Y-crosstool-v18-llvm-grtev4-k8\nBuild tool: Blaze, release blaze-2024.07.10-4 (mainline @650821060)\nBuilt with par options [\"--compress\", \"--compress_level=6\", \"--compress\"]\nCurrently running under Python 3.11.8: embedded.\n",
            "user": "minonu"
          }
        }
      ]
    },
    {
      "cell_type": "markdown",
      "source": [
        "Limit the train data set to 2014 - 2018\n",
        "Limit the test data set to 2020"
      ],
      "metadata": {
        "id": "H1QhzHPs_9_v"
      }
    },
    {
      "cell_type": "code",
      "source": [
        "#load the dataset\n",
        "train_df = pd.read_csv('train_data.csv')\n",
        "test_df = pd.read_csv('test_data.csv')\n",
        "\n",
        "# Convert the 'date' column to datetime format\n",
        "train_df['date'] = pd.to_datetime(train_df['date'])\n",
        "\n",
        "# Filter to include only articles between 2014 and 2018\n",
        "train_df_filtered = train_df[(train_df['date'].dt.year >= 2014) & (train_df['date'].dt.year <= 2018)]\n",
        "\n",
        "# Convert the 'date' column to datetime format\n",
        "test_df['date'] = pd.to_datetime(test_df['date'])\n",
        "\n",
        "# Filter to include only articles from 2020\n",
        "test_df_filtered = test_df[test_df['date'].dt.year == 2020]\n",
        "\n",
        "# Extract the text and labels for the test set from filtered data\n",
        "test_text = test_df_filtered['content_original']\n",
        "test_text_labels = test_df_filtered['bias']\n",
        "\n",
        "# Extract the train and test text from both dataframes\n",
        "train_text = train_df_filtered['content_original']\n",
        "train_text_labels = train_df_filtered['bias']\n",
        "# Adjust pandas display settings to show all rows and columns\n",
        "pd.set_option('display.max_rows', None)  # Show all rows\n",
        "pd.set_option('display.max_columns', None)  # Show all columns\n",
        "pd.set_option('display.max_colwidth', None)  # Show full content of each column\n",
        "pd.set_option('display.width', None)  # Auto-detect width of the display"
      ],
      "metadata": {
        "id": "pkqZfuBwwCuR"
      },
      "execution_count": null,
      "outputs": []
    },
    {
      "cell_type": "code",
      "source": [
        "train_df.head(1)"
      ],
      "metadata": {
        "colab": {
          "base_uri": "https://localhost:8080/",
          "height": 298
        },
        "id": "j8jNnMPKxMCW",
        "outputId": "62a8fc5b-26db-4a4e-914e-cd01fbea7321"
      },
      "execution_count": null,
      "outputs": [
        {
          "output_type": "execute_result",
          "data": {
            "text/plain": [
              "                                                                      title        date  \\\n",
              "0  trump present dilemma evangelical women, reliable gop voter listen· 3:46  2016-11-01   \n",
              "\n",
              "                                                                                                                                                                                                                                                                                                                                                                                                                                                                                                                                                                                                                                                                                                                                                                                                                                                                                                                                                                                                                                                                                                                                                                                                                                                                                                                                                                                                                                                                                                                                                                                                                                                                                                                                                                                                                                                                                                                                                                                                                                                                                                                                                                                                                                                                                                                                                                                                                                                                                                                                                                                                                                                                                                                                                                                                                                                                                                                                                                                                                                                               content_original  \\\n",
              "0  trump present dilemma evangelical women, reliable gop voter enlarge image toggle caption frank mullen/gettyimages frank mullen/gettyimages white evangelicals reliable republican voters. also long history demanding politician exemplify character morality public life. so many, republican presidential nominee donald trump present moral dilemma. trump apologized many saw one egregious moment — bragging groping kissing woman without consent 2005 recording. denied allegation several woman accusing sexual assault. but episode exposed another divide white evangelical community — split gender. several prominent male evangelical leader quick accept trump apology comments. called voter stay focused defeating democratic nominee hillary clinton. for evangelical women, like charmaine yoest protrump group american values, trump apology good start. i think situation like really cant overdo talking much understand people feeling — thats part leader, yoest says. for others, like katelyn beaty, editoratlarge christianity today, response evangelical leader exposed lack understanding. every church america woman member sitting pew every sunday deeply personal issue, beaty says. beatys magazine recently published editorial critical trump. speaking via skype, beaty pointed prominent evangelical writer like beth moore jen hatmaker whove recently called male leader quick dismiss whole thing. for many rankandfile women, sexual harassment assault personal issues, say susan fletcher colorado springs. i victim sexual harassment workplace; ive life made living hell person power me, says. fletcher, 30s, staff historian evangelical ministry. say rhetoric shes hearing recently around sexual assault disturbing many evangelical woman knows. you know, traditional, almost patriarchy older, white, evangelical men supporting endorsing — definitely huge disconnect theyre saying people like me, historian young woman, thinking feeling, fletcher says. christian singersongwriter nichole nordeman say usually stay politics, felt compelled speak year. nordeman point men, like southern baptist leader russell moore christian writer max lucado, speaking trump months. call response others devastating. i find sickening men face congregation family college campus feel ok trusting donald trump voice vote country — still somehow explain away lens teaching christ, nordeman says. boggles mind. baffling. nordeman say exciting time evangelical woman, think evangelicalism may turning point. in circle run in, keep hearing term xvangelical thrown around quite bit — sense trying find new language define u follower christ, old term felt unbelievably compromised election old guard evangelical leadership, nordeman says. beaty say there lot stake evangelical old guard address issue gender. they risk losing authority kind trust many evangelicals country, especially evangelical women, beaty says. beaty say rift highlighted politics 2016 likely continue long campaign over.   \n",
              "\n",
              "   bias bias_text           source  \n",
              "0     1    center  NPR Online News  "
            ],
            "text/html": [
              "\n",
              "  <div id=\"df-30e0d34b-91dc-41e2-990e-bbc1c1196618\" class=\"colab-df-container\">\n",
              "    <div>\n",
              "<style scoped>\n",
              "    .dataframe tbody tr th:only-of-type {\n",
              "        vertical-align: middle;\n",
              "    }\n",
              "\n",
              "    .dataframe tbody tr th {\n",
              "        vertical-align: top;\n",
              "    }\n",
              "\n",
              "    .dataframe thead th {\n",
              "        text-align: right;\n",
              "    }\n",
              "</style>\n",
              "<table border=\"1\" class=\"dataframe\">\n",
              "  <thead>\n",
              "    <tr style=\"text-align: right;\">\n",
              "      <th></th>\n",
              "      <th>title</th>\n",
              "      <th>date</th>\n",
              "      <th>content_original</th>\n",
              "      <th>bias</th>\n",
              "      <th>bias_text</th>\n",
              "      <th>source</th>\n",
              "    </tr>\n",
              "  </thead>\n",
              "  <tbody>\n",
              "    <tr>\n",
              "      <th>0</th>\n",
              "      <td>trump present dilemma evangelical women, reliable gop voter listen· 3:46</td>\n",
              "      <td>2016-11-01</td>\n",
              "      <td>trump present dilemma evangelical women, reliable gop voter enlarge image toggle caption frank mullen/gettyimages frank mullen/gettyimages white evangelicals reliable republican voters. also long history demanding politician exemplify character morality public life. so many, republican presidential nominee donald trump present moral dilemma. trump apologized many saw one egregious moment — bragging groping kissing woman without consent 2005 recording. denied allegation several woman accusing sexual assault. but episode exposed another divide white evangelical community — split gender. several prominent male evangelical leader quick accept trump apology comments. called voter stay focused defeating democratic nominee hillary clinton. for evangelical women, like charmaine yoest protrump group american values, trump apology good start. i think situation like really cant overdo talking much understand people feeling — thats part leader, yoest says. for others, like katelyn beaty, editoratlarge christianity today, response evangelical leader exposed lack understanding. every church america woman member sitting pew every sunday deeply personal issue, beaty says. beatys magazine recently published editorial critical trump. speaking via skype, beaty pointed prominent evangelical writer like beth moore jen hatmaker whove recently called male leader quick dismiss whole thing. for many rankandfile women, sexual harassment assault personal issues, say susan fletcher colorado springs. i victim sexual harassment workplace; ive life made living hell person power me, says. fletcher, 30s, staff historian evangelical ministry. say rhetoric shes hearing recently around sexual assault disturbing many evangelical woman knows. you know, traditional, almost patriarchy older, white, evangelical men supporting endorsing — definitely huge disconnect theyre saying people like me, historian young woman, thinking feeling, fletcher says. christian singersongwriter nichole nordeman say usually stay politics, felt compelled speak year. nordeman point men, like southern baptist leader russell moore christian writer max lucado, speaking trump months. call response others devastating. i find sickening men face congregation family college campus feel ok trusting donald trump voice vote country — still somehow explain away lens teaching christ, nordeman says. boggles mind. baffling. nordeman say exciting time evangelical woman, think evangelicalism may turning point. in circle run in, keep hearing term xvangelical thrown around quite bit — sense trying find new language define u follower christ, old term felt unbelievably compromised election old guard evangelical leadership, nordeman says. beaty say there lot stake evangelical old guard address issue gender. they risk losing authority kind trust many evangelicals country, especially evangelical women, beaty says. beaty say rift highlighted politics 2016 likely continue long campaign over.</td>\n",
              "      <td>1</td>\n",
              "      <td>center</td>\n",
              "      <td>NPR Online News</td>\n",
              "    </tr>\n",
              "  </tbody>\n",
              "</table>\n",
              "</div>\n",
              "    <div class=\"colab-df-buttons\">\n",
              "\n",
              "  <div class=\"colab-df-container\">\n",
              "    <button class=\"colab-df-convert\" onclick=\"convertToInteractive('df-30e0d34b-91dc-41e2-990e-bbc1c1196618')\"\n",
              "            title=\"Convert this dataframe to an interactive table.\"\n",
              "            style=\"display:none;\">\n",
              "\n",
              "  <svg xmlns=\"http://www.w3.org/2000/svg\" height=\"24px\" viewBox=\"0 -960 960 960\">\n",
              "    <path d=\"M120-120v-720h720v720H120Zm60-500h600v-160H180v160Zm220 220h160v-160H400v160Zm0 220h160v-160H400v160ZM180-400h160v-160H180v160Zm440 0h160v-160H620v160ZM180-180h160v-160H180v160Zm440 0h160v-160H620v160Z\"/>\n",
              "  </svg>\n",
              "    </button>\n",
              "\n",
              "  <style>\n",
              "    .colab-df-container {\n",
              "      display:flex;\n",
              "      gap: 12px;\n",
              "    }\n",
              "\n",
              "    .colab-df-convert {\n",
              "      background-color: #E8F0FE;\n",
              "      border: none;\n",
              "      border-radius: 50%;\n",
              "      cursor: pointer;\n",
              "      display: none;\n",
              "      fill: #1967D2;\n",
              "      height: 32px;\n",
              "      padding: 0 0 0 0;\n",
              "      width: 32px;\n",
              "    }\n",
              "\n",
              "    .colab-df-convert:hover {\n",
              "      background-color: #E2EBFA;\n",
              "      box-shadow: 0px 1px 2px rgba(60, 64, 67, 0.3), 0px 1px 3px 1px rgba(60, 64, 67, 0.15);\n",
              "      fill: #174EA6;\n",
              "    }\n",
              "\n",
              "    .colab-df-buttons div {\n",
              "      margin-bottom: 4px;\n",
              "    }\n",
              "\n",
              "    [theme=dark] .colab-df-convert {\n",
              "      background-color: #3B4455;\n",
              "      fill: #D2E3FC;\n",
              "    }\n",
              "\n",
              "    [theme=dark] .colab-df-convert:hover {\n",
              "      background-color: #434B5C;\n",
              "      box-shadow: 0px 1px 3px 1px rgba(0, 0, 0, 0.15);\n",
              "      filter: drop-shadow(0px 1px 2px rgba(0, 0, 0, 0.3));\n",
              "      fill: #FFFFFF;\n",
              "    }\n",
              "  </style>\n",
              "\n",
              "    <script>\n",
              "      const buttonEl =\n",
              "        document.querySelector('#df-30e0d34b-91dc-41e2-990e-bbc1c1196618 button.colab-df-convert');\n",
              "      buttonEl.style.display =\n",
              "        google.colab.kernel.accessAllowed ? 'block' : 'none';\n",
              "\n",
              "      async function convertToInteractive(key) {\n",
              "        const element = document.querySelector('#df-30e0d34b-91dc-41e2-990e-bbc1c1196618');\n",
              "        const dataTable =\n",
              "          await google.colab.kernel.invokeFunction('convertToInteractive',\n",
              "                                                    [key], {});\n",
              "        if (!dataTable) return;\n",
              "\n",
              "        const docLinkHtml = 'Like what you see? Visit the ' +\n",
              "          '<a target=\"_blank\" href=https://colab.research.google.com/notebooks/data_table.ipynb>data table notebook</a>'\n",
              "          + ' to learn more about interactive tables.';\n",
              "        element.innerHTML = '';\n",
              "        dataTable['output_type'] = 'display_data';\n",
              "        await google.colab.output.renderOutput(dataTable, element);\n",
              "        const docLink = document.createElement('div');\n",
              "        docLink.innerHTML = docLinkHtml;\n",
              "        element.appendChild(docLink);\n",
              "      }\n",
              "    </script>\n",
              "  </div>\n",
              "\n",
              "\n",
              "    </div>\n",
              "  </div>\n"
            ],
            "application/vnd.google.colaboratory.intrinsic+json": {
              "type": "dataframe",
              "variable_name": "train_df",
              "summary": "{\n  \"name\": \"train_df\",\n  \"rows\": 2314,\n  \"fields\": [\n    {\n      \"column\": \"title\",\n      \"properties\": {\n        \"dtype\": \"string\",\n        \"num_unique_values\": 2314,\n        \"samples\": [\n          \"sanders: actually, clinton \\u2018absolutely correct\\u2019 call supporter basement dweller\",\n          \"the democratic party got crushed obama presidency. here why\",\n          \"trump news conference bill clinton accuser ahead debate\"\n        ],\n        \"semantic_type\": \"\",\n        \"description\": \"\"\n      }\n    },\n    {\n      \"column\": \"date\",\n      \"properties\": {\n        \"dtype\": \"object\",\n        \"num_unique_values\": 364,\n        \"samples\": [\n          \"2016-12-28\",\n          \"2016-09-18\",\n          \"2016-07-07\"\n        ],\n        \"semantic_type\": \"\",\n        \"description\": \"\"\n      }\n    },\n    {\n      \"column\": \"content_original\",\n      \"properties\": {\n        \"dtype\": \"string\",\n        \"num_unique_values\": 2313,\n        \"samples\": [\n          \"well, seems even sen. bernie sander (ivt) agrees legion supporters, gave hillary clinton bigger fight originally projected, basement dwellers. interview abc news\\u2019 george stephanopoulos week, sander said secretary clinton correct assumption supporter basement dweller. observation revealed leaked audio recording private fundraiser mcclean, virginia back february (via realclearpolitics) [emphasis mine]: (begin video clip) hillary clinton (d), presidential candidate: theyre child great recession living parent basement. youre consigned to, know, barista or, know, job doesnt pay lot doesnt much ladder opportunity attached it, idea maybe, maybe, could part political revolution pretty appealing. (end video clip) [\\u2026] stephanopoulos: here donald trump tweeted that. said, crooked h nasty sander supporter behind closed doors, owned wall street politicians. hrc you, making direct pitch supporters. take it? sanders: took exactly opposite way. think said and, way, campaign, differences, secretary clinton disagree issues. saying absolutely correct. is, youve got million young people, many took loan order go college, hoping go get decentpaying, good jobs. know what? theyre unable that. yes, want political revolution. want transform society. want make sure get school, get job pay wage salary commensurate education have. think thats important point. issue that, nation, got address create goodpaying job people decent education? one issue clinton talking rebuilding infrastructure, pay equity women, raising minimum wage living wage, so, fact, decent paying job people. sander threw supporter bus, yet gave tepid answer fence sitting. imply vote clinton due pay equity, climate change, overturning citizen united: this say, george. look, live tough world. country face enormous crises. do, planet. would like people simply im going tell people vote take look issue issue. example, climate change. lot young people appropriately concerned climate change happens planet transform energy system. compare donald trump say hillary clinton says. donald trump ignoring science. trump think climate change hoax. clinton serious plan order transform energy system. raising minimum wage american understand $7.25 minimum wage starvation wage. got raised living wage. secretary clinton wants. if two thing proven far sander clinton former secretary state trouble getting young democrat excited candidacy. second, they\\u2019re straight ignoring bernie sanders\\u2019 call unity. democratic national convention showed explicitly, especially light leaked email member democratic national committee, showed senior dnc official plotting mischief undercut sanders\\u2019 campaign. bernie sander stump clinton, though hasn\\u2019t translated enthusiasm/support old, sick hillary. also, say clinton elected, republican going hold house republican might retain majority senate. scenario upper chamber ending 2016 split 5050, though tim kaine would put democrat majority tiebreaking vote. baggage, there\\u2019s little chance anything meaningful get passed climate change, pay equity, raising minimum wage, especially since it\\u2019s disaster application. nine million job could placed chopping block. lost 700,000 job 2013 due political theater. seattle, $15/hour minimum wage phased completely b 2018. it\\u2019s currently $11\\u2014and it\\u2019s led fewer people working hour cut. sort predictable. on top enough vote maneuver much, let alone put forward robust progressive agenda left lust capitol hill, political baggage emails, clinton foundation, lingering issue benghazi tie email make one ineffective presidency. bernie try 2020 clinton win fail president? let\\u2019s get far ahead, though he\\u2019s trying pull many supporter basement, even mean agreeing clinton\\u2019s patronizing observations. sander say bothered audio captured clinton describing agenda collection indefensible false promises.\",\n          \"spark fly clinton sander flint debate enlarge image toggle caption carlos osorio/ap carlos osorio/ap in seventh debate, time flint, mich., hillary clinton bernie sander agreed root cause city drinking water crisis. called massive federal intervention investigation lead poisoning urged state republican governor, rick snyder, either resign recalled. but two democratic candidate also clashed role trade deal deterioration michigan economy, usefulness exportimport bank state manufacturing america generally. they also disagreed gun control best way expand health care coverage maximum americans. predictably different view whether president bill clinton helped hurt africanamericans eight year office. sometimes, contrast positions, aim personality created visible tension. clinton talked cracking u.s. company move job overseas move corporate headquarters duck u.s. taxes, sander contemptuous. i glad, sander said, secretary clinton discovered religion issue. little bit late. at another juncture, clinton noted sander vote 2009 bailout auto industry contrast them. if talking wall street bailout friend destroyed economy, sander began. clinton began interrupt, sander said: excuse me, im talking. if youre going talk, tell whole story, said clinton. let tell story, tell yours, responded. there also hostile exchange issue clinton team regard sander greatest vulnerability primaries. clinton noted sander voted bill making gun manufacturer liable crime committed products, calling blanket immunity enjoyed industry. sander said clinton talking position whereby gun could manufactured u.s. all, adding disagreed that. both candidate admitted could really know felt person color u.s. related experience youth brought confrontation racial schism time. clinton spoke exchange suburban church youth innercity church chicago. sander related arrest protesting discrimination housing city, student university chicago. but despite frequent disagreement reliance sarcasm, debate two candidate broadly collegial affair compared two recent republican debates. i want make one point, said clinton near end evening. difference get vigorous debate issues. compare substance debate saw republican stage last week. sander agreed, saying either clinton would invest lot money mental health, watch republican debate know need invest. if watched six previous debate among democratic candidates, know well arc contest thus far. initially, democratic national committee wanted four debate scheduled small number time slot guaranteed minimize audience watching real time. pressure expose candidate create competition led additional debates. the stage first included hillary clinton bernie sander three contestant well: former sen. jim webb virginia, former gov. martin omalley maryland former gov. lincoln chafee rhode island. webb dropped oct. 20, complaining scant speaking time. chafee also suspended campaign three day later. omalley lasted iowa caucuses, minor fraction vote indicated connecting voters. since then, sander clinton met several times, encounter progressively le cordial. sander generous toward former secretary state first debates, even helping deflect criticism keeping official business private server office. but sander campaign matured major competitor clinton, sander became challenging, even hostile. february milwaukee, interjected quick jab: youre president yet. the flint debate featured several similar moment when, without becoming overtly nasty, sander managed assert presence challenge air dominance clinton sought project. on occasion, sander could also note, did, three four state voting took place weekend: kansas, nebraska maine. big margin state given slight edge clinton delegate allocation weekend, despite overwhelming win louisiana, primary state far vote cast three caucus state combined. clinton could say vote weekend rival either party, could say shed million vote donald trump thus far primary caucus around country. clinton margin among pledged delegates, whose vote allocated according primary caucuses, still near 200. socalled superdelegates (elected official party leaders) included, advantage swell 600.\",\n          \"rep. keith ellison speaks democratic national convention philadelphia. (reuters photo: jim young) and serious question muslim brotherhood keith ellison (or keith e. hakim, keith x. ellison, keith muhammad, etc.) campaigning office. safe house seat holds, leadership democratic party, job recently held hilariously incompetent boundlessly vapid debbie wasserman schultz (who forced resign \\u2014 resign\\u201d meaning transfer formally clinton campaign\\u201d \\u2014 exposed conniving stack presidential primary election senator bernie sander (s., portlandia)), temporarily replaced donna brazile, exposed leaking debate question clinton campaign, violation trust remains adamantly impenitent. advertisement advertisement republican take minute simply enjoy getting serious business hand. cannot debbie wasserman schultz organizing opposition them, former farrakhan fanboy keith ellison democraticfarmerlabor party great second choice. ellison first muslim elected house, complains recent spate criticism directed rooted \\u2014 ridiculous word \\u2014 islamophobia. bit that. advertisement ellison long vocal defender socalled nation islam, bowtie gang founded elijah muhammad whose relationship orthodox islam approximately ufo cult anglican communion. noi charismatic leader, former calypso musician louis farrakhan, explicitly racist organization, holding matter doctrine white race result doomed madscience experiment conducted biblical jacob living isle patmos. farrakhan true religious entrepreneur attempted graft l. ron hubbard\\u2019s fanciful dianetics\\u201d onto cracked version islam, mostly relied old reliable tradition: jewhating. farrakhan\\u2019s history vicious antisemitism already well established ellison helping organize million man march. democratic representative say reject antisemitism, long history sticking jewhating weirdos, farrakhan. kwame ture \\u2014 may remember stokely carmichael \\u2014 claimed jew collaborated nazi holocaust pretext establishing state israel, ellison defend criticism. head minneapolis political group declared allegation antisemitism farrakhan made insisted real problem racist jews, ellison said: correct.\\u201d defender terrorist sara jane olson murderer assata shakur islamic terrorist sami alarian. longtime admirer murderous dictator fidel castro. advertisement advertisement ellison said since rejected\\u201d nation islam antisemitism, involvement farrakhan simply exercise community organizing, i.e. usual liberalsinahurry bull. ellison invoking unwritten robert byrd rule: democrat get pas associating crackpot racist cult vote right way minimum wage. if outgrown farrakhan, hurray him. joy heaven that. ellison\\u2019s real problem may association louis farrakhan\\u2019s unorthodox islam muslim brotherhood\\u2019s orthodox version. the muslim brotherhood, founded 1928 egyptian scholar hassan albanna, sunnisupremacist organization operating motto: allah objective; qur\\u2019an constitution; prophet leader; jihad way; death sake allah wish.\\u201d linked various level intimacy hamas \\u2014 immediate offshoot muslim brotherhood \\u2014 along sundry sunni extremist groups, one two degree separation removed alshabaab, alqaeda, like. reach sprawling, also closely linked purportedly respectable islamic organization council americanislamic relation (cair), andrew c. mccarthy rightly describes muslim brotherhood creation conceived westernmediasavvy shill islamic supremacism general hamas particular.\\u201d the question whether u.s. political party led muslim man, muslim man. ellison spoken convention islamic society north america, part cairhamas network, least according fifth circuit court appeals, found government produced ample evidence establish association cair, isna, nait, islamic association palestine, hamas\\u201d holy land foundation case. link discussed page great length mccarthy colleague daniel pipes, among others. ellison went pilgrimage mecca sponsored muslim american society, simply muslim brotherhood another name. mecca, met sheikh abdallah bin bayyah, officer muslim brotherhood group issued fatwa u.s. troop iraq support palestinian terrorist israel. met terrorlinked saudi financier unsavory characters, too. advertisement the question whether u.s. political party led muslim man, muslim man. talking nam\\u0131k kemal robert crane. advertisement advertisement keith ellison one representative. short term, focus man \\u2014 long term, movement. specifically, congress considered, may revive, legislation supported senator ted cruz (r., texas) would designate muslim brotherhood terrorist organization, egyptian saudiled gulf cooperation council insist is. case terribly difficult make, main defense muslim brotherhood offered critic marc lynch organization used be, longer group founded hamas cultivated generation islamic radical instead broken, scattered, le significant. perhaps so, so, precisely sort organization want kick down. #related#the real problem muslim brotherhood\\u2019s finger practically every islamic pie united state much rest world, turning rock almost certainly expose number queasy reminder distance islamic mainstream islamic extremism great sometimes imagine. great many mediafriendly muslim socalled moderate put difficult position \\u2014 welcome that. long made easy socalled respectable islamist organization west play side fence. advertisement republican designate muslim brotherhood terrorist organization, based simply weight evidence. they\\u2019re feeling little bit mean \\u2014 not? \\u2014 wait democrat put keith ellison charge party it.\"\n        ],\n        \"semantic_type\": \"\",\n        \"description\": \"\"\n      }\n    },\n    {\n      \"column\": \"bias\",\n      \"properties\": {\n        \"dtype\": \"number\",\n        \"std\": 0,\n        \"min\": 0,\n        \"max\": 2,\n        \"num_unique_values\": 3,\n        \"samples\": [\n          1,\n          0,\n          2\n        ],\n        \"semantic_type\": \"\",\n        \"description\": \"\"\n      }\n    },\n    {\n      \"column\": \"bias_text\",\n      \"properties\": {\n        \"dtype\": \"category\",\n        \"num_unique_values\": 3,\n        \"samples\": [\n          \"center\",\n          \"left\",\n          \"right\"\n        ],\n        \"semantic_type\": \"\",\n        \"description\": \"\"\n      }\n    },\n    {\n      \"column\": \"source\",\n      \"properties\": {\n        \"dtype\": \"category\",\n        \"num_unique_values\": 95,\n        \"samples\": [\n          \"Ralph Benko\",\n          \"Guest Writer\",\n          \"Pew Research Center\"\n        ],\n        \"semantic_type\": \"\",\n        \"description\": \"\"\n      }\n    }\n  ]\n}"
            }
          },
          "metadata": {},
          "execution_count": 5
        }
      ]
    },
    {
      "cell_type": "code",
      "source": [
        "print(f\"basic train_df info: \",train_df.shape)"
      ],
      "metadata": {
        "colab": {
          "base_uri": "https://localhost:8080/"
        },
        "id": "BlS6YagLwzQd",
        "outputId": "d9014d97-b48a-4ac7-b3e1-0cb6a489d7e7"
      },
      "execution_count": null,
      "outputs": [
        {
          "output_type": "stream",
          "name": "stdout",
          "text": [
            "basic train_df info:  (2314, 6)\n"
          ]
        }
      ]
    },
    {
      "cell_type": "code",
      "source": [
        "test_df.head(1)"
      ],
      "metadata": {
        "colab": {
          "base_uri": "https://localhost:8080/",
          "height": 265
        },
        "id": "FaHi8VSJw1sO",
        "outputId": "de68d0c2-b911-4b12-c41c-9e5034cde646"
      },
      "execution_count": null,
      "outputs": [
        {
          "output_type": "execute_result",
          "data": {
            "text/plain": [
              "                                               title        date  \\\n",
              "0  trump: inner city run democrat dangerous war zone  2016-08-22   \n",
              "\n",
              "                                                                                                                                                                                                                                                                                                                                                                                                                                                                                                                                                                                                                                                                                                                                                                                                                                                                                                                                                                                                                                                                                                                                                                                                                                                                                                                                                                                                                                                                                                                                                                                                                                                                                                                                                                                                                                                                                                                                                                                                                                                                                                                                                                                                                                                                                                                                                                                          content_original  \\\n",
              "0  meant give scripted speech rival, republican nominee veered message attempt appeal minority voter apocalyptic term donald trump veered script monday night claim inner city run democrats” dangerous country iraq afghanistan. the republican nominee meant delivering speech calling hillary clinton investigated special prosecutor. however, veered message attempt appeal minority voter apocalyptic terms. you go war zone country fighting safer living inner city run democrats,” trump said. republican nominee also promised elected, we’ll get rid crime. you’ll able walk street without getting shot. now, walk street, get shot.” trump made increased appeal support african american recent days. despite that, recent nbc/wall street journal poll showed trump receiving support 1% african american voters, historically low total. poll margin error plus minus 3.5%. republican nominee repeatedly argued african american voter support past week, saying: got lose?” contrast, new york real estate developer railed called bigotry hillary clinton, see people color vote human being worthy better future.” the intended focus trump’s message monday call special prosecutor investigate clinton’s leadership state department. trump claimed fbi department justice could trusted investigate hillary clinton’s crimes”. fbi july decided pursue criminal charge clinton use unsecured private email server secretary state. however, so, fbi director james comey rebuked clinton extremely careless” way handled emails. hillary clinton email recovered fbi released election day read more in speech, trump also said fighting peaceful regime change country” warned gravely potential election fraud. got go watch. know i’m talking about,” said. trump long made unsubstantiated claim rigged election” warned inperson voter fraud recently campaign stop pennsylvania. however, exhaustive investigation inperson voter fraud united state found 31 case since 2000 1bn ballot cast. trump spoke blue collar city akron, ohio. buckeye state 18 electoral votes, republican ever white house without winning ohio. according data complied real clear politics, clinton trailed single statewide poll ohio since april. however, despite sagging poll number cryptic warning election fraud, trump still confident victory: get feeling we’re going win landslide.”   \n",
              "\n",
              "   bias bias_text        source  \n",
              "0     0      left  The Guardian  "
            ],
            "text/html": [
              "\n",
              "  <div id=\"df-7d6a753c-d9a2-4a57-8a72-8a3bdf0de0fa\" class=\"colab-df-container\">\n",
              "    <div>\n",
              "<style scoped>\n",
              "    .dataframe tbody tr th:only-of-type {\n",
              "        vertical-align: middle;\n",
              "    }\n",
              "\n",
              "    .dataframe tbody tr th {\n",
              "        vertical-align: top;\n",
              "    }\n",
              "\n",
              "    .dataframe thead th {\n",
              "        text-align: right;\n",
              "    }\n",
              "</style>\n",
              "<table border=\"1\" class=\"dataframe\">\n",
              "  <thead>\n",
              "    <tr style=\"text-align: right;\">\n",
              "      <th></th>\n",
              "      <th>title</th>\n",
              "      <th>date</th>\n",
              "      <th>content_original</th>\n",
              "      <th>bias</th>\n",
              "      <th>bias_text</th>\n",
              "      <th>source</th>\n",
              "    </tr>\n",
              "  </thead>\n",
              "  <tbody>\n",
              "    <tr>\n",
              "      <th>0</th>\n",
              "      <td>trump: inner city run democrat dangerous war zone</td>\n",
              "      <td>2016-08-22</td>\n",
              "      <td>meant give scripted speech rival, republican nominee veered message attempt appeal minority voter apocalyptic term donald trump veered script monday night claim inner city run democrats” dangerous country iraq afghanistan. the republican nominee meant delivering speech calling hillary clinton investigated special prosecutor. however, veered message attempt appeal minority voter apocalyptic terms. you go war zone country fighting safer living inner city run democrats,” trump said. republican nominee also promised elected, we’ll get rid crime. you’ll able walk street without getting shot. now, walk street, get shot.” trump made increased appeal support african american recent days. despite that, recent nbc/wall street journal poll showed trump receiving support 1% african american voters, historically low total. poll margin error plus minus 3.5%. republican nominee repeatedly argued african american voter support past week, saying: got lose?” contrast, new york real estate developer railed called bigotry hillary clinton, see people color vote human being worthy better future.” the intended focus trump’s message monday call special prosecutor investigate clinton’s leadership state department. trump claimed fbi department justice could trusted investigate hillary clinton’s crimes”. fbi july decided pursue criminal charge clinton use unsecured private email server secretary state. however, so, fbi director james comey rebuked clinton extremely careless” way handled emails. hillary clinton email recovered fbi released election day read more in speech, trump also said fighting peaceful regime change country” warned gravely potential election fraud. got go watch. know i’m talking about,” said. trump long made unsubstantiated claim rigged election” warned inperson voter fraud recently campaign stop pennsylvania. however, exhaustive investigation inperson voter fraud united state found 31 case since 2000 1bn ballot cast. trump spoke blue collar city akron, ohio. buckeye state 18 electoral votes, republican ever white house without winning ohio. according data complied real clear politics, clinton trailed single statewide poll ohio since april. however, despite sagging poll number cryptic warning election fraud, trump still confident victory: get feeling we’re going win landslide.”</td>\n",
              "      <td>0</td>\n",
              "      <td>left</td>\n",
              "      <td>The Guardian</td>\n",
              "    </tr>\n",
              "  </tbody>\n",
              "</table>\n",
              "</div>\n",
              "    <div class=\"colab-df-buttons\">\n",
              "\n",
              "  <div class=\"colab-df-container\">\n",
              "    <button class=\"colab-df-convert\" onclick=\"convertToInteractive('df-7d6a753c-d9a2-4a57-8a72-8a3bdf0de0fa')\"\n",
              "            title=\"Convert this dataframe to an interactive table.\"\n",
              "            style=\"display:none;\">\n",
              "\n",
              "  <svg xmlns=\"http://www.w3.org/2000/svg\" height=\"24px\" viewBox=\"0 -960 960 960\">\n",
              "    <path d=\"M120-120v-720h720v720H120Zm60-500h600v-160H180v160Zm220 220h160v-160H400v160Zm0 220h160v-160H400v160ZM180-400h160v-160H180v160Zm440 0h160v-160H620v160ZM180-180h160v-160H180v160Zm440 0h160v-160H620v160Z\"/>\n",
              "  </svg>\n",
              "    </button>\n",
              "\n",
              "  <style>\n",
              "    .colab-df-container {\n",
              "      display:flex;\n",
              "      gap: 12px;\n",
              "    }\n",
              "\n",
              "    .colab-df-convert {\n",
              "      background-color: #E8F0FE;\n",
              "      border: none;\n",
              "      border-radius: 50%;\n",
              "      cursor: pointer;\n",
              "      display: none;\n",
              "      fill: #1967D2;\n",
              "      height: 32px;\n",
              "      padding: 0 0 0 0;\n",
              "      width: 32px;\n",
              "    }\n",
              "\n",
              "    .colab-df-convert:hover {\n",
              "      background-color: #E2EBFA;\n",
              "      box-shadow: 0px 1px 2px rgba(60, 64, 67, 0.3), 0px 1px 3px 1px rgba(60, 64, 67, 0.15);\n",
              "      fill: #174EA6;\n",
              "    }\n",
              "\n",
              "    .colab-df-buttons div {\n",
              "      margin-bottom: 4px;\n",
              "    }\n",
              "\n",
              "    [theme=dark] .colab-df-convert {\n",
              "      background-color: #3B4455;\n",
              "      fill: #D2E3FC;\n",
              "    }\n",
              "\n",
              "    [theme=dark] .colab-df-convert:hover {\n",
              "      background-color: #434B5C;\n",
              "      box-shadow: 0px 1px 3px 1px rgba(0, 0, 0, 0.15);\n",
              "      filter: drop-shadow(0px 1px 2px rgba(0, 0, 0, 0.3));\n",
              "      fill: #FFFFFF;\n",
              "    }\n",
              "  </style>\n",
              "\n",
              "    <script>\n",
              "      const buttonEl =\n",
              "        document.querySelector('#df-7d6a753c-d9a2-4a57-8a72-8a3bdf0de0fa button.colab-df-convert');\n",
              "      buttonEl.style.display =\n",
              "        google.colab.kernel.accessAllowed ? 'block' : 'none';\n",
              "\n",
              "      async function convertToInteractive(key) {\n",
              "        const element = document.querySelector('#df-7d6a753c-d9a2-4a57-8a72-8a3bdf0de0fa');\n",
              "        const dataTable =\n",
              "          await google.colab.kernel.invokeFunction('convertToInteractive',\n",
              "                                                    [key], {});\n",
              "        if (!dataTable) return;\n",
              "\n",
              "        const docLinkHtml = 'Like what you see? Visit the ' +\n",
              "          '<a target=\"_blank\" href=https://colab.research.google.com/notebooks/data_table.ipynb>data table notebook</a>'\n",
              "          + ' to learn more about interactive tables.';\n",
              "        element.innerHTML = '';\n",
              "        dataTable['output_type'] = 'display_data';\n",
              "        await google.colab.output.renderOutput(dataTable, element);\n",
              "        const docLink = document.createElement('div');\n",
              "        docLink.innerHTML = docLinkHtml;\n",
              "        element.appendChild(docLink);\n",
              "      }\n",
              "    </script>\n",
              "  </div>\n",
              "\n",
              "\n",
              "    </div>\n",
              "  </div>\n"
            ],
            "application/vnd.google.colaboratory.intrinsic+json": {
              "type": "dataframe",
              "variable_name": "test_df",
              "summary": "{\n  \"name\": \"test_df\",\n  \"rows\": 579,\n  \"fields\": [\n    {\n      \"column\": \"title\",\n      \"properties\": {\n        \"dtype\": \"string\",\n        \"num_unique_values\": 579,\n        \"samples\": [\n          \"poll: trump continues within striking distance clinton nationally\",\n          \"dem insiders: sander failed dent clinton\",\n          \"donald trump\\u2019s plagiarized antisemitic slogan\"\n        ],\n        \"semantic_type\": \"\",\n        \"description\": \"\"\n      }\n    },\n    {\n      \"column\": \"date\",\n      \"properties\": {\n        \"dtype\": \"object\",\n        \"num_unique_values\": 283,\n        \"samples\": [\n          \"2016-10-20\",\n          \"2016-03-20\",\n          \"2016-01-18\"\n        ],\n        \"semantic_type\": \"\",\n        \"description\": \"\"\n      }\n    },\n    {\n      \"column\": \"content_original\",\n      \"properties\": {\n        \"dtype\": \"string\",\n        \"num_unique_values\": 579,\n        \"samples\": [\n          \"republican nominee donald trump disastrous postconvention cycle. ever since associated press released analysis hillary\\u2019s state department calendar thus far, showing half nongovernmental meeting donor clinton foundation\\u2014the narrative intrigue unethical dealing seem follow power couple rehashed. clinton dropped seven point three day trump. hillary remains lead five, still within striking distance republican nominee, pivoted towards disciplined messaging, hammering clinton allegation paid access emanating nonprofit. he also headed louisiana ass flood damage, democrat remained lethargic responding worst disaster since hurricane sandy. now, new morning consult poll show clinton\\u2019s lead trump halved week (via hill): clinton lead trump 3 points, 43 percent 40 percent, headtohead matchup morning consult poll released sunday morning. one week ago, clinton led trump 6 points, 44 percent 38 percent. voter view candidate unfavorably, pollster found, 58 percent holding negative view trump 57 percent saying clinton. the real clear politics average trump trailing six, isn\\u2019t terrible. time, he\\u2019s weak traditional republican states\\u2014and he\\u2019s fairing poorly clinton swing states. right now, election held today, clinton would easily clinch 270 electoral vote needed win. yet, nate silver fivethirtyeight added we\\u2019re third quarter election cycle. clinton shouldn\\u2019t counting living government housing yet. again, candidate especially weak flawed cycle, making cobbling together new voter difficult obstacle: after mixed evidence before, it\\u2019s become clearer, least according forecast models, donald trump regained ground her. clinton\\u2019s national lead pollsonly forecast gone peak 8.5 percentage point two week ago 6.5 percentage point sunday evening \\u2014 is, 2point gain trump two weeks. correspondingly, trump\\u2019s chance winning election improved low 11 percent 19 percent. [\\u2026] it\\u2019s nice model time like these, instead throwing hand (or worse, cherrypicking poll suit case). model, said, show trump gained 2 point two weeks. trump keep gaining 1 percentage point week, he\\u2019ll beat clinton couple percentage point nov. 8. hence, clinton probably picking white house drape yet. continued gain may easy trump, however. he\\u2019s still 37 38 percent national poll include thirdparty candidates. might seem like easy number improve upon, favorability rating 35 percent, meaning he\\u2019s already relying support voter don\\u2019t like may vote prevent clinton presidency. clinton also work do. she\\u2019s 43 percent national poll poll key swing state \\u2014 enough clinch victory, even 6 10 percent vote eventually go thirdparty candidates, appears increasingly likely. she\\u2019ll need persuade undecided voter toward side get thirdparty voter \\u2014 clinton trump second choice \\u2014 turn her. [\\u2026] election, least time being, present something opposite case. isn\\u2019t close \\u2014 clinton around 6 percentage point best figure, larger lead obama almost point 2012 end 2008 campaign. it\\u2019s august, number undecided voter high, outcome remains fairly uncertain. furthermore, state poll fairly good clinton right now, don\\u2019t know they\\u2019ll react race tightens further. we\\u2019re going three week without livecaller poll pennsylvania, example. coincidentally not, clinton campaign proactive last week. pushed back quite aggressively associated press story donation clinton foundation. instigated fight trump connection clinton called emerging racist ideology known altright.\\u201d clinton remains strong overall position, shouldn\\u2019t playing prevent defense yet; we\\u2019re still equivalent third quarter. for trump, mean zero room engage disastrous public relation antics. i\\u2019ve said before, fact clinton ahead le ten point show awful candidate is. intent purposes, clinton trouncing clinton ten points. she\\u2019s can\\u2019t deliver critical blows; hamstrung baggage.\",\n          \"bernie sander riding wave momentum iowa new hampshire, performance sunday night\\u2019s debate failed dislodge hillary clinton perch national frontrunner democratic nomination. that\\u2019s according democratic member politico caucus \\u2014 panel leading strategists, operative activist iowa, new hampshire two state follow nominating contest next month: nevada south carolina, sunday\\u2019s debate held. story continued below she win anytime opponent dont draw blood,\\u201d said new hampshire democrat who, like insiders, completed survey anonymously. the debate, also included former maryland gov. martin omalley, final clash democrat iowa new hampshire cast first ballot year, insider split along partisan line candidate emerged stronger. threequarters democratic insider surveyed immediately following primetime forum said clinton debate, compared 20 percent picked sander winner. among republicans, sander runaway victor: twothirds said sander won, 20 percent clinton. most democratic insider felt clinton effectively dinged sander aggressive approach sanders\\u2019 opposition stricter gun law statement supporting singlepayer health care system. she gave good got,\\u201d said iowa democrat. sander time seemed unable control emotions.\\u201d the conjuring bernie sander voting record several issue took nick vaunted, saintly consistency,\\u201d added nevada democrat. republican vigorously disagreed, arguing clinton little reverse sanders\\u2019 surge, propelled apparent tie iowa caucus significant advantage firstinthenation primary state new hampshire. (clinton still running substantially ahead nationally, including 25point lead nbc news/wall street journal poll released sunday morning.) hillary probably well enough, cant shake bernie,\\u201d said iowa republican. anger wall street campaign finance coupled unabashed support panacea liberal idea base want hear. [donald] trump fill vacuum strident leadership republican thirst for, bernie appeal left distinct version way thing \\u2018should be.\\u2019 tonight, bernie stuck ideal repeatedly reminding democratic voter hillary flawed candidate.\\u201d not democrat credited clinton win \\u2014 argued sander well format opponent thrived three previous debates. it draw,\\u201d said one new hampshire democrat, case bernie hillary strength, tonight went toe toe her.\\u201d all three best theyve been,\\u201d added another new hampshire democrat. bernie owned though.\\u201d to bring debate dynamic sharper relief, insider asked three specific exchange two leading democratic candidates: gun policy, health care clinton\\u2019s tie wall street. vast majority insider party thought clinton drew blood sander vermont senator\\u2019s past opposition stricter gun laws. clinton cited sanders\\u2019 past opposition brady bill measure held gunmakers liable death using product. either bernie blind spot issue,\\u201d said one iowa democrat, he keeping eye rearview mirror reelection back home.\\u201d even republicans, typically critical assessment clinton performances, awarded round former secretary state. when youre explaining, youre losing,\\u201d said iowa republican. bernie still explaining guns.\\u201d on health care, democratic insider felt clinton\\u2019s attack effective, republican split \\u2014 arguing sander projected positive vision health care policy. by justly questioning sander commitment affordable care act, hillary implicitly questioned loyalty president obama,\\u201d new hampshire democrat said. on health care, hillary process, sander passion,\\u201d south carolina republican countered. perhaps sharpest clash night wall street. sander implicitly criticized clinton accepting campaign donation speaking fee financial service firm \\u2014 insider party credited sander bruising clinton also reinforcing strongest issues. a number democrat otherwise credited clinton strong night pointed respond sanders\\u2019 implication received hundred thousand dollar speaking fee goldman sachs. bernie pummeling clinton coziness\\u201d wall street, said nevada democrat. didnt favor failing respond goldman speaking fee criticism.\\u201d clinton didnt even respond goldman speaking fee jab sander [threw] her,\\u201d said another nevada democrat. seems like mightve caught offguard, stumbled.\\u201d some democrat felt sander botched attack, however. bernie quickly ramped frenzy,\\u201d iowa democrat said. stepped line passionately debating ranting.\\u201d republican overwhelmingly thought sander got better exchange. sander going win one every time,\\u201d said new hampshire republican. clinton (and omalley) need understand playing foreign turf work shorten exchange move next question.\\u201d broadly speaking, democrat thought debate\\u2019s focus sander \\u2014 spoke longer clinton, according politico\\u2019s calculation \\u2014 may backfired. this turned referendum candidacy, good way,\\u201d said new hampshire democrat. spent night defense, turn made look nervous. finally, south carolina new hampshire. number time applause line looked like expecting midspeech simply never came.\\u201d these member politico caucus, participated special postdebate survey: iowa: tim albrecht, brad anderson, rob barron, jeff boeyink, bonnie campbell, dave caris, sam clovis, sara craig, jerry crawford, john davis, steve deace, john deeth, derek eadon, ed failor jr., karen fesler, david fischer, doug gross, steve grubbs, tim hagle, bob haus, joe henry, drew ivers, jill june, lori jungling, jeff kaufmann, brian kennedy, jake ketzner, david kochel, chris larimer, chuck larson, jill latham, jeff link, dave loebsack, mark lucas, liz mathis, jan michelson, chad olsen, david oman, matt paul, marlys popma, troy price, christopher rants, kim reem, craig robinson, sam roecker, david roederer, richard s. rogers, nick ryan, matt schultz, tamara scott, joni scotter, karen slifka, john smith, aj spiker, norm sterzenbach, john stineman, matt strawn, phil valenziano, jessica vanden berg, nate willems, eric woolson, grant young new hampshire: charlie arlinghaus, arnie arnesen, patrick arnold, rich ashooh, dean barker, juliana bergeron, d.j. bettencourt, michael biundo, ray buckley, peter burling, jamie burnett, debby butler, dave carney, jackie cilley, catherine corkery, garth corriveau, fergus cullen, lou d\\u2019allesandro, james demers, mike dennehy, sean downey, steve duprey, joann fenton, jennifer frizzell, martha fuller clark, amanda grady sexton, jack heath, gary hirshberg, jennifer horn, peter kavanaugh, joe keefe, rich killion, harrell kirstein, sylvia larsen, joel maiola, kate malloy corriveau, maureen manning, steve marchand, tory mazzola, jim merrill, jayne millerick, claira monier, greg moore, matt mowers, terie norelli, william o\\u2019brien, chris pappas, liz purdy, tom rath, colin reed, jim rubens, andy sanborn, dante scala, william shaheen, stefany shaheen, carol sheaporter, terry shumaker, andy smith, craig stevens, kathy sullivan, chris sununu, james sununu, jay surdukowski, donna sytek, karen testerman, kari thurman, colin van ostern, deb vanderbeek, mike vlacich, ryan williams, ethan zorfas nevada: adam khan, andres ramirez, andrew diss, barbara buckley, bob cavazos, brendan summers, chip evans, chuck muth, dan hart, daniel stewart, ed williams, emmy ruiz, erven t. nelson, greg bailor, heidi wixom, jack st. martin, james smack, jay gertsema, jeremy hughes, jim degraffenreid, jon ralston, kristen orthman, laura martin, linda cavazos, lindsey jydstrup, mac abrams, mari st. martin, marla turner, megan jones, michael mcdonald, michelle white, mike slanker, neal patel, nick phillips, oscar goodman, pat hickey, paul smith, pete ernaut, peter koltak, riley sutton, robert uithoven, roberta lange, ryan erwin, ryan hamilton, sam lieberman, scott scheid, yvanna cancela, zach hudson south carolina: andrew collins, antjuan seawright, barry wynn, bob mcalister, boyd brown, brady quirkgarvan, bruce haynes, catherine templeton, chad connelly, chip felkel, cindy costa, clay middleton, david wilkins, dick harpootlian, donna hicks, drea byars, ed mcmullen, elizabeth colbertbusch, ellen weaver, erin mckee, gary r. smith, glenn mccall, inez tenenbaum, isaiah nelson, jaime r. harrison, james smith, jason perkey, jay w. ragley, jim hodges, jimmy williams, joe erwin, joel sawyer, john brisini, kevin bishop, kim wellman, laurin manning, le frye, luke byars, matt moore, mikee johnson, morgan allison, phil noble, scott farmer, tony denny, trey walker, tyler jones, walter whetsell, warren tompkins, folk kristen hayford contributed report.\",\n          \"this week, donald trump gave interview new york time exposed, again, lack knowledge world may, next january, become leading man. interview essentially handed baltic vladimir putin. q&a wrapped up, republican nominee also revealed little curiosity history country. time reporter pressed explain embraced term america first,\\u201d despite link controversial group opposed u.s. entry world war ii, trump responded, me, \\u2018america first\\u2019 brandnew, modern term\\u2026 never related past.\\u201d if orangemaned tycoonturnedpolitician take time learn something predecessors, might find much admire (from perspective) avoid. founded early september 1940, america first committee (afc) largest antiwar organization u.s. history, one remarkable ideological partisan diversity. claimed 800,000 members\\u2014no one required pay dues\\u2014who met hundred autonomous chapter across nation. although republican millionaire like chairman searsroebuck publisher chicago tribune funded activities, afc included rank norman thomas, leader socialist party, several prominent democratic senators. leftwing novelist sinclair lewis, architect frank lloyd wright, walt disney signed too\\u2014as charles lindbergh, celebrated aviator whose renown rivaled president franklin d. roosevelt. joseph p. kennedy declined join tell chairman afc would everything possibly help you.\\u201d what united disparate throng resolve stay war united kingdom fighting nearly alone axis powers, led hitler\\u2019s germany, already conquered much europe. like many citizens, america firsters believed woodrow wilson made terrible mistake back 1917 convinced congress declare war germany, ruled kaiser wilhelm ii. instead world made safe democracy\\u201d wilson promised, totalitarian leader seized power amid economic distress plaguing nation spain russia japan. during mid1930s, congress enacted several strict neutrality acts, large majority opinion survey backed constitutional amendment require national referendum sending young men combat. month 1940 america first founded, gallup poll reported almost even split question whether keep war help england win, even risk getting war.\\u201d fdr, wanted send warship kind aid winston churchill\\u2019s government hold back nazis, knew battle public opinion wage home. but afc\\u2019s inclusiveness lack discipline top sped downfall. one barred open antisemites taking active part. committee leader welcomed follower charles coughlin, profascist catholic priest ranted international bankers\\u201d week radio audience ten millions. roosevelt political ally wanted aid great britain lambasted group bigot forced spokesman deny truth. then, sept. 11, 1941, week hitler invaded soviet union made u.s. intervention likely, afc\\u2019s biggest star decided deliver urgent warning enemy within. lindbergh, whose congressman father spoken first world war, told crowd de moines nationally broadcast address jew particularly responsible changing national policy one neutrality independence one entanglement european affairs.\\u201d went on, three important group pressing country toward war british, jewish, roosevelt administration.\\u201d lindbergh concede person sense dignity mankind condone persecution jewish race suffered germany\\u201d (notice past tense). but, quickly added, greatest danger country lie large ownership influence motion pictures, press, radio, government.\\u201d the backlash severe. de moines crowd booed loudly, journalist across political spectrum agreed erstwhile national hero sounded translating message berlin. voice voice lindbergh,\\u201d editorialized san francisco chronicle, republican paper, word word hitler.\\u201d afc already losing battle; draft reinstituted, clear majority american favored fdr\\u2019s policy giving substantial aid great britain soviet union. group declined rapidly lindbergh\\u2019s speech disbanded attack pearl harbor. donald trump doesn\\u2019t know history\\u2014just may know there\\u2019s current u.s. senate candidate using america first\\u201d slogan, name david duke. knack repeating error similar doomed afc. plan,\\u201d told gop convention acceptance speech thursday night, put america first. americanism, globalism, credo.\\u201d yet, american discovered 75 year ago, world way entangling u problems\\u2014be climate change, terrorism, refugee war. candidate traffic angry, mendacious stereotype people fleeing violence poverty cannot help u build saner, tolerant, safer society.\"\n        ],\n        \"semantic_type\": \"\",\n        \"description\": \"\"\n      }\n    },\n    {\n      \"column\": \"bias\",\n      \"properties\": {\n        \"dtype\": \"number\",\n        \"std\": 0,\n        \"min\": 0,\n        \"max\": 2,\n        \"num_unique_values\": 3,\n        \"samples\": [\n          0,\n          1,\n          2\n        ],\n        \"semantic_type\": \"\",\n        \"description\": \"\"\n      }\n    },\n    {\n      \"column\": \"bias_text\",\n      \"properties\": {\n        \"dtype\": \"category\",\n        \"num_unique_values\": 3,\n        \"samples\": [\n          \"left\",\n          \"center\",\n          \"right\"\n        ],\n        \"semantic_type\": \"\",\n        \"description\": \"\"\n      }\n    },\n    {\n      \"column\": \"source\",\n      \"properties\": {\n        \"dtype\": \"category\",\n        \"num_unique_values\": 45,\n        \"samples\": [\n          \"Bloomberg\",\n          \"The Atlantic\",\n          \"Reuters\"\n        ],\n        \"semantic_type\": \"\",\n        \"description\": \"\"\n      }\n    }\n  ]\n}"
            }
          },
          "metadata": {},
          "execution_count": 7
        }
      ]
    },
    {
      "cell_type": "code",
      "source": [
        "print(f\"basic test_df info: \",test_df.shape)"
      ],
      "metadata": {
        "colab": {
          "base_uri": "https://localhost:8080/"
        },
        "id": "GdbG2sxpxddS",
        "outputId": "edaf7999-1da5-431b-8964-c8205e4cfd8a"
      },
      "execution_count": null,
      "outputs": [
        {
          "output_type": "stream",
          "name": "stdout",
          "text": [
            "basic test_df info:  (579, 6)\n"
          ]
        }
      ]
    },
    {
      "cell_type": "code",
      "source": [
        "# extract the train and test text from both dataframes\n",
        "train_text = train_df['content_original']\n",
        "train_text_labels = train_df['bias']\n",
        "\n",
        "validate_text = test_df['content_original'][0:200]\n",
        "validate_text_labels = test_df['bias'][0:200]\n",
        "\n",
        "test_text = test_df['content_original'][200:]\n",
        "test_text_labels = test_df['bias'][200:]\n",
        "\n",
        "\n",
        "print(f\"size of training dataset: \",len(train_text))\n",
        "print()\n",
        "print(f\"size of valid dataset: \",len(validate_text))\n",
        "print()\n",
        "print(f\"size of testing dataset: \",len(test_text))\n",
        "print()\n",
        "print(f\"Left with Label 0 \")\n",
        "print(f\"Center with Label 1 \")\n",
        "print(f\"Right with Label 2 \")"
      ],
      "metadata": {
        "colab": {
          "base_uri": "https://localhost:8080/"
        },
        "id": "DN_SB3PTxfhF",
        "outputId": "a1a6b526-858e-40d3-e6ac-a5d301cadb66"
      },
      "execution_count": null,
      "outputs": [
        {
          "output_type": "stream",
          "name": "stdout",
          "text": [
            "size of training dataset:  2314\n",
            "\n",
            "size of valid dataset:  200\n",
            "\n",
            "size of testing dataset:  379\n",
            "\n",
            "Left with Label 0 \n",
            "Center with Label 1 \n",
            "Right with Label 2 \n"
          ]
        }
      ]
    },
    {
      "cell_type": "code",
      "source": [
        "MAX_SEQUENCE_LENGTH = 512"
      ],
      "metadata": {
        "id": "68tKtWPry7iK"
      },
      "execution_count": null,
      "outputs": []
    },
    {
      "cell_type": "code",
      "source": [
        "# tokenize the dataset, truncate at `max_length`,\n",
        "\n",
        "#tokenizing the train text\n",
        "x_train = bert_tokenizer(train_text.tolist(),\n",
        "              max_length=MAX_SEQUENCE_LENGTH,\n",
        "              truncation=True,\n",
        "              padding='max_length',\n",
        "              return_tensors='tf')\n",
        "y_train = train_text_labels\n",
        "\n",
        "#tokenizing the validate text\n",
        "x_validate = bert_tokenizer(validate_text.tolist(),\n",
        "              max_length=MAX_SEQUENCE_LENGTH,\n",
        "              truncation=True,\n",
        "              padding='max_length',\n",
        "              return_tensors='tf')\n",
        "y_validate = validate_text_labels\n",
        "\n",
        "\n",
        "#tokenizing the test text\n",
        "x_test = bert_tokenizer(test_text.tolist(),\n",
        "              max_length=MAX_SEQUENCE_LENGTH,\n",
        "              truncation=True,\n",
        "              padding='max_length',\n",
        "              return_tensors='tf')\n",
        "y_test = test_text_labels"
      ],
      "metadata": {
        "id": "UlXC06Z_zPAp"
      },
      "execution_count": null,
      "outputs": []
    },
    {
      "cell_type": "code",
      "source": [
        "#BERT base uncased model configurations\n",
        "config = AutoConfig.from_pretrained('bert-base-uncased')\n",
        "\n",
        "config"
      ],
      "metadata": {
        "colab": {
          "base_uri": "https://localhost:8080/"
        },
        "id": "7YWZdBWp02fi",
        "outputId": "1d9573ab-2347-4487-d6f0-7986aa705023"
      },
      "execution_count": null,
      "outputs": [
        {
          "output_type": "execute_result",
          "data": {
            "text/plain": [
              "BertConfig {\n",
              "  \"_name_or_path\": \"bert-base-uncased\",\n",
              "  \"architectures\": [\n",
              "    \"BertForMaskedLM\"\n",
              "  ],\n",
              "  \"attention_probs_dropout_prob\": 0.1,\n",
              "  \"classifier_dropout\": null,\n",
              "  \"gradient_checkpointing\": false,\n",
              "  \"hidden_act\": \"gelu\",\n",
              "  \"hidden_dropout_prob\": 0.1,\n",
              "  \"hidden_size\": 768,\n",
              "  \"initializer_range\": 0.02,\n",
              "  \"intermediate_size\": 3072,\n",
              "  \"layer_norm_eps\": 1e-12,\n",
              "  \"max_position_embeddings\": 512,\n",
              "  \"model_type\": \"bert\",\n",
              "  \"num_attention_heads\": 12,\n",
              "  \"num_hidden_layers\": 12,\n",
              "  \"pad_token_id\": 0,\n",
              "  \"position_embedding_type\": \"absolute\",\n",
              "  \"transformers_version\": \"4.17.0\",\n",
              "  \"type_vocab_size\": 2,\n",
              "  \"use_cache\": true,\n",
              "  \"vocab_size\": 30522\n",
              "}"
            ]
          },
          "metadata": {},
          "execution_count": 34
        }
      ]
    },
    {
      "cell_type": "markdown",
      "source": [
        "#BERT Uncased Configuration Combo 1, with CNN model on top"
      ],
      "metadata": {
        "id": "gsKxWorr17QH"
      }
    },
    {
      "cell_type": "code",
      "source": [
        "def create_bert_classification_model(bert_model, num_train_layers=0, num_classes=3, num_filters=100, kernel_sizes=[3, 4, 5], hidden_size=768, dropout=0.2, attention_probs_dropout_prob=0.1, hidden_dropout_prob=0.1, learning_rate=0.00005):\n",
        "    \"\"\"\n",
        "    Build a classification model with BERT and a CNN layer.\n",
        "    \"\"\"\n",
        "\n",
        "    # ... (rest of the code for freezing/unfreezing layers is the same)\n",
        "\n",
        "    input_ids = tf.keras.layers.Input(shape=(MAX_SEQUENCE_LENGTH,), dtype=tf.int64, name='input_ids_layer')\n",
        "    token_type_ids = tf.keras.layers.Input(shape=(MAX_SEQUENCE_LENGTH,), dtype=tf.int64, name='token_type_ids_layer')\n",
        "    attention_mask = tf.keras.layers.Input(shape=(MAX_SEQUENCE_LENGTH,), dtype=tf.int64, name='attention_mask_layer')\n",
        "\n",
        "    bert_inputs = {'input_ids': input_ids, 'token_type_ids': token_type_ids, 'attention_mask': attention_mask}\n",
        "    bert_out = bert_model(bert_inputs)\n",
        "\n",
        "    # Use the last hidden state (contextualized embeddings)\n",
        "    sequence_output = bert_out[0]\n",
        "\n",
        "    # CNN layers\n",
        "    conv_layers = []\n",
        "    for kernel_size in kernel_sizes:\n",
        "        conv = tf.keras.layers.Conv1D(filters=num_filters, kernel_size=kernel_size, activation='relu')(sequence_output)\n",
        "        pooled = tf.keras.layers.GlobalMaxPooling1D()(conv)\n",
        "        conv_layers.append(pooled)\n",
        "\n",
        "    # Combine CNN outputs\n",
        "    combined = tf.keras.layers.concatenate(conv_layers)\n",
        "\n",
        "    # Dropout and fully connected layer\n",
        "    hidden_1 = tf.keras.layers.Dense(hidden_size, activation='relu', name='hidden_layer_1')(combined)\n",
        "    hidden_1 = tf.keras.layers.Dropout(dropout)(hidden_1)\n",
        "    classification = tf.keras.layers.Dense(num_classes, activation='softmax', name='classification_layer')(hidden_1)\n",
        "\n",
        "    classification_model = tf.keras.Model(inputs=[input_ids, token_type_ids, attention_mask], outputs=[classification])\n",
        "    classification_model.compile(optimizer=tf.keras.optimizers.Adam(learning_rate=learning_rate),\n",
        "                                 loss=tf.keras.losses.SparseCategoricalCrossentropy(from_logits=False),\n",
        "                                 metrics='accuracy')\n",
        "    return classification_model"
      ],
      "metadata": {
        "id": "Qfxei6LB-SYx"
      },
      "execution_count": null,
      "outputs": []
    },
    {
      "cell_type": "code",
      "source": [
        "#let's get a fresh instance of the bert_model -- good practice\n",
        "bert_model = TFBertModel.from_pretrained('bert-base-uncased')\n",
        "bert_classification_model = create_bert_classification_model(bert_model, num_train_layers=12)"
      ],
      "metadata": {
        "id": "P4doyzf15rJT"
      },
      "execution_count": null,
      "outputs": []
    },
    {
      "cell_type": "code",
      "source": [
        "#confirm all layers are frozen\n",
        "bert_classification_model.summary()"
      ],
      "metadata": {
        "colab": {
          "base_uri": "https://localhost:8080/"
        },
        "id": "-dy-ypDH6cb-",
        "outputId": "f3468db7-7216-4e46-8255-0ef28926d049"
      },
      "execution_count": null,
      "outputs": [
        {
          "output_type": "stream",
          "name": "stdout",
          "text": [
            "Model: \"model_3\"\n",
            "__________________________________________________________________________________________________\n",
            " Layer (type)                Output Shape                 Param #   Connected to                  \n",
            "==================================================================================================\n",
            " attention_mask_layer (Inpu  [(None, 512)]                0         []                            \n",
            " tLayer)                                                                                          \n",
            "                                                                                                  \n",
            " input_ids_layer (InputLaye  [(None, 512)]                0         []                            \n",
            " r)                                                                                               \n",
            "                                                                                                  \n",
            " token_type_ids_layer (Inpu  [(None, 512)]                0         []                            \n",
            " tLayer)                                                                                          \n",
            "                                                                                                  \n",
            " tf_bert_model_5 (TFBertMod  TFBaseModelOutputWithPooli   1094822   ['attention_mask_layer[0][0]',\n",
            " el)                         ngAndCrossAttentions(last_   40         'input_ids_layer[0][0]',     \n",
            "                             hidden_state=(None, 512, 7              'token_type_ids_layer[0][0]']\n",
            "                             68),                                                                 \n",
            "                              pooler_output=(None, 768)                                           \n",
            "                             , past_key_values=None, hi                                           \n",
            "                             dden_states=None, attentio                                           \n",
            "                             ns=None, cross_attentions=                                           \n",
            "                             None)                                                                \n",
            "                                                                                                  \n",
            " hidden_layer_1 (Dense)      (None, 768)                  590592    ['tf_bert_model_5[0][1]']     \n",
            "                                                                                                  \n",
            " dropout_228 (Dropout)       (None, 768)                  0         ['hidden_layer_1[0][0]']      \n",
            "                                                                                                  \n",
            " classification_layer (Dens  (None, 3)                    2307      ['dropout_228[0][0]']         \n",
            " e)                                                                                               \n",
            "                                                                                                  \n",
            "==================================================================================================\n",
            "Total params: 110075139 (419.90 MB)\n",
            "Trainable params: 110075139 (419.90 MB)\n",
            "Non-trainable params: 0 (0.00 Byte)\n",
            "__________________________________________________________________________________________________\n"
          ]
        }
      ]
    },
    {
      "cell_type": "code",
      "source": [
        "keras.utils.plot_model(bert_classification_model, show_shapes=True, dpi=90)"
      ],
      "metadata": {
        "colab": {
          "base_uri": "https://localhost:8080/",
          "height": 522
        },
        "id": "dAsKlqf46fiu",
        "outputId": "a444dc87-e2cf-4a01-8027-d9734f206fd8"
      },
      "execution_count": null,
      "outputs": [
        {
          "output_type": "execute_result",
          "data": {
            "image/png": "[encoded data removed]",
            "text/plain": [
              "<IPython.core.display.Image object>"
            ]
          },
          "metadata": {},
          "execution_count": 46
        }
      ]
    },
    {
      "cell_type": "code",
      "source": [
        "bert_classification_model_history = bert_classification_model.fit(\n",
        "    [x_train.input_ids, x_train.token_type_ids, x_train.attention_mask],\n",
        "    y_train,\n",
        "    validation_data=([x_validate.input_ids, x_validate.token_type_ids, x_validate.attention_mask], y_validate),\n",
        "    batch_size=32,\n",
        "    epochs=5\n",
        ")"
      ],
      "metadata": {
        "colab": {
          "base_uri": "https://localhost:8080/"
        },
        "id": "HWvj_hjF6CGR",
        "outputId": "28f397f6-e370-41a9-c429-e515b2d9e94f"
      },
      "execution_count": null,
      "outputs": [
        {
          "output_type": "stream",
          "name": "stdout",
          "text": [
            "Epoch 1/5\n",
            "73/73 [==============================] - 104s 867ms/step - loss: 1.0501 - accuracy: 0.4473 - val_loss: 0.9847 - val_accuracy: 0.5000\n",
            "Epoch 2/5\n",
            "73/73 [==============================] - 60s 823ms/step - loss: 1.0049 - accuracy: 0.4814 - val_loss: 0.9152 - val_accuracy: 0.5450\n",
            "Epoch 3/5\n",
            "73/73 [==============================] - 60s 824ms/step - loss: 0.7679 - accuracy: 0.6400 - val_loss: 0.5953 - val_accuracy: 0.7700\n",
            "Epoch 4/5\n",
            "73/73 [==============================] - 60s 825ms/step - loss: 0.5163 - accuracy: 0.7787 - val_loss: 0.5685 - val_accuracy: 0.7700\n",
            "Epoch 5/5\n",
            "73/73 [==============================] - 60s 824ms/step - loss: 0.4242 - accuracy: 0.8328 - val_loss: 0.5217 - val_accuracy: 0.8000\n"
          ]
        }
      ]
    },
    {
      "cell_type": "code",
      "source": [
        "#eval b=8 e=1 dim=201\n",
        "score = bert_classification_model.evaluate([x_test.input_ids, x_test.token_type_ids, x_test.attention_mask],\n",
        "                                                  y_test)\n",
        "\n",
        "print('Test loss:', score[0])\n",
        "print('Test accuracy:', score[1])"
      ],
      "metadata": {
        "colab": {
          "base_uri": "https://localhost:8080/"
        },
        "id": "UZmQ1ZS69BD9",
        "outputId": "102d9327-3b04-4f13-d103-b43dfc9d366e"
      },
      "execution_count": null,
      "outputs": [
        {
          "output_type": "stream",
          "name": "stdout",
          "text": [
            "12/12 [==============================] - 3s 262ms/step - loss: 0.5972 - accuracy: 0.7863\n",
            "Test loss: 0.5972096920013428\n",
            "Test accuracy: 0.7862796783447266\n"
          ]
        }
      ]
    },
    {
      "cell_type": "code",
      "source": [
        "predictions_model= bert_classification_model.predict([x_test.input_ids, x_test.token_type_ids, x_test.attention_mask])\n",
        "predictions_model = tf.argmax(predictions_model, axis=-1)\n",
        "predictions_model"
      ],
      "metadata": {
        "colab": {
          "base_uri": "https://localhost:8080/"
        },
        "id": "-d-4N0F99apO",
        "outputId": "aa46430a-a918-4ad8-cfa5-19a926f4d056"
      },
      "execution_count": null,
      "outputs": [
        {
          "output_type": "stream",
          "name": "stdout",
          "text": [
            "12/12 [==============================] - 6s 260ms/step\n"
          ]
        },
        {
          "output_type": "execute_result",
          "data": {
            "text/plain": [
              "<tf.Tensor: shape=(379,), dtype=int64, numpy=\n",
              "array([2, 1, 2, 2, 0, 2, 0, 0, 1, 2, 2, 2, 2, 2, 0, 0, 2, 1, 2, 0, 2, 0,\n",
              "       1, 2, 0, 0, 0, 1, 1, 1, 0, 0, 2, 0, 0, 1, 2, 0, 2, 0, 2, 2, 1, 0,\n",
              "       1, 0, 0, 2, 2, 0, 2, 1, 0, 2, 0, 0, 0, 0, 0, 0, 0, 1, 0, 1, 2, 2,\n",
              "       1, 2, 0, 0, 1, 0, 1, 1, 1, 2, 0, 0, 1, 1, 0, 0, 1, 0, 2, 0, 0, 0,\n",
              "       2, 0, 2, 0, 0, 1, 0, 2, 1, 2, 0, 0, 0, 2, 1, 0, 1, 2, 2, 2, 1, 1,\n",
              "       1, 2, 1, 1, 0, 1, 1, 2, 1, 2, 2, 0, 0, 1, 0, 2, 2, 2, 1, 2, 1, 1,\n",
              "       0, 1, 2, 1, 2, 0, 0, 2, 2, 1, 1, 2, 2, 0, 0, 2, 1, 1, 0, 0, 1, 1,\n",
              "       2, 0, 0, 2, 0, 2, 0, 0, 1, 0, 0, 1, 2, 2, 0, 0, 1, 2, 1, 2, 0, 0,\n",
              "       2, 1, 0, 2, 0, 2, 0, 2, 2, 0, 0, 2, 0, 2, 0, 1, 2, 2, 0, 0, 2, 2,\n",
              "       1, 2, 0, 0, 0, 2, 1, 2, 0, 0, 0, 2, 1, 2, 2, 1, 1, 1, 1, 0, 2, 0,\n",
              "       2, 0, 0, 2, 1, 0, 2, 0, 0, 1, 2, 0, 0, 0, 0, 1, 0, 0, 1, 1, 0, 1,\n",
              "       1, 1, 0, 1, 2, 0, 0, 2, 2, 1, 2, 1, 1, 1, 0, 1, 0, 0, 1, 1, 2, 1,\n",
              "       2, 2, 0, 0, 0, 2, 0, 1, 1, 0, 2, 2, 0, 2, 0, 2, 0, 0, 0, 2, 2, 2,\n",
              "       2, 0, 0, 1, 0, 0, 0, 0, 2, 0, 0, 1, 2, 1, 2, 0, 0, 1, 2, 1, 2, 0,\n",
              "       2, 1, 2, 1, 2, 2, 0, 0, 1, 2, 0, 1, 1, 0, 1, 0, 0, 1, 0, 0, 2, 1,\n",
              "       1, 0, 0, 0, 1, 0, 1, 0, 2, 2, 0, 2, 2, 2, 0, 2, 0, 2, 1, 0, 2, 1,\n",
              "       1, 0, 2, 0, 0, 0, 1, 0, 1, 1, 2, 0, 2, 2, 1, 1, 0, 0, 0, 0, 1, 0,\n",
              "       1, 0, 1, 2, 1])>"
            ]
          },
          "metadata": {},
          "execution_count": 49
        }
      ]
    },
    {
      "cell_type": "code",
      "source": [
        "print(classification_report(y_test, predictions_model.numpy()))"
      ],
      "metadata": {
        "colab": {
          "base_uri": "https://localhost:8080/"
        },
        "id": "nP_B6GDR9oeK",
        "outputId": "02f2382a-fac8-46a5-df13-afecde090dee"
      },
      "execution_count": null,
      "outputs": [
        {
          "output_type": "stream",
          "name": "stdout",
          "text": [
            "              precision    recall  f1-score   support\n",
            "\n",
            "           0       0.89      0.79      0.84       174\n",
            "           1       0.69      0.82      0.75        88\n",
            "           2       0.74      0.75      0.75       117\n",
            "\n",
            "    accuracy                           0.79       379\n",
            "   macro avg       0.77      0.79      0.78       379\n",
            "weighted avg       0.80      0.79      0.79       379\n",
            "\n"
          ]
        }
      ]
    },
    {
      "cell_type": "code",
      "source": [
        "cm = tf.math.confusion_matrix(y_test, predictions_model)\n",
        "cm = cm/cm.numpy().sum(axis=1)[:, tf.newaxis]"
      ],
      "metadata": {
        "id": "qdv27kz39yqB"
      },
      "execution_count": null,
      "outputs": []
    },
    {
      "cell_type": "code",
      "source": [
        "# import seaborn as sns\n",
        "# plt.figure(figsize=(20,7))\n",
        "# sns.heatmap(\n",
        "#     cm, annot=True,\n",
        "#     xticklabels=target_names,\n",
        "#     yticklabels=target_names)\n",
        "# plt.xlabel(\"Predicted\")\n",
        "# plt.ylabel(\"True\")"
      ],
      "metadata": {
        "id": "EuLHf0kn-aOh"
      },
      "execution_count": null,
      "outputs": []
    }
  ]
}