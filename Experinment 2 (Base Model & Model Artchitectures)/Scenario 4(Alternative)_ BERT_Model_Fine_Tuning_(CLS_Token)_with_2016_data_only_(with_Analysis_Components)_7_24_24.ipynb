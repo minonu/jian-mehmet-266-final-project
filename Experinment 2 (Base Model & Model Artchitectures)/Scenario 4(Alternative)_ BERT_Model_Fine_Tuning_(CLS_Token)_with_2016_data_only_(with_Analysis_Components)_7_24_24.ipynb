{
  "nbformat": 4,
  "nbformat_minor": 0,
  "metadata": {
    "colab": {
      "provenance": [],
      "machine_shape": "hm",
      "gpuType": "L4"
    },
    "kernelspec": {
      "name": "python3",
      "display_name": "Python 3"
    },
    "language_info": {
      "name": "python"
    },
    "accelerator": "GPU",
    "widgets": {
      "application/vnd.jupyter.widget-state+json": {
        "27c21dff8b084a259e036dcec79ef4bd": {
          "model_module": "@jupyter-widgets/controls",
          "model_name": "HBoxModel",
          "model_module_version": "1.5.0",
          "state": {
            "_dom_classes": [],
            "_model_module": "@jupyter-widgets/controls",
            "_model_module_version": "1.5.0",
            "_model_name": "HBoxModel",
            "_view_count": null,
            "_view_module": "@jupyter-widgets/controls",
            "_view_module_version": "1.5.0",
            "_view_name": "HBoxView",
            "box_style": "",
            "children": [
              "IPY_MODEL_234d3457ccee48cdb097ac474ffce41c",
              "IPY_MODEL_cb4f09229754499cae1dc88492014a32",
              "IPY_MODEL_05348bcf49fd4cf8a4a8bf455b09911b"
            ],
            "layout": "IPY_MODEL_7731e742c15d4dd2bae7eb540c9286a6"
          }
        },
        "234d3457ccee48cdb097ac474ffce41c": {
          "model_module": "@jupyter-widgets/controls",
          "model_name": "HTMLModel",
          "model_module_version": "1.5.0",
          "state": {
            "_dom_classes": [],
            "_model_module": "@jupyter-widgets/controls",
            "_model_module_version": "1.5.0",
            "_model_name": "HTMLModel",
            "_view_count": null,
            "_view_module": "@jupyter-widgets/controls",
            "_view_module_version": "1.5.0",
            "_view_name": "HTMLView",
            "description": "",
            "description_tooltip": null,
            "layout": "IPY_MODEL_5eb3bf2f510b498987ff0034133c3178",
            "placeholder": "​",
            "style": "IPY_MODEL_2e373c4d33074856960ef2f4b0e7d640",
            "value": "Downloading: 100%"
          }
        },
        "cb4f09229754499cae1dc88492014a32": {
          "model_module": "@jupyter-widgets/controls",
          "model_name": "FloatProgressModel",
          "model_module_version": "1.5.0",
          "state": {
            "_dom_classes": [],
            "_model_module": "@jupyter-widgets/controls",
            "_model_module_version": "1.5.0",
            "_model_name": "FloatProgressModel",
            "_view_count": null,
            "_view_module": "@jupyter-widgets/controls",
            "_view_module_version": "1.5.0",
            "_view_name": "ProgressView",
            "bar_style": "success",
            "description": "",
            "description_tooltip": null,
            "layout": "IPY_MODEL_e22ee2c0ec864825b5192e671aa05344",
            "max": 231508,
            "min": 0,
            "orientation": "horizontal",
            "style": "IPY_MODEL_151bb2535f094f17a7f98309c854b504",
            "value": 231508
          }
        },
        "05348bcf49fd4cf8a4a8bf455b09911b": {
          "model_module": "@jupyter-widgets/controls",
          "model_name": "HTMLModel",
          "model_module_version": "1.5.0",
          "state": {
            "_dom_classes": [],
            "_model_module": "@jupyter-widgets/controls",
            "_model_module_version": "1.5.0",
            "_model_name": "HTMLModel",
            "_view_count": null,
            "_view_module": "@jupyter-widgets/controls",
            "_view_module_version": "1.5.0",
            "_view_name": "HTMLView",
            "description": "",
            "description_tooltip": null,
            "layout": "IPY_MODEL_565631ea5f5043ab9ed1810908c3debf",
            "placeholder": "​",
            "style": "IPY_MODEL_5d051929cf1e4a21a6ac020c8d3b73cd",
            "value": " 226k/226k [00:00&lt;00:00, 11.6MB/s]"
          }
        },
        "7731e742c15d4dd2bae7eb540c9286a6": {
          "model_module": "@jupyter-widgets/base",
          "model_name": "LayoutModel",
          "model_module_version": "1.2.0",
          "state": {
            "_model_module": "@jupyter-widgets/base",
            "_model_module_version": "1.2.0",
            "_model_name": "LayoutModel",
            "_view_count": null,
            "_view_module": "@jupyter-widgets/base",
            "_view_module_version": "1.2.0",
            "_view_name": "LayoutView",
            "align_content": null,
            "align_items": null,
            "align_self": null,
            "border": null,
            "bottom": null,
            "display": null,
            "flex": null,
            "flex_flow": null,
            "grid_area": null,
            "grid_auto_columns": null,
            "grid_auto_flow": null,
            "grid_auto_rows": null,
            "grid_column": null,
            "grid_gap": null,
            "grid_row": null,
            "grid_template_areas": null,
            "grid_template_columns": null,
            "grid_template_rows": null,
            "height": null,
            "justify_content": null,
            "justify_items": null,
            "left": null,
            "margin": null,
            "max_height": null,
            "max_width": null,
            "min_height": null,
            "min_width": null,
            "object_fit": null,
            "object_position": null,
            "order": null,
            "overflow": null,
            "overflow_x": null,
            "overflow_y": null,
            "padding": null,
            "right": null,
            "top": null,
            "visibility": null,
            "width": null
          }
        },
        "5eb3bf2f510b498987ff0034133c3178": {
          "model_module": "@jupyter-widgets/base",
          "model_name": "LayoutModel",
          "model_module_version": "1.2.0",
          "state": {
            "_model_module": "@jupyter-widgets/base",
            "_model_module_version": "1.2.0",
            "_model_name": "LayoutModel",
            "_view_count": null,
            "_view_module": "@jupyter-widgets/base",
            "_view_module_version": "1.2.0",
            "_view_name": "LayoutView",
            "align_content": null,
            "align_items": null,
            "align_self": null,
            "border": null,
            "bottom": null,
            "display": null,
            "flex": null,
            "flex_flow": null,
            "grid_area": null,
            "grid_auto_columns": null,
            "grid_auto_flow": null,
            "grid_auto_rows": null,
            "grid_column": null,
            "grid_gap": null,
            "grid_row": null,
            "grid_template_areas": null,
            "grid_template_columns": null,
            "grid_template_rows": null,
            "height": null,
            "justify_content": null,
            "justify_items": null,
            "left": null,
            "margin": null,
            "max_height": null,
            "max_width": null,
            "min_height": null,
            "min_width": null,
            "object_fit": null,
            "object_position": null,
            "order": null,
            "overflow": null,
            "overflow_x": null,
            "overflow_y": null,
            "padding": null,
            "right": null,
            "top": null,
            "visibility": null,
            "width": null
          }
        },
        "2e373c4d33074856960ef2f4b0e7d640": {
          "model_module": "@jupyter-widgets/controls",
          "model_name": "DescriptionStyleModel",
          "model_module_version": "1.5.0",
          "state": {
            "_model_module": "@jupyter-widgets/controls",
            "_model_module_version": "1.5.0",
            "_model_name": "DescriptionStyleModel",
            "_view_count": null,
            "_view_module": "@jupyter-widgets/base",
            "_view_module_version": "1.2.0",
            "_view_name": "StyleView",
            "description_width": ""
          }
        },
        "e22ee2c0ec864825b5192e671aa05344": {
          "model_module": "@jupyter-widgets/base",
          "model_name": "LayoutModel",
          "model_module_version": "1.2.0",
          "state": {
            "_model_module": "@jupyter-widgets/base",
            "_model_module_version": "1.2.0",
            "_model_name": "LayoutModel",
            "_view_count": null,
            "_view_module": "@jupyter-widgets/base",
            "_view_module_version": "1.2.0",
            "_view_name": "LayoutView",
            "align_content": null,
            "align_items": null,
            "align_self": null,
            "border": null,
            "bottom": null,
            "display": null,
            "flex": null,
            "flex_flow": null,
            "grid_area": null,
            "grid_auto_columns": null,
            "grid_auto_flow": null,
            "grid_auto_rows": null,
            "grid_column": null,
            "grid_gap": null,
            "grid_row": null,
            "grid_template_areas": null,
            "grid_template_columns": null,
            "grid_template_rows": null,
            "height": null,
            "justify_content": null,
            "justify_items": null,
            "left": null,
            "margin": null,
            "max_height": null,
            "max_width": null,
            "min_height": null,
            "min_width": null,
            "object_fit": null,
            "object_position": null,
            "order": null,
            "overflow": null,
            "overflow_x": null,
            "overflow_y": null,
            "padding": null,
            "right": null,
            "top": null,
            "visibility": null,
            "width": null
          }
        },
        "151bb2535f094f17a7f98309c854b504": {
          "model_module": "@jupyter-widgets/controls",
          "model_name": "ProgressStyleModel",
          "model_module_version": "1.5.0",
          "state": {
            "_model_module": "@jupyter-widgets/controls",
            "_model_module_version": "1.5.0",
            "_model_name": "ProgressStyleModel",
            "_view_count": null,
            "_view_module": "@jupyter-widgets/base",
            "_view_module_version": "1.2.0",
            "_view_name": "StyleView",
            "bar_color": null,
            "description_width": ""
          }
        },
        "565631ea5f5043ab9ed1810908c3debf": {
          "model_module": "@jupyter-widgets/base",
          "model_name": "LayoutModel",
          "model_module_version": "1.2.0",
          "state": {
            "_model_module": "@jupyter-widgets/base",
            "_model_module_version": "1.2.0",
            "_model_name": "LayoutModel",
            "_view_count": null,
            "_view_module": "@jupyter-widgets/base",
            "_view_module_version": "1.2.0",
            "_view_name": "LayoutView",
            "align_content": null,
            "align_items": null,
            "align_self": null,
            "border": null,
            "bottom": null,
            "display": null,
            "flex": null,
            "flex_flow": null,
            "grid_area": null,
            "grid_auto_columns": null,
            "grid_auto_flow": null,
            "grid_auto_rows": null,
            "grid_column": null,
            "grid_gap": null,
            "grid_row": null,
            "grid_template_areas": null,
            "grid_template_columns": null,
            "grid_template_rows": null,
            "height": null,
            "justify_content": null,
            "justify_items": null,
            "left": null,
            "margin": null,
            "max_height": null,
            "max_width": null,
            "min_height": null,
            "min_width": null,
            "object_fit": null,
            "object_position": null,
            "order": null,
            "overflow": null,
            "overflow_x": null,
            "overflow_y": null,
            "padding": null,
            "right": null,
            "top": null,
            "visibility": null,
            "width": null
          }
        },
        "5d051929cf1e4a21a6ac020c8d3b73cd": {
          "model_module": "@jupyter-widgets/controls",
          "model_name": "DescriptionStyleModel",
          "model_module_version": "1.5.0",
          "state": {
            "_model_module": "@jupyter-widgets/controls",
            "_model_module_version": "1.5.0",
            "_model_name": "DescriptionStyleModel",
            "_view_count": null,
            "_view_module": "@jupyter-widgets/base",
            "_view_module_version": "1.2.0",
            "_view_name": "StyleView",
            "description_width": ""
          }
        },
        "79ee0f19d5524092a8a5c43a79febea0": {
          "model_module": "@jupyter-widgets/controls",
          "model_name": "HBoxModel",
          "model_module_version": "1.5.0",
          "state": {
            "_dom_classes": [],
            "_model_module": "@jupyter-widgets/controls",
            "_model_module_version": "1.5.0",
            "_model_name": "HBoxModel",
            "_view_count": null,
            "_view_module": "@jupyter-widgets/controls",
            "_view_module_version": "1.5.0",
            "_view_name": "HBoxView",
            "box_style": "",
            "children": [
              "IPY_MODEL_14f156ca496a48158f5401642baee701",
              "IPY_MODEL_c611c866a70246868553af44739697d7",
              "IPY_MODEL_c949ca035a8b4e89a82eeff14c6c0c19"
            ],
            "layout": "IPY_MODEL_162172a9670d47c395afd245600626ea"
          }
        },
        "14f156ca496a48158f5401642baee701": {
          "model_module": "@jupyter-widgets/controls",
          "model_name": "HTMLModel",
          "model_module_version": "1.5.0",
          "state": {
            "_dom_classes": [],
            "_model_module": "@jupyter-widgets/controls",
            "_model_module_version": "1.5.0",
            "_model_name": "HTMLModel",
            "_view_count": null,
            "_view_module": "@jupyter-widgets/controls",
            "_view_module_version": "1.5.0",
            "_view_name": "HTMLView",
            "description": "",
            "description_tooltip": null,
            "layout": "IPY_MODEL_618477e593294766abe47dc52244f71f",
            "placeholder": "​",
            "style": "IPY_MODEL_ac4995975b584581a0fe070742282bd3",
            "value": "Downloading: 100%"
          }
        },
        "c611c866a70246868553af44739697d7": {
          "model_module": "@jupyter-widgets/controls",
          "model_name": "FloatProgressModel",
          "model_module_version": "1.5.0",
          "state": {
            "_dom_classes": [],
            "_model_module": "@jupyter-widgets/controls",
            "_model_module_version": "1.5.0",
            "_model_name": "FloatProgressModel",
            "_view_count": null,
            "_view_module": "@jupyter-widgets/controls",
            "_view_module_version": "1.5.0",
            "_view_name": "ProgressView",
            "bar_style": "success",
            "description": "",
            "description_tooltip": null,
            "layout": "IPY_MODEL_25dd2b049523439e938d6c9b653c423f",
            "max": 48,
            "min": 0,
            "orientation": "horizontal",
            "style": "IPY_MODEL_80e75abdf5884df6909eadd56eefbe72",
            "value": 48
          }
        },
        "c949ca035a8b4e89a82eeff14c6c0c19": {
          "model_module": "@jupyter-widgets/controls",
          "model_name": "HTMLModel",
          "model_module_version": "1.5.0",
          "state": {
            "_dom_classes": [],
            "_model_module": "@jupyter-widgets/controls",
            "_model_module_version": "1.5.0",
            "_model_name": "HTMLModel",
            "_view_count": null,
            "_view_module": "@jupyter-widgets/controls",
            "_view_module_version": "1.5.0",
            "_view_name": "HTMLView",
            "description": "",
            "description_tooltip": null,
            "layout": "IPY_MODEL_7e7aabe5e4f44b5aaaf1acfd26afe090",
            "placeholder": "​",
            "style": "IPY_MODEL_4e366121c5df454cbe0aa821e4703d68",
            "value": " 48.0/48.0 [00:00&lt;00:00, 3.80kB/s]"
          }
        },
        "162172a9670d47c395afd245600626ea": {
          "model_module": "@jupyter-widgets/base",
          "model_name": "LayoutModel",
          "model_module_version": "1.2.0",
          "state": {
            "_model_module": "@jupyter-widgets/base",
            "_model_module_version": "1.2.0",
            "_model_name": "LayoutModel",
            "_view_count": null,
            "_view_module": "@jupyter-widgets/base",
            "_view_module_version": "1.2.0",
            "_view_name": "LayoutView",
            "align_content": null,
            "align_items": null,
            "align_self": null,
            "border": null,
            "bottom": null,
            "display": null,
            "flex": null,
            "flex_flow": null,
            "grid_area": null,
            "grid_auto_columns": null,
            "grid_auto_flow": null,
            "grid_auto_rows": null,
            "grid_column": null,
            "grid_gap": null,
            "grid_row": null,
            "grid_template_areas": null,
            "grid_template_columns": null,
            "grid_template_rows": null,
            "height": null,
            "justify_content": null,
            "justify_items": null,
            "left": null,
            "margin": null,
            "max_height": null,
            "max_width": null,
            "min_height": null,
            "min_width": null,
            "object_fit": null,
            "object_position": null,
            "order": null,
            "overflow": null,
            "overflow_x": null,
            "overflow_y": null,
            "padding": null,
            "right": null,
            "top": null,
            "visibility": null,
            "width": null
          }
        },
        "618477e593294766abe47dc52244f71f": {
          "model_module": "@jupyter-widgets/base",
          "model_name": "LayoutModel",
          "model_module_version": "1.2.0",
          "state": {
            "_model_module": "@jupyter-widgets/base",
            "_model_module_version": "1.2.0",
            "_model_name": "LayoutModel",
            "_view_count": null,
            "_view_module": "@jupyter-widgets/base",
            "_view_module_version": "1.2.0",
            "_view_name": "LayoutView",
            "align_content": null,
            "align_items": null,
            "align_self": null,
            "border": null,
            "bottom": null,
            "display": null,
            "flex": null,
            "flex_flow": null,
            "grid_area": null,
            "grid_auto_columns": null,
            "grid_auto_flow": null,
            "grid_auto_rows": null,
            "grid_column": null,
            "grid_gap": null,
            "grid_row": null,
            "grid_template_areas": null,
            "grid_template_columns": null,
            "grid_template_rows": null,
            "height": null,
            "justify_content": null,
            "justify_items": null,
            "left": null,
            "margin": null,
            "max_height": null,
            "max_width": null,
            "min_height": null,
            "min_width": null,
            "object_fit": null,
            "object_position": null,
            "order": null,
            "overflow": null,
            "overflow_x": null,
            "overflow_y": null,
            "padding": null,
            "right": null,
            "top": null,
            "visibility": null,
            "width": null
          }
        },
        "ac4995975b584581a0fe070742282bd3": {
          "model_module": "@jupyter-widgets/controls",
          "model_name": "DescriptionStyleModel",
          "model_module_version": "1.5.0",
          "state": {
            "_model_module": "@jupyter-widgets/controls",
            "_model_module_version": "1.5.0",
            "_model_name": "DescriptionStyleModel",
            "_view_count": null,
            "_view_module": "@jupyter-widgets/base",
            "_view_module_version": "1.2.0",
            "_view_name": "StyleView",
            "description_width": ""
          }
        },
        "25dd2b049523439e938d6c9b653c423f": {
          "model_module": "@jupyter-widgets/base",
          "model_name": "LayoutModel",
          "model_module_version": "1.2.0",
          "state": {
            "_model_module": "@jupyter-widgets/base",
            "_model_module_version": "1.2.0",
            "_model_name": "LayoutModel",
            "_view_count": null,
            "_view_module": "@jupyter-widgets/base",
            "_view_module_version": "1.2.0",
            "_view_name": "LayoutView",
            "align_content": null,
            "align_items": null,
            "align_self": null,
            "border": null,
            "bottom": null,
            "display": null,
            "flex": null,
            "flex_flow": null,
            "grid_area": null,
            "grid_auto_columns": null,
            "grid_auto_flow": null,
            "grid_auto_rows": null,
            "grid_column": null,
            "grid_gap": null,
            "grid_row": null,
            "grid_template_areas": null,
            "grid_template_columns": null,
            "grid_template_rows": null,
            "height": null,
            "justify_content": null,
            "justify_items": null,
            "left": null,
            "margin": null,
            "max_height": null,
            "max_width": null,
            "min_height": null,
            "min_width": null,
            "object_fit": null,
            "object_position": null,
            "order": null,
            "overflow": null,
            "overflow_x": null,
            "overflow_y": null,
            "padding": null,
            "right": null,
            "top": null,
            "visibility": null,
            "width": null
          }
        },
        "80e75abdf5884df6909eadd56eefbe72": {
          "model_module": "@jupyter-widgets/controls",
          "model_name": "ProgressStyleModel",
          "model_module_version": "1.5.0",
          "state": {
            "_model_module": "@jupyter-widgets/controls",
            "_model_module_version": "1.5.0",
            "_model_name": "ProgressStyleModel",
            "_view_count": null,
            "_view_module": "@jupyter-widgets/base",
            "_view_module_version": "1.2.0",
            "_view_name": "StyleView",
            "bar_color": null,
            "description_width": ""
          }
        },
        "7e7aabe5e4f44b5aaaf1acfd26afe090": {
          "model_module": "@jupyter-widgets/base",
          "model_name": "LayoutModel",
          "model_module_version": "1.2.0",
          "state": {
            "_model_module": "@jupyter-widgets/base",
            "_model_module_version": "1.2.0",
            "_model_name": "LayoutModel",
            "_view_count": null,
            "_view_module": "@jupyter-widgets/base",
            "_view_module_version": "1.2.0",
            "_view_name": "LayoutView",
            "align_content": null,
            "align_items": null,
            "align_self": null,
            "border": null,
            "bottom": null,
            "display": null,
            "flex": null,
            "flex_flow": null,
            "grid_area": null,
            "grid_auto_columns": null,
            "grid_auto_flow": null,
            "grid_auto_rows": null,
            "grid_column": null,
            "grid_gap": null,
            "grid_row": null,
            "grid_template_areas": null,
            "grid_template_columns": null,
            "grid_template_rows": null,
            "height": null,
            "justify_content": null,
            "justify_items": null,
            "left": null,
            "margin": null,
            "max_height": null,
            "max_width": null,
            "min_height": null,
            "min_width": null,
            "object_fit": null,
            "object_position": null,
            "order": null,
            "overflow": null,
            "overflow_x": null,
            "overflow_y": null,
            "padding": null,
            "right": null,
            "top": null,
            "visibility": null,
            "width": null
          }
        },
        "4e366121c5df454cbe0aa821e4703d68": {
          "model_module": "@jupyter-widgets/controls",
          "model_name": "DescriptionStyleModel",
          "model_module_version": "1.5.0",
          "state": {
            "_model_module": "@jupyter-widgets/controls",
            "_model_module_version": "1.5.0",
            "_model_name": "DescriptionStyleModel",
            "_view_count": null,
            "_view_module": "@jupyter-widgets/base",
            "_view_module_version": "1.2.0",
            "_view_name": "StyleView",
            "description_width": ""
          }
        },
        "779f8060819042c9947fe74499aa957e": {
          "model_module": "@jupyter-widgets/controls",
          "model_name": "HBoxModel",
          "model_module_version": "1.5.0",
          "state": {
            "_dom_classes": [],
            "_model_module": "@jupyter-widgets/controls",
            "_model_module_version": "1.5.0",
            "_model_name": "HBoxModel",
            "_view_count": null,
            "_view_module": "@jupyter-widgets/controls",
            "_view_module_version": "1.5.0",
            "_view_name": "HBoxView",
            "box_style": "",
            "children": [
              "IPY_MODEL_5fea7d77bd2a425ea587948b2bc5fde1",
              "IPY_MODEL_5133ed28a1d3471daac63d61974a13c6",
              "IPY_MODEL_497b1a44b9f14afcb954e55f1842a391"
            ],
            "layout": "IPY_MODEL_4276ed7b23e24a2685a53bba9bd35c69"
          }
        },
        "5fea7d77bd2a425ea587948b2bc5fde1": {
          "model_module": "@jupyter-widgets/controls",
          "model_name": "HTMLModel",
          "model_module_version": "1.5.0",
          "state": {
            "_dom_classes": [],
            "_model_module": "@jupyter-widgets/controls",
            "_model_module_version": "1.5.0",
            "_model_name": "HTMLModel",
            "_view_count": null,
            "_view_module": "@jupyter-widgets/controls",
            "_view_module_version": "1.5.0",
            "_view_name": "HTMLView",
            "description": "",
            "description_tooltip": null,
            "layout": "IPY_MODEL_784d1dc9dc154efa98ee1eae35368118",
            "placeholder": "​",
            "style": "IPY_MODEL_e658edfa58ab446099426e0821493f2c",
            "value": "Downloading: 100%"
          }
        },
        "5133ed28a1d3471daac63d61974a13c6": {
          "model_module": "@jupyter-widgets/controls",
          "model_name": "FloatProgressModel",
          "model_module_version": "1.5.0",
          "state": {
            "_dom_classes": [],
            "_model_module": "@jupyter-widgets/controls",
            "_model_module_version": "1.5.0",
            "_model_name": "FloatProgressModel",
            "_view_count": null,
            "_view_module": "@jupyter-widgets/controls",
            "_view_module_version": "1.5.0",
            "_view_name": "ProgressView",
            "bar_style": "success",
            "description": "",
            "description_tooltip": null,
            "layout": "IPY_MODEL_3eb9697edb5646ffa4fce1e20361ad1a",
            "max": 570,
            "min": 0,
            "orientation": "horizontal",
            "style": "IPY_MODEL_aae899ae373940db84648a90c620cae4",
            "value": 570
          }
        },
        "497b1a44b9f14afcb954e55f1842a391": {
          "model_module": "@jupyter-widgets/controls",
          "model_name": "HTMLModel",
          "model_module_version": "1.5.0",
          "state": {
            "_dom_classes": [],
            "_model_module": "@jupyter-widgets/controls",
            "_model_module_version": "1.5.0",
            "_model_name": "HTMLModel",
            "_view_count": null,
            "_view_module": "@jupyter-widgets/controls",
            "_view_module_version": "1.5.0",
            "_view_name": "HTMLView",
            "description": "",
            "description_tooltip": null,
            "layout": "IPY_MODEL_72b7610d3f234bd1a63ce0bd436b2156",
            "placeholder": "​",
            "style": "IPY_MODEL_91b7362e5ab4415991c67c0c9441e8eb",
            "value": " 570/570 [00:00&lt;00:00, 48.0kB/s]"
          }
        },
        "4276ed7b23e24a2685a53bba9bd35c69": {
          "model_module": "@jupyter-widgets/base",
          "model_name": "LayoutModel",
          "model_module_version": "1.2.0",
          "state": {
            "_model_module": "@jupyter-widgets/base",
            "_model_module_version": "1.2.0",
            "_model_name": "LayoutModel",
            "_view_count": null,
            "_view_module": "@jupyter-widgets/base",
            "_view_module_version": "1.2.0",
            "_view_name": "LayoutView",
            "align_content": null,
            "align_items": null,
            "align_self": null,
            "border": null,
            "bottom": null,
            "display": null,
            "flex": null,
            "flex_flow": null,
            "grid_area": null,
            "grid_auto_columns": null,
            "grid_auto_flow": null,
            "grid_auto_rows": null,
            "grid_column": null,
            "grid_gap": null,
            "grid_row": null,
            "grid_template_areas": null,
            "grid_template_columns": null,
            "grid_template_rows": null,
            "height": null,
            "justify_content": null,
            "justify_items": null,
            "left": null,
            "margin": null,
            "max_height": null,
            "max_width": null,
            "min_height": null,
            "min_width": null,
            "object_fit": null,
            "object_position": null,
            "order": null,
            "overflow": null,
            "overflow_x": null,
            "overflow_y": null,
            "padding": null,
            "right": null,
            "top": null,
            "visibility": null,
            "width": null
          }
        },
        "784d1dc9dc154efa98ee1eae35368118": {
          "model_module": "@jupyter-widgets/base",
          "model_name": "LayoutModel",
          "model_module_version": "1.2.0",
          "state": {
            "_model_module": "@jupyter-widgets/base",
            "_model_module_version": "1.2.0",
            "_model_name": "LayoutModel",
            "_view_count": null,
            "_view_module": "@jupyter-widgets/base",
            "_view_module_version": "1.2.0",
            "_view_name": "LayoutView",
            "align_content": null,
            "align_items": null,
            "align_self": null,
            "border": null,
            "bottom": null,
            "display": null,
            "flex": null,
            "flex_flow": null,
            "grid_area": null,
            "grid_auto_columns": null,
            "grid_auto_flow": null,
            "grid_auto_rows": null,
            "grid_column": null,
            "grid_gap": null,
            "grid_row": null,
            "grid_template_areas": null,
            "grid_template_columns": null,
            "grid_template_rows": null,
            "height": null,
            "justify_content": null,
            "justify_items": null,
            "left": null,
            "margin": null,
            "max_height": null,
            "max_width": null,
            "min_height": null,
            "min_width": null,
            "object_fit": null,
            "object_position": null,
            "order": null,
            "overflow": null,
            "overflow_x": null,
            "overflow_y": null,
            "padding": null,
            "right": null,
            "top": null,
            "visibility": null,
            "width": null
          }
        },
        "e658edfa58ab446099426e0821493f2c": {
          "model_module": "@jupyter-widgets/controls",
          "model_name": "DescriptionStyleModel",
          "model_module_version": "1.5.0",
          "state": {
            "_model_module": "@jupyter-widgets/controls",
            "_model_module_version": "1.5.0",
            "_model_name": "DescriptionStyleModel",
            "_view_count": null,
            "_view_module": "@jupyter-widgets/base",
            "_view_module_version": "1.2.0",
            "_view_name": "StyleView",
            "description_width": ""
          }
        },
        "3eb9697edb5646ffa4fce1e20361ad1a": {
          "model_module": "@jupyter-widgets/base",
          "model_name": "LayoutModel",
          "model_module_version": "1.2.0",
          "state": {
            "_model_module": "@jupyter-widgets/base",
            "_model_module_version": "1.2.0",
            "_model_name": "LayoutModel",
            "_view_count": null,
            "_view_module": "@jupyter-widgets/base",
            "_view_module_version": "1.2.0",
            "_view_name": "LayoutView",
            "align_content": null,
            "align_items": null,
            "align_self": null,
            "border": null,
            "bottom": null,
            "display": null,
            "flex": null,
            "flex_flow": null,
            "grid_area": null,
            "grid_auto_columns": null,
            "grid_auto_flow": null,
            "grid_auto_rows": null,
            "grid_column": null,
            "grid_gap": null,
            "grid_row": null,
            "grid_template_areas": null,
            "grid_template_columns": null,
            "grid_template_rows": null,
            "height": null,
            "justify_content": null,
            "justify_items": null,
            "left": null,
            "margin": null,
            "max_height": null,
            "max_width": null,
            "min_height": null,
            "min_width": null,
            "object_fit": null,
            "object_position": null,
            "order": null,
            "overflow": null,
            "overflow_x": null,
            "overflow_y": null,
            "padding": null,
            "right": null,
            "top": null,
            "visibility": null,
            "width": null
          }
        },
        "aae899ae373940db84648a90c620cae4": {
          "model_module": "@jupyter-widgets/controls",
          "model_name": "ProgressStyleModel",
          "model_module_version": "1.5.0",
          "state": {
            "_model_module": "@jupyter-widgets/controls",
            "_model_module_version": "1.5.0",
            "_model_name": "ProgressStyleModel",
            "_view_count": null,
            "_view_module": "@jupyter-widgets/base",
            "_view_module_version": "1.2.0",
            "_view_name": "StyleView",
            "bar_color": null,
            "description_width": ""
          }
        },
        "72b7610d3f234bd1a63ce0bd436b2156": {
          "model_module": "@jupyter-widgets/base",
          "model_name": "LayoutModel",
          "model_module_version": "1.2.0",
          "state": {
            "_model_module": "@jupyter-widgets/base",
            "_model_module_version": "1.2.0",
            "_model_name": "LayoutModel",
            "_view_count": null,
            "_view_module": "@jupyter-widgets/base",
            "_view_module_version": "1.2.0",
            "_view_name": "LayoutView",
            "align_content": null,
            "align_items": null,
            "align_self": null,
            "border": null,
            "bottom": null,
            "display": null,
            "flex": null,
            "flex_flow": null,
            "grid_area": null,
            "grid_auto_columns": null,
            "grid_auto_flow": null,
            "grid_auto_rows": null,
            "grid_column": null,
            "grid_gap": null,
            "grid_row": null,
            "grid_template_areas": null,
            "grid_template_columns": null,
            "grid_template_rows": null,
            "height": null,
            "justify_content": null,
            "justify_items": null,
            "left": null,
            "margin": null,
            "max_height": null,
            "max_width": null,
            "min_height": null,
            "min_width": null,
            "object_fit": null,
            "object_position": null,
            "order": null,
            "overflow": null,
            "overflow_x": null,
            "overflow_y": null,
            "padding": null,
            "right": null,
            "top": null,
            "visibility": null,
            "width": null
          }
        },
        "91b7362e5ab4415991c67c0c9441e8eb": {
          "model_module": "@jupyter-widgets/controls",
          "model_name": "DescriptionStyleModel",
          "model_module_version": "1.5.0",
          "state": {
            "_model_module": "@jupyter-widgets/controls",
            "_model_module_version": "1.5.0",
            "_model_name": "DescriptionStyleModel",
            "_view_count": null,
            "_view_module": "@jupyter-widgets/base",
            "_view_module_version": "1.2.0",
            "_view_name": "StyleView",
            "description_width": ""
          }
        },
        "70dbfd6fc419487b802efb77dcbbd4ea": {
          "model_module": "@jupyter-widgets/controls",
          "model_name": "HBoxModel",
          "model_module_version": "1.5.0",
          "state": {
            "_dom_classes": [],
            "_model_module": "@jupyter-widgets/controls",
            "_model_module_version": "1.5.0",
            "_model_name": "HBoxModel",
            "_view_count": null,
            "_view_module": "@jupyter-widgets/controls",
            "_view_module_version": "1.5.0",
            "_view_name": "HBoxView",
            "box_style": "",
            "children": [
              "IPY_MODEL_c561a87ff1294b568d00f17a8fb6bb91",
              "IPY_MODEL_967b295030884f55ad3967d02788b0cf",
              "IPY_MODEL_d82b337c654f41a79c960abdb7a5f1df"
            ],
            "layout": "IPY_MODEL_6c008c8704e949d2883d38e9394c77d1"
          }
        },
        "c561a87ff1294b568d00f17a8fb6bb91": {
          "model_module": "@jupyter-widgets/controls",
          "model_name": "HTMLModel",
          "model_module_version": "1.5.0",
          "state": {
            "_dom_classes": [],
            "_model_module": "@jupyter-widgets/controls",
            "_model_module_version": "1.5.0",
            "_model_name": "HTMLModel",
            "_view_count": null,
            "_view_module": "@jupyter-widgets/controls",
            "_view_module_version": "1.5.0",
            "_view_name": "HTMLView",
            "description": "",
            "description_tooltip": null,
            "layout": "IPY_MODEL_dd80df16d8934420bbc41fa24cf7b157",
            "placeholder": "​",
            "style": "IPY_MODEL_c8a2dde535eb4fa8a5903c08f831c47c",
            "value": "Downloading: 100%"
          }
        },
        "967b295030884f55ad3967d02788b0cf": {
          "model_module": "@jupyter-widgets/controls",
          "model_name": "FloatProgressModel",
          "model_module_version": "1.5.0",
          "state": {
            "_dom_classes": [],
            "_model_module": "@jupyter-widgets/controls",
            "_model_module_version": "1.5.0",
            "_model_name": "FloatProgressModel",
            "_view_count": null,
            "_view_module": "@jupyter-widgets/controls",
            "_view_module_version": "1.5.0",
            "_view_name": "ProgressView",
            "bar_style": "success",
            "description": "",
            "description_tooltip": null,
            "layout": "IPY_MODEL_06af89749bbd4f33857b7fc8e22eb22f",
            "max": 536063208,
            "min": 0,
            "orientation": "horizontal",
            "style": "IPY_MODEL_b9720910e479487d83381fa8e1160d49",
            "value": 536063208
          }
        },
        "d82b337c654f41a79c960abdb7a5f1df": {
          "model_module": "@jupyter-widgets/controls",
          "model_name": "HTMLModel",
          "model_module_version": "1.5.0",
          "state": {
            "_dom_classes": [],
            "_model_module": "@jupyter-widgets/controls",
            "_model_module_version": "1.5.0",
            "_model_name": "HTMLModel",
            "_view_count": null,
            "_view_module": "@jupyter-widgets/controls",
            "_view_module_version": "1.5.0",
            "_view_name": "HTMLView",
            "description": "",
            "description_tooltip": null,
            "layout": "IPY_MODEL_fa09bf2639554a55bb94590d52590785",
            "placeholder": "​",
            "style": "IPY_MODEL_d5094615eb2045c48e8d571dbef043ad",
            "value": " 511M/511M [00:06&lt;00:00, 86.1MB/s]"
          }
        },
        "6c008c8704e949d2883d38e9394c77d1": {
          "model_module": "@jupyter-widgets/base",
          "model_name": "LayoutModel",
          "model_module_version": "1.2.0",
          "state": {
            "_model_module": "@jupyter-widgets/base",
            "_model_module_version": "1.2.0",
            "_model_name": "LayoutModel",
            "_view_count": null,
            "_view_module": "@jupyter-widgets/base",
            "_view_module_version": "1.2.0",
            "_view_name": "LayoutView",
            "align_content": null,
            "align_items": null,
            "align_self": null,
            "border": null,
            "bottom": null,
            "display": null,
            "flex": null,
            "flex_flow": null,
            "grid_area": null,
            "grid_auto_columns": null,
            "grid_auto_flow": null,
            "grid_auto_rows": null,
            "grid_column": null,
            "grid_gap": null,
            "grid_row": null,
            "grid_template_areas": null,
            "grid_template_columns": null,
            "grid_template_rows": null,
            "height": null,
            "justify_content": null,
            "justify_items": null,
            "left": null,
            "margin": null,
            "max_height": null,
            "max_width": null,
            "min_height": null,
            "min_width": null,
            "object_fit": null,
            "object_position": null,
            "order": null,
            "overflow": null,
            "overflow_x": null,
            "overflow_y": null,
            "padding": null,
            "right": null,
            "top": null,
            "visibility": null,
            "width": null
          }
        },
        "dd80df16d8934420bbc41fa24cf7b157": {
          "model_module": "@jupyter-widgets/base",
          "model_name": "LayoutModel",
          "model_module_version": "1.2.0",
          "state": {
            "_model_module": "@jupyter-widgets/base",
            "_model_module_version": "1.2.0",
            "_model_name": "LayoutModel",
            "_view_count": null,
            "_view_module": "@jupyter-widgets/base",
            "_view_module_version": "1.2.0",
            "_view_name": "LayoutView",
            "align_content": null,
            "align_items": null,
            "align_self": null,
            "border": null,
            "bottom": null,
            "display": null,
            "flex": null,
            "flex_flow": null,
            "grid_area": null,
            "grid_auto_columns": null,
            "grid_auto_flow": null,
            "grid_auto_rows": null,
            "grid_column": null,
            "grid_gap": null,
            "grid_row": null,
            "grid_template_areas": null,
            "grid_template_columns": null,
            "grid_template_rows": null,
            "height": null,
            "justify_content": null,
            "justify_items": null,
            "left": null,
            "margin": null,
            "max_height": null,
            "max_width": null,
            "min_height": null,
            "min_width": null,
            "object_fit": null,
            "object_position": null,
            "order": null,
            "overflow": null,
            "overflow_x": null,
            "overflow_y": null,
            "padding": null,
            "right": null,
            "top": null,
            "visibility": null,
            "width": null
          }
        },
        "c8a2dde535eb4fa8a5903c08f831c47c": {
          "model_module": "@jupyter-widgets/controls",
          "model_name": "DescriptionStyleModel",
          "model_module_version": "1.5.0",
          "state": {
            "_model_module": "@jupyter-widgets/controls",
            "_model_module_version": "1.5.0",
            "_model_name": "DescriptionStyleModel",
            "_view_count": null,
            "_view_module": "@jupyter-widgets/base",
            "_view_module_version": "1.2.0",
            "_view_name": "StyleView",
            "description_width": ""
          }
        },
        "06af89749bbd4f33857b7fc8e22eb22f": {
          "model_module": "@jupyter-widgets/base",
          "model_name": "LayoutModel",
          "model_module_version": "1.2.0",
          "state": {
            "_model_module": "@jupyter-widgets/base",
            "_model_module_version": "1.2.0",
            "_model_name": "LayoutModel",
            "_view_count": null,
            "_view_module": "@jupyter-widgets/base",
            "_view_module_version": "1.2.0",
            "_view_name": "LayoutView",
            "align_content": null,
            "align_items": null,
            "align_self": null,
            "border": null,
            "bottom": null,
            "display": null,
            "flex": null,
            "flex_flow": null,
            "grid_area": null,
            "grid_auto_columns": null,
            "grid_auto_flow": null,
            "grid_auto_rows": null,
            "grid_column": null,
            "grid_gap": null,
            "grid_row": null,
            "grid_template_areas": null,
            "grid_template_columns": null,
            "grid_template_rows": null,
            "height": null,
            "justify_content": null,
            "justify_items": null,
            "left": null,
            "margin": null,
            "max_height": null,
            "max_width": null,
            "min_height": null,
            "min_width": null,
            "object_fit": null,
            "object_position": null,
            "order": null,
            "overflow": null,
            "overflow_x": null,
            "overflow_y": null,
            "padding": null,
            "right": null,
            "top": null,
            "visibility": null,
            "width": null
          }
        },
        "b9720910e479487d83381fa8e1160d49": {
          "model_module": "@jupyter-widgets/controls",
          "model_name": "ProgressStyleModel",
          "model_module_version": "1.5.0",
          "state": {
            "_model_module": "@jupyter-widgets/controls",
            "_model_module_version": "1.5.0",
            "_model_name": "ProgressStyleModel",
            "_view_count": null,
            "_view_module": "@jupyter-widgets/base",
            "_view_module_version": "1.2.0",
            "_view_name": "StyleView",
            "bar_color": null,
            "description_width": ""
          }
        },
        "fa09bf2639554a55bb94590d52590785": {
          "model_module": "@jupyter-widgets/base",
          "model_name": "LayoutModel",
          "model_module_version": "1.2.0",
          "state": {
            "_model_module": "@jupyter-widgets/base",
            "_model_module_version": "1.2.0",
            "_model_name": "LayoutModel",
            "_view_count": null,
            "_view_module": "@jupyter-widgets/base",
            "_view_module_version": "1.2.0",
            "_view_name": "LayoutView",
            "align_content": null,
            "align_items": null,
            "align_self": null,
            "border": null,
            "bottom": null,
            "display": null,
            "flex": null,
            "flex_flow": null,
            "grid_area": null,
            "grid_auto_columns": null,
            "grid_auto_flow": null,
            "grid_auto_rows": null,
            "grid_column": null,
            "grid_gap": null,
            "grid_row": null,
            "grid_template_areas": null,
            "grid_template_columns": null,
            "grid_template_rows": null,
            "height": null,
            "justify_content": null,
            "justify_items": null,
            "left": null,
            "margin": null,
            "max_height": null,
            "max_width": null,
            "min_height": null,
            "min_width": null,
            "object_fit": null,
            "object_position": null,
            "order": null,
            "overflow": null,
            "overflow_x": null,
            "overflow_y": null,
            "padding": null,
            "right": null,
            "top": null,
            "visibility": null,
            "width": null
          }
        },
        "d5094615eb2045c48e8d571dbef043ad": {
          "model_module": "@jupyter-widgets/controls",
          "model_name": "DescriptionStyleModel",
          "model_module_version": "1.5.0",
          "state": {
            "_model_module": "@jupyter-widgets/controls",
            "_model_module_version": "1.5.0",
            "_model_name": "DescriptionStyleModel",
            "_view_count": null,
            "_view_module": "@jupyter-widgets/base",
            "_view_module_version": "1.2.0",
            "_view_name": "StyleView",
            "description_width": ""
          }
        }
      }
    }
  },
  "cells": [
    {
      "cell_type": "code",
      "execution_count": 1,
      "metadata": {
        "id": "4CVDyMAfqUGP"
      },
      "outputs": [],
      "source": [
        "%%capture\n",
        "!pip install tensorflow-datasets==4.8 --quiet\n",
        "!pip install tensorflow==2.15.0 --quiet #15 13\n",
        "!pip install tf_keras==2.15.0 --quiet\n",
        "!pip install tensorflow-text==2.15.0 --quiet #15\n",
        "!pip install pydot --quiet\n",
        "!pip install transformers==4.17 --quiet\n",
        "!pip install -U scikit-learn"
      ]
    },
    {
      "cell_type": "code",
      "source": [
        "#Tensorflow libiries\n",
        "from tensorflow import keras\n",
        "from tensorflow.keras.layers import Embedding, Input, Dense, Lambda\n",
        "from tensorflow.keras.models import Model\n",
        "import tensorflow as tf\n",
        "import tensorflow.keras.backend as K\n",
        "import tensorflow_datasets as tfds\n",
        "\n",
        "#Transformers - BERT from huggingface\n",
        "from transformers import BertTokenizer, TFBertModel\n",
        "from transformers import logging\n",
        "logging.set_verbosity_error()\n",
        "from transformers import AutoConfig\n",
        "from tensorflow.keras.callbacks import EarlyStopping\n",
        "\n",
        "#NLP libiries\n",
        "import sklearn as sk\n",
        "from sklearn.metrics import classification_report\n",
        "import os\n",
        "import nltk\n",
        "from nltk.data import find\n",
        "\n",
        "#data process\n",
        "import re\n",
        "import numpy as np\n",
        "import seaborn as sns\n",
        "import matplotlib.pyplot as plt\n",
        "import multiprocessing\n",
        "import pandas as pd\n",
        "import math\n",
        "from bs4 import BeautifulSoup\n",
        "import os\n",
        "import json\n"
      ],
      "metadata": {
        "id": "8rWTGr5HuknD"
      },
      "execution_count": 2,
      "outputs": []
    },
    {
      "cell_type": "code",
      "source": [
        "#loading the pre-trained tokenizer and model\n",
        "bert_tokenizer = BertTokenizer.from_pretrained('bert-base-uncased')\n",
        "bert_model = TFBertModel.from_pretrained('bert-base-uncased')"
      ],
      "metadata": {
        "colab": {
          "base_uri": "https://localhost:8080/",
          "height": 145,
          "referenced_widgets": [
            "27c21dff8b084a259e036dcec79ef4bd",
            "234d3457ccee48cdb097ac474ffce41c",
            "cb4f09229754499cae1dc88492014a32",
            "05348bcf49fd4cf8a4a8bf455b09911b",
            "7731e742c15d4dd2bae7eb540c9286a6",
            "5eb3bf2f510b498987ff0034133c3178",
            "2e373c4d33074856960ef2f4b0e7d640",
            "e22ee2c0ec864825b5192e671aa05344",
            "151bb2535f094f17a7f98309c854b504",
            "565631ea5f5043ab9ed1810908c3debf",
            "5d051929cf1e4a21a6ac020c8d3b73cd",
            "79ee0f19d5524092a8a5c43a79febea0",
            "14f156ca496a48158f5401642baee701",
            "c611c866a70246868553af44739697d7",
            "c949ca035a8b4e89a82eeff14c6c0c19",
            "162172a9670d47c395afd245600626ea",
            "618477e593294766abe47dc52244f71f",
            "ac4995975b584581a0fe070742282bd3",
            "25dd2b049523439e938d6c9b653c423f",
            "80e75abdf5884df6909eadd56eefbe72",
            "7e7aabe5e4f44b5aaaf1acfd26afe090",
            "4e366121c5df454cbe0aa821e4703d68",
            "779f8060819042c9947fe74499aa957e",
            "5fea7d77bd2a425ea587948b2bc5fde1",
            "5133ed28a1d3471daac63d61974a13c6",
            "497b1a44b9f14afcb954e55f1842a391",
            "4276ed7b23e24a2685a53bba9bd35c69",
            "784d1dc9dc154efa98ee1eae35368118",
            "e658edfa58ab446099426e0821493f2c",
            "3eb9697edb5646ffa4fce1e20361ad1a",
            "aae899ae373940db84648a90c620cae4",
            "72b7610d3f234bd1a63ce0bd436b2156",
            "91b7362e5ab4415991c67c0c9441e8eb",
            "70dbfd6fc419487b802efb77dcbbd4ea",
            "c561a87ff1294b568d00f17a8fb6bb91",
            "967b295030884f55ad3967d02788b0cf",
            "d82b337c654f41a79c960abdb7a5f1df",
            "6c008c8704e949d2883d38e9394c77d1",
            "dd80df16d8934420bbc41fa24cf7b157",
            "c8a2dde535eb4fa8a5903c08f831c47c",
            "06af89749bbd4f33857b7fc8e22eb22f",
            "b9720910e479487d83381fa8e1160d49",
            "fa09bf2639554a55bb94590d52590785",
            "d5094615eb2045c48e8d571dbef043ad"
          ]
        },
        "id": "QyG5dUyAvfHc",
        "outputId": "bc6a1ee2-5008-48eb-8b00-72405738931b"
      },
      "execution_count": 3,
      "outputs": [
        {
          "output_type": "display_data",
          "data": {
            "text/plain": [
              "Downloading:   0%|          | 0.00/226k [00:00<?, ?B/s]"
            ],
            "application/vnd.jupyter.widget-view+json": {
              "version_major": 2,
              "version_minor": 0,
              "model_id": "27c21dff8b084a259e036dcec79ef4bd"
            }
          },
          "metadata": {}
        },
        {
          "output_type": "display_data",
          "data": {
            "text/plain": [
              "Downloading:   0%|          | 0.00/48.0 [00:00<?, ?B/s]"
            ],
            "application/vnd.jupyter.widget-view+json": {
              "version_major": 2,
              "version_minor": 0,
              "model_id": "79ee0f19d5524092a8a5c43a79febea0"
            }
          },
          "metadata": {}
        },
        {
          "output_type": "display_data",
          "data": {
            "text/plain": [
              "Downloading:   0%|          | 0.00/570 [00:00<?, ?B/s]"
            ],
            "application/vnd.jupyter.widget-view+json": {
              "version_major": 2,
              "version_minor": 0,
              "model_id": "779f8060819042c9947fe74499aa957e"
            }
          },
          "metadata": {}
        },
        {
          "output_type": "display_data",
          "data": {
            "text/plain": [
              "Downloading:   0%|          | 0.00/511M [00:00<?, ?B/s]"
            ],
            "application/vnd.jupyter.widget-view+json": {
              "version_major": 2,
              "version_minor": 0,
              "model_id": "70dbfd6fc419487b802efb77dcbbd4ea"
            }
          },
          "metadata": {}
        }
      ]
    },
    {
      "cell_type": "code",
      "source": [
        "#load the dataset\n",
        "full_dataset=pd.read_csv('full_dataset(Revised).csv')\n",
        "\n",
        "test_dataset=pd.read_csv('full_test_data(Revised).csv')"
      ],
      "metadata": {
        "id": "MBnQJ_WWgOTv"
      },
      "execution_count": 4,
      "outputs": []
    },
    {
      "cell_type": "code",
      "source": [
        "#process the df[date]'s format to date time\n",
        "full_dataset['date'] = pd.to_datetime(full_dataset['date'])\n",
        "test_dataset['date'] = pd.to_datetime(test_dataset['date'])\n",
        "\n",
        "#filter the 2016 dataset for training and taking out the 2016 from the test_dataset\n",
        "train_df = full_dataset[full_dataset['date'].dt.year == 2016]\n",
        "test_df = test_dataset[test_dataset['date'].dt.year != 2016]\n",
        "\n",
        "# Adjust pandas display settings to show all rows and columns\n",
        "pd.set_option('display.max_rows', None)  # Show all rows\n",
        "pd.set_option('display.max_columns', None)  # Show all columns\n",
        "pd.set_option('display.max_colwidth', None)  # Show full content of each column\n",
        "pd.set_option('display.width', None)  # Auto-detect width of the display\n",
        "\n",
        "\n"
      ],
      "metadata": {
        "id": "pkqZfuBwwCuR"
      },
      "execution_count": 5,
      "outputs": []
    },
    {
      "cell_type": "code",
      "source": [
        "test_dataset.info()"
      ],
      "metadata": {
        "colab": {
          "base_uri": "https://localhost:8080/"
        },
        "id": "K12qZY7uC6BJ",
        "outputId": "051919a6-5588-4027-8275-9d5acb9d4ebd"
      },
      "execution_count": 6,
      "outputs": [
        {
          "output_type": "stream",
          "name": "stdout",
          "text": [
            "<class 'pandas.core.frame.DataFrame'>\n",
            "RangeIndex: 5029 entries, 0 to 5028\n",
            "Data columns (total 6 columns):\n",
            " #   Column            Non-Null Count  Dtype         \n",
            "---  ------            --------------  -----         \n",
            " 0   title             5029 non-null   object        \n",
            " 1   date              5029 non-null   datetime64[ns]\n",
            " 2   content_original  5029 non-null   object        \n",
            " 3   bias              5029 non-null   int64         \n",
            " 4   bias_text         5029 non-null   object        \n",
            " 5   source            5029 non-null   object        \n",
            "dtypes: datetime64[ns](1), int64(1), object(4)\n",
            "memory usage: 235.9+ KB\n"
          ]
        }
      ]
    },
    {
      "cell_type": "code",
      "source": [
        "train_df.head(1)"
      ],
      "metadata": {
        "colab": {
          "base_uri": "https://localhost:8080/",
          "height": 306
        },
        "id": "j8jNnMPKxMCW",
        "outputId": "8a1fd65c-05d3-4ff2-e69b-88764a6b2bee"
      },
      "execution_count": 7,
      "outputs": [
        {
          "output_type": "execute_result",
          "data": {
            "text/plain": [
              "                                                                     title       date  \\\n",
              "13  rnc chief threatens john kasich, republican won’t support donald trump 2016-09-18   \n",
              "\n",
              "                                                                                                                                                                                                                                                                                                                                                                                                                                                                                                                                                                                                                                                                                                                                                                                                                                                                                                                                                                                                                                                                                                                                                                                                                                                                                                                                                                                                                                                                                                                                                                                                                                                                                                                                                                                                                                                                                                                                                                                                                                                                                                                                                                                                                            content_original  \\\n",
              "13  republican national committee chairman reince priebus sunday threatened ohio gov. john kasich republican refuse support presidential nominee donald trump, saying party may take step ensure it’s easy them” seek white house again. speaking cbs’ face nation,” mr. priebus said every republican ran 2016 need get behind mr. trump. those haven’t — including mr. kasich, former florida gov. jeb bush, texas sen. ted cruz — could see diminished support party moving forward. people agreed support nominee, took part process, used tool rnc. agreed support nominee. took part process. we’re private party, we’re public entity. people need get board,” mr. priebus said. and they’re thinking they’re going run someday, think we’re going evaluate process, nomination process, don’t think it’s going easy them,” said. mr. kasich said it’s unlikely” he’ll vote mr. trump … much water bridge,” ohio governor said interview cnn aired friday. see also: 48% democratic voter say bernie sander replace hillary drop race mr. bush expressed similar sentiments, mr. cruz famously withheld endorsement mr. trump republican national convention instead told republican vote conscience” november. mr. priebus denied threatening mr. kasich, mr. cruz anyone else, yet clearly suggested party would put roadblock front electoral hope anyone hasn’t offered fullthroated endorsement mr. trump. people party talking we’re going … it’s threat. it’s question,” rnc chairman said. private party people come around four eight years?” mr. kasich, former 2016 gop presidential candidate himself, said it’s still important get vote republican like sen. rob portman, running reelection ohio. we want get people vote. want reelect senator portman, want reelect people ticket,” mr. kasich said. i’m voting hillary [clinton].” i’ll let everybody know … think action spoken loudly. louder even words,” said. mr. kasich cleveland republican national convention july, attend convention itself. asked libertarian nominee gary johnson, mr. kasich said: haven’t even gone yet. it’s long way [until] election day.” sign daily newsletter copyright © 2019 washington times, llc. click reprint permission.   \n",
              "\n",
              "    bias bias_text            source  \n",
              "13     2     right  Washington Times  "
            ],
            "text/html": [
              "\n",
              "  <div id=\"df-21b33e16-8abe-4a0c-b4f4-b6c670fe5467\" class=\"colab-df-container\">\n",
              "    <div>\n",
              "<style scoped>\n",
              "    .dataframe tbody tr th:only-of-type {\n",
              "        vertical-align: middle;\n",
              "    }\n",
              "\n",
              "    .dataframe tbody tr th {\n",
              "        vertical-align: top;\n",
              "    }\n",
              "\n",
              "    .dataframe thead th {\n",
              "        text-align: right;\n",
              "    }\n",
              "</style>\n",
              "<table border=\"1\" class=\"dataframe\">\n",
              "  <thead>\n",
              "    <tr style=\"text-align: right;\">\n",
              "      <th></th>\n",
              "      <th>title</th>\n",
              "      <th>date</th>\n",
              "      <th>content_original</th>\n",
              "      <th>bias</th>\n",
              "      <th>bias_text</th>\n",
              "      <th>source</th>\n",
              "    </tr>\n",
              "  </thead>\n",
              "  <tbody>\n",
              "    <tr>\n",
              "      <th>13</th>\n",
              "      <td>rnc chief threatens john kasich, republican won’t support donald trump</td>\n",
              "      <td>2016-09-18</td>\n",
              "      <td>republican national committee chairman reince priebus sunday threatened ohio gov. john kasich republican refuse support presidential nominee donald trump, saying party may take step ensure it’s easy them” seek white house again. speaking cbs’ face nation,” mr. priebus said every republican ran 2016 need get behind mr. trump. those haven’t — including mr. kasich, former florida gov. jeb bush, texas sen. ted cruz — could see diminished support party moving forward. people agreed support nominee, took part process, used tool rnc. agreed support nominee. took part process. we’re private party, we’re public entity. people need get board,” mr. priebus said. and they’re thinking they’re going run someday, think we’re going evaluate process, nomination process, don’t think it’s going easy them,” said. mr. kasich said it’s unlikely” he’ll vote mr. trump … much water bridge,” ohio governor said interview cnn aired friday. see also: 48% democratic voter say bernie sander replace hillary drop race mr. bush expressed similar sentiments, mr. cruz famously withheld endorsement mr. trump republican national convention instead told republican vote conscience” november. mr. priebus denied threatening mr. kasich, mr. cruz anyone else, yet clearly suggested party would put roadblock front electoral hope anyone hasn’t offered fullthroated endorsement mr. trump. people party talking we’re going … it’s threat. it’s question,” rnc chairman said. private party people come around four eight years?” mr. kasich, former 2016 gop presidential candidate himself, said it’s still important get vote republican like sen. rob portman, running reelection ohio. we want get people vote. want reelect senator portman, want reelect people ticket,” mr. kasich said. i’m voting hillary [clinton].” i’ll let everybody know … think action spoken loudly. louder even words,” said. mr. kasich cleveland republican national convention july, attend convention itself. asked libertarian nominee gary johnson, mr. kasich said: haven’t even gone yet. it’s long way [until] election day.” sign daily newsletter copyright © 2019 washington times, llc. click reprint permission.</td>\n",
              "      <td>2</td>\n",
              "      <td>right</td>\n",
              "      <td>Washington Times</td>\n",
              "    </tr>\n",
              "  </tbody>\n",
              "</table>\n",
              "</div>\n",
              "    <div class=\"colab-df-buttons\">\n",
              "\n",
              "  <div class=\"colab-df-container\">\n",
              "    <button class=\"colab-df-convert\" onclick=\"convertToInteractive('df-21b33e16-8abe-4a0c-b4f4-b6c670fe5467')\"\n",
              "            title=\"Convert this dataframe to an interactive table.\"\n",
              "            style=\"display:none;\">\n",
              "\n",
              "  <svg xmlns=\"http://www.w3.org/2000/svg\" height=\"24px\" viewBox=\"0 -960 960 960\">\n",
              "    <path d=\"M120-120v-720h720v720H120Zm60-500h600v-160H180v160Zm220 220h160v-160H400v160Zm0 220h160v-160H400v160ZM180-400h160v-160H180v160Zm440 0h160v-160H620v160ZM180-180h160v-160H180v160Zm440 0h160v-160H620v160Z\"/>\n",
              "  </svg>\n",
              "    </button>\n",
              "\n",
              "  <style>\n",
              "    .colab-df-container {\n",
              "      display:flex;\n",
              "      gap: 12px;\n",
              "    }\n",
              "\n",
              "    .colab-df-convert {\n",
              "      background-color: #E8F0FE;\n",
              "      border: none;\n",
              "      border-radius: 50%;\n",
              "      cursor: pointer;\n",
              "      display: none;\n",
              "      fill: #1967D2;\n",
              "      height: 32px;\n",
              "      padding: 0 0 0 0;\n",
              "      width: 32px;\n",
              "    }\n",
              "\n",
              "    .colab-df-convert:hover {\n",
              "      background-color: #E2EBFA;\n",
              "      box-shadow: 0px 1px 2px rgba(60, 64, 67, 0.3), 0px 1px 3px 1px rgba(60, 64, 67, 0.15);\n",
              "      fill: #174EA6;\n",
              "    }\n",
              "\n",
              "    .colab-df-buttons div {\n",
              "      margin-bottom: 4px;\n",
              "    }\n",
              "\n",
              "    [theme=dark] .colab-df-convert {\n",
              "      background-color: #3B4455;\n",
              "      fill: #D2E3FC;\n",
              "    }\n",
              "\n",
              "    [theme=dark] .colab-df-convert:hover {\n",
              "      background-color: #434B5C;\n",
              "      box-shadow: 0px 1px 3px 1px rgba(0, 0, 0, 0.15);\n",
              "      filter: drop-shadow(0px 1px 2px rgba(0, 0, 0, 0.3));\n",
              "      fill: #FFFFFF;\n",
              "    }\n",
              "  </style>\n",
              "\n",
              "    <script>\n",
              "      const buttonEl =\n",
              "        document.querySelector('#df-21b33e16-8abe-4a0c-b4f4-b6c670fe5467 button.colab-df-convert');\n",
              "      buttonEl.style.display =\n",
              "        google.colab.kernel.accessAllowed ? 'block' : 'none';\n",
              "\n",
              "      async function convertToInteractive(key) {\n",
              "        const element = document.querySelector('#df-21b33e16-8abe-4a0c-b4f4-b6c670fe5467');\n",
              "        const dataTable =\n",
              "          await google.colab.kernel.invokeFunction('convertToInteractive',\n",
              "                                                    [key], {});\n",
              "        if (!dataTable) return;\n",
              "\n",
              "        const docLinkHtml = 'Like what you see? Visit the ' +\n",
              "          '<a target=\"_blank\" href=https://colab.research.google.com/notebooks/data_table.ipynb>data table notebook</a>'\n",
              "          + ' to learn more about interactive tables.';\n",
              "        element.innerHTML = '';\n",
              "        dataTable['output_type'] = 'display_data';\n",
              "        await google.colab.output.renderOutput(dataTable, element);\n",
              "        const docLink = document.createElement('div');\n",
              "        docLink.innerHTML = docLinkHtml;\n",
              "        element.appendChild(docLink);\n",
              "      }\n",
              "    </script>\n",
              "  </div>\n",
              "\n",
              "\n",
              "    </div>\n",
              "  </div>\n"
            ],
            "application/vnd.google.colaboratory.intrinsic+json": {
              "type": "dataframe",
              "variable_name": "train_df",
              "summary": "{\n  \"name\": \"train_df\",\n  \"rows\": 2893,\n  \"fields\": [\n    {\n      \"column\": \"title\",\n      \"properties\": {\n        \"dtype\": \"string\",\n        \"num_unique_values\": 2893,\n        \"samples\": [\n          \"trump: inner city run democrat dangerous war zone\",\n          \"justin trudeau: globalisation isnt working ordinary people\",\n          \"rnc considers cutting cash trump\"\n        ],\n        \"semantic_type\": \"\",\n        \"description\": \"\"\n      }\n    },\n    {\n      \"column\": \"date\",\n      \"properties\": {\n        \"dtype\": \"date\",\n        \"min\": \"2016-01-01 00:00:00\",\n        \"max\": \"2016-12-31 00:00:00\",\n        \"num_unique_values\": 365,\n        \"samples\": [\n          \"2016-01-20 00:00:00\",\n          \"2016-01-27 00:00:00\",\n          \"2016-09-11 00:00:00\"\n        ],\n        \"semantic_type\": \"\",\n        \"description\": \"\"\n      }\n    },\n    {\n      \"column\": \"content_original\",\n      \"properties\": {\n        \"dtype\": \"string\",\n        \"num_unique_values\": 2892,\n        \"samples\": [\n          \"if donald trump elected president republican hold onto congress, house speaker paul ryan bluntly promising ram partisan agenda capitol hill next year, obamacare repeal trilliondollar tax cut likely top list. democrat would utterly defenseless stop them. typically, party leader offer least pretense seeking bipartisanship discussing policy plans. ryan saying frankly republican would use budget reconciliation \\u2014 powerful procedural tool \\u2014 bypass democrat entirely. it\\u2019s tool republican slammed democrat using pas 2010 health care law objections. story continued below while gop leader made empty threat use reconciliation repeal obamacare past, ryan making clear time plan use counts. would likely support trump white house. larry kudlow, economic adviser gop presidential nominee, said also strongly urging trump embrace reconciliation order pas sweeping tax cuts. ryan peeled back curtain strategy news conference last week reporter suggested would struggle implement ambitious agenda next year. all, noted, republican certain lack 60 vote needed senate break democratic filibuster legislation. ryan gave minitutorial congressional rule bazooka pocket assembled reporters. this plan 2017,\\u201d ryan said, waving copy better way\\u201d policy agenda. much budget reconciliation.\\u201d explained key piece fiscal nature,\\u201d meaning moved quickly budget maneuver requires simple majority senate house. game plan 2017,\\u201d ryan said seemingly unconvinced press. democrat progressive advocate skeptical. terrified might better word. i\\u2019m extremely concerned,\\u201d said harry stein, director fiscal policy liberal center american progress. there\\u2019s flawed assumption coverage election matter either way, we\\u2019re going gridlock. \\u2026 assume that\\u2019s state nature. it\\u2019s not.\\u201d here\\u2019s process works: house senate pas identical budgets, include broad instruction congress pas reconciliation legislation privileged status cannot filibustered senate. bill intended change current law comply budget\\u2019s directive must abide certain parliamentary rules, effect spending tax levels. ultimately broad swath policy change made. there\\u2019s enormous amount reconciliation,\\u201d stein said. antitax activist grover norquist agreed. think everything that\\u2019s paul ryan budget plan reconciliation,\\u201d said. that\\u2019s model. it\\u2019s secret, it\\u2019s obvious thing do.\\u201d both party used budget reconciliation past. george w. bush\\u2019s trilliondollar tax cut passed procedure 2001 2003; democrat used 2010 finish passing obamacare, republican rebuking democrat running roughshod gop. a senior senate democratic aide said height hypocrisy\\u201d republican plan use reconciliation previous complaints. winning back senate critical democrat stop republican ramming deep cut earned benefit programs,\\u201d aide said. an aide senate majority leader mitch mcconnell didn\\u2019t weigh matter, noting announcement made next year\\u2019s budget process. but republican already done dry run targeting obamacare. the gopcontrolled congress passed reconciliation bill last year would repeal key part health law, including effectively eliminating individual employer mandate scrapping medicaid expansion, insurance subsidy consumer medical device cadillac taxes. bill promptly vetoed president barack obama, would serve road map republican 2017. reconciliation process relies heavily precedent, opponent obamacare already know pas muster senate parliamentarian. notably, bill also defunded planned parenthood one year, sign expansive reconciliation bill be. other piece ryan\\u2019s better way\\u201d policy agenda could find way reconciliation measure controversial proposal bring cost medicare medicaid overhaul food stamp program housing assistance lowincome renters. every line bill would face scrutiny democrats, skilled procedural tactician could overcome parliamentary challenges. republican would also set rewriting tax code budget reconciliation. asked procedure would good way implement gop tax plans, kudlow responded, good, fabulous.\\u201d speaking campaign, kudlow said reconciliation fastest way judgment get necessary progrowth tax reform.\\u201d said encouraging path trump staff year, considering it. trump house republican proposed different tax plans, largely sync major principles. would cut top tax rate individual 33 percent current 39.6 percent. corporate rate would drop 15 percent trump\\u2019s plan 20 percent house gop plan, 35 percent today. plan also would drain federal coffer several trillion dollar give biggest boost wealthy. end decade, richest 1 percent would accumulated 99.6 percent benefit house gop plan, according nonpartisan tax policy center. one drawback using budget reconciliation vehicle tax cut bill increase deficit 10 years, provision sunset. case bush tax cut \\u2014 though vast majority ultimately extended permanently obama administration. a 10year tax cut bad deal,\\u201d norquist said. thing life forever.\\u201d the obvious issue pursuing reconciliation fundamentally partisan exercise. bill becomes political pi\\u00f1ata,\\u201d said douglas holtzeakin, former director congressional budget office. but some, that\\u2019s feature, bug. ryan\\u2019s office didn\\u2019t respond request comment, vocal need get trump white house enact agenda. i\\u2019m tired divided government. doesn\\u2019t work well,\\u201d ryan said last week. we\\u2019ve gotten good thing done. big thing \\u2014 poverty, debt crisis, economy, health care \\u2014 thing stuck divided government, that\\u2019s think unified republican government\\u2019s way go.\\u201d\",\n          \"donald trump exposing truth gop. conservative party led delusional incompetent politician cannot win anything. 15 year war, two trillion funding war, thousand american life sacrificed, absolutely nothing show gop done america. need start admitting truth want restore america powerhouse was. for years, told numerous politician would shakeup washington, d.c. none made promise done anything. obama completely manhandled weak house representative senate american finally fed up. everything medium said either lie completely wrong; respect, choose believe latter. ted cruz marco rubio refuse get others way, therefore, trump continues dominate part country. small sample going washington past 8 16 years; politician putting personal status common good country. american fed absolutely trust republican establishment. in nine months, donald trump undoubtedly changed political nightmare consumed country. donald trump single handedly destroyed jeb bush campaign ease. making mockery two first term senator clear path winning republican nomination. america, small sample shakeup yearning for. donald trump say going change things, already has. north south far west, trump catapulted way victory practically himself. exposed gop thought was, u already knew was. donald trump perfect many flaws. however, donald trump real. he say make politician quiver shallow shoes. never another donald trump maybe think twice throwing away.\",\n          \"throughout presidential campaign donald trump complained extensively biased news coverage, singled individual journalist criticism, challenged foundation freedom press, called loosening libel laws. now presidentelect, trump war medium continues. recent meeting top television executives, example, trump berated network outrageous dishonest coverage and, according source, told cnn chief jeff zucker everyone network liar ashamed. day, rather holding press conference journalist might ask difficult uncomfortable questions, trump instead released youtube video updating public white house transition, said proceeded smoothly, efficiently, effectively. a president, trump mistrust medium certainly make life difficult journalist trying provide public clear view presidential decisionmaking. clear, presidential animosity toward press nothing new. president get frustrated view unsympathetic press corp mangle reinterprets word news, making difficult communicate clearly american public. a result, president long sought reduce number press conference hold increasing amount communication means. emergence social medium simply allowed trump take trend next level. though distasteful dysfunctional, republic wont fall journalist watch youtube like rest u learn trump to. but deeper danger trump war undermine medium effective forum debate deliberation. avoiding engagement journalist stifling medium critic public shaming strongarm tactics, trump weaken ability press play role watchdog critic envisioned founder embodied first amendment. attacking medias objectivity credibility, trump administration weaken whats left public confidence public sphere and, extension, entire project democratic selfgovernance. trump already enjoys disturbing level support assault news media. postelection pew survey, example, 22 percent american gave press either b campaign coverage, 59 percent giving f. september 2016 gallup poll found 32 percent public trust press fair amount great deal report news fully, accurately, fairly, lowest figure since gallup first asked question 1976. nor timing trump war medium accident. medium become arena conflict partisan battle increasingly polarized political system. believe medium exhibit liberal bias, trump welcome corrective. surprisingly then, recent collapse trust driven primarily republicans, 14 percent believe mass mew medium deserves even fair amount trust compared 30 percent independent 51 percent democrats. related trend increasing balkanization news audience around competing news sources. 2014 pew study showed, example, 47 percent consistent conservative name fox news primary (and trusted) source news politics, almost completely avoiding major news outlet like new york times. even frightening fact trend appears pronounced among younger americans, tend somewhat liberal parents. 2016 26 percent age 50 trusted news medium compared 38 percent age 50 older. advent social medium help. 34 percent american adult use web trust information get social medium sources. how trump deal medium seems clear. le clear, however, medium respond trump. past 30 year provide much reason optimism. news industry pummeled fragmentation news audience emergence internet. difficult economic environment face, news organization shown little stomach increasing hard news budget supporting much way investigative journalism. instead, good deal pass american journalism today simply information recycled straight government sources. exceptions, course, well newer, nontraditional source news opinion provide alternative narrative mainstream medium accounts. encouraging, perhaps, emerging sign trump election may lead reinvigorated sense duty part journalists, news organizations, ngos. whether initial response add effective counterpoint trump bully pulpit, however, remains seen. trevor thrall senior fellow cato institute defense foreign policy department.\"\n        ],\n        \"semantic_type\": \"\",\n        \"description\": \"\"\n      }\n    },\n    {\n      \"column\": \"bias\",\n      \"properties\": {\n        \"dtype\": \"number\",\n        \"std\": 0,\n        \"min\": 0,\n        \"max\": 2,\n        \"num_unique_values\": 3,\n        \"samples\": [\n          2,\n          0,\n          1\n        ],\n        \"semantic_type\": \"\",\n        \"description\": \"\"\n      }\n    },\n    {\n      \"column\": \"bias_text\",\n      \"properties\": {\n        \"dtype\": \"category\",\n        \"num_unique_values\": 3,\n        \"samples\": [\n          \"right\",\n          \"left\",\n          \"center\"\n        ],\n        \"semantic_type\": \"\",\n        \"description\": \"\"\n      }\n    },\n    {\n      \"column\": \"source\",\n      \"properties\": {\n        \"dtype\": \"category\",\n        \"num_unique_values\": 101,\n        \"samples\": [\n          \"Drudge Report\",\n          \"Daily Kos\",\n          \"Brent Bozell\"\n        ],\n        \"semantic_type\": \"\",\n        \"description\": \"\"\n      }\n    }\n  ]\n}"
            }
          },
          "metadata": {},
          "execution_count": 7
        }
      ]
    },
    {
      "cell_type": "code",
      "source": [
        "print(f\"basic train_df info: \",train_df.shape)"
      ],
      "metadata": {
        "colab": {
          "base_uri": "https://localhost:8080/"
        },
        "id": "BlS6YagLwzQd",
        "outputId": "44fbeeff-ca74-4249-e903-f0da443560e3"
      },
      "execution_count": null,
      "outputs": [
        {
          "output_type": "stream",
          "name": "stdout",
          "text": [
            "basic train_df info:  (2893, 6)\n"
          ]
        }
      ]
    },
    {
      "cell_type": "code",
      "source": [
        "test_df.head(1)"
      ],
      "metadata": {
        "colab": {
          "base_uri": "https://localhost:8080/",
          "height": 314
        },
        "id": "FaHi8VSJw1sO",
        "outputId": "5ec6fe14-43f6-48ef-d24b-6c7b1c487b4e"
      },
      "execution_count": null,
      "outputs": [
        {
          "output_type": "execute_result",
          "data": {
            "text/plain": [
              "                                                              title       date  \\\n",
              "1  opinion: john brennan: president trump’s claim collusion hogwash 2018-08-16   \n",
              "\n",
              "                                                                                                                                                                                                                                                                                                                                                                                                                                                                                                                                                                                                                                                                                                                                                                                                                                                                                                                                                                                                                                                                                                                                                                                                                                                                                                                                                                                                                                                                                                                                                                                                                                                                                                                                                                                                                                                                                                                                                                               content_original  \\\n",
              "1  when alexander bortnikov, head russia’s internal security service, told early august 2016 phone call russia wasn’t interfering presidential election, knew lying. previous several year grown weary mr. bortnikov’s denial russia’s perfidy — mistreatment american diplomat citizen moscow, repeated failure adhere ceasefire agreement syria paramilitary intervention eastern ukraine, name issues. when warned mr. bortnikov russian interference election intolerable would roil united statesrussia relation many years, denied russian involvement election, america elsewhere, feigned sincerity heard many time before. president vladimir putin russia reiterated denial numerous time past two years, often donald trump’s seeming approval. russian denial are, word, hogwash. before, infamous meddling last presidential election, russia practiced art shaping political event abroad wellhoned active measure program, employ array technical capabilities, information operation oldfashioned human intelligence spycraft. electoral politics western democracy present especially inviting target, variety politicians, political parties, medium outlets, think tank influencers readily manipulated, wittingly unwittingly, even bought outright russian intelligence operatives. freedom liberty liberal western democracy cherish autocracy fear exploited russian intelligence service collect sensitive information also distribute propaganda disinformation, increasingly via growing number social medium platforms. having worked closely f.b.i. many year counterintelligence investigations, well aware russia’s ability work surreptitiously within united states, cultivating relationship individual wield actual potential power. like mr. bortnikov, russian operative agent well trained art deception. troll political, business cultural water search gullible unprincipled individual become pliant hand russian puppet masters. often, puppet found.   \n",
              "\n",
              "   bias bias_text                 source  \n",
              "1     0      left  New York Times - News  "
            ],
            "text/html": [
              "\n",
              "  <div id=\"df-59dbbc37-1d07-475f-95d4-1e68614367a1\" class=\"colab-df-container\">\n",
              "    <div>\n",
              "<style scoped>\n",
              "    .dataframe tbody tr th:only-of-type {\n",
              "        vertical-align: middle;\n",
              "    }\n",
              "\n",
              "    .dataframe tbody tr th {\n",
              "        vertical-align: top;\n",
              "    }\n",
              "\n",
              "    .dataframe thead th {\n",
              "        text-align: right;\n",
              "    }\n",
              "</style>\n",
              "<table border=\"1\" class=\"dataframe\">\n",
              "  <thead>\n",
              "    <tr style=\"text-align: right;\">\n",
              "      <th></th>\n",
              "      <th>title</th>\n",
              "      <th>date</th>\n",
              "      <th>content_original</th>\n",
              "      <th>bias</th>\n",
              "      <th>bias_text</th>\n",
              "      <th>source</th>\n",
              "    </tr>\n",
              "  </thead>\n",
              "  <tbody>\n",
              "    <tr>\n",
              "      <th>1</th>\n",
              "      <td>opinion: john brennan: president trump’s claim collusion hogwash</td>\n",
              "      <td>2018-08-16</td>\n",
              "      <td>when alexander bortnikov, head russia’s internal security service, told early august 2016 phone call russia wasn’t interfering presidential election, knew lying. previous several year grown weary mr. bortnikov’s denial russia’s perfidy — mistreatment american diplomat citizen moscow, repeated failure adhere ceasefire agreement syria paramilitary intervention eastern ukraine, name issues. when warned mr. bortnikov russian interference election intolerable would roil united statesrussia relation many years, denied russian involvement election, america elsewhere, feigned sincerity heard many time before. president vladimir putin russia reiterated denial numerous time past two years, often donald trump’s seeming approval. russian denial are, word, hogwash. before, infamous meddling last presidential election, russia practiced art shaping political event abroad wellhoned active measure program, employ array technical capabilities, information operation oldfashioned human intelligence spycraft. electoral politics western democracy present especially inviting target, variety politicians, political parties, medium outlets, think tank influencers readily manipulated, wittingly unwittingly, even bought outright russian intelligence operatives. freedom liberty liberal western democracy cherish autocracy fear exploited russian intelligence service collect sensitive information also distribute propaganda disinformation, increasingly via growing number social medium platforms. having worked closely f.b.i. many year counterintelligence investigations, well aware russia’s ability work surreptitiously within united states, cultivating relationship individual wield actual potential power. like mr. bortnikov, russian operative agent well trained art deception. troll political, business cultural water search gullible unprincipled individual become pliant hand russian puppet masters. often, puppet found.</td>\n",
              "      <td>0</td>\n",
              "      <td>left</td>\n",
              "      <td>New York Times - News</td>\n",
              "    </tr>\n",
              "  </tbody>\n",
              "</table>\n",
              "</div>\n",
              "    <div class=\"colab-df-buttons\">\n",
              "\n",
              "  <div class=\"colab-df-container\">\n",
              "    <button class=\"colab-df-convert\" onclick=\"convertToInteractive('df-59dbbc37-1d07-475f-95d4-1e68614367a1')\"\n",
              "            title=\"Convert this dataframe to an interactive table.\"\n",
              "            style=\"display:none;\">\n",
              "\n",
              "  <svg xmlns=\"http://www.w3.org/2000/svg\" height=\"24px\" viewBox=\"0 -960 960 960\">\n",
              "    <path d=\"M120-120v-720h720v720H120Zm60-500h600v-160H180v160Zm220 220h160v-160H400v160Zm0 220h160v-160H400v160ZM180-400h160v-160H180v160Zm440 0h160v-160H620v160ZM180-180h160v-160H180v160Zm440 0h160v-160H620v160Z\"/>\n",
              "  </svg>\n",
              "    </button>\n",
              "\n",
              "  <style>\n",
              "    .colab-df-container {\n",
              "      display:flex;\n",
              "      gap: 12px;\n",
              "    }\n",
              "\n",
              "    .colab-df-convert {\n",
              "      background-color: #E8F0FE;\n",
              "      border: none;\n",
              "      border-radius: 50%;\n",
              "      cursor: pointer;\n",
              "      display: none;\n",
              "      fill: #1967D2;\n",
              "      height: 32px;\n",
              "      padding: 0 0 0 0;\n",
              "      width: 32px;\n",
              "    }\n",
              "\n",
              "    .colab-df-convert:hover {\n",
              "      background-color: #E2EBFA;\n",
              "      box-shadow: 0px 1px 2px rgba(60, 64, 67, 0.3), 0px 1px 3px 1px rgba(60, 64, 67, 0.15);\n",
              "      fill: #174EA6;\n",
              "    }\n",
              "\n",
              "    .colab-df-buttons div {\n",
              "      margin-bottom: 4px;\n",
              "    }\n",
              "\n",
              "    [theme=dark] .colab-df-convert {\n",
              "      background-color: #3B4455;\n",
              "      fill: #D2E3FC;\n",
              "    }\n",
              "\n",
              "    [theme=dark] .colab-df-convert:hover {\n",
              "      background-color: #434B5C;\n",
              "      box-shadow: 0px 1px 3px 1px rgba(0, 0, 0, 0.15);\n",
              "      filter: drop-shadow(0px 1px 2px rgba(0, 0, 0, 0.3));\n",
              "      fill: #FFFFFF;\n",
              "    }\n",
              "  </style>\n",
              "\n",
              "    <script>\n",
              "      const buttonEl =\n",
              "        document.querySelector('#df-59dbbc37-1d07-475f-95d4-1e68614367a1 button.colab-df-convert');\n",
              "      buttonEl.style.display =\n",
              "        google.colab.kernel.accessAllowed ? 'block' : 'none';\n",
              "\n",
              "      async function convertToInteractive(key) {\n",
              "        const element = document.querySelector('#df-59dbbc37-1d07-475f-95d4-1e68614367a1');\n",
              "        const dataTable =\n",
              "          await google.colab.kernel.invokeFunction('convertToInteractive',\n",
              "                                                    [key], {});\n",
              "        if (!dataTable) return;\n",
              "\n",
              "        const docLinkHtml = 'Like what you see? Visit the ' +\n",
              "          '<a target=\"_blank\" href=https://colab.research.google.com/notebooks/data_table.ipynb>data table notebook</a>'\n",
              "          + ' to learn more about interactive tables.';\n",
              "        element.innerHTML = '';\n",
              "        dataTable['output_type'] = 'display_data';\n",
              "        await google.colab.output.renderOutput(dataTable, element);\n",
              "        const docLink = document.createElement('div');\n",
              "        docLink.innerHTML = docLinkHtml;\n",
              "        element.appendChild(docLink);\n",
              "      }\n",
              "    </script>\n",
              "  </div>\n",
              "\n",
              "\n",
              "    </div>\n",
              "  </div>\n"
            ],
            "application/vnd.google.colaboratory.intrinsic+json": {
              "type": "dataframe",
              "variable_name": "test_df",
              "summary": "{\n  \"name\": \"test_df\",\n  \"rows\": 4407,\n  \"fields\": [\n    {\n      \"column\": \"title\",\n      \"properties\": {\n        \"dtype\": \"string\",\n        \"num_unique_values\": 4407,\n        \"samples\": [\n          \"u.n. chief target dangerous epidemic misinformation coronavirus\",\n          \"closing chapter. one chapter.\",\n          \"why romney losing mustwin ohio\"\n        ],\n        \"semantic_type\": \"\",\n        \"description\": \"\"\n      }\n    },\n    {\n      \"column\": \"date\",\n      \"properties\": {\n        \"dtype\": \"date\",\n        \"min\": \"2012-04-03 00:00:00\",\n        \"max\": \"2020-07-21 00:00:00\",\n        \"num_unique_values\": 1952,\n        \"samples\": [\n          \"2013-01-07 00:00:00\",\n          \"2018-11-30 00:00:00\",\n          \"2018-06-21 00:00:00\"\n        ],\n        \"semantic_type\": \"\",\n        \"description\": \"\"\n      }\n    },\n    {\n      \"column\": \"content_original\",\n      \"properties\": {\n        \"dtype\": \"string\",\n        \"num_unique_values\": 4407,\n        \"samples\": [\n          \"u.n. chief target dangerous epidemic misinformation coronavirus enlarge image toggle caption juan karita/ap juan karita/ap the world facing dangerous epidemic misinformation covid19 \\u2014 vaccine reestablish public trust, head united nation said tuesday. around world, people scared. want know to turn advice, said u.n. secretarygeneral ant\\u00f3nio guterres. the distortion willful ignorance scientific fact poison putting even life risk challenging crisis since world war ii, guterres said. with covid19 responsible 120,000 death nearly 2 million case worldwide, u.n. creating special communication project combat misinformation virus, secretary general said. this time science solidarity, guterres said video message plan. yet global misinfodemic spreading. harmful health advice snakeoil solution proliferating, u.n. leader said. wild conspiracy theory infecting internet. hatred going viral, stigmatizing vilifying people groups. guterres called spread bad selfserving information secondary disease; some, might seem like underlying condition today medium landscape. solve problem, said, vaccine trust. first, trust science, guterres said, adding, salute journalist others factchecking mountain misleading story social medium posts. the u.n. head called social medium company to root harmful bogus claim covid19. also said people must able put trust institution grounded responsive, responsible, evidencebased governance leadership. and people must trust respect even time crisis, guterres said, calling government preserve human rights. together, let reject lie nonsense there, said.\",\n          \"from congratulator chief: boston police state police local police across commonwealth massachusetts responded professionalism bravery five long days,\\u201d president said white house. tonight determined efforts, we\\u2019ve closed important chapter tragedy.\\u201d it\\u2019s rare day you\\u2019ll read sentence here, obama correct two different equally important points. first all, hearty congratulation due law enforcement official level involved massive mission bringing close (perhaps) relatively short order. collective hive mind idiot asking taking long catch them, really nothing say you. the second portion consider, even amidst well deserved partying celebration going beantown across country, certainly one chapter\\u201d longer story. possibly much, much longer story. ap roundup many question government face day month come, you\\u2019ve debating night long. even that, it\\u2019s still unclear go here. the end rocky road seems fairly clear, least me. apology oppose capital punishment moral grounds, guy wind cooling room temperature. maybe comastermind mayhem maybe follower, big bro real boris badenov story. even so, follow. maimed dead, spectator watching marathon police trying keep u safe deserve nothing less. but get there? leaders, graham mccain, gate early calling tamerlan dzhokhar tsarnaev treated enemy combatant. i\\u2019m ruling entirely, certainly need get information theoretical accomplice may there. there\\u2019s sticky detail kept mind here: tsarnaev united state citizen. doesn\\u2019t matter whether born raised heartland got boat eastern europe took naturalization oath yesterday, treat equally law. remain extremely skeptical idea taking citizen american soil \\u2013 matter heinous action \\u2013 suddenly reclassifying somehow le right anyone else. path lead people showing door removing rights. i\\u2019m hearing concern corner fact tsarnaev wasn\\u2019t read miranda right mean longer choice head military tribunal. legal expert coming forward week seem agree public safety clause full effect, would lose ability use early statement detention trial. clear\\u2026 act terrorism. there\\u2019s question that. terrorism illegal home too, prosecuted it. maybe there\\u2019s link group we\\u2019ll find going forward. maybe two chuckleheads losers, uncle opined. can\\u2019t help believe there\\u2019s constitutionally viable way soak information possible guy, give trial put ground. update: (jazz) apologies. mixed tsarnaevs there. it\\u2019s dzhokhar. fixed above.\",\n          \"(cnn) poll show mitt romney trailing president barack obama every one swing state 2012 campaign waged. but romney appears deeper trouble ohio elsewhere, alarming development republican know candidate white house chance begin end kind middleclass voter reside place akron, cincinnati zanesville. so exactly romney trailing? two survey released recent days, one ohio newspaper association another washington post, crystallized challenge facing romney embarks second straight day campaigning buckeye state. the topline number obama led 5 point among likely voter ohio poll, startling 8 point post poll tell part story. obama 50% battleground poll romneys favorable rating underwater. almost twothirds voter approve obamas decision bail auto industry, staple ohio manufacturing economy. president lead romney wide margin question would help middle class. and voter asked candidate would better job handling economy, obama sturdy lead, undercutting thematic premise romneys candidacy. romney aide: obama spiking football early ohio interview two dozen republican strategist elected official across ohio revealed array explanation easy answer romneys failure catch there. some pointed obama campaign aggressive effort hang romneys opposition federal bailout chrysler general motor around neck. others said hangover remains divisive 2011 battle collective bargaining right hurt gop standing working class voters. a handful gop strategist blamed romneys standing campaign staffer arent ohio natives. one longtime republican strategist griped arrogant topdown approach romney team said done poor job listening advice savvy ohio strategist charge rebuffed romney aide point field staffer ohio office sen. rob portman house speaker john boehner come board. still others cited romneys lackluster political skill said stiff ceo demeanor turnoff ohioans, one republican officeholder saying former mississippi gov. haley barbour wasnt far said recently romney caricatured plutocrat married known equestrian. a man without message the main criticism emerged, though, romney man without message. we still point think still winnable race romney, said ohio attorney general mike dewine. generally talk people, feeling obama hasnt done great job. romney hasnt made sale. still can. hasnt made sale yet. another statewide republican officeholder like others interviewed article want identified criticizing republican ticket, offered blunter assessment. both romney obama, official argued, provided nothing narrow argument fantasy land policy prescription country. opinion: romney get back track? why mitt romney running president presidency about? official asked. dont think republican ohio answer question. made compelling case candidacy. dont make campaign marginal tax rates. make child grandchild future country. romney adjusting. campaign, prevented spending general election fund republican national convention concluded late august, launched first statewide television buy campaign last week. the former massachusetts governor also intensified rhetoric trade, long potent issue ohio, accusing president failing stand china costing american jobs. but romneys argument du jour spent week attacking president handling foreign policy recent turmoil middle east isnt likely resonate ohio much concise aggressive jobsthemed message, republican said. several ohio gop operative even credited obama campaign presenting consistent economic argument. fallout bailout obama force persistently reminded voter auto bailout television smallscale earned medium event around state republican faulted romney failing develop succinct response criticism state one every eight job tied auto sector. romney wrote new york time oped 2008 titled let detroit go bankrupt argued managed bankruptcy industry, without use government funds. may, took credit proposing bankruptcy idea. august, tapped running mate, wisconsin rep. paul ryan, voted favor bailout. meanwhile, obama campaign aired multiple tv ad issue synced probailout message downballot democratic candidate sen. sherrod brown. poll: brown ahead gop challenger ohio senate race labor organization leaving thousand bailoutthemed doorknob hanger making phone call union member highlighting obamas support auto industry. according washington post poll, 64% ohio registered voter view federal loan gm chrysler mostly good state economy. 29% said bailout mostly bad. putting finer point matter, one longtime ohio gop strategist called obamas advantage auto bailout kick ball romney campaign. ground operation bright spot romney one aspect romney operation earned praise republican campaign ground game, made 3 million volunteer voter contact far year knocked 28 time many door ohio john mccains campaign 2008. it one better operation country, always is, romneys political director rich beeson told cnn. ohio always led way cycle. the socalled victory effort joint venture romney campaign, republican national committee ohio republican party 40 office statewide. the obama operation, deeply embedded state four years, twice number. romney campaign managed keep pace president voter contact effort, data post poll revealed tuesday. the humming ground effort, combined ohio traditional gop lean whats expected animated conservative base 2008, republican confident final margin election day much closer 5, 6 7point obama lead seen recent public polls. nobody win ohio 5, said mark weaver, republican consultant two decade campaign experience state. anybody tell doesnt know ohio. state close. divided. obama 5 romney 5. weaver complimented romney campaign effort predicted 2point victory republican november advised gop nominee spend time state rely le scripted remark large crowds. i think need get romney ohio more, talking cuff more, said. think sincere guy, think talk cuff, people like him. another ohio republican strategist said romney begin dispatching wife, ann, suburb cleveland columbus, room improvement nice way saying obama doubledigit lead among woman voter ohio, according post poll. a lingering complication romneys argument ohio improving state economy. romney: ad spot on mixed message kasich irks gop republican gov. john kasichs relentless boosterism uptick ohio job creation run counter national republican message obamas policy kept economy bouncing back. the statewide unemployment rate fallen 7.2%, roughly point national average. bellwether central ohio, home capital city columbus thriving suburbs, jobless rate fell 5.9% august. kasich shy talking ohio job growth, even muddle romney campaign argument state national economy. at recent campaign event conservative owensville, fiery kasich boasted ohio rocking! moment turning microphone paul ryan, proceeded issue dire warning obamas economic policies. the mixed messaging rankled republican romney kasich camps. side done best keep tension wraps, occasionally spill public view. rex elsass, kasichs medium consultant longtime adviser, told cnn romney running counter reality perception people ohio. romney would better stood john kasichs shoulder said, here example state thats better job creation, spite president doing, elsass said. when run advertising thats running rest country, inconsistent people feeling ohio, thing getting better, continued. youre telling people thing getting worse throw graphic end ad say ohio, thats statespecific message working here. romney has, fact, complimented kasichs economic development effort spate local interview campaign event account personal animosity two men. but republican close campaign groused privately kasich bringing little romney effort beyond appearing campaign events, boehner, portman handful statewide official loaned manpower money fight. portman, instance, turned one romneys reliable ally campaign trail, hosting 20 fundraiser raising $2 million campaign. romney praise debate practice partner portman one washingtonbased gop operative involved campaign closely watching ohio accused kasich enough help romney win state. no single swing state republican le willing criticize president obama important juncture campaign john kasich, republican told cnn. anyone doesnt want obama second term furious him.\"\n        ],\n        \"semantic_type\": \"\",\n        \"description\": \"\"\n      }\n    },\n    {\n      \"column\": \"bias\",\n      \"properties\": {\n        \"dtype\": \"number\",\n        \"std\": 0,\n        \"min\": 0,\n        \"max\": 2,\n        \"num_unique_values\": 3,\n        \"samples\": [\n          0,\n          2,\n          1\n        ],\n        \"semantic_type\": \"\",\n        \"description\": \"\"\n      }\n    },\n    {\n      \"column\": \"bias_text\",\n      \"properties\": {\n        \"dtype\": \"category\",\n        \"num_unique_values\": 3,\n        \"samples\": [\n          \"left\",\n          \"right\",\n          \"center\"\n        ],\n        \"semantic_type\": \"\",\n        \"description\": \"\"\n      }\n    },\n    {\n      \"column\": \"source\",\n      \"properties\": {\n        \"dtype\": \"category\",\n        \"num_unique_values\": 137,\n        \"samples\": [\n          \"International Business Times\",\n          \"The Dallas Morning News\",\n          \"Politico\"\n        ],\n        \"semantic_type\": \"\",\n        \"description\": \"\"\n      }\n    }\n  ]\n}"
            }
          },
          "metadata": {},
          "execution_count": 9
        }
      ]
    },
    {
      "cell_type": "code",
      "source": [
        "print(f\"basic test_df info: \",test_df.shape)"
      ],
      "metadata": {
        "colab": {
          "base_uri": "https://localhost:8080/"
        },
        "id": "GdbG2sxpxddS",
        "outputId": "7e6c74c2-fd51-4db4-e2e7-06e9e8bb4b2f"
      },
      "execution_count": null,
      "outputs": [
        {
          "output_type": "stream",
          "name": "stdout",
          "text": [
            "basic test_df info:  (4407, 6)\n"
          ]
        }
      ]
    },
    {
      "cell_type": "code",
      "source": [
        "# extract the train and test text from both dataframes\n",
        "train_text = train_df['content_original']\n",
        "train_text_labels = train_df['bias']\n",
        "\n",
        "test_text = test_df['content_original']\n",
        "test_text_labels = test_df['bias']\n",
        "\n",
        "\n",
        "print(f\"size of training dataset: \",len(train_text))\n",
        "print()\n",
        "print(f\"size of testing dataset: \",len(test_text))\n",
        "print()\n",
        "print(f\"Left with Label 0 \")\n",
        "print(f\"Center with Label 1 \")\n",
        "print(f\"Right with Label 2 \")"
      ],
      "metadata": {
        "colab": {
          "base_uri": "https://localhost:8080/"
        },
        "id": "DN_SB3PTxfhF",
        "outputId": "ed7a7d36-0686-4e6f-fb06-4dbae895b920"
      },
      "execution_count": 8,
      "outputs": [
        {
          "output_type": "stream",
          "name": "stdout",
          "text": [
            "size of training dataset:  2893\n",
            "\n",
            "size of testing dataset:  4407\n",
            "\n",
            "Left with Label 0 \n",
            "Center with Label 1 \n",
            "Right with Label 2 \n"
          ]
        }
      ]
    },
    {
      "cell_type": "code",
      "source": [
        "MAX_SEQUENCE_LENGTH = 512"
      ],
      "metadata": {
        "id": "68tKtWPry7iK"
      },
      "execution_count": 9,
      "outputs": []
    },
    {
      "cell_type": "code",
      "source": [
        "# tokenize the dataset, truncate at `max_length`,\n",
        "\n",
        "#tokenizing the train text\n",
        "x_train = bert_tokenizer(train_text.tolist(),\n",
        "              max_length=MAX_SEQUENCE_LENGTH,\n",
        "              truncation=True,\n",
        "              padding='max_length',\n",
        "              return_tensors='tf')\n",
        "y_train = train_text_labels\n",
        "\n",
        "# #tokenizing the validate text\n",
        "# x_validate = bert_tokenizer(validate_text.tolist(),\n",
        "#               max_length=MAX_SEQUENCE_LENGTH,\n",
        "#               truncation=True,\n",
        "#               padding='max_length',\n",
        "#               return_tensors='tf')\n",
        "# y_validate = validate_text_labels\n",
        "\n",
        "\n",
        "#tokenizing the test text\n",
        "x_test = bert_tokenizer(test_text.tolist(),\n",
        "              max_length=MAX_SEQUENCE_LENGTH,\n",
        "              truncation=True,\n",
        "              padding='max_length',\n",
        "              return_tensors='tf')\n",
        "y_test = test_text_labels"
      ],
      "metadata": {
        "id": "UlXC06Z_zPAp"
      },
      "execution_count": 10,
      "outputs": []
    },
    {
      "cell_type": "code",
      "source": [
        "#BERT base uncased model configurations\n",
        "config = AutoConfig.from_pretrained('bert-base-uncased')\n",
        "\n",
        "config"
      ],
      "metadata": {
        "colab": {
          "base_uri": "https://localhost:8080/"
        },
        "id": "7YWZdBWp02fi",
        "outputId": "476df1e7-f1eb-45a7-c43e-70c7e476a8ee"
      },
      "execution_count": 11,
      "outputs": [
        {
          "output_type": "execute_result",
          "data": {
            "text/plain": [
              "BertConfig {\n",
              "  \"_name_or_path\": \"bert-base-uncased\",\n",
              "  \"architectures\": [\n",
              "    \"BertForMaskedLM\"\n",
              "  ],\n",
              "  \"attention_probs_dropout_prob\": 0.1,\n",
              "  \"classifier_dropout\": null,\n",
              "  \"gradient_checkpointing\": false,\n",
              "  \"hidden_act\": \"gelu\",\n",
              "  \"hidden_dropout_prob\": 0.1,\n",
              "  \"hidden_size\": 768,\n",
              "  \"initializer_range\": 0.02,\n",
              "  \"intermediate_size\": 3072,\n",
              "  \"layer_norm_eps\": 1e-12,\n",
              "  \"max_position_embeddings\": 512,\n",
              "  \"model_type\": \"bert\",\n",
              "  \"num_attention_heads\": 12,\n",
              "  \"num_hidden_layers\": 12,\n",
              "  \"pad_token_id\": 0,\n",
              "  \"position_embedding_type\": \"absolute\",\n",
              "  \"transformers_version\": \"4.17.0\",\n",
              "  \"type_vocab_size\": 2,\n",
              "  \"use_cache\": true,\n",
              "  \"vocab_size\": 30522\n",
              "}"
            ]
          },
          "metadata": {},
          "execution_count": 11
        }
      ]
    },
    {
      "cell_type": "markdown",
      "source": [
        "#BERT Uncase Model Fine-Tuning with One LSTM Layer"
      ],
      "metadata": {
        "id": "gsKxWorr17QH"
      }
    },
    {
      "cell_type": "code",
      "source": [
        "def create_bert_classification_model(bert_model,\n",
        "                                     num_train_layers=0,\n",
        "                                     num_classes = 3,\n",
        "                                     hidden_size = 768,\n",
        "                                     dropout=0.1,\n",
        "                                     attention_probs_dropout_prob = 0.1,\n",
        "                                     hidden_dropout_prob=0.1,\n",
        "                                    #  lstm_units=90,\n",
        "                                     learning_rate=0.00005):\n",
        "    \"\"\"\n",
        "    Build a simple classification model with BERT. Use the Pooler Output for classification purposes\n",
        "    \"\"\"\n",
        "    if num_train_layers == 0:\n",
        "        # Freeze all layers of pre-trained BERT model\n",
        "        bert_model.trainable = False\n",
        "\n",
        "    elif num_train_layers == 12:\n",
        "        # Train all layers of the BERT model\n",
        "        bert_model.trainable = True\n",
        "\n",
        "    else:\n",
        "        # Restrict training to the num_train_layers outer transformer layers\n",
        "        retrain_layers = []\n",
        "\n",
        "        for retrain_layer_number in range(num_train_layers):\n",
        "\n",
        "            layer_code = '_' + str(11 - retrain_layer_number)\n",
        "            retrain_layers.append(layer_code)\n",
        "\n",
        "\n",
        "        print('retrain layers: ', retrain_layers)\n",
        "\n",
        "        for w in bert_model.weights:\n",
        "            if not any([x in w.name for x in retrain_layers]):\n",
        "                #print('freezing: ', w)\n",
        "                w._trainable = False\n",
        "\n",
        "    input_ids = tf.keras.layers.Input(shape=(MAX_SEQUENCE_LENGTH,), dtype=tf.int64, name='input_ids_layer')\n",
        "    token_type_ids = tf.keras.layers.Input(shape=(MAX_SEQUENCE_LENGTH,), dtype=tf.int64, name='token_type_ids_layer')\n",
        "    attention_mask = tf.keras.layers.Input(shape=(MAX_SEQUENCE_LENGTH,), dtype=tf.int64, name='attention_mask_layer')\n",
        "\n",
        "    bert_inputs = {'input_ids': input_ids,\n",
        "                   'token_type_ids': token_type_ids,\n",
        "                   'attention_mask': attention_mask}\n",
        "\n",
        "    bert_out = bert_model(bert_inputs)\n",
        "\n",
        "    #pooler_token = bert_out[1]\n",
        "    cls_token = bert_out[0][:, 0, :]\n",
        "\n",
        "    hidden_1 = tf.keras.layers.Dense(hidden_size, activation='relu', name='hidden_layer_1')(cls_token)\n",
        "    hidden_1 = tf.keras.layers.Dropout(dropout)(hidden_1)\n",
        "\n",
        "\n",
        "    classification = tf.keras.layers.Dense(num_classes, activation='softmax',name='classification_layer')(hidden_1)\n",
        "\n",
        "    classification_model = tf.keras.Model(inputs=[input_ids, token_type_ids, attention_mask], outputs=[classification])\n",
        "\n",
        "    classification_model.compile(optimizer=tf.keras.optimizers.Adam(learning_rate=learning_rate),\n",
        "                                 loss=tf.keras.losses.SparseCategoricalCrossentropy(from_logits=False),\n",
        "                                 metrics='accuracy')\n",
        "\n",
        "    return classification_model"
      ],
      "metadata": {
        "id": "F9jCrtXh2akX"
      },
      "execution_count": 12,
      "outputs": []
    },
    {
      "cell_type": "code",
      "source": [
        "#let's get a fresh instance of the bert_model -- good practice\n",
        "bert_model = TFBertModel.from_pretrained('bert-base-uncased')\n",
        "bert_classification_model = create_bert_classification_model(bert_model, num_train_layers=12)"
      ],
      "metadata": {
        "id": "P4doyzf15rJT"
      },
      "execution_count": 13,
      "outputs": []
    },
    {
      "cell_type": "code",
      "source": [
        "#confirm all layers are frozen\n",
        "bert_classification_model.summary()"
      ],
      "metadata": {
        "colab": {
          "base_uri": "https://localhost:8080/"
        },
        "id": "-dy-ypDH6cb-",
        "outputId": "b2a179c5-b64b-499d-a742-e4b862b0d7d2"
      },
      "execution_count": 14,
      "outputs": [
        {
          "output_type": "stream",
          "name": "stdout",
          "text": [
            "Model: \"model\"\n",
            "__________________________________________________________________________________________________\n",
            " Layer (type)                Output Shape                 Param #   Connected to                  \n",
            "==================================================================================================\n",
            " attention_mask_layer (Inpu  [(None, 512)]                0         []                            \n",
            " tLayer)                                                                                          \n",
            "                                                                                                  \n",
            " input_ids_layer (InputLaye  [(None, 512)]                0         []                            \n",
            " r)                                                                                               \n",
            "                                                                                                  \n",
            " token_type_ids_layer (Inpu  [(None, 512)]                0         []                            \n",
            " tLayer)                                                                                          \n",
            "                                                                                                  \n",
            " tf_bert_model_1 (TFBertMod  TFBaseModelOutputWithPooli   1094822   ['attention_mask_layer[0][0]',\n",
            " el)                         ngAndCrossAttentions(last_   40         'input_ids_layer[0][0]',     \n",
            "                             hidden_state=(None, 512, 7              'token_type_ids_layer[0][0]']\n",
            "                             68),                                                                 \n",
            "                              pooler_output=(None, 768)                                           \n",
            "                             , past_key_values=None, hi                                           \n",
            "                             dden_states=None, attentio                                           \n",
            "                             ns=None, cross_attentions=                                           \n",
            "                             None)                                                                \n",
            "                                                                                                  \n",
            " tf.__operators__.getitem (  (None, 768)                  0         ['tf_bert_model_1[0][0]']     \n",
            " SlicingOpLambda)                                                                                 \n",
            "                                                                                                  \n",
            " hidden_layer_1 (Dense)      (None, 768)                  590592    ['tf.__operators__.getitem[0][\n",
            "                                                                    0]']                          \n",
            "                                                                                                  \n",
            " dropout_74 (Dropout)        (None, 768)                  0         ['hidden_layer_1[0][0]']      \n",
            "                                                                                                  \n",
            " classification_layer (Dens  (None, 3)                    2307      ['dropout_74[0][0]']          \n",
            " e)                                                                                               \n",
            "                                                                                                  \n",
            "==================================================================================================\n",
            "Total params: 110075139 (419.90 MB)\n",
            "Trainable params: 110075139 (419.90 MB)\n",
            "Non-trainable params: 0 (0.00 Byte)\n",
            "__________________________________________________________________________________________________\n"
          ]
        }
      ]
    },
    {
      "cell_type": "code",
      "source": [
        "keras.utils.plot_model(bert_classification_model, show_shapes=True, dpi=90)"
      ],
      "metadata": {
        "id": "dAsKlqf46fiu",
        "colab": {
          "base_uri": "https://localhost:8080/",
          "height": 541
        },
        "outputId": "ff9b67c6-0258-455b-e94f-2340f54a0b2a"
      },
      "execution_count": 15,
      "outputs": [
        {
          "output_type": "execute_result",
          "data": {
            "image/png": "[encoded data removed]",
            "text/plain": [
              "<IPython.core.display.Image object>"
            ]
          },
          "metadata": {},
          "execution_count": 15
        }
      ]
    },
    {
      "cell_type": "code",
      "source": [
        "from tensorflow.keras.callbacks import EarlyStopping\n",
        "# Early stopping callback to avoid overfitting issue\n",
        "early_stopping = EarlyStopping(\n",
        "    monitor='val_accuracy',\n",
        "    patience=2,\n",
        "    mode='max',\n",
        "    restore_best_weights=True  # Restore model weights from the epoch with the best value of the monitored quantity\n",
        ")"
      ],
      "metadata": {
        "id": "WhUOF1is2AKd"
      },
      "execution_count": 16,
      "outputs": []
    },
    {
      "cell_type": "code",
      "source": [
        "bert_classification_model_history = bert_classification_model.fit(\n",
        "    [x_train.input_ids, x_train.token_type_ids, x_train.attention_mask],\n",
        "    y_train,\n",
        "    validation_data=([x_test.input_ids, x_test.token_type_ids, x_test.attention_mask], y_test),\n",
        "    batch_size=16,\n",
        "    epochs=4,\n",
        "    callbacks=[early_stopping]\n",
        ")"
      ],
      "metadata": {
        "colab": {
          "base_uri": "https://localhost:8080/"
        },
        "id": "HWvj_hjF6CGR",
        "outputId": "4878ea26-b811-452b-f9c6-8b78c5759222"
      },
      "execution_count": 18,
      "outputs": [
        {
          "output_type": "stream",
          "name": "stdout",
          "text": [
            "Epoch 1/4\n",
            "181/181 [==============================] - 322s 2s/step - loss: 1.0497 - accuracy: 0.4507 - val_loss: 0.9612 - val_accuracy: 0.5051\n",
            "Epoch 2/4\n",
            "181/181 [==============================] - 306s 2s/step - loss: 0.8790 - accuracy: 0.5804 - val_loss: 0.8530 - val_accuracy: 0.5825\n",
            "Epoch 3/4\n",
            "181/181 [==============================] - 306s 2s/step - loss: 0.5618 - accuracy: 0.7601 - val_loss: 0.6810 - val_accuracy: 0.7420\n",
            "Epoch 4/4\n",
            "181/181 [==============================] - 306s 2s/step - loss: 0.3867 - accuracy: 0.8500 - val_loss: 0.5994 - val_accuracy: 0.7801\n"
          ]
        }
      ]
    },
    {
      "cell_type": "code",
      "source": [
        "history = bert_classification_model_history.history\n",
        "\n",
        "# Plotting accuracy\n",
        "plt.figure(figsize=(12,5))\n",
        "plt.subplot(1,2,1)\n",
        "plt.plot(history['accuracy'], label='Training Accuracy')\n",
        "plt.plot(history['val_accuracy'], label='Validation Accuracy')\n",
        "plt.title('Model Accuracy')\n",
        "plt.xlabel('Epoch')\n",
        "plt.ylabel('Accuracy')\n",
        "plt.legend()\n",
        "\n",
        "# Plotting loss\n",
        "plt.subplot(1,2,2)\n",
        "plt.plot(history['loss'], label='Training Loss')\n",
        "plt.plot(history['val_loss'], label='Validation Loss')\n",
        "plt.title('Model Loss')\n",
        "plt.xlabel('Epoch')\n",
        "plt.ylabel('Loss')\n",
        "plt.legend()\n",
        "\n",
        "plt.tight_layout()\n",
        "plt.show()"
      ],
      "metadata": {
        "colab": {
          "base_uri": "https://localhost:8080/",
          "height": 507
        },
        "id": "TGvT2O2_AQsL",
        "outputId": "1c610e88-aed0-4fb1-ec99-a3e4178008ee"
      },
      "execution_count": 19,
      "outputs": [
        {
          "output_type": "display_data",
          "data": {
            "text/plain": [
              "<Figure size 1200x500 with 2 Axes>"
            ],
            "image/png": "[encoded data removed]"
          },
          "metadata": {}
        }
      ]
    },
    {
      "cell_type": "code",
      "source": [
        "predictions_model= bert_classification_model.predict([x_test.input_ids, x_test.token_type_ids, x_test.attention_mask])\n",
        "predictions_model = tf.argmax(predictions_model, axis=-1)\n",
        "predictions_model"
      ],
      "metadata": {
        "colab": {
          "base_uri": "https://localhost:8080/"
        },
        "id": "-d-4N0F99apO",
        "outputId": "ff26e63b-7173-4fc8-da45-a55a32f9ad0a"
      },
      "execution_count": 20,
      "outputs": [
        {
          "output_type": "stream",
          "name": "stdout",
          "text": [
            "138/138 [==============================] - 103s 723ms/step\n"
          ]
        },
        {
          "output_type": "execute_result",
          "data": {
            "text/plain": [
              "<tf.Tensor: shape=(4407,), dtype=int64, numpy=array([0, 0, 2, ..., 2, 2, 0])>"
            ]
          },
          "metadata": {},
          "execution_count": 20
        }
      ]
    },
    {
      "cell_type": "code",
      "source": [
        "print(classification_report(y_test, predictions_model.numpy(),\n",
        "                            target_names=['Left ','Center','Right']))"
      ],
      "metadata": {
        "colab": {
          "base_uri": "https://localhost:8080/"
        },
        "id": "nP_B6GDR9oeK",
        "outputId": "a0819576-49ff-4b57-9ab8-659b159be20a"
      },
      "execution_count": 21,
      "outputs": [
        {
          "output_type": "stream",
          "name": "stdout",
          "text": [
            "              precision    recall  f1-score   support\n",
            "\n",
            "       Left        0.74      0.86      0.80      1836\n",
            "      Center       0.89      0.71      0.79      1005\n",
            "       Right       0.78      0.73      0.75      1566\n",
            "\n",
            "    accuracy                           0.78      4407\n",
            "   macro avg       0.80      0.77      0.78      4407\n",
            "weighted avg       0.79      0.78      0.78      4407\n",
            "\n"
          ]
        }
      ]
    },
    {
      "cell_type": "code",
      "source": [
        "def plot_confusion_matrix(y_true, y_pred, label_names):\n",
        "    cm = tf.math.confusion_matrix(y_true, y_pred)\n",
        "    cm = cm/cm.numpy().sum(axis=1)[:, tf.newaxis]\n",
        "\n",
        "    plt.figure(figsize=(20,7))\n",
        "    sns.heatmap(\n",
        "        cm, annot=True,\n",
        "        xticklabels=label_names,\n",
        "        yticklabels=label_names)\n",
        "    plt.xlabel(\"Predicted\")\n",
        "    plt.ylabel(\"True\")"
      ],
      "metadata": {
        "id": "qdv27kz39yqB"
      },
      "execution_count": 22,
      "outputs": []
    },
    {
      "cell_type": "code",
      "source": [
        "target_names=['Left ','Center','Right']\n",
        "plot_confusion_matrix(y_test, predictions_model.numpy(), target_names)"
      ],
      "metadata": {
        "colab": {
          "base_uri": "https://localhost:8080/",
          "height": 619
        },
        "id": "nml10N3ycx4r",
        "outputId": "239c3fe8-aad6-496e-bb7e-a79df5336a52"
      },
      "execution_count": 23,
      "outputs": [
        {
          "output_type": "display_data",
          "data": {
            "text/plain": [
              "<Figure size 2000x700 with 2 Axes>"
            ],
            "image/png": "[encoded data removed]"
          },
          "metadata": {}
        }
      ]
    },
    {
      "cell_type": "code",
      "source": [
        "bert_cls_wrong_guesses = np.where(y_test != predictions_model.numpy())"
      ],
      "metadata": {
        "id": "EuLHf0kn-aOh"
      },
      "execution_count": 24,
      "outputs": []
    },
    {
      "cell_type": "code",
      "source": [
        "print(f'Number of Wrong Guesses: ',len(bert_cls_wrong_guesses[0]))"
      ],
      "metadata": {
        "colab": {
          "base_uri": "https://localhost:8080/"
        },
        "id": "Eu3ncelpdXIH",
        "outputId": "d62fe3f7-56f5-40d3-b356-9baab98010f1"
      },
      "execution_count": 25,
      "outputs": [
        {
          "output_type": "stream",
          "name": "stdout",
          "text": [
            "Number of Wrong Guesses:  969\n"
          ]
        }
      ]
    },
    {
      "cell_type": "code",
      "source": [
        "#sampling 20 of the wrong precditions\n",
        "wrong_guesses = [i for i in np.squeeze(bert_cls_wrong_guesses[0])]\n",
        "decoded_wrong_guesses_text=[]\n",
        "\n",
        "for i in wrong_guesses[:]:\n",
        "  decoded_text = bert_tokenizer.decode(x_test['input_ids'][i], skip_special_tokens=True)\n",
        "\n",
        "  # print(\"Input text:\")\n",
        "  # print(decoded_text)\n",
        "  decoded_wrong_guesses_text.append(decoded_text)\n",
        "  # print(\"True label:\")\n",
        "  # print(y_test.iloc[i])\n",
        "  # print(\"Predicted label:\")\n",
        "  # print(predictions_model.numpy()[i])\n",
        "\n",
        "  # print(\"-\" * 50)\n",
        "\n"
      ],
      "metadata": {
        "id": "q48gMIXLdk2q"
      },
      "execution_count": 26,
      "outputs": []
    },
    {
      "cell_type": "code",
      "source": [
        "len(decoded_wrong_guesses_text)"
      ],
      "metadata": {
        "colab": {
          "base_uri": "https://localhost:8080/"
        },
        "id": "QAlXC5vHem8q",
        "outputId": "aeead8ec-fdd0-451b-ece6-0c2c5256a357"
      },
      "execution_count": 27,
      "outputs": [
        {
          "output_type": "execute_result",
          "data": {
            "text/plain": [
              "969"
            ]
          },
          "metadata": {},
          "execution_count": 27
        }
      ]
    },
    {
      "cell_type": "code",
      "source": [
        "# Get the actual indices of the rows with wrong guesses\n",
        "wrong_guesses_indices = test_df.index[wrong_guesses]\n",
        "\n",
        "# Now use these correct indices to extract the relevant rows\n",
        "sources_analysis = test_df.loc[wrong_guesses_indices]"
      ],
      "metadata": {
        "id": "r7ePHhyxke3d"
      },
      "execution_count": 28,
      "outputs": []
    },
    {
      "cell_type": "code",
      "source": [
        "# Count the occurrences of each source\n",
        "source_counts = sources_analysis['source'].value_counts()\n",
        "\n",
        "# Get the top 10 sources\n",
        "top_sources = source_counts.head(30)\n",
        "\n",
        "# Create a bar plot for the top 10 sources\n",
        "plt.figure(figsize=(12, 6))\n",
        "top_sources.plot(kind='bar')\n",
        "\n",
        "# Customize the plot\n",
        "plt.title(\"Distribution of Wrong Guess' Sources (Top 10)\")\n",
        "plt.xlabel('Source')\n",
        "plt.ylabel('Count')\n",
        "plt.xticks(rotation=45, ha='right')\n",
        "plt.tight_layout()\n",
        "\n",
        "# Show the plot\n",
        "plt.show()"
      ],
      "metadata": {
        "id": "_HmBmevpmvV1",
        "colab": {
          "base_uri": "https://localhost:8080/",
          "height": 607
        },
        "outputId": "6e4df2e3-f094-4880-d53e-3c95563a6c33"
      },
      "execution_count": 29,
      "outputs": [
        {
          "output_type": "display_data",
          "data": {
            "text/plain": [
              "<Figure size 1200x600 with 1 Axes>"
            ],
            "image/png": "[encoded data removed]"
          },
          "metadata": {}
        }
      ]
    },
    {
      "cell_type": "code",
      "source": [
        "# Convert 'date' to datetime if it's not already\n",
        "sources_analysis['date'] = pd.to_datetime(sources_analysis['date'])\n",
        "\n",
        "# Extract year from the date\n",
        "sources_analysis['year'] = sources_analysis['date'].dt.year\n",
        "\n",
        "# Count occurrences of each year\n",
        "year_counts = sources_analysis['year'].value_counts().sort_index()\n",
        "\n",
        "# Create a bar plot\n",
        "plt.figure(figsize=(12, 6))\n",
        "year_counts.plot(kind='bar')\n",
        "\n",
        "# Customize the plot\n",
        "plt.title('Distribution of Sources by Year')\n",
        "plt.xlabel('Year')\n",
        "plt.ylabel('Count')\n",
        "plt.xticks(rotation=0)  # No rotation for years\n",
        "plt.tight_layout()\n",
        "\n",
        "# Show the plot\n",
        "plt.show()"
      ],
      "metadata": {
        "id": "OlczO-KVoc6z",
        "colab": {
          "base_uri": "https://localhost:8080/",
          "height": 607
        },
        "outputId": "4e09117a-eba7-488c-b47a-7f09bd6da59b"
      },
      "execution_count": 30,
      "outputs": [
        {
          "output_type": "display_data",
          "data": {
            "text/plain": [
              "<Figure size 1200x600 with 1 Axes>"
            ],
            "image/png": "[encoded data removed]"
          },
          "metadata": {}
        }
      ]
    },
    {
      "cell_type": "code",
      "source": [
        "# for i in wrong_guesses[:50]:\n",
        "#   decoded_text = bert_tokenizer.decode(x_test['input_ids'][i], skip_special_tokens=True)\n",
        "\n",
        "#   print(\"Input text:\")\n",
        "#   print(decoded_text)\n",
        "#   print(\"True label:\")\n",
        "#   print(y_test.iloc[i])\n",
        "#   print(\"Predicted label:\")\n",
        "#   print(predictions_model.numpy()[i])\n",
        "\n",
        "#   print(\"-\" * 50)\n"
      ],
      "metadata": {
        "id": "QubWzf3VpCMj"
      },
      "execution_count": null,
      "outputs": []
    },
    {
      "cell_type": "code",
      "source": [
        "decoded_wrong_guesses_df = pd.DataFrame({'text': decoded_wrong_guesses_text})\n",
        "\n",
        "# Now you can save it to a CSV file\n",
        "decoded_wrong_guesses_df.to_csv('bert_cls_fine_tuning_wrong guess(7.24.24).csv', index=False)"
      ],
      "metadata": {
        "id": "btFttc_4q6zg"
      },
      "execution_count": 31,
      "outputs": []
    },
    {
      "cell_type": "code",
      "source": [],
      "metadata": {
        "id": "ZtlxJn3vpGcT"
      },
      "execution_count": null,
      "outputs": []
    }
  ]
}