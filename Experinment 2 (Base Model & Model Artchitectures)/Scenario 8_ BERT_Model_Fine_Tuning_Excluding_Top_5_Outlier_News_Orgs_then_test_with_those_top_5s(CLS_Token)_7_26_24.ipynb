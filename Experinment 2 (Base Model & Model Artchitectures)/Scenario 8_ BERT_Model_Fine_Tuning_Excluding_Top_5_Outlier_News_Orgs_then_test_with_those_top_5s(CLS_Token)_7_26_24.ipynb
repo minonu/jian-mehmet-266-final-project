{
  "cells": [
    {
      "cell_type": "code",
      "execution_count": 1,
      "metadata": {
        "id": "4CVDyMAfqUGP"
      },
      "outputs": [],
      "source": [
        "%%capture\n",
        "!pip install tensorflow-datasets==4.8 --quiet\n",
        "!pip install tensorflow==2.15.0 --quiet #15 13\n",
        "!pip install tf_keras==2.15.0 --quiet\n",
        "!pip install tensorflow-text==2.15.0 --quiet #15\n",
        "!pip install pydot --quiet\n",
        "!pip install transformers==4.17 --quiet\n",
        "!pip install -U scikit-learn"
      ]
    },
    {
      "cell_type": "code",
      "execution_count": 2,
      "metadata": {
        "id": "8rWTGr5HuknD"
      },
      "outputs": [],
      "source": [
        "#Tensorflow libiries\n",
        "from tensorflow import keras\n",
        "from tensorflow.keras.layers import Embedding, Input, Dense, Lambda\n",
        "from tensorflow.keras.models import Model\n",
        "import tensorflow as tf\n",
        "import tensorflow.keras.backend as K\n",
        "import tensorflow_datasets as tfds\n",
        "\n",
        "#Transformers - BERT from huggingface\n",
        "from transformers import BertTokenizer, TFBertModel\n",
        "from transformers import logging\n",
        "logging.set_verbosity_error()\n",
        "from transformers import AutoConfig\n",
        "from tensorflow.keras.callbacks import EarlyStopping\n",
        "\n",
        "#NLP libiries\n",
        "import sklearn as sk\n",
        "from sklearn.metrics import classification_report\n",
        "import os\n",
        "import nltk\n",
        "from nltk.data import find\n",
        "\n",
        "#data process\n",
        "import re\n",
        "import numpy as np\n",
        "import seaborn as sns\n",
        "import matplotlib.pyplot as plt\n",
        "import multiprocessing\n",
        "import pandas as pd\n",
        "import math\n",
        "from bs4 import BeautifulSoup\n",
        "import os\n",
        "import json\n"
      ]
    },
    {
      "cell_type": "code",
      "execution_count": 3,
      "metadata": {
        "colab": {
          "base_uri": "https://localhost:8080/",
          "height": 166,
          "referenced_widgets": [
            "44bbf13c90c64b1d88e5ddde18617399",
            "47ee54d5ee634f3e92e93a251e273b8c",
            "e206e162f7be4a429c1a6f684d5ce6e8",
            "2d4017cd5d0442a4bceb83c156a02f5c",
            "0aec18b71ab7406e8081e00d57b5c6c3",
            "5274c0c2b9a743bb89443131f26e5c3f",
            "83bc783c8a47482bb23a19efc8652c4a",
            "f256de3703234d7198c17f50fd00aba0",
            "7d9b82f4d9f44c8982c71afab81ed70f",
            "59937c49419f4e3b86bc73e98a120a2d",
            "285ea61d11b84516bdc5828f5ceec763",
            "5c42d5b059264690afd0d76a6984851a",
            "630f3f348ccd49b8bc46ae1a1b617293",
            "e4aca552cf094b369b6ff987046f169f",
            "36c4a55aad3544a282a7a9aa4564d628",
            "ba2c7be4515f41859b7ee821a843420f",
            "2313d5dc0fae43feb04970ba0d27d272",
            "83efcb4e74634bcba5a83076d544de76",
            "a592147106cb4b1da9d1544695afb13f",
            "7f2c968e29ef42e7b6513c88946c33f5",
            "2e88527abb9b4326a9c59281893c7ad0",
            "2526e20e37624294a0276f871a4abcf8",
            "b05fe98c02664cdcb246a597a169e15a",
            "241e91b7dcb441b4a1084933c1134733",
            "f6bcb13fb3604d7ab56e79fb847b0993",
            "7c23907445a74932b254874bba9a8418",
            "1020f22f8dc7486abf55b1260488eb77",
            "0bfd8e1b375a4a1c9501073251bdf28a",
            "1b2cda0afba1494caa077ec45a256c1c",
            "ee3e2bc6ef9a43e383740b657675709e",
            "131601276e57420798705e9033b7d284",
            "94581f898747495d8eb8f8b5f0d791d4",
            "07bc9b98b56148e581daff146449eea1",
            "08813214d83b48df8e7f83d74bafca61",
            "87c3185b470042faaea6a0b9ccb25208",
            "1fd3e22e39304b36888a55c8d0cf513d",
            "82a9eb736eeb436aa7ecdfca056fa1a9",
            "c1e48d72c1924ddea7af07adfd61b385",
            "811ba0a89c514ff1b4e9a36f7d4b6a68",
            "f82fcad8377b4cf08977077bd88d29a9",
            "26f3255607624a7fb917e6ebcf99b04c",
            "6a8f08749b70487a89f2182e204b2897",
            "afcad63240a240498895ac720a00a099",
            "bcba5ff6e4bf4fb783e7640bf3770c01"
          ]
        },
        "id": "QyG5dUyAvfHc",
        "outputId": "f69810c6-ddad-4393-d62d-75ac437faab8"
      },
      "outputs": [
        {
          "output_type": "display_data",
          "data": {
            "text/plain": [
              "Downloading:   0%|          | 0.00/226k [00:00<?, ?B/s]"
            ],
            "application/vnd.jupyter.widget-view+json": {
              "version_major": 2,
              "version_minor": 0,
              "model_id": "44bbf13c90c64b1d88e5ddde18617399"
            }
          },
          "metadata": {}
        },
        {
          "output_type": "display_data",
          "data": {
            "text/plain": [
              "Downloading:   0%|          | 0.00/48.0 [00:00<?, ?B/s]"
            ],
            "application/vnd.jupyter.widget-view+json": {
              "version_major": 2,
              "version_minor": 0,
              "model_id": "5c42d5b059264690afd0d76a6984851a"
            }
          },
          "metadata": {}
        },
        {
          "output_type": "display_data",
          "data": {
            "text/plain": [
              "Downloading:   0%|          | 0.00/570 [00:00<?, ?B/s]"
            ],
            "application/vnd.jupyter.widget-view+json": {
              "version_major": 2,
              "version_minor": 0,
              "model_id": "b05fe98c02664cdcb246a597a169e15a"
            }
          },
          "metadata": {}
        },
        {
          "output_type": "display_data",
          "data": {
            "text/plain": [
              "Downloading:   0%|          | 0.00/511M [00:00<?, ?B/s]"
            ],
            "application/vnd.jupyter.widget-view+json": {
              "version_major": 2,
              "version_minor": 0,
              "model_id": "08813214d83b48df8e7f83d74bafca61"
            }
          },
          "metadata": {}
        }
      ],
      "source": [
        "#loading the pre-trained tokenizer and model\n",
        "bert_tokenizer = BertTokenizer.from_pretrained('bert-base-uncased')\n",
        "bert_model = TFBertModel.from_pretrained('bert-base-uncased')"
      ]
    },
    {
      "cell_type": "code",
      "execution_count": 17,
      "metadata": {
        "id": "pkqZfuBwwCuR"
      },
      "outputs": [],
      "source": [
        "#load the dataset with error handling\n",
        "try:\n",
        "    train_df = pd.read_csv('full_train_data(Revised).csv')\n",
        "except pd.errors.ParserError as e:\n",
        "    print(f\"Error reading CSV: {e}\")\n",
        "    # Print the lines around the problematic row\n",
        "    with open('full_train_data(Revised).csv', 'r') as f:\n",
        "        lines = f.readlines()\n",
        "        for i in range(17622, 17626):\n",
        "            if i < len(lines):\n",
        "                print(lines[i])\n",
        "\n",
        "test_df = pd.read_csv('full_dataset(Revised).csv')\n",
        "\n",
        "# Adjust pandas display settings to show all rows and columns\n",
        "pd.set_option('display.max_rows', None)  # Show all rows\n",
        "pd.set_option('display.max_columns', None)  # Show all columns\n",
        "pd.set_option('display.max_colwidth', None)  # Show full content of each column\n",
        "pd.set_option('display.width', None)  # Auto-detect width of the display\n",
        "\n",
        "\n"
      ]
    },
    {
      "cell_type": "code",
      "execution_count": 18,
      "metadata": {
        "colab": {
          "base_uri": "https://localhost:8080/"
        },
        "id": "j8jNnMPKxMCW",
        "outputId": "967bb002-b5e1-453d-b28c-b374bda3262e"
      },
      "outputs": [
        {
          "output_type": "execute_result",
          "data": {
            "text/plain": [
              "Index(['title', 'date', 'content_original', 'bias', 'bias_text', 'source'], dtype='object')"
            ]
          },
          "metadata": {},
          "execution_count": 18
        }
      ],
      "source": [
        "train_df.columns"
      ]
    },
    {
      "cell_type": "code",
      "execution_count": 19,
      "metadata": {
        "id": "CMoc5b34iHno"
      },
      "outputs": [],
      "source": [
        "#targeted news ogranization to be removed\n",
        "\n",
        "target_news_org = ['Washington Times', 'CNN (Web News)', 'NPR Online News', 'Politico', 'Vox' ]"
      ]
    },
    {
      "cell_type": "code",
      "execution_count": 20,
      "metadata": {
        "id": "c2-3Fw6Jh8x7"
      },
      "outputs": [],
      "source": [
        "train_df = train_df[~train_df['source'].isin(target_news_org)]\n"
      ]
    },
    {
      "cell_type": "code",
      "source": [
        "test_df = test_df[test_df['source'].isin(target_news_org)]"
      ],
      "metadata": {
        "id": "Pejz3xf3YB5x"
      },
      "execution_count": 21,
      "outputs": []
    },
    {
      "cell_type": "code",
      "source": [
        "test_df['source'].unique()"
      ],
      "metadata": {
        "colab": {
          "base_uri": "https://localhost:8080/"
        },
        "id": "vWBa2NDPYFAj",
        "outputId": "80315da8-c259-4598-f8b7-eb3d9cb462c7"
      },
      "execution_count": 8,
      "outputs": [
        {
          "output_type": "execute_result",
          "data": {
            "text/plain": [
              "array(['Washington Times', 'CNN (Web News)', 'Politico',\n",
              "       'NPR Online News', 'Vox'], dtype=object)"
            ]
          },
          "metadata": {},
          "execution_count": 8
        }
      ]
    },
    {
      "cell_type": "code",
      "source": [
        "# Shuffle the entire dataset\n",
        "test_df_shuffled = test_df.sample(frac=1, random_state=42).reset_index(drop=True)\n",
        "\n",
        "# Calculate the size of each batch\n",
        "batch_size = 2000\n",
        "\n",
        "# Create three batches\n",
        "test_df_1 = test_df_shuffled.iloc[:batch_size]\n",
        "test_df_2 = test_df_shuffled.iloc[batch_size:2*batch_size]\n",
        "test_df_3 = test_df_shuffled.iloc[2*batch_size:3*batch_size]\n",
        "\n",
        "# If you want to ensure each batch has exactly 2000 samples,\n",
        "# you can use the following instead:\n",
        "test_df_1 = test_df_shuffled.sample(n=batch_size, random_state=42)\n",
        "test_df_2 = test_df_shuffled.drop(test_df_1.index).sample(n=batch_size, random_state=43)\n",
        "test_df_3 = test_df_shuffled.drop(test_df_1.index).drop(test_df_2.index).sample(n=batch_size, random_state=44)"
      ],
      "metadata": {
        "id": "vqhJGAcLXnZI"
      },
      "execution_count": 22,
      "outputs": []
    },
    {
      "cell_type": "code",
      "execution_count": 10,
      "metadata": {
        "colab": {
          "base_uri": "https://localhost:8080/"
        },
        "id": "PYyfMfZxhzfu",
        "outputId": "563afe9b-2692-493f-aa00-13d1f60338b6"
      },
      "outputs": [
        {
          "output_type": "execute_result",
          "data": {
            "text/plain": [
              "array(['Christian Science Monitor', 'The Guardian', 'Reason', 'Townhall',\n",
              "       'Fox Online News', 'Yahoo! The 360', 'TheBlaze.com',\n",
              "       'National Review', 'Wall Street Journal - Editorial',\n",
              "       'Business Insider', 'Daily Kos', 'Bloomberg', 'The Week - News',\n",
              "       'Daily Beast', 'USA TODAY', 'Breitbart News', 'Fox News',\n",
              "       'Chicago Sun-Times', 'Charles Krauthammer', 'The Atlantic',\n",
              "       'HotAir', 'MarketWatch', 'New York Times - News', 'Salon',\n",
              "       'Guest Writer - Left', 'Newsmax', 'FiveThirtyEight',\n",
              "       'Michelle Malkin', 'Polish Times', 'Reuters', 'Associated Press',\n",
              "       'Victor Hanson', 'Pew Research Center',\n",
              "       'New York Times (Online News)', 'City Journal', 'Jonah Goldberg',\n",
              "       'Guest Writer - Right', 'Fox News Opinion', 'Yahoo! News', 'Slate',\n",
              "       'Washington Post', 'Mother Jones', 'Newsmax (News)', 'Defense One',\n",
              "       'Independent Journal Review', 'Peacock Panache',\n",
              "       'Detroit Free Press', 'CNBC', 'Newsmax - News',\n",
              "       'Washington Free Beacon', 'ProPublica', 'CNN - Editorial',\n",
              "       'Red State', 'New Republic', 'George Will',\n",
              "       'Brookings Institution', 'Center For American Progress',\n",
              "       'The Commercial Appeal', 'Time Magazine', 'The New Yorker', 'Mitú',\n",
              "       'BET', 'Rich Lowry', 'Mitt Romney', 'New York Times - Opinion',\n",
              "       'Daily Chela', 'Guest Writer', 'Juan Williams', 'The Verge',\n",
              "       'Roll Call', 'The Marshall Project', 'CBS News',\n",
              "       'Wall Street Journal - News', 'The Nation', 'NBC News (Online)',\n",
              "       'NewsBusters', 'AP Fact Check', 'Boston Herald',\n",
              "       'The Observer (New York)', 'Ben Shapiro',\n",
              "       'Arkansas Democrat-Gazette', 'Foreign Policy',\n",
              "       'The Heritage Foundation', 'New York Post (Opinion)', 'Quillette',\n",
              "       'PinkNews', 'Human Rights Watch', 'Michael Brendan Dougherty',\n",
              "       'WND.com', 'The Western Journal', 'Detroit News', 'John Fund',\n",
              "       'The Hollywood Reporter', 'Gallup', 'New York Magazine',\n",
              "       'Daily Mail', 'InfoWars', 'Medical Daily',\n",
              "       'Orange County Register', 'The Week - Opinion', 'Esquire',\n",
              "       'Ezra Klein', 'Dennis Prager', 'San Francisco Chronicle',\n",
              "       'Fortune', 'Deseret News', 'Damon Linker', 'The Daily Signal',\n",
              "       'Ryan Cooper', 'Drudge Report', 'Ann Coulter', 'Mashable',\n",
              "       'Jesse Jackson', 'Barack Obama', 'Medium', 'The Texas Tribune',\n",
              "       'RollingStone.com', 'Heavy.com', 'CNSNews.com', 'AlterNet',\n",
              "       'Socialist Alternative', 'Media Research Center', 'John Stossel',\n",
              "       'Dana Milbank', 'PBS NewsHour', 'MIT News', 'The Post Millennial',\n",
              "       'CNS News', 'Michael Barone', 'RealClearPolitics',\n",
              "       'William Bennett', 'DesMoines Register', 'The Dallas Morning News',\n",
              "       'Jon Terbush', 'New York Post', 'Latino Rebels', 'Newt Gingrich',\n",
              "       'John Gable, AllSides Founder', 'Global Research',\n",
              "       'Boston Herald Editorial', 'Deadline.com', 'Live Action News',\n",
              "       'International Business Times', 'San Jose Mercury News',\n",
              "       'Inside Philanthropy', 'The Daily Caller', 'Reason Foundation',\n",
              "       'NPR Editorial ', 'ABC News', 'Richard A. Lowry',\n",
              "       'Chicago Tribune', 'IVN', 'OpenSecrets.org',\n",
              "       'Student Press Law Center', 'Matt Welch', 'S.E. Cupp',\n",
              "       'Charles Blow', 'The Massachusetts Daily Collegian',\n",
              "       'Kathleen Parker', 'CNET', 'Al Jazeera',\n",
              "       'Socialist Project/The Bullet', 'The Conversation',\n",
              "       'Bring Me The News', 'Rand Paul', 'The Libertarian Republic',\n",
              "       'Fiscal Times', 'Western Journal', 'PJ Media', 'Grist',\n",
              "       'Black Enterprise', 'The Independent', 'Odyssey Online',\n",
              "       'Raw Story', 'NBCNews.com', 'CU Independent', 'WGN',\n",
              "       'Mercatus Center', 'Julian Zelizer', 'The Courier-Journal',\n",
              "       'Houston Chronicle', 'Thomas Sowell', 'Cosmopolitan',\n",
              "       'Fabius Maximus', 'Ted Rall (cartoonist)', 'LGBTQ Nation',\n",
              "       'The Denver Post', 'Webster Journal', 'Scriberr Media - News',\n",
              "       'Louisville Courier-Journal', 'The Intelligencer',\n",
              "       'Portland Press Herald', 'Rev. Jesse Jackson Sr.',\n",
              "       'Atlanta Journal-Constitution', 'CalMatters', 'Sally Pipes',\n",
              "       'Kalamazoo Gazette', 'Billy Binion', 'Des Moines Register',\n",
              "       'Pacific Standard', \"Investor's Business Daily\", 'BBC News',\n",
              "       'TruthOut', 'Andrew Napolitano',\n",
              "       'The Reporters Committee for Freedom of the Press',\n",
              "       'Marc A. Thiessen', 'Hillary Clinton', 'Henry A. Brechter',\n",
              "       'Star News', 'San Gabriel Valley Tribune', 'Wausau Daily Herald',\n",
              "       'Tallahassee Democrat', 'SFGate', 'The Texan',\n",
              "       'New York Post (News)', 'TED', 'HuffPost', 'Military Times',\n",
              "       'The Hill', 'Psypost', 'Newsmax - Opinion', 'Longmont Times-Call',\n",
              "       'Snopes', 'AL.com', 'Rem Reider', 'Daily Camera',\n",
              "       'Block Club Chicago', 'Marijuana Moment', 'Las Vegas Sun',\n",
              "       'Kitsap Sun', 'Tucker Carlson', 'The Colorado Sun',\n",
              "       'Foreign Affairs', 'Scriberr Media - Opinion/Editorial',\n",
              "       'Jeff Jacoby', 'Toronto Star', 'Manhattan Institute',\n",
              "       'Washington Examiner', 'JSTOR Daily', 'Daily Northwestern',\n",
              "       'Mediaite', 'The Globe and Mail', 'Pat Buchanan', 'East Bay Times',\n",
              "       'Metrocosm', 'Washington Monthly', 'Matt Towery', 'CalWatchdog',\n",
              "       'Allysia Finley (Wall Street Journal)', 'TechCrunch',\n",
              "       'International Institute for Strategic Studies',\n",
              "       'Commentary Magazine', 'Paul Ryan', 'Los Angeles Times',\n",
              "       'Gail Collins', 'AZ Central', 'American Enterprise Institute',\n",
              "       'AllSides'], dtype=object)"
            ]
          },
          "metadata": {},
          "execution_count": 10
        }
      ],
      "source": [
        "train_df['source'].unique()"
      ]
    },
    {
      "cell_type": "code",
      "execution_count": null,
      "metadata": {
        "colab": {
          "base_uri": "https://localhost:8080/"
        },
        "id": "BlS6YagLwzQd",
        "outputId": "32d8f7f6-8bf3-419c-ff2c-59f15336b092"
      },
      "outputs": [
        {
          "name": "stdout",
          "output_type": "stream",
          "text": [
            "basic train_df info:  (20114, 6)\n"
          ]
        }
      ],
      "source": [
        "print(f\"basic train_df info: \",train_df.shape)"
      ]
    },
    {
      "cell_type": "code",
      "execution_count": 23,
      "metadata": {
        "colab": {
          "base_uri": "https://localhost:8080/"
        },
        "id": "vlOu73PYi8LL",
        "outputId": "bc620374-6aaa-4a5b-ae9e-44682cab2e5d"
      },
      "outputs": [
        {
          "output_type": "stream",
          "name": "stdout",
          "text": [
            "basic train_df info after deleting the top-5 outlier news org:  (11332, 6)\n"
          ]
        }
      ],
      "source": [
        "print(f\"basic train_df info after deleting the top-5 outlier news org: \",train_df.shape)\n"
      ]
    },
    {
      "cell_type": "code",
      "execution_count": null,
      "metadata": {
        "colab": {
          "base_uri": "https://localhost:8080/"
        },
        "id": "GdbG2sxpxddS",
        "outputId": "f8dd9375-2cc9-42b4-fcfd-b588705782b2"
      },
      "outputs": [
        {
          "name": "stdout",
          "output_type": "stream",
          "text": [
            "basic test_df info:  (5029, 6)\n"
          ]
        }
      ],
      "source": [
        "print(f\"basic test_df info: \",test_df.shape)"
      ]
    },
    {
      "cell_type": "code",
      "execution_count": 24,
      "metadata": {
        "colab": {
          "base_uri": "https://localhost:8080/"
        },
        "id": "oVMo2D5DjFIo",
        "outputId": "bbf52577-3eb0-421f-daed-afa2a72ce888"
      },
      "outputs": [
        {
          "output_type": "stream",
          "name": "stdout",
          "text": [
            "batch 1 train_df1 info after deleting the top-5 outlier news org:  (2000, 6)\n",
            "batch 2 train_df2 info after deleting the top-5 outlier news org:  (2000, 6)\n",
            "batch 3 train_df3 info after deleting the top-5 outlier news org:  (2000, 6)\n"
          ]
        }
      ],
      "source": [
        "print(f\"batch 1 train_df1 info after deleting the top-5 outlier news org: \",test_df_1.shape)\n",
        "print(f\"batch 2 train_df2 info after deleting the top-5 outlier news org: \",test_df_1.shape)\n",
        "print(f\"batch 3 train_df3 info after deleting the top-5 outlier news org: \",test_df_1.shape)"
      ]
    },
    {
      "cell_type": "code",
      "execution_count": 26,
      "metadata": {
        "colab": {
          "base_uri": "https://localhost:8080/"
        },
        "id": "DN_SB3PTxfhF",
        "outputId": "c734c125-03b0-448d-d1ee-2dee25a6be24"
      },
      "outputs": [
        {
          "output_type": "stream",
          "name": "stdout",
          "text": [
            "size of training dataset:  8000\n",
            "\n",
            "size of valid dataset:  3332\n",
            "\n",
            "size of testing dataset 1:  2000\n",
            "\n",
            "size of testing dataset 2:  2000\n",
            "\n",
            "size of testing dataset 3:  2000\n",
            "\n",
            "Left with Label 0 \n",
            "Center with Label 1 \n",
            "Right with Label 2 \n"
          ]
        }
      ],
      "source": [
        "# extract the train and test text from both dataframes\n",
        "train_text = train_df['content_original'][:8000]\n",
        "train_text_labels = train_df['bias'][:8000]\n",
        "\n",
        "# For validation, use the remaining data after the first 8000 rows\n",
        "validate_text = train_df['content_original'][8000:]\n",
        "validate_text_labels = train_df['bias'][8000:]\n",
        "\n",
        "test1_text = test_df_1['content_original']\n",
        "test1_text_labels = test_df_1['bias']\n",
        "\n",
        "test2_text = test_df_2['content_original']\n",
        "test2_text_labels = test_df_2['bias']\n",
        "\n",
        "test3_text = test_df_3['content_original']\n",
        "test3_text_labels = test_df_3['bias']\n",
        "\n",
        "\n",
        "print(f\"size of training dataset: \",len(train_text))\n",
        "print()\n",
        "print(f\"size of valid dataset: \",len(validate_text))\n",
        "print()\n",
        "print(f\"size of testing dataset 1: \",len(test1_text))\n",
        "print()\n",
        "print(f\"size of testing dataset 2: \",len(test2_text))\n",
        "print()\n",
        "print(f\"size of testing dataset 3: \",len(test3_text))\n",
        "print()\n",
        "print(f\"Left with Label 0 \")\n",
        "print(f\"Center with Label 1 \")\n",
        "print(f\"Right with Label 2 \")"
      ]
    },
    {
      "cell_type": "code",
      "execution_count": 27,
      "metadata": {
        "id": "68tKtWPry7iK"
      },
      "outputs": [],
      "source": [
        "MAX_SEQUENCE_LENGTH = 512"
      ]
    },
    {
      "cell_type": "code",
      "execution_count": 28,
      "metadata": {
        "id": "UlXC06Z_zPAp"
      },
      "outputs": [],
      "source": [
        "# tokenize the dataset, truncate at `max_length`,\n",
        "\n",
        "#tokenizing the train text\n",
        "x_train = bert_tokenizer(train_text.tolist(),\n",
        "              max_length=MAX_SEQUENCE_LENGTH,\n",
        "              truncation=True,\n",
        "              padding='max_length',\n",
        "              return_tensors='tf')\n",
        "y_train = train_text_labels\n",
        "\n",
        "#tokenizing the validate text\n",
        "x_validate = bert_tokenizer(validate_text.tolist(),\n",
        "              max_length=MAX_SEQUENCE_LENGTH,\n",
        "              truncation=True,\n",
        "              padding='max_length',\n",
        "              return_tensors='tf')\n",
        "y_validate = validate_text_labels\n",
        "\n",
        "\n",
        "#tokenizing the test text 1\n",
        "x_test1 = bert_tokenizer(test1_text.tolist(),\n",
        "              max_length=MAX_SEQUENCE_LENGTH,\n",
        "              truncation=True,\n",
        "              padding='max_length',\n",
        "              return_tensors='tf')\n",
        "y_test1 = test1_text_labels\n",
        "\n",
        "#tokenizing the test text 2\n",
        "x_test2 = bert_tokenizer(test2_text.tolist(),\n",
        "              max_length=MAX_SEQUENCE_LENGTH,\n",
        "              truncation=True,\n",
        "              padding='max_length',\n",
        "              return_tensors='tf')\n",
        "y_test2 = test2_text_labels\n",
        "\n",
        "\n",
        "#tokenizing the test text 3\n",
        "x_test3 = bert_tokenizer(test3_text.tolist(),\n",
        "              max_length=MAX_SEQUENCE_LENGTH,\n",
        "              truncation=True,\n",
        "              padding='max_length',\n",
        "              return_tensors='tf')\n",
        "y_test3 = test3_text_labels"
      ]
    },
    {
      "cell_type": "code",
      "execution_count": 29,
      "metadata": {
        "colab": {
          "base_uri": "https://localhost:8080/"
        },
        "id": "7YWZdBWp02fi",
        "outputId": "0c73e114-fcca-459e-ffec-1685e9711b15"
      },
      "outputs": [
        {
          "output_type": "execute_result",
          "data": {
            "text/plain": [
              "BertConfig {\n",
              "  \"_name_or_path\": \"bert-base-uncased\",\n",
              "  \"architectures\": [\n",
              "    \"BertForMaskedLM\"\n",
              "  ],\n",
              "  \"attention_probs_dropout_prob\": 0.1,\n",
              "  \"classifier_dropout\": null,\n",
              "  \"gradient_checkpointing\": false,\n",
              "  \"hidden_act\": \"gelu\",\n",
              "  \"hidden_dropout_prob\": 0.1,\n",
              "  \"hidden_size\": 768,\n",
              "  \"initializer_range\": 0.02,\n",
              "  \"intermediate_size\": 3072,\n",
              "  \"layer_norm_eps\": 1e-12,\n",
              "  \"max_position_embeddings\": 512,\n",
              "  \"model_type\": \"bert\",\n",
              "  \"num_attention_heads\": 12,\n",
              "  \"num_hidden_layers\": 12,\n",
              "  \"pad_token_id\": 0,\n",
              "  \"position_embedding_type\": \"absolute\",\n",
              "  \"transformers_version\": \"4.17.0\",\n",
              "  \"type_vocab_size\": 2,\n",
              "  \"use_cache\": true,\n",
              "  \"vocab_size\": 30522\n",
              "}"
            ]
          },
          "metadata": {},
          "execution_count": 29
        }
      ],
      "source": [
        "#BERT base uncased model configurations\n",
        "config = AutoConfig.from_pretrained('bert-base-uncased')\n",
        "\n",
        "config"
      ]
    },
    {
      "cell_type": "markdown",
      "metadata": {
        "id": "gsKxWorr17QH"
      },
      "source": [
        "#BERT Uncase Model Fine-Tuning"
      ]
    },
    {
      "cell_type": "code",
      "execution_count": 31,
      "metadata": {
        "id": "F9jCrtXh2akX"
      },
      "outputs": [],
      "source": [
        "def create_bert_classification_model(bert_model,\n",
        "                                     num_train_layers=0,\n",
        "                                     num_classes = 3,\n",
        "                                     hidden_size = 768,\n",
        "                                     dropout=0.2,\n",
        "                                     attention_probs_dropout_prob = 0.1,\n",
        "                                     hidden_dropout_prob=0.15,\n",
        "                                     learning_rate=0.00005):\n",
        "    \"\"\"\n",
        "    Build a simple classification model with BERT. Use the Pooler Output for classification purposes\n",
        "    \"\"\"\n",
        "    if num_train_layers == 0:\n",
        "        # Freeze all layers of pre-trained BERT model\n",
        "        bert_model.trainable = False\n",
        "\n",
        "    elif num_train_layers == 12:\n",
        "        # Train all layers of the BERT model\n",
        "        bert_model.trainable = True\n",
        "\n",
        "    else:\n",
        "        # Restrict training to the num_train_layers outer transformer layers\n",
        "        retrain_layers = []\n",
        "\n",
        "        for retrain_layer_number in range(num_train_layers):\n",
        "\n",
        "            layer_code = '_' + str(11 - retrain_layer_number)\n",
        "            retrain_layers.append(layer_code)\n",
        "\n",
        "\n",
        "        print('retrain layers: ', retrain_layers)\n",
        "\n",
        "        for w in bert_model.weights:\n",
        "            if not any([x in w.name for x in retrain_layers]):\n",
        "                #print('freezing: ', w)\n",
        "                w._trainable = False\n",
        "\n",
        "    input_ids = tf.keras.layers.Input(shape=(MAX_SEQUENCE_LENGTH,), dtype=tf.int64, name='input_ids_layer')\n",
        "    token_type_ids = tf.keras.layers.Input(shape=(MAX_SEQUENCE_LENGTH,), dtype=tf.int64, name='token_type_ids_layer')\n",
        "    attention_mask = tf.keras.layers.Input(shape=(MAX_SEQUENCE_LENGTH,), dtype=tf.int64, name='attention_mask_layer')\n",
        "\n",
        "    bert_inputs = {'input_ids': input_ids,\n",
        "                   'token_type_ids': token_type_ids,\n",
        "                   'attention_mask': attention_mask}\n",
        "\n",
        "    bert_out = bert_model(bert_inputs)\n",
        "\n",
        "    #pooler_token = bert_out[1]\n",
        "    cls_token = bert_out[0][:, 0, :]\n",
        "\n",
        "    hidden_1 = tf.keras.layers.Dense(hidden_size, activation='relu', name='hidden_layer_1')(cls_token)\n",
        "    hidden_1 = tf.keras.layers.Dropout(dropout)(hidden_1)\n",
        "\n",
        "\n",
        "    classification = tf.keras.layers.Dense(num_classes, activation='softmax',name='classification_layer')(hidden_1)\n",
        "\n",
        "    classification_model = tf.keras.Model(inputs=[input_ids, token_type_ids, attention_mask], outputs=[classification])\n",
        "\n",
        "    classification_model.compile(optimizer=tf.keras.optimizers.Adam(learning_rate=learning_rate),\n",
        "                                 loss=tf.keras.losses.SparseCategoricalCrossentropy(from_logits=False),\n",
        "                                 metrics='accuracy')\n",
        "\n",
        "    return classification_model"
      ]
    },
    {
      "cell_type": "code",
      "execution_count": 32,
      "metadata": {
        "id": "P4doyzf15rJT"
      },
      "outputs": [],
      "source": [
        "#let's get a fresh instance of the bert_model -- good practice\n",
        "bert_model = TFBertModel.from_pretrained('bert-base-uncased')\n",
        "bert_classification_model = create_bert_classification_model(bert_model, num_train_layers=12)"
      ]
    },
    {
      "cell_type": "code",
      "execution_count": 33,
      "metadata": {
        "colab": {
          "base_uri": "https://localhost:8080/"
        },
        "id": "-dy-ypDH6cb-",
        "outputId": "3b3c775d-ef10-4a1f-850f-230aea94b1b3"
      },
      "outputs": [
        {
          "output_type": "stream",
          "name": "stdout",
          "text": [
            "Model: \"model\"\n",
            "__________________________________________________________________________________________________\n",
            " Layer (type)                Output Shape                 Param #   Connected to                  \n",
            "==================================================================================================\n",
            " attention_mask_layer (Inpu  [(None, 512)]                0         []                            \n",
            " tLayer)                                                                                          \n",
            "                                                                                                  \n",
            " input_ids_layer (InputLaye  [(None, 512)]                0         []                            \n",
            " r)                                                                                               \n",
            "                                                                                                  \n",
            " token_type_ids_layer (Inpu  [(None, 512)]                0         []                            \n",
            " tLayer)                                                                                          \n",
            "                                                                                                  \n",
            " tf_bert_model_1 (TFBertMod  TFBaseModelOutputWithPooli   1094822   ['attention_mask_layer[0][0]',\n",
            " el)                         ngAndCrossAttentions(last_   40         'input_ids_layer[0][0]',     \n",
            "                             hidden_state=(None, 512, 7              'token_type_ids_layer[0][0]']\n",
            "                             68),                                                                 \n",
            "                              pooler_output=(None, 768)                                           \n",
            "                             , past_key_values=None, hi                                           \n",
            "                             dden_states=None, attentio                                           \n",
            "                             ns=None, cross_attentions=                                           \n",
            "                             None)                                                                \n",
            "                                                                                                  \n",
            " tf.__operators__.getitem (  (None, 768)                  0         ['tf_bert_model_1[0][0]']     \n",
            " SlicingOpLambda)                                                                                 \n",
            "                                                                                                  \n",
            " hidden_layer_1 (Dense)      (None, 768)                  590592    ['tf.__operators__.getitem[0][\n",
            "                                                                    0]']                          \n",
            "                                                                                                  \n",
            " dropout_74 (Dropout)        (None, 768)                  0         ['hidden_layer_1[0][0]']      \n",
            "                                                                                                  \n",
            " classification_layer (Dens  (None, 3)                    2307      ['dropout_74[0][0]']          \n",
            " e)                                                                                               \n",
            "                                                                                                  \n",
            "==================================================================================================\n",
            "Total params: 110075139 (419.90 MB)\n",
            "Trainable params: 110075139 (419.90 MB)\n",
            "Non-trainable params: 0 (0.00 Byte)\n",
            "__________________________________________________________________________________________________\n"
          ]
        }
      ],
      "source": [
        "#confirm all layers are frozen\n",
        "bert_classification_model.summary()"
      ]
    },
    {
      "cell_type": "code",
      "execution_count": 34,
      "metadata": {
        "colab": {
          "base_uri": "https://localhost:8080/",
          "height": 626
        },
        "id": "dAsKlqf46fiu",
        "outputId": "0db44971-d6f8-4b4c-9987-e33588ba3a5c"
      },
      "outputs": [
        {
          "output_type": "execute_result",
          "data": {
            "image/png": "[encoded data removed]",
            "text/plain": [
              "<IPython.core.display.Image object>"
            ]
          },
          "metadata": {},
          "execution_count": 34
        }
      ],
      "source": [
        "keras.utils.plot_model(bert_classification_model, show_shapes=True, dpi=90)"
      ]
    },
    {
      "cell_type": "code",
      "execution_count": 35,
      "metadata": {
        "id": "WhUOF1is2AKd"
      },
      "outputs": [],
      "source": [
        "from tensorflow.keras.callbacks import EarlyStopping\n",
        "# Early stopping callback to avoid overfitting issue\n",
        "early_stopping = EarlyStopping(\n",
        "    monitor='val_accuracy',\n",
        "    patience=2,\n",
        "    mode='max',\n",
        "    restore_best_weights=True  # Restore model weights from the epoch with the best value of the monitored quantity\n",
        ")"
      ]
    },
    {
      "cell_type": "code",
      "execution_count": 36,
      "metadata": {
        "colab": {
          "base_uri": "https://localhost:8080/"
        },
        "id": "HWvj_hjF6CGR",
        "outputId": "bcf891f2-80f1-44b4-cc3b-f4632cf71a3c"
      },
      "outputs": [
        {
          "output_type": "stream",
          "name": "stdout",
          "text": [
            "Epoch 1/4\n"
          ]
        },
        {
          "output_type": "stream",
          "name": "stderr",
          "text": [
            "WARNING:tensorflow:Gradients do not exist for variables ['tf_bert_model_1/bert/pooler/dense/kernel:0', 'tf_bert_model_1/bert/pooler/dense/bias:0'] when minimizing the loss. If you're using `model.compile()`, did you forget to provide a `loss` argument?\n",
            "WARNING:tensorflow:Gradients do not exist for variables ['tf_bert_model_1/bert/pooler/dense/kernel:0', 'tf_bert_model_1/bert/pooler/dense/bias:0'] when minimizing the loss. If you're using `model.compile()`, did you forget to provide a `loss` argument?\n",
            "WARNING:tensorflow:Gradients do not exist for variables ['tf_bert_model_1/bert/pooler/dense/kernel:0', 'tf_bert_model_1/bert/pooler/dense/bias:0'] when minimizing the loss. If you're using `model.compile()`, did you forget to provide a `loss` argument?\n",
            "WARNING:tensorflow:Gradients do not exist for variables ['tf_bert_model_1/bert/pooler/dense/kernel:0', 'tf_bert_model_1/bert/pooler/dense/bias:0'] when minimizing the loss. If you're using `model.compile()`, did you forget to provide a `loss` argument?\n"
          ]
        },
        {
          "output_type": "stream",
          "name": "stdout",
          "text": [
            "500/500 [==============================] - 273s 477ms/step - loss: 0.6989 - accuracy: 0.6910 - val_loss: 0.4831 - val_accuracy: 0.8031\n",
            "Epoch 2/4\n",
            "500/500 [==============================] - 234s 469ms/step - loss: 0.3867 - accuracy: 0.8536 - val_loss: 0.4345 - val_accuracy: 0.8256\n",
            "Epoch 3/4\n",
            "500/500 [==============================] - 234s 469ms/step - loss: 0.2435 - accuracy: 0.9119 - val_loss: 0.3684 - val_accuracy: 0.8703\n",
            "Epoch 4/4\n",
            "500/500 [==============================] - 234s 468ms/step - loss: 0.1643 - accuracy: 0.9434 - val_loss: 0.4487 - val_accuracy: 0.8559\n"
          ]
        }
      ],
      "source": [
        "bert_classification_model_history = bert_classification_model.fit(\n",
        "    [x_train.input_ids, x_train.token_type_ids, x_train.attention_mask],\n",
        "    y_train,\n",
        "    validation_data=([x_validate.input_ids, x_validate.token_type_ids, x_validate.attention_mask], y_validate),\n",
        "    batch_size=16,\n",
        "    epochs=4,\n",
        "    callbacks=[early_stopping]\n",
        ")"
      ]
    },
    {
      "cell_type": "code",
      "execution_count": 37,
      "metadata": {
        "colab": {
          "base_uri": "https://localhost:8080/",
          "height": 528
        },
        "id": "TGvT2O2_AQsL",
        "outputId": "2cacf0b4-26e7-434f-ddee-4b8132fca175"
      },
      "outputs": [
        {
          "output_type": "display_data",
          "data": {
            "text/plain": [
              "<Figure size 1200x500 with 2 Axes>"
            ],
            "image/png": "[encoded data removed]"
          },
          "metadata": {}
        }
      ],
      "source": [
        "history = bert_classification_model_history.history\n",
        "\n",
        "# Plotting accuracy\n",
        "plt.figure(figsize=(12,5))\n",
        "plt.subplot(1,2,1)\n",
        "plt.plot(history['accuracy'], label='Training Accuracy')\n",
        "plt.plot(history['val_accuracy'], label='Validation Accuracy')\n",
        "plt.title('Model Accuracy')\n",
        "plt.xlabel('Epoch')\n",
        "plt.ylabel('Accuracy')\n",
        "plt.legend()\n",
        "\n",
        "# Plotting loss\n",
        "plt.subplot(1,2,2)\n",
        "plt.plot(history['loss'], label='Training Loss')\n",
        "plt.plot(history['val_loss'], label='Validation Loss')\n",
        "plt.title('Model Loss')\n",
        "plt.xlabel('Epoch')\n",
        "plt.ylabel('Loss')\n",
        "plt.legend()\n",
        "\n",
        "plt.tight_layout()\n",
        "plt.show()"
      ]
    },
    {
      "cell_type": "code",
      "source": [
        "from sklearn.metrics import accuracy_score, f1_score, classification_report\n",
        "import numpy as np\n",
        "import tensorflow as tf\n",
        "\n",
        "x_tests = [x_test1, x_test2, x_test3]\n",
        "y_tests = [y_test1, y_test2, y_test3]\n",
        "\n",
        "predictions_all = []\n",
        "y_true_all = []\n",
        "accuracies = []\n",
        "f1_scores = []\n",
        "\n",
        "for x_test, y_test in zip(x_tests, y_tests):\n",
        "    predictions_model = bert_classification_model.predict([x_test.input_ids, x_test.token_type_ids, x_test.attention_mask])\n",
        "    predictions_model = tf.argmax(predictions_model, axis=-1)\n",
        "    predictions_all.extend(predictions_model.numpy())\n",
        "    y_true_all.extend(y_test)\n",
        "\n",
        "    acc = accuracy_score(y_test, predictions_model)\n",
        "    f1 = f1_score(y_test, predictions_model, average='weighted')\n",
        "\n",
        "    accuracies.append(acc)\n",
        "    f1_scores.append(f1)\n",
        "\n",
        "avg_accuracy = np.mean(accuracies)\n",
        "avg_f1_score = np.mean(f1_scores)\n",
        "\n",
        "print(f\"Average Accuracy: {avg_accuracy:.4f}\")\n",
        "print(f\"Average F1 Score: {avg_f1_score:.4f}\")\n",
        "\n",
        "# Generate classification report\n",
        "report = classification_report(y_true_all, predictions_all)\n",
        "print(\"\\nClassification Report:\")\n",
        "print(report)"
      ],
      "metadata": {
        "colab": {
          "base_uri": "https://localhost:8080/"
        },
        "id": "p9FBDWHoa4UJ",
        "outputId": "b69382bb-b981-4fe0-d556-7d7155ecc7da"
      },
      "execution_count": 38,
      "outputs": [
        {
          "output_type": "stream",
          "name": "stdout",
          "text": [
            "63/63 [==============================] - 19s 259ms/step\n",
            "63/63 [==============================] - 16s 259ms/step\n",
            "63/63 [==============================] - 16s 259ms/step\n",
            "Average Accuracy: 0.3798\n",
            "Average F1 Score: 0.4020\n",
            "\n",
            "Classification Report:\n",
            "              precision    recall  f1-score   support\n",
            "\n",
            "           0       0.56      0.43      0.49      3404\n",
            "           1       0.12      0.20      0.15      1072\n",
            "           2       0.40      0.39      0.39      1524\n",
            "\n",
            "    accuracy                           0.38      6000\n",
            "   macro avg       0.36      0.34      0.34      6000\n",
            "weighted avg       0.44      0.38      0.40      6000\n",
            "\n"
          ]
        }
      ]
    },
    {
      "cell_type": "code",
      "source": [
        "from google.colab import drive\n",
        "drive.mount('/content/drive')"
      ],
      "metadata": {
        "colab": {
          "base_uri": "https://localhost:8080/"
        },
        "id": "uVpjtu6BPDKw",
        "outputId": "56f48b97-9397-4b95-8f8a-f61a2988039b"
      },
      "execution_count": null,
      "outputs": [
        {
          "output_type": "stream",
          "name": "stdout",
          "text": [
            "Mounted at /content/drive\n"
          ]
        }
      ]
    },
    {
      "cell_type": "code",
      "execution_count": null,
      "metadata": {
        "id": "ZtlxJn3vpGcT"
      },
      "outputs": [],
      "source": [
        "f"
      ]
    }
  ],
  "metadata": {
    "accelerator": "GPU",
    "colab": {
      "gpuType": "A100",
      "machine_shape": "hm",
      "provenance": []
    },
    "kernelspec": {
      "display_name": "Python 3",
      "name": "python3"
    },
    "language_info": {
      "name": "python"
    },
    "widgets": {
      "application/vnd.jupyter.widget-state+json": {
        "44bbf13c90c64b1d88e5ddde18617399": {
          "model_module": "@jupyter-widgets/controls",
          "model_name": "HBoxModel",
          "model_module_version": "1.5.0",
          "state": {
            "_dom_classes": [],
            "_model_module": "@jupyter-widgets/controls",
            "_model_module_version": "1.5.0",
            "_model_name": "HBoxModel",
            "_view_count": null,
            "_view_module": "@jupyter-widgets/controls",
            "_view_module_version": "1.5.0",
            "_view_name": "HBoxView",
            "box_style": "",
            "children": [
              "IPY_MODEL_47ee54d5ee634f3e92e93a251e273b8c",
              "IPY_MODEL_e206e162f7be4a429c1a6f684d5ce6e8",
              "IPY_MODEL_2d4017cd5d0442a4bceb83c156a02f5c"
            ],
            "layout": "IPY_MODEL_0aec18b71ab7406e8081e00d57b5c6c3"
          }
        },
        "47ee54d5ee634f3e92e93a251e273b8c": {
          "model_module": "@jupyter-widgets/controls",
          "model_name": "HTMLModel",
          "model_module_version": "1.5.0",
          "state": {
            "_dom_classes": [],
            "_model_module": "@jupyter-widgets/controls",
            "_model_module_version": "1.5.0",
            "_model_name": "HTMLModel",
            "_view_count": null,
            "_view_module": "@jupyter-widgets/controls",
            "_view_module_version": "1.5.0",
            "_view_name": "HTMLView",
            "description": "",
            "description_tooltip": null,
            "layout": "IPY_MODEL_5274c0c2b9a743bb89443131f26e5c3f",
            "placeholder": "​",
            "style": "IPY_MODEL_83bc783c8a47482bb23a19efc8652c4a",
            "value": "Downloading: 100%"
          }
        },
        "e206e162f7be4a429c1a6f684d5ce6e8": {
          "model_module": "@jupyter-widgets/controls",
          "model_name": "FloatProgressModel",
          "model_module_version": "1.5.0",
          "state": {
            "_dom_classes": [],
            "_model_module": "@jupyter-widgets/controls",
            "_model_module_version": "1.5.0",
            "_model_name": "FloatProgressModel",
            "_view_count": null,
            "_view_module": "@jupyter-widgets/controls",
            "_view_module_version": "1.5.0",
            "_view_name": "ProgressView",
            "bar_style": "success",
            "description": "",
            "description_tooltip": null,
            "layout": "IPY_MODEL_f256de3703234d7198c17f50fd00aba0",
            "max": 231508,
            "min": 0,
            "orientation": "horizontal",
            "style": "IPY_MODEL_7d9b82f4d9f44c8982c71afab81ed70f",
            "value": 231508
          }
        },
        "2d4017cd5d0442a4bceb83c156a02f5c": {
          "model_module": "@jupyter-widgets/controls",
          "model_name": "HTMLModel",
          "model_module_version": "1.5.0",
          "state": {
            "_dom_classes": [],
            "_model_module": "@jupyter-widgets/controls",
            "_model_module_version": "1.5.0",
            "_model_name": "HTMLModel",
            "_view_count": null,
            "_view_module": "@jupyter-widgets/controls",
            "_view_module_version": "1.5.0",
            "_view_name": "HTMLView",
            "description": "",
            "description_tooltip": null,
            "layout": "IPY_MODEL_59937c49419f4e3b86bc73e98a120a2d",
            "placeholder": "​",
            "style": "IPY_MODEL_285ea61d11b84516bdc5828f5ceec763",
            "value": " 226k/226k [00:00&lt;00:00, 12.4MB/s]"
          }
        },
        "0aec18b71ab7406e8081e00d57b5c6c3": {
          "model_module": "@jupyter-widgets/base",
          "model_name": "LayoutModel",
          "model_module_version": "1.2.0",
          "state": {
            "_model_module": "@jupyter-widgets/base",
            "_model_module_version": "1.2.0",
            "_model_name": "LayoutModel",
            "_view_count": null,
            "_view_module": "@jupyter-widgets/base",
            "_view_module_version": "1.2.0",
            "_view_name": "LayoutView",
            "align_content": null,
            "align_items": null,
            "align_self": null,
            "border": null,
            "bottom": null,
            "display": null,
            "flex": null,
            "flex_flow": null,
            "grid_area": null,
            "grid_auto_columns": null,
            "grid_auto_flow": null,
            "grid_auto_rows": null,
            "grid_column": null,
            "grid_gap": null,
            "grid_row": null,
            "grid_template_areas": null,
            "grid_template_columns": null,
            "grid_template_rows": null,
            "height": null,
            "justify_content": null,
            "justify_items": null,
            "left": null,
            "margin": null,
            "max_height": null,
            "max_width": null,
            "min_height": null,
            "min_width": null,
            "object_fit": null,
            "object_position": null,
            "order": null,
            "overflow": null,
            "overflow_x": null,
            "overflow_y": null,
            "padding": null,
            "right": null,
            "top": null,
            "visibility": null,
            "width": null
          }
        },
        "5274c0c2b9a743bb89443131f26e5c3f": {
          "model_module": "@jupyter-widgets/base",
          "model_name": "LayoutModel",
          "model_module_version": "1.2.0",
          "state": {
            "_model_module": "@jupyter-widgets/base",
            "_model_module_version": "1.2.0",
            "_model_name": "LayoutModel",
            "_view_count": null,
            "_view_module": "@jupyter-widgets/base",
            "_view_module_version": "1.2.0",
            "_view_name": "LayoutView",
            "align_content": null,
            "align_items": null,
            "align_self": null,
            "border": null,
            "bottom": null,
            "display": null,
            "flex": null,
            "flex_flow": null,
            "grid_area": null,
            "grid_auto_columns": null,
            "grid_auto_flow": null,
            "grid_auto_rows": null,
            "grid_column": null,
            "grid_gap": null,
            "grid_row": null,
            "grid_template_areas": null,
            "grid_template_columns": null,
            "grid_template_rows": null,
            "height": null,
            "justify_content": null,
            "justify_items": null,
            "left": null,
            "margin": null,
            "max_height": null,
            "max_width": null,
            "min_height": null,
            "min_width": null,
            "object_fit": null,
            "object_position": null,
            "order": null,
            "overflow": null,
            "overflow_x": null,
            "overflow_y": null,
            "padding": null,
            "right": null,
            "top": null,
            "visibility": null,
            "width": null
          }
        },
        "83bc783c8a47482bb23a19efc8652c4a": {
          "model_module": "@jupyter-widgets/controls",
          "model_name": "DescriptionStyleModel",
          "model_module_version": "1.5.0",
          "state": {
            "_model_module": "@jupyter-widgets/controls",
            "_model_module_version": "1.5.0",
            "_model_name": "DescriptionStyleModel",
            "_view_count": null,
            "_view_module": "@jupyter-widgets/base",
            "_view_module_version": "1.2.0",
            "_view_name": "StyleView",
            "description_width": ""
          }
        },
        "f256de3703234d7198c17f50fd00aba0": {
          "model_module": "@jupyter-widgets/base",
          "model_name": "LayoutModel",
          "model_module_version": "1.2.0",
          "state": {
            "_model_module": "@jupyter-widgets/base",
            "_model_module_version": "1.2.0",
            "_model_name": "LayoutModel",
            "_view_count": null,
            "_view_module": "@jupyter-widgets/base",
            "_view_module_version": "1.2.0",
            "_view_name": "LayoutView",
            "align_content": null,
            "align_items": null,
            "align_self": null,
            "border": null,
            "bottom": null,
            "display": null,
            "flex": null,
            "flex_flow": null,
            "grid_area": null,
            "grid_auto_columns": null,
            "grid_auto_flow": null,
            "grid_auto_rows": null,
            "grid_column": null,
            "grid_gap": null,
            "grid_row": null,
            "grid_template_areas": null,
            "grid_template_columns": null,
            "grid_template_rows": null,
            "height": null,
            "justify_content": null,
            "justify_items": null,
            "left": null,
            "margin": null,
            "max_height": null,
            "max_width": null,
            "min_height": null,
            "min_width": null,
            "object_fit": null,
            "object_position": null,
            "order": null,
            "overflow": null,
            "overflow_x": null,
            "overflow_y": null,
            "padding": null,
            "right": null,
            "top": null,
            "visibility": null,
            "width": null
          }
        },
        "7d9b82f4d9f44c8982c71afab81ed70f": {
          "model_module": "@jupyter-widgets/controls",
          "model_name": "ProgressStyleModel",
          "model_module_version": "1.5.0",
          "state": {
            "_model_module": "@jupyter-widgets/controls",
            "_model_module_version": "1.5.0",
            "_model_name": "ProgressStyleModel",
            "_view_count": null,
            "_view_module": "@jupyter-widgets/base",
            "_view_module_version": "1.2.0",
            "_view_name": "StyleView",
            "bar_color": null,
            "description_width": ""
          }
        },
        "59937c49419f4e3b86bc73e98a120a2d": {
          "model_module": "@jupyter-widgets/base",
          "model_name": "LayoutModel",
          "model_module_version": "1.2.0",
          "state": {
            "_model_module": "@jupyter-widgets/base",
            "_model_module_version": "1.2.0",
            "_model_name": "LayoutModel",
            "_view_count": null,
            "_view_module": "@jupyter-widgets/base",
            "_view_module_version": "1.2.0",
            "_view_name": "LayoutView",
            "align_content": null,
            "align_items": null,
            "align_self": null,
            "border": null,
            "bottom": null,
            "display": null,
            "flex": null,
            "flex_flow": null,
            "grid_area": null,
            "grid_auto_columns": null,
            "grid_auto_flow": null,
            "grid_auto_rows": null,
            "grid_column": null,
            "grid_gap": null,
            "grid_row": null,
            "grid_template_areas": null,
            "grid_template_columns": null,
            "grid_template_rows": null,
            "height": null,
            "justify_content": null,
            "justify_items": null,
            "left": null,
            "margin": null,
            "max_height": null,
            "max_width": null,
            "min_height": null,
            "min_width": null,
            "object_fit": null,
            "object_position": null,
            "order": null,
            "overflow": null,
            "overflow_x": null,
            "overflow_y": null,
            "padding": null,
            "right": null,
            "top": null,
            "visibility": null,
            "width": null
          }
        },
        "285ea61d11b84516bdc5828f5ceec763": {
          "model_module": "@jupyter-widgets/controls",
          "model_name": "DescriptionStyleModel",
          "model_module_version": "1.5.0",
          "state": {
            "_model_module": "@jupyter-widgets/controls",
            "_model_module_version": "1.5.0",
            "_model_name": "DescriptionStyleModel",
            "_view_count": null,
            "_view_module": "@jupyter-widgets/base",
            "_view_module_version": "1.2.0",
            "_view_name": "StyleView",
            "description_width": ""
          }
        },
        "5c42d5b059264690afd0d76a6984851a": {
          "model_module": "@jupyter-widgets/controls",
          "model_name": "HBoxModel",
          "model_module_version": "1.5.0",
          "state": {
            "_dom_classes": [],
            "_model_module": "@jupyter-widgets/controls",
            "_model_module_version": "1.5.0",
            "_model_name": "HBoxModel",
            "_view_count": null,
            "_view_module": "@jupyter-widgets/controls",
            "_view_module_version": "1.5.0",
            "_view_name": "HBoxView",
            "box_style": "",
            "children": [
              "IPY_MODEL_630f3f348ccd49b8bc46ae1a1b617293",
              "IPY_MODEL_e4aca552cf094b369b6ff987046f169f",
              "IPY_MODEL_36c4a55aad3544a282a7a9aa4564d628"
            ],
            "layout": "IPY_MODEL_ba2c7be4515f41859b7ee821a843420f"
          }
        },
        "630f3f348ccd49b8bc46ae1a1b617293": {
          "model_module": "@jupyter-widgets/controls",
          "model_name": "HTMLModel",
          "model_module_version": "1.5.0",
          "state": {
            "_dom_classes": [],
            "_model_module": "@jupyter-widgets/controls",
            "_model_module_version": "1.5.0",
            "_model_name": "HTMLModel",
            "_view_count": null,
            "_view_module": "@jupyter-widgets/controls",
            "_view_module_version": "1.5.0",
            "_view_name": "HTMLView",
            "description": "",
            "description_tooltip": null,
            "layout": "IPY_MODEL_2313d5dc0fae43feb04970ba0d27d272",
            "placeholder": "​",
            "style": "IPY_MODEL_83efcb4e74634bcba5a83076d544de76",
            "value": "Downloading: 100%"
          }
        },
        "e4aca552cf094b369b6ff987046f169f": {
          "model_module": "@jupyter-widgets/controls",
          "model_name": "FloatProgressModel",
          "model_module_version": "1.5.0",
          "state": {
            "_dom_classes": [],
            "_model_module": "@jupyter-widgets/controls",
            "_model_module_version": "1.5.0",
            "_model_name": "FloatProgressModel",
            "_view_count": null,
            "_view_module": "@jupyter-widgets/controls",
            "_view_module_version": "1.5.0",
            "_view_name": "ProgressView",
            "bar_style": "success",
            "description": "",
            "description_tooltip": null,
            "layout": "IPY_MODEL_a592147106cb4b1da9d1544695afb13f",
            "max": 48,
            "min": 0,
            "orientation": "horizontal",
            "style": "IPY_MODEL_7f2c968e29ef42e7b6513c88946c33f5",
            "value": 48
          }
        },
        "36c4a55aad3544a282a7a9aa4564d628": {
          "model_module": "@jupyter-widgets/controls",
          "model_name": "HTMLModel",
          "model_module_version": "1.5.0",
          "state": {
            "_dom_classes": [],
            "_model_module": "@jupyter-widgets/controls",
            "_model_module_version": "1.5.0",
            "_model_name": "HTMLModel",
            "_view_count": null,
            "_view_module": "@jupyter-widgets/controls",
            "_view_module_version": "1.5.0",
            "_view_name": "HTMLView",
            "description": "",
            "description_tooltip": null,
            "layout": "IPY_MODEL_2e88527abb9b4326a9c59281893c7ad0",
            "placeholder": "​",
            "style": "IPY_MODEL_2526e20e37624294a0276f871a4abcf8",
            "value": " 48.0/48.0 [00:00&lt;00:00, 3.78kB/s]"
          }
        },
        "ba2c7be4515f41859b7ee821a843420f": {
          "model_module": "@jupyter-widgets/base",
          "model_name": "LayoutModel",
          "model_module_version": "1.2.0",
          "state": {
            "_model_module": "@jupyter-widgets/base",
            "_model_module_version": "1.2.0",
            "_model_name": "LayoutModel",
            "_view_count": null,
            "_view_module": "@jupyter-widgets/base",
            "_view_module_version": "1.2.0",
            "_view_name": "LayoutView",
            "align_content": null,
            "align_items": null,
            "align_self": null,
            "border": null,
            "bottom": null,
            "display": null,
            "flex": null,
            "flex_flow": null,
            "grid_area": null,
            "grid_auto_columns": null,
            "grid_auto_flow": null,
            "grid_auto_rows": null,
            "grid_column": null,
            "grid_gap": null,
            "grid_row": null,
            "grid_template_areas": null,
            "grid_template_columns": null,
            "grid_template_rows": null,
            "height": null,
            "justify_content": null,
            "justify_items": null,
            "left": null,
            "margin": null,
            "max_height": null,
            "max_width": null,
            "min_height": null,
            "min_width": null,
            "object_fit": null,
            "object_position": null,
            "order": null,
            "overflow": null,
            "overflow_x": null,
            "overflow_y": null,
            "padding": null,
            "right": null,
            "top": null,
            "visibility": null,
            "width": null
          }
        },
        "2313d5dc0fae43feb04970ba0d27d272": {
          "model_module": "@jupyter-widgets/base",
          "model_name": "LayoutModel",
          "model_module_version": "1.2.0",
          "state": {
            "_model_module": "@jupyter-widgets/base",
            "_model_module_version": "1.2.0",
            "_model_name": "LayoutModel",
            "_view_count": null,
            "_view_module": "@jupyter-widgets/base",
            "_view_module_version": "1.2.0",
            "_view_name": "LayoutView",
            "align_content": null,
            "align_items": null,
            "align_self": null,
            "border": null,
            "bottom": null,
            "display": null,
            "flex": null,
            "flex_flow": null,
            "grid_area": null,
            "grid_auto_columns": null,
            "grid_auto_flow": null,
            "grid_auto_rows": null,
            "grid_column": null,
            "grid_gap": null,
            "grid_row": null,
            "grid_template_areas": null,
            "grid_template_columns": null,
            "grid_template_rows": null,
            "height": null,
            "justify_content": null,
            "justify_items": null,
            "left": null,
            "margin": null,
            "max_height": null,
            "max_width": null,
            "min_height": null,
            "min_width": null,
            "object_fit": null,
            "object_position": null,
            "order": null,
            "overflow": null,
            "overflow_x": null,
            "overflow_y": null,
            "padding": null,
            "right": null,
            "top": null,
            "visibility": null,
            "width": null
          }
        },
        "83efcb4e74634bcba5a83076d544de76": {
          "model_module": "@jupyter-widgets/controls",
          "model_name": "DescriptionStyleModel",
          "model_module_version": "1.5.0",
          "state": {
            "_model_module": "@jupyter-widgets/controls",
            "_model_module_version": "1.5.0",
            "_model_name": "DescriptionStyleModel",
            "_view_count": null,
            "_view_module": "@jupyter-widgets/base",
            "_view_module_version": "1.2.0",
            "_view_name": "StyleView",
            "description_width": ""
          }
        },
        "a592147106cb4b1da9d1544695afb13f": {
          "model_module": "@jupyter-widgets/base",
          "model_name": "LayoutModel",
          "model_module_version": "1.2.0",
          "state": {
            "_model_module": "@jupyter-widgets/base",
            "_model_module_version": "1.2.0",
            "_model_name": "LayoutModel",
            "_view_count": null,
            "_view_module": "@jupyter-widgets/base",
            "_view_module_version": "1.2.0",
            "_view_name": "LayoutView",
            "align_content": null,
            "align_items": null,
            "align_self": null,
            "border": null,
            "bottom": null,
            "display": null,
            "flex": null,
            "flex_flow": null,
            "grid_area": null,
            "grid_auto_columns": null,
            "grid_auto_flow": null,
            "grid_auto_rows": null,
            "grid_column": null,
            "grid_gap": null,
            "grid_row": null,
            "grid_template_areas": null,
            "grid_template_columns": null,
            "grid_template_rows": null,
            "height": null,
            "justify_content": null,
            "justify_items": null,
            "left": null,
            "margin": null,
            "max_height": null,
            "max_width": null,
            "min_height": null,
            "min_width": null,
            "object_fit": null,
            "object_position": null,
            "order": null,
            "overflow": null,
            "overflow_x": null,
            "overflow_y": null,
            "padding": null,
            "right": null,
            "top": null,
            "visibility": null,
            "width": null
          }
        },
        "7f2c968e29ef42e7b6513c88946c33f5": {
          "model_module": "@jupyter-widgets/controls",
          "model_name": "ProgressStyleModel",
          "model_module_version": "1.5.0",
          "state": {
            "_model_module": "@jupyter-widgets/controls",
            "_model_module_version": "1.5.0",
            "_model_name": "ProgressStyleModel",
            "_view_count": null,
            "_view_module": "@jupyter-widgets/base",
            "_view_module_version": "1.2.0",
            "_view_name": "StyleView",
            "bar_color": null,
            "description_width": ""
          }
        },
        "2e88527abb9b4326a9c59281893c7ad0": {
          "model_module": "@jupyter-widgets/base",
          "model_name": "LayoutModel",
          "model_module_version": "1.2.0",
          "state": {
            "_model_module": "@jupyter-widgets/base",
            "_model_module_version": "1.2.0",
            "_model_name": "LayoutModel",
            "_view_count": null,
            "_view_module": "@jupyter-widgets/base",
            "_view_module_version": "1.2.0",
            "_view_name": "LayoutView",
            "align_content": null,
            "align_items": null,
            "align_self": null,
            "border": null,
            "bottom": null,
            "display": null,
            "flex": null,
            "flex_flow": null,
            "grid_area": null,
            "grid_auto_columns": null,
            "grid_auto_flow": null,
            "grid_auto_rows": null,
            "grid_column": null,
            "grid_gap": null,
            "grid_row": null,
            "grid_template_areas": null,
            "grid_template_columns": null,
            "grid_template_rows": null,
            "height": null,
            "justify_content": null,
            "justify_items": null,
            "left": null,
            "margin": null,
            "max_height": null,
            "max_width": null,
            "min_height": null,
            "min_width": null,
            "object_fit": null,
            "object_position": null,
            "order": null,
            "overflow": null,
            "overflow_x": null,
            "overflow_y": null,
            "padding": null,
            "right": null,
            "top": null,
            "visibility": null,
            "width": null
          }
        },
        "2526e20e37624294a0276f871a4abcf8": {
          "model_module": "@jupyter-widgets/controls",
          "model_name": "DescriptionStyleModel",
          "model_module_version": "1.5.0",
          "state": {
            "_model_module": "@jupyter-widgets/controls",
            "_model_module_version": "1.5.0",
            "_model_name": "DescriptionStyleModel",
            "_view_count": null,
            "_view_module": "@jupyter-widgets/base",
            "_view_module_version": "1.2.0",
            "_view_name": "StyleView",
            "description_width": ""
          }
        },
        "b05fe98c02664cdcb246a597a169e15a": {
          "model_module": "@jupyter-widgets/controls",
          "model_name": "HBoxModel",
          "model_module_version": "1.5.0",
          "state": {
            "_dom_classes": [],
            "_model_module": "@jupyter-widgets/controls",
            "_model_module_version": "1.5.0",
            "_model_name": "HBoxModel",
            "_view_count": null,
            "_view_module": "@jupyter-widgets/controls",
            "_view_module_version": "1.5.0",
            "_view_name": "HBoxView",
            "box_style": "",
            "children": [
              "IPY_MODEL_241e91b7dcb441b4a1084933c1134733",
              "IPY_MODEL_f6bcb13fb3604d7ab56e79fb847b0993",
              "IPY_MODEL_7c23907445a74932b254874bba9a8418"
            ],
            "layout": "IPY_MODEL_1020f22f8dc7486abf55b1260488eb77"
          }
        },
        "241e91b7dcb441b4a1084933c1134733": {
          "model_module": "@jupyter-widgets/controls",
          "model_name": "HTMLModel",
          "model_module_version": "1.5.0",
          "state": {
            "_dom_classes": [],
            "_model_module": "@jupyter-widgets/controls",
            "_model_module_version": "1.5.0",
            "_model_name": "HTMLModel",
            "_view_count": null,
            "_view_module": "@jupyter-widgets/controls",
            "_view_module_version": "1.5.0",
            "_view_name": "HTMLView",
            "description": "",
            "description_tooltip": null,
            "layout": "IPY_MODEL_0bfd8e1b375a4a1c9501073251bdf28a",
            "placeholder": "​",
            "style": "IPY_MODEL_1b2cda0afba1494caa077ec45a256c1c",
            "value": "Downloading: 100%"
          }
        },
        "f6bcb13fb3604d7ab56e79fb847b0993": {
          "model_module": "@jupyter-widgets/controls",
          "model_name": "FloatProgressModel",
          "model_module_version": "1.5.0",
          "state": {
            "_dom_classes": [],
            "_model_module": "@jupyter-widgets/controls",
            "_model_module_version": "1.5.0",
            "_model_name": "FloatProgressModel",
            "_view_count": null,
            "_view_module": "@jupyter-widgets/controls",
            "_view_module_version": "1.5.0",
            "_view_name": "ProgressView",
            "bar_style": "success",
            "description": "",
            "description_tooltip": null,
            "layout": "IPY_MODEL_ee3e2bc6ef9a43e383740b657675709e",
            "max": 570,
            "min": 0,
            "orientation": "horizontal",
            "style": "IPY_MODEL_131601276e57420798705e9033b7d284",
            "value": 570
          }
        },
        "7c23907445a74932b254874bba9a8418": {
          "model_module": "@jupyter-widgets/controls",
          "model_name": "HTMLModel",
          "model_module_version": "1.5.0",
          "state": {
            "_dom_classes": [],
            "_model_module": "@jupyter-widgets/controls",
            "_model_module_version": "1.5.0",
            "_model_name": "HTMLModel",
            "_view_count": null,
            "_view_module": "@jupyter-widgets/controls",
            "_view_module_version": "1.5.0",
            "_view_name": "HTMLView",
            "description": "",
            "description_tooltip": null,
            "layout": "IPY_MODEL_94581f898747495d8eb8f8b5f0d791d4",
            "placeholder": "​",
            "style": "IPY_MODEL_07bc9b98b56148e581daff146449eea1",
            "value": " 570/570 [00:00&lt;00:00, 45.3kB/s]"
          }
        },
        "1020f22f8dc7486abf55b1260488eb77": {
          "model_module": "@jupyter-widgets/base",
          "model_name": "LayoutModel",
          "model_module_version": "1.2.0",
          "state": {
            "_model_module": "@jupyter-widgets/base",
            "_model_module_version": "1.2.0",
            "_model_name": "LayoutModel",
            "_view_count": null,
            "_view_module": "@jupyter-widgets/base",
            "_view_module_version": "1.2.0",
            "_view_name": "LayoutView",
            "align_content": null,
            "align_items": null,
            "align_self": null,
            "border": null,
            "bottom": null,
            "display": null,
            "flex": null,
            "flex_flow": null,
            "grid_area": null,
            "grid_auto_columns": null,
            "grid_auto_flow": null,
            "grid_auto_rows": null,
            "grid_column": null,
            "grid_gap": null,
            "grid_row": null,
            "grid_template_areas": null,
            "grid_template_columns": null,
            "grid_template_rows": null,
            "height": null,
            "justify_content": null,
            "justify_items": null,
            "left": null,
            "margin": null,
            "max_height": null,
            "max_width": null,
            "min_height": null,
            "min_width": null,
            "object_fit": null,
            "object_position": null,
            "order": null,
            "overflow": null,
            "overflow_x": null,
            "overflow_y": null,
            "padding": null,
            "right": null,
            "top": null,
            "visibility": null,
            "width": null
          }
        },
        "0bfd8e1b375a4a1c9501073251bdf28a": {
          "model_module": "@jupyter-widgets/base",
          "model_name": "LayoutModel",
          "model_module_version": "1.2.0",
          "state": {
            "_model_module": "@jupyter-widgets/base",
            "_model_module_version": "1.2.0",
            "_model_name": "LayoutModel",
            "_view_count": null,
            "_view_module": "@jupyter-widgets/base",
            "_view_module_version": "1.2.0",
            "_view_name": "LayoutView",
            "align_content": null,
            "align_items": null,
            "align_self": null,
            "border": null,
            "bottom": null,
            "display": null,
            "flex": null,
            "flex_flow": null,
            "grid_area": null,
            "grid_auto_columns": null,
            "grid_auto_flow": null,
            "grid_auto_rows": null,
            "grid_column": null,
            "grid_gap": null,
            "grid_row": null,
            "grid_template_areas": null,
            "grid_template_columns": null,
            "grid_template_rows": null,
            "height": null,
            "justify_content": null,
            "justify_items": null,
            "left": null,
            "margin": null,
            "max_height": null,
            "max_width": null,
            "min_height": null,
            "min_width": null,
            "object_fit": null,
            "object_position": null,
            "order": null,
            "overflow": null,
            "overflow_x": null,
            "overflow_y": null,
            "padding": null,
            "right": null,
            "top": null,
            "visibility": null,
            "width": null
          }
        },
        "1b2cda0afba1494caa077ec45a256c1c": {
          "model_module": "@jupyter-widgets/controls",
          "model_name": "DescriptionStyleModel",
          "model_module_version": "1.5.0",
          "state": {
            "_model_module": "@jupyter-widgets/controls",
            "_model_module_version": "1.5.0",
            "_model_name": "DescriptionStyleModel",
            "_view_count": null,
            "_view_module": "@jupyter-widgets/base",
            "_view_module_version": "1.2.0",
            "_view_name": "StyleView",
            "description_width": ""
          }
        },
        "ee3e2bc6ef9a43e383740b657675709e": {
          "model_module": "@jupyter-widgets/base",
          "model_name": "LayoutModel",
          "model_module_version": "1.2.0",
          "state": {
            "_model_module": "@jupyter-widgets/base",
            "_model_module_version": "1.2.0",
            "_model_name": "LayoutModel",
            "_view_count": null,
            "_view_module": "@jupyter-widgets/base",
            "_view_module_version": "1.2.0",
            "_view_name": "LayoutView",
            "align_content": null,
            "align_items": null,
            "align_self": null,
            "border": null,
            "bottom": null,
            "display": null,
            "flex": null,
            "flex_flow": null,
            "grid_area": null,
            "grid_auto_columns": null,
            "grid_auto_flow": null,
            "grid_auto_rows": null,
            "grid_column": null,
            "grid_gap": null,
            "grid_row": null,
            "grid_template_areas": null,
            "grid_template_columns": null,
            "grid_template_rows": null,
            "height": null,
            "justify_content": null,
            "justify_items": null,
            "left": null,
            "margin": null,
            "max_height": null,
            "max_width": null,
            "min_height": null,
            "min_width": null,
            "object_fit": null,
            "object_position": null,
            "order": null,
            "overflow": null,
            "overflow_x": null,
            "overflow_y": null,
            "padding": null,
            "right": null,
            "top": null,
            "visibility": null,
            "width": null
          }
        },
        "131601276e57420798705e9033b7d284": {
          "model_module": "@jupyter-widgets/controls",
          "model_name": "ProgressStyleModel",
          "model_module_version": "1.5.0",
          "state": {
            "_model_module": "@jupyter-widgets/controls",
            "_model_module_version": "1.5.0",
            "_model_name": "ProgressStyleModel",
            "_view_count": null,
            "_view_module": "@jupyter-widgets/base",
            "_view_module_version": "1.2.0",
            "_view_name": "StyleView",
            "bar_color": null,
            "description_width": ""
          }
        },
        "94581f898747495d8eb8f8b5f0d791d4": {
          "model_module": "@jupyter-widgets/base",
          "model_name": "LayoutModel",
          "model_module_version": "1.2.0",
          "state": {
            "_model_module": "@jupyter-widgets/base",
            "_model_module_version": "1.2.0",
            "_model_name": "LayoutModel",
            "_view_count": null,
            "_view_module": "@jupyter-widgets/base",
            "_view_module_version": "1.2.0",
            "_view_name": "LayoutView",
            "align_content": null,
            "align_items": null,
            "align_self": null,
            "border": null,
            "bottom": null,
            "display": null,
            "flex": null,
            "flex_flow": null,
            "grid_area": null,
            "grid_auto_columns": null,
            "grid_auto_flow": null,
            "grid_auto_rows": null,
            "grid_column": null,
            "grid_gap": null,
            "grid_row": null,
            "grid_template_areas": null,
            "grid_template_columns": null,
            "grid_template_rows": null,
            "height": null,
            "justify_content": null,
            "justify_items": null,
            "left": null,
            "margin": null,
            "max_height": null,
            "max_width": null,
            "min_height": null,
            "min_width": null,
            "object_fit": null,
            "object_position": null,
            "order": null,
            "overflow": null,
            "overflow_x": null,
            "overflow_y": null,
            "padding": null,
            "right": null,
            "top": null,
            "visibility": null,
            "width": null
          }
        },
        "07bc9b98b56148e581daff146449eea1": {
          "model_module": "@jupyter-widgets/controls",
          "model_name": "DescriptionStyleModel",
          "model_module_version": "1.5.0",
          "state": {
            "_model_module": "@jupyter-widgets/controls",
            "_model_module_version": "1.5.0",
            "_model_name": "DescriptionStyleModel",
            "_view_count": null,
            "_view_module": "@jupyter-widgets/base",
            "_view_module_version": "1.2.0",
            "_view_name": "StyleView",
            "description_width": ""
          }
        },
        "08813214d83b48df8e7f83d74bafca61": {
          "model_module": "@jupyter-widgets/controls",
          "model_name": "HBoxModel",
          "model_module_version": "1.5.0",
          "state": {
            "_dom_classes": [],
            "_model_module": "@jupyter-widgets/controls",
            "_model_module_version": "1.5.0",
            "_model_name": "HBoxModel",
            "_view_count": null,
            "_view_module": "@jupyter-widgets/controls",
            "_view_module_version": "1.5.0",
            "_view_name": "HBoxView",
            "box_style": "",
            "children": [
              "IPY_MODEL_87c3185b470042faaea6a0b9ccb25208",
              "IPY_MODEL_1fd3e22e39304b36888a55c8d0cf513d",
              "IPY_MODEL_82a9eb736eeb436aa7ecdfca056fa1a9"
            ],
            "layout": "IPY_MODEL_c1e48d72c1924ddea7af07adfd61b385"
          }
        },
        "87c3185b470042faaea6a0b9ccb25208": {
          "model_module": "@jupyter-widgets/controls",
          "model_name": "HTMLModel",
          "model_module_version": "1.5.0",
          "state": {
            "_dom_classes": [],
            "_model_module": "@jupyter-widgets/controls",
            "_model_module_version": "1.5.0",
            "_model_name": "HTMLModel",
            "_view_count": null,
            "_view_module": "@jupyter-widgets/controls",
            "_view_module_version": "1.5.0",
            "_view_name": "HTMLView",
            "description": "",
            "description_tooltip": null,
            "layout": "IPY_MODEL_811ba0a89c514ff1b4e9a36f7d4b6a68",
            "placeholder": "​",
            "style": "IPY_MODEL_f82fcad8377b4cf08977077bd88d29a9",
            "value": "Downloading: 100%"
          }
        },
        "1fd3e22e39304b36888a55c8d0cf513d": {
          "model_module": "@jupyter-widgets/controls",
          "model_name": "FloatProgressModel",
          "model_module_version": "1.5.0",
          "state": {
            "_dom_classes": [],
            "_model_module": "@jupyter-widgets/controls",
            "_model_module_version": "1.5.0",
            "_model_name": "FloatProgressModel",
            "_view_count": null,
            "_view_module": "@jupyter-widgets/controls",
            "_view_module_version": "1.5.0",
            "_view_name": "ProgressView",
            "bar_style": "success",
            "description": "",
            "description_tooltip": null,
            "layout": "IPY_MODEL_26f3255607624a7fb917e6ebcf99b04c",
            "max": 536063208,
            "min": 0,
            "orientation": "horizontal",
            "style": "IPY_MODEL_6a8f08749b70487a89f2182e204b2897",
            "value": 536063208
          }
        },
        "82a9eb736eeb436aa7ecdfca056fa1a9": {
          "model_module": "@jupyter-widgets/controls",
          "model_name": "HTMLModel",
          "model_module_version": "1.5.0",
          "state": {
            "_dom_classes": [],
            "_model_module": "@jupyter-widgets/controls",
            "_model_module_version": "1.5.0",
            "_model_name": "HTMLModel",
            "_view_count": null,
            "_view_module": "@jupyter-widgets/controls",
            "_view_module_version": "1.5.0",
            "_view_name": "HTMLView",
            "description": "",
            "description_tooltip": null,
            "layout": "IPY_MODEL_afcad63240a240498895ac720a00a099",
            "placeholder": "​",
            "style": "IPY_MODEL_bcba5ff6e4bf4fb783e7640bf3770c01",
            "value": " 511M/511M [00:06&lt;00:00, 85.7MB/s]"
          }
        },
        "c1e48d72c1924ddea7af07adfd61b385": {
          "model_module": "@jupyter-widgets/base",
          "model_name": "LayoutModel",
          "model_module_version": "1.2.0",
          "state": {
            "_model_module": "@jupyter-widgets/base",
            "_model_module_version": "1.2.0",
            "_model_name": "LayoutModel",
            "_view_count": null,
            "_view_module": "@jupyter-widgets/base",
            "_view_module_version": "1.2.0",
            "_view_name": "LayoutView",
            "align_content": null,
            "align_items": null,
            "align_self": null,
            "border": null,
            "bottom": null,
            "display": null,
            "flex": null,
            "flex_flow": null,
            "grid_area": null,
            "grid_auto_columns": null,
            "grid_auto_flow": null,
            "grid_auto_rows": null,
            "grid_column": null,
            "grid_gap": null,
            "grid_row": null,
            "grid_template_areas": null,
            "grid_template_columns": null,
            "grid_template_rows": null,
            "height": null,
            "justify_content": null,
            "justify_items": null,
            "left": null,
            "margin": null,
            "max_height": null,
            "max_width": null,
            "min_height": null,
            "min_width": null,
            "object_fit": null,
            "object_position": null,
            "order": null,
            "overflow": null,
            "overflow_x": null,
            "overflow_y": null,
            "padding": null,
            "right": null,
            "top": null,
            "visibility": null,
            "width": null
          }
        },
        "811ba0a89c514ff1b4e9a36f7d4b6a68": {
          "model_module": "@jupyter-widgets/base",
          "model_name": "LayoutModel",
          "model_module_version": "1.2.0",
          "state": {
            "_model_module": "@jupyter-widgets/base",
            "_model_module_version": "1.2.0",
            "_model_name": "LayoutModel",
            "_view_count": null,
            "_view_module": "@jupyter-widgets/base",
            "_view_module_version": "1.2.0",
            "_view_name": "LayoutView",
            "align_content": null,
            "align_items": null,
            "align_self": null,
            "border": null,
            "bottom": null,
            "display": null,
            "flex": null,
            "flex_flow": null,
            "grid_area": null,
            "grid_auto_columns": null,
            "grid_auto_flow": null,
            "grid_auto_rows": null,
            "grid_column": null,
            "grid_gap": null,
            "grid_row": null,
            "grid_template_areas": null,
            "grid_template_columns": null,
            "grid_template_rows": null,
            "height": null,
            "justify_content": null,
            "justify_items": null,
            "left": null,
            "margin": null,
            "max_height": null,
            "max_width": null,
            "min_height": null,
            "min_width": null,
            "object_fit": null,
            "object_position": null,
            "order": null,
            "overflow": null,
            "overflow_x": null,
            "overflow_y": null,
            "padding": null,
            "right": null,
            "top": null,
            "visibility": null,
            "width": null
          }
        },
        "f82fcad8377b4cf08977077bd88d29a9": {
          "model_module": "@jupyter-widgets/controls",
          "model_name": "DescriptionStyleModel",
          "model_module_version": "1.5.0",
          "state": {
            "_model_module": "@jupyter-widgets/controls",
            "_model_module_version": "1.5.0",
            "_model_name": "DescriptionStyleModel",
            "_view_count": null,
            "_view_module": "@jupyter-widgets/base",
            "_view_module_version": "1.2.0",
            "_view_name": "StyleView",
            "description_width": ""
          }
        },
        "26f3255607624a7fb917e6ebcf99b04c": {
          "model_module": "@jupyter-widgets/base",
          "model_name": "LayoutModel",
          "model_module_version": "1.2.0",
          "state": {
            "_model_module": "@jupyter-widgets/base",
            "_model_module_version": "1.2.0",
            "_model_name": "LayoutModel",
            "_view_count": null,
            "_view_module": "@jupyter-widgets/base",
            "_view_module_version": "1.2.0",
            "_view_name": "LayoutView",
            "align_content": null,
            "align_items": null,
            "align_self": null,
            "border": null,
            "bottom": null,
            "display": null,
            "flex": null,
            "flex_flow": null,
            "grid_area": null,
            "grid_auto_columns": null,
            "grid_auto_flow": null,
            "grid_auto_rows": null,
            "grid_column": null,
            "grid_gap": null,
            "grid_row": null,
            "grid_template_areas": null,
            "grid_template_columns": null,
            "grid_template_rows": null,
            "height": null,
            "justify_content": null,
            "justify_items": null,
            "left": null,
            "margin": null,
            "max_height": null,
            "max_width": null,
            "min_height": null,
            "min_width": null,
            "object_fit": null,
            "object_position": null,
            "order": null,
            "overflow": null,
            "overflow_x": null,
            "overflow_y": null,
            "padding": null,
            "right": null,
            "top": null,
            "visibility": null,
            "width": null
          }
        },
        "6a8f08749b70487a89f2182e204b2897": {
          "model_module": "@jupyter-widgets/controls",
          "model_name": "ProgressStyleModel",
          "model_module_version": "1.5.0",
          "state": {
            "_model_module": "@jupyter-widgets/controls",
            "_model_module_version": "1.5.0",
            "_model_name": "ProgressStyleModel",
            "_view_count": null,
            "_view_module": "@jupyter-widgets/base",
            "_view_module_version": "1.2.0",
            "_view_name": "StyleView",
            "bar_color": null,
            "description_width": ""
          }
        },
        "afcad63240a240498895ac720a00a099": {
          "model_module": "@jupyter-widgets/base",
          "model_name": "LayoutModel",
          "model_module_version": "1.2.0",
          "state": {
            "_model_module": "@jupyter-widgets/base",
            "_model_module_version": "1.2.0",
            "_model_name": "LayoutModel",
            "_view_count": null,
            "_view_module": "@jupyter-widgets/base",
            "_view_module_version": "1.2.0",
            "_view_name": "LayoutView",
            "align_content": null,
            "align_items": null,
            "align_self": null,
            "border": null,
            "bottom": null,
            "display": null,
            "flex": null,
            "flex_flow": null,
            "grid_area": null,
            "grid_auto_columns": null,
            "grid_auto_flow": null,
            "grid_auto_rows": null,
            "grid_column": null,
            "grid_gap": null,
            "grid_row": null,
            "grid_template_areas": null,
            "grid_template_columns": null,
            "grid_template_rows": null,
            "height": null,
            "justify_content": null,
            "justify_items": null,
            "left": null,
            "margin": null,
            "max_height": null,
            "max_width": null,
            "min_height": null,
            "min_width": null,
            "object_fit": null,
            "object_position": null,
            "order": null,
            "overflow": null,
            "overflow_x": null,
            "overflow_y": null,
            "padding": null,
            "right": null,
            "top": null,
            "visibility": null,
            "width": null
          }
        },
        "bcba5ff6e4bf4fb783e7640bf3770c01": {
          "model_module": "@jupyter-widgets/controls",
          "model_name": "DescriptionStyleModel",
          "model_module_version": "1.5.0",
          "state": {
            "_model_module": "@jupyter-widgets/controls",
            "_model_module_version": "1.5.0",
            "_model_name": "DescriptionStyleModel",
            "_view_count": null,
            "_view_module": "@jupyter-widgets/base",
            "_view_module_version": "1.2.0",
            "_view_name": "StyleView",
            "description_width": ""
          }
        }
      }
    }
  },
  "nbformat": 4,
  "nbformat_minor": 0
}